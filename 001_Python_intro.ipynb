{
  "nbformat": 4,
  "nbformat_minor": 2,
  "metadata": {
    "colab": {
      "name": "1.Python_intro.ipynb",
      "provenance": [],
      "collapsed_sections": []
    },
    "kernelspec": {
      "name": "python3",
      "display_name": "Python 3.8.5 64-bit ('base': conda)"
    },
    "language_info": {
      "name": "python",
      "version": "3.8.5",
      "mimetype": "text/x-python",
      "codemirror_mode": {
        "name": "ipython",
        "version": 3
      },
      "pygments_lexer": "ipython3",
      "nbconvert_exporter": "python",
      "file_extension": ".py"
    },
    "interpreter": {
      "hash": "00034aa5cd6c44013b830fd98c7a620a61a498e75425ca81fcc1166b84a69895"
    }
  },
  "cells": [
    {
      "cell_type": "markdown",
      "source": [
        "# Python Intro"
      ],
      "metadata": {
        "id": "Rk_tzDnUWxVu"
      }
    },
    {
      "cell_type": "markdown",
      "source": [
        "## ทำความรู้จักภาษา Python  \r\n",
        "\r\n",
        "Python คือ ภาษาที่ใช้ในการเขียนโปรแกรมตัวหนึ่ง พัฒนาโดย Guido van Rossum และได้เริ่มเปิดตัวในปี ค.ศ. 1991 ปัจจุบันมีการใช้งานภาษา Python อย่างแพร่หลายในงานหลากหลายสาขา เช่น:\r\n",
        "\r\n",
        "*   Data science\r\n",
        "*   การพัฒนาเว็บไซต์\r\n",
        "*   Machine learning\r\n",
        "*   Data analytics\r\n",
        "*   Data visualization\r\n",
        "\r\n",
        "## ทำไม Python จึงเป็นภาษาที่ได้รับความนิยมอย่างมาก? \r\n",
        "\r\n",
        "* Python สามารถทำงานบนแพลตฟอร์มต่าง ๆ ได้ ( เช่น Windows, Mac, Linux, Raspberry Pi เป็นต้น)\r\n",
        "* Python มีโครงสร้างไวยากรณ์หรือ Syntax ที่คล้ายกับภาษาอังกฤษ ทำให้เริ่มต้นเรียนรู้การใช้งานได้ง่าย\r\n",
        "* Python มีไวยากรณ์ที่ไม่ซับซ้อน ช่วยให้นักพัฒนาสามารถเขียนโปรแกรมได้ด้วย code จำนวนบรรทัดน้อยกว่าภาษาโปรแกรมอื่นๆ\r\n",
        "* Python นั้นทำงานบน interpreter ซึ่งหมายความว่า แค่พิมโค้ดคำสั่งลงไป ระบบก็สามารถทำงานได้เลย ทำให้สามารถสร้างโปรแกรมต้นแบบ (prototype) ได้อย่างรวดเร็ว\r\n",
        "* Python เป็นภาษาแบบ object-oriented ช่วยให้นักพัฒนาสามารถนำองค์ประกอบต่าง ๆ มาใช้งานได้รวดเร็ว เพียงแค่ทำความเข้าใจว่าองค์ประกอบนั้นมีหน้าที่อะไร ไม่จำเป็นต้องเข้าใจโค้ดทั้งหมด\r\n",
        "\r\n",
        "\r\n",
        "## Python Syntax เทียบกับภาษาโปรแกรมอื่นๆ\r\n",
        "\r\n",
        "* Python ถูกออกแบบมาให้อ่านง่าย และมีโครงสร้างของภาษาที่คล้ายคลึงกับภาษาอังกฤษ \r\n",
        "* Python ใช้การขึ้นบรรทัดใหม่ในการจบคำสั่ง 1 คำสั่ง ในขณะที่ภาษาโปรแกรมอื่นๆ ที่มักใช้เครื่องหมายอัฒภาค (;) หรือวงเล็บ\r\n",
        "* Python ใช้การเว้นวรรค (indentation) เพื่อกำหนดขอบเขตของโค้ด เช่น ขอบเขตของลูป ฟังก์ชัน และคลาส ในขณะที่ภาษาโปรแกรมอื่น ๆ มักใช้วงเล็บปีกกา"
      ],
      "metadata": {
        "id": "l7SaV_ppXtPc"
      }
    },
    {
      "cell_type": "code",
      "execution_count": 1,
      "source": [
        "#Let's write our first code for python\r\n",
        "#มาลองเขียนโค้ดไพทอนบรรทัดแรกกันเถอะ!\r\n",
        "\r\n",
        "print(\"ฉันจะเก่งไพทอนให้ได้\")\r\n"
      ],
      "outputs": [
        {
          "output_type": "stream",
          "name": "stdout",
          "text": [
            "ฉันจะเก่งไพทอนให้ได้\n"
          ]
        }
      ],
      "metadata": {
        "id": "A5z8OuCsZhBl",
        "colab": {
          "base_uri": "https://localhost:8080/"
        },
        "outputId": "d4b24df1-9e03-4aeb-d310-ce2f9251667a"
      }
    },
    {
      "cell_type": "code",
      "execution_count": null,
      "source": [],
      "outputs": [],
      "metadata": {}
    }
  ]
}