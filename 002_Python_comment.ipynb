{
  "nbformat": 4,
  "nbformat_minor": 2,
  "metadata": {
    "colab": {
      "name": "2.python_comment.ipynb",
      "provenance": [],
      "collapsed_sections": []
    },
    "kernelspec": {
      "name": "python3",
      "display_name": "Python 3.8.5 64-bit ('base': conda)"
    },
    "language_info": {
      "name": "python",
      "version": "3.8.5",
      "mimetype": "text/x-python",
      "codemirror_mode": {
        "name": "ipython",
        "version": 3
      },
      "pygments_lexer": "ipython3",
      "nbconvert_exporter": "python",
      "file_extension": ".py"
    },
    "interpreter": {
      "hash": "00034aa5cd6c44013b830fd98c7a620a61a498e75425ca81fcc1166b84a69895"
    }
  },
  "cells": [
    {
      "cell_type": "markdown",
      "source": [
        "# Python comment"
      ],
      "metadata": {
        "id": "_kTHz4i450TC"
      }
    },
    {
      "cell_type": "markdown",
      "source": [
        "เราสามารถเขียน comment เพื่ออธิบายการทำงานของโค้ด ทำให้โค้ดอ่านง่ายขึ้น\r\n",
        "\r\n",
        "หรือใช้ comment เพื่อครอบโค้ดบางส่วนออก เวลาต้องการทดสอบการทำงานของโค้ดทีละส่วน\r\n"
      ],
      "metadata": {
        "id": "-SI7wBBq529j"
      }
    },
    {
      "cell_type": "markdown",
      "source": [
        "## การเขียน comment \r\n",
        "ให้เริ่มประโยคที่ต้องการ comment ด้วยเครื่องหมาย # \r\n",
        "\r\n",
        "โดย # จะเป็นการบอกให้ interpreter รู้ว่าไม่ต้องรัน code ด้านหลังตัวมัน"
      ],
      "metadata": {}
    },
    {
      "cell_type": "code",
      "execution_count": 6,
      "source": [
        "#ตัวอย่าง comment\r\n",
        "#โค้ดข้างล่างจะเป็นการ print คำว่า \"Hello world\" ออกมา\r\n",
        "print(\"Hello world\")"
      ],
      "outputs": [
        {
          "output_type": "stream",
          "name": "stdout",
          "text": [
            "Hello world\n"
          ]
        }
      ],
      "metadata": {
        "id": "AfjGkdO66bJC"
      }
    },
    {
      "cell_type": "markdown",
      "source": [
        "เราสามารถเขียน comment ไว้ท้ายสุดของโค้ดบรรทัดนั้น ๆ ก็ได้"
      ],
      "metadata": {
        "id": "DqlZDqPHROJu"
      }
    },
    {
      "cell_type": "code",
      "execution_count": 7,
      "source": [
        "print(\"ฉันจะพยายามใส่ comment เมื่อโค้ดส่วนนั้นเข้าใจยาก\") #print คำว่า \"ฉันจะพยายามใส่ comment เมื่อโค้ดส่วนนั้นเข้าใจยาก\""
      ],
      "outputs": [
        {
          "output_type": "stream",
          "name": "stdout",
          "text": [
            "ฉันจะพยายามใส่ comment เมื่อโค้ดส่วนนั้นเข้าใจยาก\n"
          ]
        }
      ],
      "metadata": {}
    },
    {
      "cell_type": "markdown",
      "source": [
        "เราสามารถใช้ comment เพื่อครอบโค้ดส่วนที่เราไม่อยากให้รันได้ ซึ่งมีประโยชน์มากตอนหาความผิดพลาดของโค้ด\r\n",
        "\r\n",
        "ตัวอย่างโค้ดข้างล่าง จะมีการ print แค่คำว่า \"Sawasdee Python\" เท่านั้น จะไม่ print คำว่า \"สวัสดีไพทอน\" ออกมา"
      ],
      "metadata": {
        "id": "oRAhq_xwRuU8"
      }
    },
    {
      "cell_type": "code",
      "execution_count": 5,
      "source": [
        "#print(\"สวัสดีไพทอน\") \r\n",
        "print(\"Sawasdee Python\")\r\n"
      ],
      "outputs": [
        {
          "output_type": "stream",
          "name": "stdout",
          "text": [
            "Sawasdee Python\n"
          ]
        }
      ],
      "metadata": {
        "colab": {
          "base_uri": "https://localhost:8080/"
        },
        "id": "4nBj84P-R2tV",
        "outputId": "7996a605-7ad7-426b-d859-664d27fdd5b6"
      }
    },
    {
      "cell_type": "markdown",
      "source": [
        "## การเขียน comment หลายบรรทัด"
      ],
      "metadata": {
        "id": "AK0vUdd9SYUk"
      }
    },
    {
      "cell_type": "markdown",
      "source": [
        "Python ไม่มี syntax สำหรับการเขียน comment ทีละหลายบรรทัด\r\n",
        "\r\n",
        "วิธีการแรกในการเขียน comment ทีละหลายบรรทัด คือ การขึ้น comment ใหม่ โดยใช้ # ทีละบรรทัด"
      ],
      "metadata": {
        "id": "3jnQXypkSOyU"
      }
    },
    {
      "cell_type": "code",
      "execution_count": 8,
      "source": [
        "#นี่คือวิธีการ\r\n",
        "#เขียน comment\r\n",
        "#ทีละหลายบรรทัดวิธีแรก"
      ],
      "outputs": [],
      "metadata": {}
    },
    {
      "cell_type": "markdown",
      "source": [
        "อีกวิธีการหนึ่ง ทำได้โดยใช้ multiline string (triple quotes) แล้วใส่ comment ไว้ข้างใน ตามตัวอย่าง"
      ],
      "metadata": {}
    },
    {
      "cell_type": "code",
      "execution_count": 13,
      "source": [
        "\"\"\"\r\n",
        "นี่คือวิธีการ\r\n",
        "เขียน comment\r\n",
        "ทีละหลายบรรทัดวิธีที่สอง \r\n",
        "\"\"\"\r\n",
        "\r\n",
        "print(\"Nice comment!\")"
      ],
      "outputs": [
        {
          "output_type": "stream",
          "name": "stdout",
          "text": [
            "Nice comment!\n"
          ]
        }
      ],
      "metadata": {
        "colab": {
          "base_uri": "https://localhost:8080/"
        },
        "id": "2FsVD9J6SvO1",
        "outputId": "c84e5c26-0382-4b21-99f6-e54d17c26921"
      }
    }
  ]
}