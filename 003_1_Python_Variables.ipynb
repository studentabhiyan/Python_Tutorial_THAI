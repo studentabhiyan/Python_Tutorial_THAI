{
  "nbformat": 4,
  "nbformat_minor": 0,
  "metadata": {
    "colab": {
      "name": "Python Variables.ipynb",
      "provenance": []
    },
    "kernelspec": {
      "name": "python3",
      "display_name": "Python 3"
    },
    "language_info": {
      "name": "python"
    }
  },
  "cells": [
    {
      "cell_type": "markdown",
      "metadata": {
        "id": "vXWSiLoDnSE2"
      },
      "source": [
        "### <font color=\"lightblue\">**Python Variables**"
      ]
    },
    {
      "cell_type": "markdown",
      "metadata": {
        "id": "vf0sUu4TnbNB"
      },
      "source": [
        "### <font color=\"lightblue\">Variables\n",
        "Variables are containers for storing data values."
      ]
    },
    {
      "cell_type": "markdown",
      "metadata": {
        "id": "pJWUYBFpngIj"
      },
      "source": [
        "### <font color=\"lightblue\">Creating Variables\n",
        "Python has no command for declaring a variable.\n",
        "A variable is created the moment you first assign a value to it."
      ]
    },
    {
      "cell_type": "markdown",
      "metadata": {
        "id": "ns-QiJdUntru"
      },
      "source": [
        "### <font color=\"lightblue\">Example"
      ]
    },
    {
      "cell_type": "code",
      "metadata": {
        "id": "nVl1cnWpnzKo",
        "outputId": "a3a96407-9b27-4a48-caff-6c64d28de957",
        "colab": {
          "base_uri": "https://localhost:8080/"
        }
      },
      "source": [
        "x = 5\n",
        "y = \"John\"\n",
        "print(x)\n",
        "print(y)"
      ],
      "execution_count": 1,
      "outputs": [
        {
          "output_type": "stream",
          "name": "stdout",
          "text": [
            "5\n",
            "John\n"
          ]
        }
      ]
    },
    {
      "cell_type": "markdown",
      "metadata": {
        "id": "kgBM44eOn2yk"
      },
      "source": [
        "Variables do not need to be declared with any particular type, and can even change type after they have been set."
      ]
    },
    {
      "cell_type": "markdown",
      "metadata": {
        "id": "CZGJAUpxoX7N"
      },
      "source": [
        "### <font color=\"lightblue\">Example"
      ]
    },
    {
      "cell_type": "code",
      "metadata": {
        "id": "UNm8WkmaoBcW",
        "outputId": "28b2e1ab-f038-42ac-dcb1-4ec579460132",
        "colab": {
          "base_uri": "https://localhost:8080/"
        }
      },
      "source": [
        "x = 4       # x is of type int\n",
        "x = \"Sally\" # x is now of type str\n",
        "print(x)"
      ],
      "execution_count": 2,
      "outputs": [
        {
          "output_type": "stream",
          "name": "stdout",
          "text": [
            "Sally\n"
          ]
        }
      ]
    },
    {
      "cell_type": "markdown",
      "metadata": {
        "id": "W55wtU35oL1y"
      },
      "source": [
        "### <font color=\"lightblue\">Casting\n",
        "If you want to specify the data type of a variable, this can be done with casting."
      ]
    },
    {
      "cell_type": "markdown",
      "metadata": {
        "id": "sVvHhJaSoVgC"
      },
      "source": [
        "### <font color=\"lightblue\">Example"
      ]
    },
    {
      "cell_type": "code",
      "metadata": {
        "id": "yHXszvRmojJJ"
      },
      "source": [
        "x = str(3)    # x will be '3'\n",
        "y = int(3)    # y will be 3\n",
        "z = float(3)  # z will be 3.0\n"
      ],
      "execution_count": 3,
      "outputs": []
    },
    {
      "cell_type": "markdown",
      "metadata": {
        "id": "-3-jxqBuop2X"
      },
      "source": [
        "### <font color=\"lightblue\">Get the Type\n",
        "You can get the data type of a variable with the type() function."
      ]
    },
    {
      "cell_type": "markdown",
      "metadata": {
        "id": "b7EmLoTiou6O"
      },
      "source": [
        "### <font color=\"lightblue\">Example"
      ]
    },
    {
      "cell_type": "code",
      "metadata": {
        "id": "pmm3DyVhoykQ",
        "outputId": "8a6bf431-86f5-40f9-8fa5-4ea521cf0799",
        "colab": {
          "base_uri": "https://localhost:8080/"
        }
      },
      "source": [
        "x = 5\n",
        "y = \"John\"\n",
        "print(type(x))\n",
        "print(type(y))"
      ],
      "execution_count": 4,
      "outputs": [
        {
          "output_type": "stream",
          "name": "stdout",
          "text": [
            "<class 'int'>\n",
            "<class 'str'>\n"
          ]
        }
      ]
    },
    {
      "cell_type": "markdown",
      "metadata": {
        "id": "FH7mvorbqcNq"
      },
      "source": [
        "### <font color=\"lightblue\">Single or Double Quotes?\n",
        "String variables can be declared either by using single or double quotes:"
      ]
    },
    {
      "cell_type": "markdown",
      "metadata": {
        "id": "5Yn6xMqIqnyG"
      },
      "source": [
        "### <font color=\"lightblue\">Example"
      ]
    },
    {
      "cell_type": "code",
      "metadata": {
        "id": "_K9zFhOHqvmv"
      },
      "source": [
        "x = \"John\"\n",
        "# is the same as\n",
        "x = 'John'"
      ],
      "execution_count": 5,
      "outputs": []
    },
    {
      "cell_type": "markdown",
      "metadata": {
        "id": "S-rbU3V1rUNx"
      },
      "source": [
        "### <font color=\"lightblue\">Case-Sensitive\n",
        "Variable names are case-sensitive.\n"
      ]
    },
    {
      "cell_type": "markdown",
      "metadata": {
        "id": "j7JrwrSwrw22"
      },
      "source": [
        "### <font color=\"lightblue\">Example\n",
        "This will create two variables:"
      ]
    },
    {
      "cell_type": "code",
      "metadata": {
        "id": "DI354NbVrxwQ"
      },
      "source": [
        "a = 4\n",
        "A = \"Sally\"\n",
        "#A will not overwrite a\n"
      ],
      "execution_count": 6,
      "outputs": []
    }
  ]
}
