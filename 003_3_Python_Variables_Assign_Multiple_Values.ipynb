{
  "nbformat": 4,
  "nbformat_minor": 0,
  "metadata": {
    "colab": {
      "name": "Python Variables - Assign Multiple Values.ipynb",
      "provenance": []
    },
    "kernelspec": {
      "name": "python3",
      "display_name": "Python 3"
    },
    "language_info": {
      "name": "python"
    }
  },
  "cells": [
    {
      "cell_type": "markdown",
      "metadata": {
        "id": "6G3rhKCe_jEM"
      },
      "source": [
        "### <font color=\"lightblue\"> **Python Variables - Assign Multiple Values**"
      ]
    },
    {
      "cell_type": "markdown",
      "metadata": {
        "id": "36Q7Ks_I_kRx"
      },
      "source": [
        "### <font color=\"lightblue\"> Many Values to Multiple Variables\n",
        "Python allows you to assign values to multiple variables in one line:"
      ]
    },
    {
      "cell_type": "markdown",
      "metadata": {
        "id": "pqTjC-Ew_nv1"
      },
      "source": [
        "### <font color=\"lightblue\"> Example"
      ]
    },
    {
      "cell_type": "code",
      "metadata": {
        "id": "7Ua67WU8_pSy",
        "outputId": "63890f5f-f0a4-4b18-eb38-f422eb9439d0",
        "colab": {
          "base_uri": "https://localhost:8080/"
        }
      },
      "source": [
        "x, y, z = \"Orange\", \"Banana\", \"Cherry\"\n",
        "print(x)\n",
        "print(y)\n",
        "print(z)"
      ],
      "execution_count": 1,
      "outputs": [
        {
          "output_type": "stream",
          "name": "stdout",
          "text": [
            "Orange\n",
            "Banana\n",
            "Cherry\n"
          ]
        }
      ]
    },
    {
      "cell_type": "markdown",
      "metadata": {
        "id": "Hd3nGdIFAg0n"
      },
      "source": [
        "### <font color=\"lightblue\"> One Value to Multiple Variables\n",
        "And you can assign the same value to multiple variables in one line:"
      ]
    },
    {
      "cell_type": "markdown",
      "metadata": {
        "id": "y9kZdLlz_4Lw"
      },
      "source": [
        "### <font color=\"lightblue\">Example"
      ]
    },
    {
      "cell_type": "code",
      "metadata": {
        "id": "dwPAkXo2_7B5",
        "outputId": "a018f873-1f09-40cc-d021-cba683e9d86c",
        "colab": {
          "base_uri": "https://localhost:8080/"
        }
      },
      "source": [
        "x = y = z = \"Orange\"\n",
        "print(x)\n",
        "print(y)\n",
        "print(z)"
      ],
      "execution_count": 2,
      "outputs": [
        {
          "output_type": "stream",
          "name": "stdout",
          "text": [
            "Orange\n",
            "Orange\n",
            "Orange\n"
          ]
        }
      ]
    },
    {
      "cell_type": "markdown",
      "metadata": {
        "id": "vMGXfi_p__By"
      },
      "source": [
        "### <font color=\"lightblue\"> Unpack a Collection\n",
        "If you have a collection of values in a list, tuple etc. Python allows you extract the values into variables. This is called unpacking."
      ]
    },
    {
      "cell_type": "markdown",
      "metadata": {
        "id": "j23r4WkhACrK"
      },
      "source": [
        "### <font color=\"lightblue\"> Example\n",
        "Unpack a list:"
      ]
    },
    {
      "cell_type": "code",
      "metadata": {
        "id": "J8HVPSXHAFc2",
        "outputId": "d096542d-ee4d-42f9-c59c-831642f11e32",
        "colab": {
          "base_uri": "https://localhost:8080/"
        }
      },
      "source": [
        "fruits = [\"apple\", \"banana\", \"cherry\"]\n",
        "x, y, z = fruits\n",
        "print(x)\n",
        "print(y)\n",
        "print(z)"
      ],
      "execution_count": 3,
      "outputs": [
        {
          "output_type": "stream",
          "name": "stdout",
          "text": [
            "apple\n",
            "banana\n",
            "cherry\n"
          ]
        }
      ]
    }
  ]
}
