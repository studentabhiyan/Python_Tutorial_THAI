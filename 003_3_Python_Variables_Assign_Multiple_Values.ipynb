{
  "nbformat": 4,
  "nbformat_minor": 2,
  "metadata": {
    "colab": {
      "name": "Python Variables - Assign Multiple Values.ipynb",
      "provenance": []
    },
    "kernelspec": {
      "name": "python3",
      "display_name": "Python 3.8.5 64-bit ('base': conda)"
    },
    "language_info": {
      "name": "python",
      "version": "3.8.5",
      "mimetype": "text/x-python",
      "codemirror_mode": {
        "name": "ipython",
        "version": 3
      },
      "pygments_lexer": "ipython3",
      "nbconvert_exporter": "python",
      "file_extension": ".py"
    },
    "interpreter": {
      "hash": "00034aa5cd6c44013b830fd98c7a620a61a498e75425ca81fcc1166b84a69895"
    }
  },
  "cells": [
    {
      "cell_type": "markdown",
      "source": [
        "# การกำหนดค่าให้ตัวแปรหลาย ๆ ตัวพร้อมกัน"
      ],
      "metadata": {
        "id": "6G3rhKCe_jEM"
      }
    },
    {
      "cell_type": "markdown",
      "source": [
        "## การกำหนดค่าให้ตัวแปรแต่ละตัวด้วยค่าที่ต่างกัน\r\n",
        "เราสามารถกำหนดค่าให้ตัวแปรแต่ละตัวด้วยค่าที่ต่างกันได้ด้วยโค้ดบรรทัดเดียว ดังโค้ดตัวอย่าง"
      ],
      "metadata": {
        "id": "36Q7Ks_I_kRx"
      }
    },
    {
      "cell_type": "markdown",
      "source": [
        "## ตัวอย่าง"
      ],
      "metadata": {
        "id": "pqTjC-Ew_nv1"
      }
    },
    {
      "cell_type": "code",
      "execution_count": 1,
      "source": [
        "x, y, z = \"เค้ก\", \"ขนมปัง\", \"ครัวซองก์\"\r\n",
        "print(x)\r\n",
        "print(y)\r\n",
        "print(z)"
      ],
      "outputs": [
        {
          "output_type": "stream",
          "name": "stdout",
          "text": [
            "เค้ก\n",
            "ขนมปัง\n",
            "ครัวซองก์\n"
          ]
        }
      ],
      "metadata": {
        "id": "7Ua67WU8_pSy",
        "outputId": "63890f5f-f0a4-4b18-eb38-f422eb9439d0",
        "colab": {
          "base_uri": "https://localhost:8080/"
        }
      }
    },
    {
      "cell_type": "markdown",
      "source": [
        "## การกำหนดค่าให้ตัวแปรแต่ละตัวด้วยค่าเดียวกัน \r\n",
        "เราสามารถกำหนดค่าให้ตัวแปรแต่ละตัวด้วยค่าเดียวกันได้ดังโค้ดข้างล่างนี้เพียงบรรทัดเดียว"
      ],
      "metadata": {
        "id": "Hd3nGdIFAg0n"
      }
    },
    {
      "cell_type": "markdown",
      "source": [
        "## ตัวอย่าง"
      ],
      "metadata": {
        "id": "y9kZdLlz_4Lw"
      }
    },
    {
      "cell_type": "code",
      "execution_count": 2,
      "source": [
        "x = y = z = \"โดนัท\"\r\n",
        "print(x)\r\n",
        "print(y)\r\n",
        "print(z)"
      ],
      "outputs": [
        {
          "output_type": "stream",
          "name": "stdout",
          "text": [
            "โดนัท\n",
            "โดนัท\n",
            "โดนัท\n"
          ]
        }
      ],
      "metadata": {
        "id": "dwPAkXo2_7B5",
        "outputId": "a018f873-1f09-40cc-d021-cba683e9d86c",
        "colab": {
          "base_uri": "https://localhost:8080/"
        }
      }
    },
    {
      "cell_type": "markdown",
      "source": [
        "## Unpack a Collection\r\n",
        "ถ้าเรามี collection ของค่าต่าง ๆ เก็บไว้ใน list หรือ tuple เราสามารถสกัดค่าต่าง ๆ เหล่านั้นมาเก็บไว้ในตัวแปรได้\r\n",
        "\r\n",
        "วิธีการนี้เรียกว่า unpacking"
      ],
      "metadata": {
        "id": "vMGXfi_p__By"
      }
    },
    {
      "cell_type": "markdown",
      "source": [
        "## ตัวอย่าง\r\n",
        "Unpack a list"
      ],
      "metadata": {
        "id": "j23r4WkhACrK"
      }
    },
    {
      "cell_type": "code",
      "execution_count": 4,
      "source": [
        "drinks = [\"กาแฟ\", \"โกโก้\", \"ชา\"]\r\n",
        "x, y, z = drinks\r\n",
        "print(x)\r\n",
        "print(y)\r\n",
        "print(z)"
      ],
      "outputs": [
        {
          "output_type": "stream",
          "name": "stdout",
          "text": [
            "กาแฟ\n",
            "โกโก้\n",
            "ชา\n"
          ]
        }
      ],
      "metadata": {
        "id": "J8HVPSXHAFc2",
        "outputId": "d096542d-ee4d-42f9-c59c-831642f11e32",
        "colab": {
          "base_uri": "https://localhost:8080/"
        }
      }
    }
  ]
}