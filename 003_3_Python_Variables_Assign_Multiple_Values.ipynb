{
  "nbformat": 4,
  "nbformat_minor": 2,
  "metadata": {
    "colab": {
      "name": "Python Variables - Assign Multiple Values.ipynb",
      "provenance": []
    },
    "kernelspec": {
      "name": "python3",
      "display_name": "Python 3"
    },
    "language_info": {
      "name": "python"
    }
  },
  "cells": [
    {
      "cell_type": "markdown",
      "source": [
        "# <font color=\"#026D8F\"> **Python Variables - Assign Multiple Values**"
      ],
      "metadata": {
        "id": "6G3rhKCe_jEM"
      }
    },
    {
      "cell_type": "markdown",
      "source": [
        "## <font color=\"#026D8F\"> Many Values to Multiple Variables\r\n",
        "Python allows you to assign values to multiple variables in one line:"
      ],
      "metadata": {
        "id": "36Q7Ks_I_kRx"
      }
    },
    {
      "cell_type": "markdown",
      "source": [
        "## <font color=\"#026D8F\"> Example"
      ],
      "metadata": {
        "id": "pqTjC-Ew_nv1"
      }
    },
    {
      "cell_type": "code",
      "execution_count": 1,
      "source": [
        "x, y, z = \"Orange\", \"Banana\", \"Cherry\"\r\n",
        "print(x)\r\n",
        "print(y)\r\n",
        "print(z)"
      ],
      "outputs": [
        {
          "output_type": "stream",
          "name": "stdout",
          "text": [
            "Orange\n",
            "Banana\n",
            "Cherry\n"
          ]
        }
      ],
      "metadata": {
        "id": "7Ua67WU8_pSy",
        "outputId": "63890f5f-f0a4-4b18-eb38-f422eb9439d0",
        "colab": {
          "base_uri": "https://localhost:8080/"
        }
      }
    },
    {
      "cell_type": "markdown",
      "source": [
        "## <font color=\"#026D8F\"> One Value to Multiple Variables\r\n",
        "And you can assign the same value to multiple variables in one line:"
      ],
      "metadata": {
        "id": "Hd3nGdIFAg0n"
      }
    },
    {
      "cell_type": "markdown",
      "source": [
        "## <font color=\"#026D8F\"> Example"
      ],
      "metadata": {
        "id": "y9kZdLlz_4Lw"
      }
    },
    {
      "cell_type": "code",
      "execution_count": 2,
      "source": [
        "x = y = z = \"Orange\"\r\n",
        "print(x)\r\n",
        "print(y)\r\n",
        "print(z)"
      ],
      "outputs": [
        {
          "output_type": "stream",
          "name": "stdout",
          "text": [
            "Orange\n",
            "Orange\n",
            "Orange\n"
          ]
        }
      ],
      "metadata": {
        "id": "dwPAkXo2_7B5",
        "outputId": "a018f873-1f09-40cc-d021-cba683e9d86c",
        "colab": {
          "base_uri": "https://localhost:8080/"
        }
      }
    },
    {
      "cell_type": "markdown",
      "source": [
        "## <font color=\"#026D8F\"> Unpack a Collection\r\n",
        "If you have a collection of values in a list, tuple etc. Python allows you extract the values into variables. This is called unpacking."
      ],
      "metadata": {
        "id": "vMGXfi_p__By"
      }
    },
    {
      "cell_type": "markdown",
      "source": [
        "## <font color=\"#026D8F\"> Example\r\n",
        "Unpack a list:"
      ],
      "metadata": {
        "id": "j23r4WkhACrK"
      }
    },
    {
      "cell_type": "code",
      "execution_count": 3,
      "source": [
        "fruits = [\"apple\", \"banana\", \"cherry\"]\r\n",
        "x, y, z = fruits\r\n",
        "print(x)\r\n",
        "print(y)\r\n",
        "print(z)"
      ],
      "outputs": [
        {
          "output_type": "stream",
          "name": "stdout",
          "text": [
            "apple\n",
            "banana\n",
            "cherry\n"
          ]
        }
      ],
      "metadata": {
        "id": "J8HVPSXHAFc2",
        "outputId": "d096542d-ee4d-42f9-c59c-831642f11e32",
        "colab": {
          "base_uri": "https://localhost:8080/"
        }
      }
    }
  ]
}