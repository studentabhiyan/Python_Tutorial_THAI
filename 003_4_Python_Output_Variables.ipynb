{
  "nbformat": 4,
  "nbformat_minor": 2,
  "metadata": {
    "colab": {
      "name": "Python - Output Variables.ipynb",
      "provenance": []
    },
    "kernelspec": {
      "name": "python3",
      "display_name": "Python 3.8.5 64-bit ('base': conda)"
    },
    "language_info": {
      "name": "python",
      "version": "3.8.5",
      "mimetype": "text/x-python",
      "codemirror_mode": {
        "name": "ipython",
        "version": 3
      },
      "pygments_lexer": "ipython3",
      "nbconvert_exporter": "python",
      "file_extension": ".py"
    },
    "interpreter": {
      "hash": "00034aa5cd6c44013b830fd98c7a620a61a498e75425ca81fcc1166b84a69895"
    }
  },
  "cells": [
    {
      "cell_type": "markdown",
      "source": [
        "# Python - การแสดงค่าตัวแปร"
      ],
      "metadata": {
        "id": "FEjeK1d-CKek"
      }
    },
    {
      "cell_type": "markdown",
      "source": [
        "## การแสดงค่าตัวแปร\r\n",
        "\r\n",
        "เราสามารถใช้คำสั่ง print เพื่อแสดงค่าตัวแปรที่ต้องการได้\r\n",
        "\r\n",
        "ถ้าต้องการแสดงผลลัพธ์เป็นข้อความและตัวแปรต่อกัน สามารถใช้เครื่องหมาย + เพื่อเชื่อมข้อความกับตัวแปรได้เลย"
      ],
      "metadata": {
        "id": "04e70i_yCL1M"
      }
    },
    {
      "cell_type": "markdown",
      "source": [
        "## ตัวอย่าง"
      ],
      "metadata": {
        "id": "gw-YeVoqCPlI"
      }
    },
    {
      "cell_type": "code",
      "execution_count": 1,
      "source": [
        "x = \"มีประโยชน์มาก\"\r\n",
        "print(\"Python \" + x)"
      ],
      "outputs": [
        {
          "output_type": "stream",
          "name": "stdout",
          "text": [
            "Python มีประโยชน์มาก\n"
          ]
        }
      ],
      "metadata": {
        "id": "nv1mGXiQCReT",
        "outputId": "4ff0c408-8e2f-49a8-da6f-642c686610d3",
        "colab": {
          "base_uri": "https://localhost:8080/"
        }
      }
    },
    {
      "cell_type": "markdown",
      "source": [
        "หรือใช้เครื่องหมาย + เพื่อเชื่อมระหว่างตัวแปร 2 ตัวก็ได้"
      ],
      "metadata": {
        "id": "xo5yrEAXCTSr"
      }
    },
    {
      "cell_type": "markdown",
      "source": [
        "## ตัวอย่าง"
      ],
      "metadata": {
        "id": "tQw1DvGACwG5"
      }
    },
    {
      "cell_type": "code",
      "execution_count": 2,
      "source": [
        "x = \"Python \"\r\n",
        "y = \"ใช้ง่ายมาก\"\r\n",
        "z =  x + y\r\n",
        "print(z)"
      ],
      "outputs": [
        {
          "output_type": "stream",
          "name": "stdout",
          "text": [
            "Python ใช้ง่ายมาก\n"
          ]
        }
      ],
      "metadata": {
        "id": "ChgKcGjfCyzo",
        "outputId": "0f6bc62a-2998-4bc0-a4b2-f1626c0c0688",
        "colab": {
          "base_uri": "https://localhost:8080/"
        }
      }
    },
    {
      "cell_type": "markdown",
      "source": [
        "ถ้าตัวแปรทั้งสองตัวเป็นตัวเลข การใช้เครื่องหมาย + จะเป็นการบวกค่าของ 2 ตัวแปร เหมือนกับการบวกตัวเลขตามหลักคณิตศาสตร์"
      ],
      "metadata": {
        "id": "vi28woPTC0oh"
      }
    },
    {
      "cell_type": "markdown",
      "source": [
        "## ตัวอย่าง"
      ],
      "metadata": {
        "id": "TwjcpGRwC634"
      }
    },
    {
      "cell_type": "code",
      "execution_count": 3,
      "source": [
        "x = 10\r\n",
        "y = 20\r\n",
        "print(x + y)"
      ],
      "outputs": [
        {
          "output_type": "stream",
          "name": "stdout",
          "text": [
            "30\n"
          ]
        }
      ],
      "metadata": {
        "id": "hpubJY5tC93k",
        "outputId": "33798682-c503-487d-85da-19d0001da532",
        "colab": {
          "base_uri": "https://localhost:8080/"
        }
      }
    },
    {
      "cell_type": "markdown",
      "source": [
        "แต่ถ้าใช้เครื่องหมาย + เชื่อมตัวแปรประเภท string กับตัวเลข จะเกิด TypeError เนื่องจากเราไม่สามารถบวก string กับตัวเลขได้"
      ],
      "metadata": {
        "id": "ZRk7On-BDABP"
      }
    },
    {
      "cell_type": "markdown",
      "source": [
        "## ตัวอย่าง"
      ],
      "metadata": {
        "id": "CXsuSVEnDClB"
      }
    },
    {
      "cell_type": "code",
      "execution_count": 4,
      "source": [
        "x = 5\r\n",
        "y = \"Python\"\r\n",
        "print(x + y)"
      ],
      "outputs": [
        {
          "output_type": "error",
          "ename": "TypeError",
          "evalue": "unsupported operand type(s) for +: 'int' and 'str'",
          "traceback": [
            "\u001b[1;31m---------------------------------------------------------------------------\u001b[0m",
            "\u001b[1;31mTypeError\u001b[0m                                 Traceback (most recent call last)",
            "\u001b[1;32m<ipython-input-4-87005a9cd1c2>\u001b[0m in \u001b[0;36m<module>\u001b[1;34m\u001b[0m\n\u001b[0;32m      1\u001b[0m \u001b[0mx\u001b[0m \u001b[1;33m=\u001b[0m \u001b[1;36m5\u001b[0m\u001b[1;33m\u001b[0m\u001b[1;33m\u001b[0m\u001b[0m\n\u001b[0;32m      2\u001b[0m \u001b[0my\u001b[0m \u001b[1;33m=\u001b[0m \u001b[1;34m\"Python\"\u001b[0m\u001b[1;33m\u001b[0m\u001b[1;33m\u001b[0m\u001b[0m\n\u001b[1;32m----> 3\u001b[1;33m \u001b[0mprint\u001b[0m\u001b[1;33m(\u001b[0m\u001b[0mx\u001b[0m \u001b[1;33m+\u001b[0m \u001b[0my\u001b[0m\u001b[1;33m)\u001b[0m\u001b[1;33m\u001b[0m\u001b[1;33m\u001b[0m\u001b[0m\n\u001b[0m",
            "\u001b[1;31mTypeError\u001b[0m: unsupported operand type(s) for +: 'int' and 'str'"
          ]
        }
      ],
      "metadata": {
        "id": "hBj6Jy4EDEgo",
        "outputId": "a8039678-61ae-48f2-9bdf-0cb4a9bb62e9",
        "colab": {
          "base_uri": "https://localhost:8080/",
          "height": 207
        }
      }
    }
  ]
}