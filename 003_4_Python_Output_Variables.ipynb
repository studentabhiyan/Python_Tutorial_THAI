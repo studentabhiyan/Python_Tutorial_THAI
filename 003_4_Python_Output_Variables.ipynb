{
  "nbformat": 4,
  "nbformat_minor": 2,
  "metadata": {
    "colab": {
      "name": "Python - Output Variables.ipynb",
      "provenance": []
    },
    "kernelspec": {
      "name": "python3",
      "display_name": "Python 3"
    },
    "language_info": {
      "name": "python"
    }
  },
  "cells": [
    {
      "cell_type": "markdown",
      "source": [
        "# <font color=\"#026D8F\">**Python - Output Variables**"
      ],
      "metadata": {
        "id": "FEjeK1d-CKek"
      }
    },
    {
      "cell_type": "markdown",
      "source": [
        "## <font color=\"#026D8F\"> Output Variables\r\n",
        "The Python print statement is often used to output variables.\r\n",
        "\r\n",
        "To combine both text and a variable, Python uses the + character:"
      ],
      "metadata": {
        "id": "04e70i_yCL1M"
      }
    },
    {
      "cell_type": "markdown",
      "source": [
        "## <font color=\"#026D8F\"> Example"
      ],
      "metadata": {
        "id": "gw-YeVoqCPlI"
      }
    },
    {
      "cell_type": "code",
      "execution_count": 1,
      "source": [
        "x = \"awesome\"\r\n",
        "print(\"Python is \" + x)"
      ],
      "outputs": [
        {
          "output_type": "stream",
          "name": "stdout",
          "text": [
            "Python is awesome\n"
          ]
        }
      ],
      "metadata": {
        "id": "nv1mGXiQCReT",
        "outputId": "4ff0c408-8e2f-49a8-da6f-642c686610d3",
        "colab": {
          "base_uri": "https://localhost:8080/"
        }
      }
    },
    {
      "cell_type": "markdown",
      "source": [
        "You can also use the + character to add a variable to another variable:"
      ],
      "metadata": {
        "id": "xo5yrEAXCTSr"
      }
    },
    {
      "cell_type": "markdown",
      "source": [
        "## <font color=\"#026D8F\">Example"
      ],
      "metadata": {
        "id": "tQw1DvGACwG5"
      }
    },
    {
      "cell_type": "code",
      "execution_count": 2,
      "source": [
        "x = \"Python is \"\r\n",
        "y = \"awesome\"\r\n",
        "z =  x + y\r\n",
        "print(z)"
      ],
      "outputs": [
        {
          "output_type": "stream",
          "name": "stdout",
          "text": [
            "Python is awesome\n"
          ]
        }
      ],
      "metadata": {
        "id": "ChgKcGjfCyzo",
        "outputId": "0f6bc62a-2998-4bc0-a4b2-f1626c0c0688",
        "colab": {
          "base_uri": "https://localhost:8080/"
        }
      }
    },
    {
      "cell_type": "markdown",
      "source": [
        "For numbers, the + character works as a mathematical operator:"
      ],
      "metadata": {
        "id": "vi28woPTC0oh"
      }
    },
    {
      "cell_type": "markdown",
      "source": [
        "## <font color=\"#026D8F\"> Example"
      ],
      "metadata": {
        "id": "TwjcpGRwC634"
      }
    },
    {
      "cell_type": "code",
      "execution_count": 3,
      "source": [
        "x = 5\r\n",
        "y = 10\r\n",
        "print(x + y)"
      ],
      "outputs": [
        {
          "output_type": "stream",
          "name": "stdout",
          "text": [
            "15\n"
          ]
        }
      ],
      "metadata": {
        "id": "hpubJY5tC93k",
        "outputId": "33798682-c503-487d-85da-19d0001da532",
        "colab": {
          "base_uri": "https://localhost:8080/"
        }
      }
    },
    {
      "cell_type": "markdown",
      "source": [
        "If you try to combine a string and a number, Python will give you an error:"
      ],
      "metadata": {
        "id": "ZRk7On-BDABP"
      }
    },
    {
      "cell_type": "markdown",
      "source": [
        "## <font color=\"#026D8F\"> Example"
      ],
      "metadata": {
        "id": "CXsuSVEnDClB"
      }
    },
    {
      "cell_type": "code",
      "execution_count": 4,
      "source": [
        "x = 5\r\n",
        "y = \"John\"\r\n",
        "print(x + y)"
      ],
      "outputs": [
        {
          "output_type": "error",
          "ename": "TypeError",
          "evalue": "ignored",
          "traceback": [
            "\u001b[0;31m---------------------------------------------------------------------------\u001b[0m",
            "\u001b[0;31mTypeError\u001b[0m                                 Traceback (most recent call last)",
            "\u001b[0;32m<ipython-input-4-00c66e4310ff>\u001b[0m in \u001b[0;36m<module>\u001b[0;34m()\u001b[0m\n\u001b[1;32m      1\u001b[0m \u001b[0mx\u001b[0m \u001b[0;34m=\u001b[0m \u001b[0;36m5\u001b[0m\u001b[0;34m\u001b[0m\u001b[0;34m\u001b[0m\u001b[0m\n\u001b[1;32m      2\u001b[0m \u001b[0my\u001b[0m \u001b[0;34m=\u001b[0m \u001b[0;34m\"John\"\u001b[0m\u001b[0;34m\u001b[0m\u001b[0;34m\u001b[0m\u001b[0m\n\u001b[0;32m----> 3\u001b[0;31m \u001b[0mprint\u001b[0m\u001b[0;34m(\u001b[0m\u001b[0mx\u001b[0m \u001b[0;34m+\u001b[0m \u001b[0my\u001b[0m\u001b[0;34m)\u001b[0m\u001b[0;34m\u001b[0m\u001b[0;34m\u001b[0m\u001b[0m\n\u001b[0m",
            "\u001b[0;31mTypeError\u001b[0m: unsupported operand type(s) for +: 'int' and 'str'"
          ]
        }
      ],
      "metadata": {
        "id": "hBj6Jy4EDEgo",
        "outputId": "a8039678-61ae-48f2-9bdf-0cb4a9bb62e9",
        "colab": {
          "base_uri": "https://localhost:8080/",
          "height": 207
        }
      }
    }
  ]
}