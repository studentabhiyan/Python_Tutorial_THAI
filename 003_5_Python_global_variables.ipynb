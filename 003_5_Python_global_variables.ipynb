{
  "nbformat": 4,
  "nbformat_minor": 2,
  "metadata": {
    "colab": {
      "name": "Python global variables.ipynb",
      "provenance": []
    },
    "kernelspec": {
      "name": "python3",
      "display_name": "Python 3.8.5 64-bit ('base': conda)"
    },
    "language_info": {
      "name": "python",
      "version": "3.8.5",
      "mimetype": "text/x-python",
      "codemirror_mode": {
        "name": "ipython",
        "version": 3
      },
      "pygments_lexer": "ipython3",
      "nbconvert_exporter": "python",
      "file_extension": ".py"
    },
    "interpreter": {
      "hash": "00034aa5cd6c44013b830fd98c7a620a61a498e75425ca81fcc1166b84a69895"
    }
  },
  "cells": [
    {
      "cell_type": "markdown",
      "source": [
        "# ตัวแปรแบบ Global (Global Variables)"
      ],
      "metadata": {
        "id": "RsPbzQiFFLNI"
      }
    },
    {
      "cell_type": "markdown",
      "source": [
        "## Global Variables\r\n",
        "ตัวแปรที่สร้างขึ้นภายนอก function เรียกว่า ตัวแปรแบบ global (global variables)\r\n",
        "\r\n",
        "ตัวแปรแบบ global สามารถเรียกใช้จากที่ไหนก็ได้ ทั้งจากภายในและภายนอก function"
      ],
      "metadata": {
        "id": "T0oDzO-CFOGw"
      }
    },
    {
      "cell_type": "markdown",
      "source": [
        "## ตัวอย่าง\r\n",
        "ประกาศตัวแปรภายนอก function แต่เรียกใช้ภายใน function"
      ],
      "metadata": {
        "id": "lHFZkkKhFUhI"
      }
    },
    {
      "cell_type": "code",
      "execution_count": 1,
      "source": [
        "x = \"สนุกมาก\"\r\n",
        "\r\n",
        "def myfunc():\r\n",
        "  print(\"เรียน Python \" + x)\r\n",
        "\r\n",
        "myfunc()"
      ],
      "outputs": [
        {
          "output_type": "stream",
          "name": "stdout",
          "text": [
            "เรียน Python สนุกมาก\n"
          ]
        }
      ],
      "metadata": {
        "id": "mIwk3fSaFaM9",
        "colab": {
          "base_uri": "https://localhost:8080/"
        },
        "outputId": "6937076f-9e6d-4665-c922-7d8632ea1ce4"
      }
    },
    {
      "cell_type": "markdown",
      "source": [
        "If you create a variable with the same name inside a function, this variable will be local, and can only be used inside the function. The global variable with the same name will remain as it was, global and with the original value."
      ],
      "metadata": {
        "id": "uOe8Q32wFni5"
      }
    },
    {
      "cell_type": "markdown",
      "source": [
        "### <font color=\"lightblue\"> Example\n",
        "Create a variable inside a function, with the same name as the global variable"
      ],
      "metadata": {
        "id": "CcyYF-uOFpnn"
      }
    },
    {
      "cell_type": "code",
      "execution_count": 3,
      "source": [
        "x = \"สนุกมาก\"\r\n",
        "\r\n",
        "def myfunc():\r\n",
        "  x = \"ง่ายกว่าที่คิด\"\r\n",
        "  print(\"เรียน Python \" + x)\r\n",
        "\r\n",
        "myfunc()\r\n",
        "\r\n",
        "print(\"เรียน Python \" + x)"
      ],
      "outputs": [
        {
          "output_type": "stream",
          "name": "stdout",
          "text": [
            "เรียน Python ง่ายกว่าที่คิด\n",
            "เรียน Python สนุกมาก\n"
          ]
        }
      ],
      "metadata": {
        "id": "XkjZk0YWFuyY",
        "colab": {
          "base_uri": "https://localhost:8080/"
        },
        "outputId": "092877cd-019f-4887-f73b-a8bf2837a992"
      }
    },
    {
      "cell_type": "markdown",
      "source": [
        "## การใช้ keyword คำว่า global\r\n",
        "โดยปกติแล้วถ้าประกาศตัวแปรภายใน function ตัวแปรนั้นจะเป็นตัวแปรแบบ local (local variable) และถูกเรียกใช้ได้เฉพาะภายใน function นั้น ๆ\r\n",
        "\r\n",
        "ถ้าต้องการประกาศตัวแปรแบบ global ภายใน function ให้ใช้ keyword คำว่า global ก่อนประกาศตัวแปร"
      ],
      "metadata": {
        "id": "ajrNXWQmF3QH"
      }
    },
    {
      "cell_type": "markdown",
      "source": [
        "## ตัวอย่าง"
      ],
      "metadata": {
        "id": "JNCbzIPkF8P_"
      }
    },
    {
      "cell_type": "code",
      "execution_count": 4,
      "source": [
        "def myfunc():\r\n",
        "  global x\r\n",
        "  x = \"สนุกมาก\"\r\n",
        "\r\n",
        "myfunc()\r\n",
        "\r\n",
        "print(\"เรียน Python \" + x)"
      ],
      "outputs": [
        {
          "output_type": "stream",
          "name": "stdout",
          "text": [
            "เรียน Python สนุกมาก\n"
          ]
        }
      ],
      "metadata": {
        "id": "vyJz0F3lF-dK",
        "colab": {
          "base_uri": "https://localhost:8080/"
        },
        "outputId": "217e2049-27a5-42de-abee-c7bb83a721be"
      }
    },
    {
      "cell_type": "markdown",
      "source": [
        "ใช้ keyword คำว่า global ตามด้วยชื่อตัวแปร ถ้าต้องการเปลี่ยนแปลงค่าตัวแปรแบบ global ตัวนั้นภายใน function"
      ],
      "metadata": {
        "id": "JvOatCWpG71z"
      }
    },
    {
      "cell_type": "markdown",
      "source": [
        "## ตัวอย่าง"
      ],
      "metadata": {
        "id": "iRMfyeFTG9KX"
      }
    },
    {
      "cell_type": "code",
      "execution_count": 5,
      "source": [
        "x = \"สนุกมาก\"\r\n",
        "\r\n",
        "def myfunc():\r\n",
        "  global x\r\n",
        "  x = \"ง่ายกว่าที่คิด\"\r\n",
        "\r\n",
        "myfunc()\r\n",
        "\r\n",
        "print(\"เรียน Python \" + x)"
      ],
      "outputs": [
        {
          "output_type": "stream",
          "name": "stdout",
          "text": [
            "เรียน Python ง่ายกว่าที่คิด\n"
          ]
        }
      ],
      "metadata": {
        "id": "XBOgIYjEHByy",
        "colab": {
          "base_uri": "https://localhost:8080/"
        },
        "outputId": "c4339d5b-3b0b-4ba9-ec5e-c34d6f173f56"
      }
    }
  ]
}