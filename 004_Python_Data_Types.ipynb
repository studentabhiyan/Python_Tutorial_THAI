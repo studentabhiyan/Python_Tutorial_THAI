{
  "nbformat": 4,
  "nbformat_minor": 0,
  "metadata": {
    "colab": {
      "name": "4.Python Data Types.ipynb",
      "provenance": []
    },
    "kernelspec": {
      "name": "python3",
      "display_name": "Python 3"
    },
    "language_info": {
      "name": "python"
    }
  },
  "cells": [
    {
      "cell_type": "markdown",
      "metadata": {
        "id": "4Ccn5BwRI7wS"
      },
      "source": [
        "### <font color=\"lightblue\"> **Python Data Types**"
      ]
    },
    {
      "cell_type": "markdown",
      "metadata": {
        "id": "oCFQ3ZgDJCjY"
      },
      "source": [
        "### <font color=\"lightblue\"> Built-in Data Types\n",
        "In programming, data type is an important concept.\n",
        "\n",
        "Variables can store data of different types, and different types can do different things.\n",
        "\n",
        "Python has the following data types built-in by default, in these categories:"
      ]
    },
    {
      "cell_type": "markdown",
      "metadata": {
        "id": "mommuUoJJGcD"
      },
      "source": [
        "*   Text Type:\tstr\n",
        "*   Numeric Types:\tint, float, complex\n",
        "*   Sequence Types:\tlist, tuple, range\n",
        "*   Mapping Type:\tdict\n",
        "*   Set Types:\tset, frozenset\n",
        "*   Boolean Type:\tbool\n",
        "*   Binary Types:\tbytes, bytearray, memoryview"
      ]
    },
    {
      "cell_type": "markdown",
      "metadata": {
        "id": "zq6x34MKJLyY"
      },
      "source": [
        "### <font color=\"lightblue\"> Getting the Data Type\n",
        "You can get the data type of any object by using the type() function:"
      ]
    },
    {
      "cell_type": "markdown",
      "metadata": {
        "id": "estc6MJiJvsi"
      },
      "source": [
        "### <font color=\"lightblue\"> Example\n",
        "Print the data type of the variable x:"
      ]
    },
    {
      "cell_type": "code",
      "metadata": {
        "id": "QHMksUOGJy90",
        "colab": {
          "base_uri": "https://localhost:8080/"
        },
        "outputId": "ec8f0502-0722-47be-ec43-270c38a9f186"
      },
      "source": [
        "x = 5\n",
        "print(type(x))"
      ],
      "execution_count": 1,
      "outputs": [
        {
          "output_type": "stream",
          "name": "stdout",
          "text": [
            "<class 'int'>\n"
          ]
        }
      ]
    },
    {
      "cell_type": "markdown",
      "metadata": {
        "id": "gzliXSd3J2GI"
      },
      "source": [
        "### <font color=\"lightblue\"> Setting the Data Type\n",
        "In Python, the data type is set when you assign a value to a variable:"
      ]
    }
  ]
}
