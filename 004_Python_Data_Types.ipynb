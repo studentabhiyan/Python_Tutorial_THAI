{
  "nbformat": 4,
  "nbformat_minor": 2,
  "metadata": {
    "colab": {
      "name": "4.Python Data Types.ipynb",
      "provenance": []
    },
    "kernelspec": {
      "name": "python3",
      "display_name": "Python 3.8.5 64-bit ('base': conda)"
    },
    "language_info": {
      "name": "python",
      "version": "3.8.5",
      "mimetype": "text/x-python",
      "codemirror_mode": {
        "name": "ipython",
        "version": 3
      },
      "pygments_lexer": "ipython3",
      "nbconvert_exporter": "python",
      "file_extension": ".py"
    },
    "interpreter": {
      "hash": "00034aa5cd6c44013b830fd98c7a620a61a498e75425ca81fcc1166b84a69895"
    }
  },
  "cells": [
    {
      "cell_type": "markdown",
      "source": [
        "# ชนิดของข้อมูลในภาษา Python"
      ],
      "metadata": {
        "id": "4Ccn5BwRI7wS"
      }
    },
    {
      "cell_type": "markdown",
      "source": [
        "## ชนิดของข้อมูลที่มีการสร้างไว้แล้ว (Built-in Data Types)\r\n",
        "ชนิดของข้อมูลหรือ data type เป็น concept ที่สำคัญมากในการเขียนโปรแกรม\r\n",
        "\r\n",
        "ตัวแปรต่าง ๆ สามารถเก็บค่าของข้อมูลได้หลายชนิด และชนิดของข้อมูลแต่ละชนิดก็เหมาะกับการทำงานที่แตกต่างกันไป\r\n",
        "\r\n",
        "Python ได้สร้างชนิดของข้อมูลบางชนิดไว้แล้ว (Built-in Data Types) ดังนี้"
      ],
      "metadata": {
        "id": "oCFQ3ZgDJCjY"
      }
    },
    {
      "cell_type": "markdown",
      "source": [
        "*   Text Type:\tstr\r\n",
        "*   Numeric Types:\tint, float, complex\r\n",
        "*   Sequence Types:\tlist, tuple, range\r\n",
        "*   Mapping Type:\tdict\r\n",
        "*   Set Types:\tset, frozenset\r\n",
        "*   Boolean Type:\tbool\r\n",
        "*   Binary Types:\tbytes, bytearray, memoryview"
      ],
      "metadata": {
        "id": "mommuUoJJGcD"
      }
    },
    {
      "cell_type": "markdown",
      "source": [
        "## การเรียกดูชนิดของข้อมูล\r\n",
        "เราเรียกดูชนิดของข้อมูลได้โดยใช้ function `type()`"
      ],
      "metadata": {
        "id": "zq6x34MKJLyY"
      }
    },
    {
      "cell_type": "markdown",
      "source": [
        "## ตัวอย่าง\r\n",
        "Print ชนิดของข้อมูลของตัวแปร x:"
      ],
      "metadata": {
        "id": "estc6MJiJvsi"
      }
    },
    {
      "cell_type": "code",
      "execution_count": 1,
      "source": [
        "x = 5\r\n",
        "print(type(x))"
      ],
      "outputs": [
        {
          "output_type": "stream",
          "name": "stdout",
          "text": [
            "<class 'int'>\n"
          ]
        }
      ],
      "metadata": {
        "id": "QHMksUOGJy90",
        "colab": {
          "base_uri": "https://localhost:8080/"
        },
        "outputId": "ec8f0502-0722-47be-ec43-270c38a9f186"
      }
    },
    {
      "cell_type": "markdown",
      "source": [
        "## การกำหนดชนิดของข้อมูลให้กับตัวแปร\r\n",
        "ในภาษา Python จะมีการกำหนดชนิดของข้อมูลให้กับตัวแปรเมื่อมีการกำหนดค่าให้กับตัวแปร"
      ],
      "metadata": {
        "id": "gzliXSd3J2GI"
      }
    },
    {
      "cell_type": "code",
      "execution_count": 11,
      "source": [
        "x = \"สวัสดีทุกคน\"\r\n",
        "print(\"x มีค่าเท่ากับ\", x)\r\n",
        "print(\"x เป็น \", type(x)) # x เป็น string\r\n",
        "\r\n",
        "y = 20.4\r\n",
        "print(\"y มีค่าเท่ากับ\", y)\r\n",
        "print(\"y เป็น \", type(y)) # y เป็น float"
      ],
      "outputs": [
        {
          "output_type": "stream",
          "name": "stdout",
          "text": [
            "x มีค่าเท่ากับ สวัสดีทุกคน\n",
            "x เป็น  <class 'str'>\n",
            "y มีค่าเท่ากับ 20.4\n",
            "y เป็น  <class 'float'>\n"
          ]
        }
      ],
      "metadata": {}
    },
    {
      "cell_type": "markdown",
      "source": [
        "## การกำหนดชนิดของข้อมูลแบบจำเพาะเจาะจงให้กับตัวแปร\r\n",
        "ถ้าต้องการกำหนดชนิดของข้อมูลแบบจำเพราะเจาะจง สามารถเรียกใช้ constructor functions ได้ ยกตัวอย่างเช่น"
      ],
      "metadata": {}
    },
    {
      "cell_type": "code",
      "execution_count": 12,
      "source": [
        "x = str(20.4)\r\n",
        "print(\"x มีค่าเท่ากับ\", x)\r\n",
        "print(\"x เป็น \", type(x)) # x เป็น string\r\n",
        "\r\n",
        "y = float(20)\r\n",
        "print(\"y มีค่าเท่ากับ\", y)\r\n",
        "print(\"y เป็น \", type(y)) # y เป็น float"
      ],
      "outputs": [
        {
          "output_type": "stream",
          "name": "stdout",
          "text": [
            "x มีค่าเท่ากับ 20.4\n",
            "x เป็น  <class 'str'>\n",
            "y มีค่าเท่ากับ 20.0\n",
            "y เป็น  <class 'float'>\n"
          ]
        }
      ],
      "metadata": {}
    },
    {
      "cell_type": "markdown",
      "source": [],
      "metadata": {}
    }
  ]
}