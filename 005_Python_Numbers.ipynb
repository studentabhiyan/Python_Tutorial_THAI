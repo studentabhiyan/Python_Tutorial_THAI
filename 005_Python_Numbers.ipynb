{
  "nbformat": 4,
  "nbformat_minor": 2,
  "metadata": {
    "colab": {
      "name": "Python Numbers.ipynb",
      "provenance": []
    },
    "kernelspec": {
      "name": "python3",
      "display_name": "Python 3.8.5 64-bit ('base': conda)"
    },
    "language_info": {
      "name": "python",
      "version": "3.8.5",
      "mimetype": "text/x-python",
      "codemirror_mode": {
        "name": "ipython",
        "version": 3
      },
      "pygments_lexer": "ipython3",
      "nbconvert_exporter": "python",
      "file_extension": ".py"
    },
    "interpreter": {
      "hash": "00034aa5cd6c44013b830fd98c7a620a61a498e75425ca81fcc1166b84a69895"
    }
  },
  "cells": [
    {
      "cell_type": "markdown",
      "source": [
        "# ข้อมูลตัวเลขในภาษา Python"
      ],
      "metadata": {
        "id": "ofi3OIeWPmAK"
      }
    },
    {
      "cell_type": "markdown",
      "source": [
        "ภาษา Python มีข้อมูลตัวเลข 3 ชนิด\r\n",
        "*   int\r\n",
        "*   float\r\n",
        "*   complex\r\n",
        "\r\n",
        "จะมีการกำหนดชนิดของข้อมูลให้อัตโนมัติเมื่อมีการกำหนดค่าให้ตัวแปร\r\n"
      ],
      "metadata": {
        "id": "6EsN6CE-RHBc"
      }
    },
    {
      "cell_type": "markdown",
      "source": [
        "## ตัวอย่าง"
      ],
      "metadata": {
        "id": "5rxRFHnTRW2v"
      }
    },
    {
      "cell_type": "code",
      "execution_count": 15,
      "source": [
        "x = 10   # int\r\n",
        "y = 9.9  # float\r\n",
        "z = 4j   # complex\r\n",
        "\r\n",
        "print(\"x เป็น\", type(x))\r\n",
        "print(\"y เป็น\", type(y))\r\n",
        "print(\"z เป็น\", type(z))"
      ],
      "outputs": [
        {
          "output_type": "stream",
          "name": "stdout",
          "text": [
            "x เป็น <class 'int'>\n",
            "y เป็น <class 'float'>\n",
            "z เป็น <class 'complex'>\n"
          ]
        }
      ],
      "metadata": {
        "id": "lNoBeZ2ZRZVb"
      }
    },
    {
      "cell_type": "markdown",
      "source": [
        "## Integer\r\n",
        "Int หรือ integer หมายถึงข้อมูลตัวเลขที่เป็นจำนวนเต็ม มีค่าได้ทั้งเป็นค่าเป็นบวกและค่าติดลบ"
      ],
      "metadata": {
        "id": "H0YAPcEbRjX4"
      }
    },
    {
      "cell_type": "markdown",
      "source": [
        "## ตัวอย่าง"
      ],
      "metadata": {
        "id": "qo-04O1URmSH"
      }
    },
    {
      "cell_type": "code",
      "execution_count": 11,
      "source": [
        "x = 8\r\n",
        "y = 123456789\r\n",
        "z = -9898989\r\n",
        "\r\n",
        "print(\"x เป็น\", type(x))\r\n",
        "print(\"y เป็น\", type(y))\r\n",
        "print(\"z เป็น\", type(z))"
      ],
      "outputs": [
        {
          "output_type": "stream",
          "name": "stdout",
          "text": [
            "x เป็น <class 'int'>\n",
            "y เป็น <class 'int'>\n",
            "z เป็น <class 'int'>\n"
          ]
        }
      ],
      "metadata": {
        "id": "4-Lt3_YORnYr",
        "colab": {
          "base_uri": "https://localhost:8080/"
        },
        "outputId": "5d0b640a-0c13-4d6b-c5a4-9ae907335a2a"
      }
    },
    {
      "cell_type": "markdown",
      "source": [
        "## Float\r\n",
        "Float หรือ floating point number หมายถึงข้อมูลตัวเลขที่มีจุดทศนิยมอย่างน้อย 1 จุด มีค่าเป็นบวกหรือลบก็ได้"
      ],
      "metadata": {
        "id": "MUTUch_uRx6G"
      }
    },
    {
      "cell_type": "markdown",
      "source": [
        "## ตัวอย่าง"
      ],
      "metadata": {
        "id": "zAsbOPSeR0ko"
      }
    },
    {
      "cell_type": "code",
      "execution_count": 16,
      "source": [
        "x = 11.11\r\n",
        "y = 15.6\r\n",
        "z = -12.12\r\n",
        "\r\n",
        "print(\"x เป็น\", type(x))\r\n",
        "print(\"y เป็น\", type(y))\r\n",
        "print(\"z เป็น\", type(z))"
      ],
      "outputs": [
        {
          "output_type": "stream",
          "name": "stdout",
          "text": [
            "x เป็น <class 'float'>\n",
            "y เป็น <class 'float'>\n",
            "z เป็น <class 'float'>\n"
          ]
        }
      ],
      "metadata": {
        "id": "9LC6nLG8R2iw",
        "colab": {
          "base_uri": "https://localhost:8080/"
        },
        "outputId": "6e8fa2af-a879-4a42-c767-cf387f882cb5"
      }
    },
    {
      "cell_type": "markdown",
      "source": [
        "Float ใช้เก็บค่าตัวเลขทางวิทยาศาสตร์ได้ โดย e เป็นการบอกตัวเลขยกกำลัง ฐาน 10"
      ],
      "metadata": {
        "id": "XnQaR5zZR5Om"
      }
    },
    {
      "cell_type": "code",
      "execution_count": 17,
      "source": [
        "x = 14e2\r\n",
        "y = 25E4\r\n",
        "z = -12.3e10\r\n",
        "\r\n",
        "print(\"x มีค่าเท่ากับ \", x)\r\n",
        "print(\"y มีค่าเท่ากับ \", y)\r\n",
        "print(\"z มีค่าเท่ากับ \", z)\r\n",
        "\r\n",
        "print(type(x))\r\n",
        "print(type(y))\r\n",
        "print(type(z))"
      ],
      "outputs": [
        {
          "output_type": "stream",
          "name": "stdout",
          "text": [
            "x มีค่าเท่ากับ  1400.0\n",
            "y มีค่าเท่ากับ  250000.0\n",
            "z มีค่าเท่ากับ  -123000000000.0\n",
            "<class 'float'>\n",
            "<class 'float'>\n",
            "<class 'float'>\n"
          ]
        }
      ],
      "metadata": {}
    },
    {
      "cell_type": "markdown",
      "source": [
        "## Complex numbers\r\n",
        "เราสร้างตัวแปรชนิด Complex numbers โดยใส่ค่า \"j\" ในส่วนของ imaginary part"
      ],
      "metadata": {
        "id": "XMh36ziiR7l5"
      }
    },
    {
      "cell_type": "markdown",
      "source": [
        "## ตัวอย่าง"
      ],
      "metadata": {
        "id": "RJSzlljUR-Cr"
      }
    },
    {
      "cell_type": "code",
      "execution_count": 13,
      "source": [
        "x = 3+5j\r\n",
        "y = 5j\r\n",
        "z = -5j\r\n",
        "\r\n",
        "print(\"x เป็น\", type(x))\r\n",
        "print(\"y เป็น\", type(y))\r\n",
        "print(\"z เป็น\", type(z))"
      ],
      "outputs": [
        {
          "output_type": "stream",
          "name": "stdout",
          "text": [
            "x เป็น <class 'complex'>\n",
            "y เป็น <class 'complex'>\n",
            "z เป็น <class 'complex'>\n"
          ]
        }
      ],
      "metadata": {
        "id": "VTcjQ-NmSAsc",
        "colab": {
          "base_uri": "https://localhost:8080/"
        },
        "outputId": "c1c83e52-a152-4740-c517-5ef7c297debc"
      }
    },
    {
      "cell_type": "markdown",
      "source": [
        "## การเปลี่ยนชนิดของข้อมูลตัวเลข\r\n",
        "เราสามารถเปลี่ยนชนิดของข้อมูลตัวเลขได้โดยใข้ methods : int(), float() และ complex()"
      ],
      "metadata": {
        "id": "IKIVYH77SCw_"
      }
    },
    {
      "cell_type": "markdown",
      "source": [
        "## ตัวอย่าง"
      ],
      "metadata": {
        "id": "uQ0nrGS6SG26"
      }
    },
    {
      "cell_type": "code",
      "execution_count": 18,
      "source": [
        "x = 5    # int\r\n",
        "y = 4.8  # float\r\n",
        "z = 5j   # complex\r\n",
        "\r\n",
        "#เปลี่ยนชนิดข้อมูลจาก int เป็น float:\r\n",
        "a = float(x)\r\n",
        "\r\n",
        "#เปลี่ยนชนิดข้อมูลจาก float เป็น int:\r\n",
        "b = int(y)\r\n",
        "\r\n",
        "#เปลี่ยนชนิดข้อมูลจาก int เป็น complex:\r\n",
        "c = complex(x)\r\n",
        "\r\n",
        "print(a)\r\n",
        "print(b)\r\n",
        "print(c)\r\n",
        "\r\n",
        "print(type(a))\r\n",
        "print(type(b))\r\n",
        "print(type(c))"
      ],
      "outputs": [
        {
          "output_type": "stream",
          "name": "stdout",
          "text": [
            "5.0\n",
            "4\n",
            "(5+0j)\n",
            "<class 'float'>\n",
            "<class 'int'>\n",
            "<class 'complex'>\n"
          ]
        }
      ],
      "metadata": {
        "id": "FUuqkmZQSJaC",
        "colab": {
          "base_uri": "https://localhost:8080/"
        },
        "outputId": "7ae538a7-e893-4252-8c43-95646f73b202"
      }
    },
    {
      "cell_type": "markdown",
      "source": [
        "## ตัวเลขแบบสุ่ม (Random Number)\r\n",
        "Python ไม่มี random() function สำหรับสร้าง random number แต่มี built-in module ชื่อ random ที่สามารถใช้ในการสร้างตัวเลขแบบสุ่ม (random number)"
      ],
      "metadata": {
        "id": "k0fAHL5SSMpr"
      }
    },
    {
      "cell_type": "markdown",
      "source": [
        "## ตัวอย่าง\r\n",
        "Import random module แล้ว random ตัวเลขค่าระหว่าง 1 ถึง 99"
      ],
      "metadata": {
        "id": "eHfYhdoOSRMl"
      }
    },
    {
      "cell_type": "code",
      "execution_count": 20,
      "source": [
        "import random\r\n",
        "\r\n",
        "print(random.randrange(1, 100))"
      ],
      "outputs": [
        {
          "output_type": "stream",
          "name": "stdout",
          "text": [
            "74\n"
          ]
        }
      ],
      "metadata": {
        "id": "ghnn4n7zSTYt",
        "colab": {
          "base_uri": "https://localhost:8080/"
        },
        "outputId": "b9c6678e-6404-4de9-a171-ec09e11378f9"
      }
    }
  ]
}