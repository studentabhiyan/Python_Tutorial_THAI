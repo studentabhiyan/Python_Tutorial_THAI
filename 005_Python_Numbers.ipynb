{
  "nbformat": 4,
  "nbformat_minor": 0,
  "metadata": {
    "colab": {
      "name": "Python Numbers.ipynb",
      "provenance": []
    },
    "kernelspec": {
      "name": "python3",
      "display_name": "Python 3"
    },
    "language_info": {
      "name": "python"
    }
  },
  "cells": [
    {
      "cell_type": "markdown",
      "metadata": {
        "id": "ofi3OIeWPmAK"
      },
      "source": [
        "### <font color=\"lightblue\"> **Python Numbers**"
      ]
    },
    {
      "cell_type": "markdown",
      "metadata": {
        "id": "6EsN6CE-RHBc"
      },
      "source": [
        "### <font color=\"lightblue\"> Python Numbers\n",
        "There are three numeric types in Python:\n",
        "*   int\n",
        "*   float\n",
        "*   complex\n",
        "Variables of numeric types are created when you assign a value to them:\n"
      ]
    },
    {
      "cell_type": "markdown",
      "metadata": {
        "id": "5rxRFHnTRW2v"
      },
      "source": [
        "### <font color=\"lightblue\"> Example"
      ]
    },
    {
      "cell_type": "code",
      "metadata": {
        "id": "lNoBeZ2ZRZVb"
      },
      "source": [
        "x = 1    # int\n",
        "y = 2.8  # float\n",
        "z = 1j   # complex"
      ],
      "execution_count": 1,
      "outputs": []
    },
    {
      "cell_type": "markdown",
      "metadata": {
        "id": "aPZzdGaSRctZ"
      },
      "source": [
        "To verify the type of any object in Python, use the type() function:"
      ]
    },
    {
      "cell_type": "markdown",
      "metadata": {
        "id": "3iDYoUeBReIC"
      },
      "source": [
        "### <font color=\"lightblue\"> Example"
      ]
    },
    {
      "cell_type": "code",
      "metadata": {
        "id": "xw8fRJXYRgIM",
        "colab": {
          "base_uri": "https://localhost:8080/"
        },
        "outputId": "df89ec82-11f0-4c43-df36-2f4482a3e0b4"
      },
      "source": [
        "print(type(x))\n",
        "print(type(y))\n",
        "print(type(z))"
      ],
      "execution_count": 2,
      "outputs": [
        {
          "output_type": "stream",
          "name": "stdout",
          "text": [
            "<class 'int'>\n",
            "<class 'float'>\n",
            "<class 'complex'>\n"
          ]
        }
      ]
    },
    {
      "cell_type": "markdown",
      "metadata": {
        "id": "H0YAPcEbRjX4"
      },
      "source": [
        "### <font color=\"lightblue\"> Int\n",
        "Int, or integer, is a whole number, positive or negative, without decimals, of unlimited length."
      ]
    },
    {
      "cell_type": "markdown",
      "metadata": {
        "id": "qo-04O1URmSH"
      },
      "source": [
        "### <font color=\"lightblue\"> Example\n",
        "Integers:"
      ]
    },
    {
      "cell_type": "code",
      "metadata": {
        "id": "4-Lt3_YORnYr",
        "colab": {
          "base_uri": "https://localhost:8080/"
        },
        "outputId": "5d0b640a-0c13-4d6b-c5a4-9ae907335a2a"
      },
      "source": [
        "x = 1\n",
        "y = 35656222554887711\n",
        "z = -3255522\n",
        "\n",
        "print(type(x))\n",
        "print(type(y))\n",
        "print(type(z))"
      ],
      "execution_count": 3,
      "outputs": [
        {
          "output_type": "stream",
          "name": "stdout",
          "text": [
            "<class 'int'>\n",
            "<class 'int'>\n",
            "<class 'int'>\n"
          ]
        }
      ]
    },
    {
      "cell_type": "markdown",
      "metadata": {
        "id": "MUTUch_uRx6G"
      },
      "source": [
        "### <font color=\"lightblue\"> Float\n",
        "Float, or \"floating point number\" is a number, positive or negative, containing one or more decimals."
      ]
    },
    {
      "cell_type": "markdown",
      "metadata": {
        "id": "zAsbOPSeR0ko"
      },
      "source": [
        "### <font color=\"lightblue\"> Example\n",
        "Floats:"
      ]
    },
    {
      "cell_type": "code",
      "metadata": {
        "id": "9LC6nLG8R2iw",
        "colab": {
          "base_uri": "https://localhost:8080/"
        },
        "outputId": "6e8fa2af-a879-4a42-c767-cf387f882cb5"
      },
      "source": [
        "x = 1.10\n",
        "y = 1.0\n",
        "z = -35.59\n",
        "\n",
        "print(type(x))\n",
        "print(type(y))\n",
        "print(type(z))"
      ],
      "execution_count": 4,
      "outputs": [
        {
          "output_type": "stream",
          "name": "stdout",
          "text": [
            "<class 'float'>\n",
            "<class 'float'>\n",
            "<class 'float'>\n"
          ]
        }
      ]
    },
    {
      "cell_type": "markdown",
      "metadata": {
        "id": "XnQaR5zZR5Om"
      },
      "source": [
        "Float can also be scientific numbers with an \"e\" to indicate the power of 10."
      ]
    },
    {
      "cell_type": "markdown",
      "metadata": {
        "id": "XMh36ziiR7l5"
      },
      "source": [
        "### <font color=\"lightblue\"> Complex\n",
        "Complex numbers are written with a \"j\" as the imaginary part:"
      ]
    },
    {
      "cell_type": "markdown",
      "metadata": {
        "id": "RJSzlljUR-Cr"
      },
      "source": [
        "### <font color=\"lightblue\"> Example\n",
        "Complex:"
      ]
    },
    {
      "cell_type": "code",
      "metadata": {
        "id": "VTcjQ-NmSAsc",
        "colab": {
          "base_uri": "https://localhost:8080/"
        },
        "outputId": "c1c83e52-a152-4740-c517-5ef7c297debc"
      },
      "source": [
        "x = 3+5j\n",
        "y = 5j\n",
        "z = -5j\n",
        "\n",
        "print(type(x))\n",
        "print(type(y))\n",
        "print(type(z))"
      ],
      "execution_count": 5,
      "outputs": [
        {
          "output_type": "stream",
          "name": "stdout",
          "text": [
            "<class 'complex'>\n",
            "<class 'complex'>\n",
            "<class 'complex'>\n"
          ]
        }
      ]
    },
    {
      "cell_type": "markdown",
      "metadata": {
        "id": "IKIVYH77SCw_"
      },
      "source": [
        "### <font color=\"lightblue\"> Type Conversion\n",
        "You can convert from one type to another with the int(), float(), and complex() methods:"
      ]
    },
    {
      "cell_type": "markdown",
      "metadata": {
        "id": "uQ0nrGS6SG26"
      },
      "source": [
        "### <font color=\"lightblue\"> Example\n",
        "Convert from one type to another:"
      ]
    },
    {
      "cell_type": "code",
      "metadata": {
        "id": "FUuqkmZQSJaC",
        "colab": {
          "base_uri": "https://localhost:8080/"
        },
        "outputId": "7ae538a7-e893-4252-8c43-95646f73b202"
      },
      "source": [
        "x = 1    # int\n",
        "y = 2.8  # float\n",
        "z = 1j   # complex\n",
        "\n",
        "#convert from int to float:\n",
        "a = float(x)\n",
        "\n",
        "#convert from float to int:\n",
        "b = int(y)\n",
        "\n",
        "#convert from int to complex:\n",
        "c = complex(x)\n",
        "\n",
        "print(a)\n",
        "print(b)\n",
        "print(c)\n",
        "\n",
        "print(type(a))\n",
        "print(type(b))\n",
        "print(type(c))"
      ],
      "execution_count": 6,
      "outputs": [
        {
          "output_type": "stream",
          "name": "stdout",
          "text": [
            "1.0\n",
            "2\n",
            "(1+0j)\n",
            "<class 'float'>\n",
            "<class 'int'>\n",
            "<class 'complex'>\n"
          ]
        }
      ]
    },
    {
      "cell_type": "markdown",
      "metadata": {
        "id": "k0fAHL5SSMpr"
      },
      "source": [
        "### <font color=\"lightblue\"> Random Number\n",
        "Python does not have a random() function to make a random number, but Python has a built-in module called random that can be used to make random numbers:"
      ]
    },
    {
      "cell_type": "markdown",
      "metadata": {
        "id": "eHfYhdoOSRMl"
      },
      "source": [
        "### <font color=\"lightblue\"> Example\n",
        "Import the random module, and display a random number between 1 and 9:"
      ]
    },
    {
      "cell_type": "code",
      "metadata": {
        "id": "ghnn4n7zSTYt",
        "colab": {
          "base_uri": "https://localhost:8080/"
        },
        "outputId": "b9c6678e-6404-4de9-a171-ec09e11378f9"
      },
      "source": [
        "import random\n",
        "\n",
        "print(random.randrange(1, 10))"
      ],
      "execution_count": 7,
      "outputs": [
        {
          "output_type": "stream",
          "name": "stdout",
          "text": [
            "4\n"
          ]
        }
      ]
    }
  ]
}
