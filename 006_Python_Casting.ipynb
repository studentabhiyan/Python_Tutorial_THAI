{
  "nbformat": 4,
  "nbformat_minor": 2,
  "metadata": {
    "colab": {
      "name": "6.Python Casting.ipynb",
      "provenance": []
    },
    "kernelspec": {
      "name": "python3",
      "display_name": "Python 3.8.5 64-bit ('base': conda)"
    },
    "language_info": {
      "name": "python",
      "version": "3.8.5",
      "mimetype": "text/x-python",
      "codemirror_mode": {
        "name": "ipython",
        "version": 3
      },
      "pygments_lexer": "ipython3",
      "nbconvert_exporter": "python",
      "file_extension": ".py"
    },
    "interpreter": {
      "hash": "00034aa5cd6c44013b830fd98c7a620a61a498e75425ca81fcc1166b84a69895"
    }
  },
  "cells": [
    {
      "cell_type": "markdown",
      "source": [
        "# Python Casting"
      ],
      "metadata": {
        "id": "KSmMzBtcS3Fa"
      }
    },
    {
      "cell_type": "markdown",
      "source": [
        "## การกำหนดชนิดของตัวแปร\r\n",
        "ในกรณีที่ต้องการกำหนดชนิดของตัวแปรแบบเฉพาะเจาะจง ก็สามารถทำได้โดยการ casting \r\n",
        "\r\n",
        "ภาษา Python เป็น object-oriented language จะมีการใช้ classes ในการกำหนดชนิดของข้อมูล ทำได้โดยใช้ constructor functions\r\n",
        "\r\n",
        "*   int() - เป็นการ construct ให้เป็นข้อมูลชนิด integer จากเดิมที่เป็นข้อมูลชนิด integer, float (จะปัดเศษทศนิยมออก) หรือ string \r\n",
        "*   float() - เป็นการ construct ให้เป็นข้อมูลชนิด float จากเดิมที่เป็นข้อมูลชนิด integer, float หรือ string \r\n",
        "*   str() - เป็นการ construct ให้เป็นข้อมูลชนิด string จากเดิมที่เป็นข้อมูลชนิด strings, integer และ float\r\n",
        "\r\n",
        "\r\n"
      ],
      "metadata": {
        "id": "kEqHuoswTEgB"
      }
    },
    {
      "cell_type": "markdown",
      "source": [
        "## ตัวอย่าง\r\n",
        "Integers"
      ],
      "metadata": {
        "id": "Y8cwQm0LTRcB"
      }
    },
    {
      "cell_type": "code",
      "execution_count": 4,
      "source": [
        "x = int(2)   # x จะมีค่าเป็น 2\r\n",
        "y = int(3.8) # y จะมีค่าเป็น 3\r\n",
        "z = int(\"5\") # z จะมีค่าเป็น 5\r\n",
        "print(x,y,z)"
      ],
      "outputs": [
        {
          "output_type": "stream",
          "name": "stdout",
          "text": [
            "2 3 5\n"
          ]
        }
      ],
      "metadata": {
        "id": "ct1nKJRuTTjq",
        "colab": {
          "base_uri": "https://localhost:8080/"
        },
        "outputId": "35765b93-986f-4442-9ffb-5df0744ca683"
      }
    },
    {
      "cell_type": "markdown",
      "source": [
        "## ตัวอย่าง\r\n",
        "Floats"
      ],
      "metadata": {
        "id": "vsQkJX8_TWJm"
      }
    },
    {
      "cell_type": "code",
      "execution_count": 5,
      "source": [
        "x = float(5)     # x จะมีค่าเป็น 5.0\r\n",
        "y = float(2.4)   # y จะมีค่าเป็น 2.4\r\n",
        "z = float(\"6\")   # z จะมีค่าเป็น 6.0\r\n",
        "w = float(\"4.8\") # w จะมีค่าเป็น 4.8\r\n",
        "print(x,y,z,w)"
      ],
      "outputs": [
        {
          "output_type": "stream",
          "name": "stdout",
          "text": [
            "5.0 2.4 6.0 4.8\n"
          ]
        }
      ],
      "metadata": {
        "id": "a9-6Is_LTXUN",
        "colab": {
          "base_uri": "https://localhost:8080/"
        },
        "outputId": "bfb6edb2-2989-41b4-8695-e4620e617392"
      }
    },
    {
      "cell_type": "markdown",
      "source": [
        "## ตัวอย่าง\r\n",
        "Strings"
      ],
      "metadata": {
        "id": "uZpxWzOcTZN1"
      }
    },
    {
      "cell_type": "code",
      "execution_count": 6,
      "source": [
        "x = str(\"f7\") # x จะมีค่าเป็น 'f7'\r\n",
        "y = str(3)    # y จะมีค่าเป็น '3'\r\n",
        "z = str(5.0)  # z จะมีค่าเป็น '5.0'\r\n",
        "print(x,y,z)"
      ],
      "outputs": [
        {
          "output_type": "stream",
          "name": "stdout",
          "text": [
            "f7 3 5.0\n"
          ]
        }
      ],
      "metadata": {
        "id": "HV7q4nT8TbHa",
        "colab": {
          "base_uri": "https://localhost:8080/"
        },
        "outputId": "5070a76a-5e2e-4e26-9d20-02c9fd5c8f71"
      }
    }
  ]
}