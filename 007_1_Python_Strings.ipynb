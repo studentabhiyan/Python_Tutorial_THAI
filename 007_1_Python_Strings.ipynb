{
  "nbformat": 4,
  "nbformat_minor": 0,
  "metadata": {
    "colab": {
      "name": "7.1Python Strings.ipynb",
      "provenance": []
    },
    "kernelspec": {
      "name": "python3",
      "display_name": "Python 3"
    },
    "language_info": {
      "name": "python"
    }
  },
  "cells": [
    {
      "cell_type": "markdown",
      "metadata": {
        "id": "_k3mjhPdUatC"
      },
      "source": [
        "### <font color=\"lightblue\"> **Python Strings**"
      ]
    },
    {
      "cell_type": "markdown",
      "metadata": {
        "id": "gGhfY4ntUcOp"
      },
      "source": [
        "### <font color=\"lightblue\"> Strings\n",
        "Strings in python are surrounded by either single quotation marks, or double quotation marks.\n",
        "\n",
        "'hello' is the same as \"hello\".\n",
        "\n",
        "You can display a string literal with the print() function:"
      ]
    },
    {
      "cell_type": "markdown",
      "metadata": {
        "id": "N4o0bexrUgBN"
      },
      "source": [
        "#### <font color=\"lightblue\"> Example"
      ]
    },
    {
      "cell_type": "code",
      "metadata": {
        "id": "QnSnmVaFUiUR",
        "colab": {
          "base_uri": "https://localhost:8080/"
        },
        "outputId": "ecf1476c-5b53-4126-c584-c15e2275d4d2"
      },
      "source": [
        "print(\"Hello\")\n",
        "print('Hello')"
      ],
      "execution_count": 1,
      "outputs": [
        {
          "output_type": "stream",
          "name": "stdout",
          "text": [
            "Hello\n",
            "Hello\n"
          ]
        }
      ]
    },
    {
      "cell_type": "markdown",
      "metadata": {
        "id": "twcXCVHNUnS6"
      },
      "source": [
        "### <font color=\"lightblue\"> Multiline Strings\n",
        "You can assign a multiline string to a variable by using three quotes:"
      ]
    },
    {
      "cell_type": "markdown",
      "metadata": {
        "id": "r74SjwzeWEfA"
      },
      "source": [
        "### <font color=\"lightblue\"> Example\n",
        "You can use three double quotes:"
      ]
    },
    {
      "cell_type": "code",
      "metadata": {
        "id": "TYBRpDnZWHMq",
        "colab": {
          "base_uri": "https://localhost:8080/"
        },
        "outputId": "ecf0dab0-19cf-4ee4-b7e5-f146fe2efd9a"
      },
      "source": [
        "a = \"\"\"Lorem ipsum dolor sit amet,\n",
        "consectetur adipiscing elit,\n",
        "sed do eiusmod tempor incididunt\n",
        "ut labore et dolore magna aliqua.\"\"\"\n",
        "print(a)"
      ],
      "execution_count": 2,
      "outputs": [
        {
          "output_type": "stream",
          "name": "stdout",
          "text": [
            "Lorem ipsum dolor sit amet,\n",
            "consectetur adipiscing elit,\n",
            "sed do eiusmod tempor incididunt\n",
            "ut labore et dolore magna aliqua.\n"
          ]
        }
      ]
    },
    {
      "cell_type": "markdown",
      "metadata": {
        "id": "2KQ0A3p7WNQe"
      },
      "source": [
        "Or three single quotes:"
      ]
    },
    {
      "cell_type": "markdown",
      "metadata": {
        "id": "dDQtf2SdWOZC"
      },
      "source": [
        "### <font color=\"lightblue\"> Example"
      ]
    },
    {
      "cell_type": "code",
      "metadata": {
        "id": "BnSB14EJWP-h",
        "colab": {
          "base_uri": "https://localhost:8080/"
        },
        "outputId": "f74a642f-ea13-4a53-9f94-c4f273c57b56"
      },
      "source": [
        "a = '''Lorem ipsum dolor sit amet,\n",
        "consectetur adipiscing elit,\n",
        "sed do eiusmod tempor incididunt\n",
        "ut labore et dolore magna aliqua.'''\n",
        "print(a)\n"
      ],
      "execution_count": 3,
      "outputs": [
        {
          "output_type": "stream",
          "name": "stdout",
          "text": [
            "Lorem ipsum dolor sit amet,\n",
            "consectetur adipiscing elit,\n",
            "sed do eiusmod tempor incididunt\n",
            "ut labore et dolore magna aliqua.\n"
          ]
        }
      ]
    },
    {
      "cell_type": "markdown",
      "metadata": {
        "id": "jKNP72C9XDH1"
      },
      "source": [
        "### <font color=\"lightblue\"> Strings are Arrays\n",
        "Like many other popular programming languages, strings in Python are arrays of bytes representing unicode characters.\n",
        "\n",
        "However, Python does not have a character data type, a single character is simply a string with a length of 1.\n",
        "\n",
        "Square brackets can be used to access elements of the string."
      ]
    },
    {
      "cell_type": "markdown",
      "metadata": {
        "id": "J6pMqR6SXHpc"
      },
      "source": [
        "### <font color=\"lightblue\"> Example\n",
        "Get the character at position 1 (remember that the first character has the position 0):"
      ]
    },
    {
      "cell_type": "code",
      "metadata": {
        "id": "KLGOJrwLXJDT",
        "colab": {
          "base_uri": "https://localhost:8080/"
        },
        "outputId": "bbc81d58-8eea-4fc8-8d4d-31bf04f11715"
      },
      "source": [
        "a = \"Hello, World!\"\n",
        "print(a[1])\n"
      ],
      "execution_count": 4,
      "outputs": [
        {
          "output_type": "stream",
          "name": "stdout",
          "text": [
            "e\n"
          ]
        }
      ]
    },
    {
      "cell_type": "markdown",
      "metadata": {
        "id": "Q9Ak_dlyXLr0"
      },
      "source": [
        "### <font color=\"lightblue\"> Looping Through a String\n",
        "Since strings are arrays, we can loop through the characters in a string, with a for loop."
      ]
    },
    {
      "cell_type": "markdown",
      "metadata": {
        "id": "_USiY4vhXNWw"
      },
      "source": [
        "### <font color=\"lightblue\"> Example\n",
        "Loop through the letters in the word \"banana\":"
      ]
    },
    {
      "cell_type": "code",
      "metadata": {
        "id": "3y7pTQ1gXQB5",
        "colab": {
          "base_uri": "https://localhost:8080/"
        },
        "outputId": "5399de06-d2bc-44b7-b9e1-bbdf07cd7fdb"
      },
      "source": [
        "for x in \"banana\":\n",
        "  print(x)"
      ],
      "execution_count": 5,
      "outputs": [
        {
          "output_type": "stream",
          "name": "stdout",
          "text": [
            "b\n",
            "a\n",
            "n\n",
            "a\n",
            "n\n",
            "a\n"
          ]
        }
      ]
    },
    {
      "cell_type": "markdown",
      "metadata": {
        "id": "jsDDmK36XTi9"
      },
      "source": [
        "### <font color=\"lightblue\"> String Length\n",
        "To get the length of a string, use the len() function."
      ]
    },
    {
      "cell_type": "markdown",
      "metadata": {
        "id": "IKTi4uKCXVg3"
      },
      "source": [
        "### <font color=\"lightblue\"> Example\n",
        "The len() function returns the length of a string:"
      ]
    },
    {
      "cell_type": "code",
      "metadata": {
        "id": "WdXuUbbgXWnG",
        "colab": {
          "base_uri": "https://localhost:8080/"
        },
        "outputId": "2bd9caa8-e2a7-410a-86f0-06d0555e2e36"
      },
      "source": [
        "a = \"Hello, World!\"\n",
        "print(len(a))\n"
      ],
      "execution_count": 6,
      "outputs": [
        {
          "output_type": "stream",
          "name": "stdout",
          "text": [
            "13\n"
          ]
        }
      ]
    },
    {
      "cell_type": "markdown",
      "metadata": {
        "id": "Lo74MsvkXYhG"
      },
      "source": [
        "### <font color=\"lightblue\"> Check String\n",
        "To check if a certain phrase or character is present in a string, we can use the keyword in."
      ]
    },
    {
      "cell_type": "markdown",
      "metadata": {
        "id": "_YeFwWWiXbtK"
      },
      "source": [
        "### <font color=\"lightblue\"> Example\n",
        "Check if \"free\" is present in the following text:"
      ]
    },
    {
      "cell_type": "code",
      "metadata": {
        "id": "VZ8JqZDkXda9",
        "colab": {
          "base_uri": "https://localhost:8080/"
        },
        "outputId": "ddaaf0cf-2443-47c8-c364-4ba1733c69e4"
      },
      "source": [
        "txt = \"The best things in life are free!\"\n",
        "print(\"free\" in txt)"
      ],
      "execution_count": 7,
      "outputs": [
        {
          "output_type": "stream",
          "name": "stdout",
          "text": [
            "True\n"
          ]
        }
      ]
    },
    {
      "cell_type": "markdown",
      "metadata": {
        "id": "QrZWXkP9XfG2"
      },
      "source": [
        "Use it in an if statement:"
      ]
    },
    {
      "cell_type": "markdown",
      "metadata": {
        "id": "Obp--HFvXhP-"
      },
      "source": [
        "### <font color=\"lightblue\"> Example\n",
        "Print only if \"free\" is present:"
      ]
    },
    {
      "cell_type": "code",
      "metadata": {
        "id": "7Q6iAPdpXjj-",
        "colab": {
          "base_uri": "https://localhost:8080/"
        },
        "outputId": "3e52beed-ba90-4c2b-975e-fb2da274fa9a"
      },
      "source": [
        "txt = \"The best things in life are free!\"\n",
        "if \"free\" in txt:\n",
        "  print(\"Yes, 'free' is present.\")"
      ],
      "execution_count": 8,
      "outputs": [
        {
          "output_type": "stream",
          "name": "stdout",
          "text": [
            "Yes, 'free' is present.\n"
          ]
        }
      ]
    },
    {
      "cell_type": "markdown",
      "metadata": {
        "id": "i5PTB3i8Xmyl"
      },
      "source": [
        "### <font color=\"lightblue\"> Check if NOT\n",
        "To check if a certain phrase or character is NOT present in a string, we can use the keyword not in."
      ]
    },
    {
      "cell_type": "markdown",
      "metadata": {
        "id": "jUaEk7MrXoPG"
      },
      "source": [
        "### <font color=\"lightblue\"> Example\n",
        "Check if \"expensive\" is NOT present in the following text:"
      ]
    },
    {
      "cell_type": "code",
      "metadata": {
        "id": "puWQV8YNXrNi",
        "colab": {
          "base_uri": "https://localhost:8080/"
        },
        "outputId": "f0e6837b-26ce-48f8-f13b-ee8afa952e01"
      },
      "source": [
        "txt = \"The best things in life are free!\"\n",
        "print(\"expensive\" not in txt)"
      ],
      "execution_count": 9,
      "outputs": [
        {
          "output_type": "stream",
          "name": "stdout",
          "text": [
            "True\n"
          ]
        }
      ]
    },
    {
      "cell_type": "markdown",
      "metadata": {
        "id": "ZMYVSQ2WXtHL"
      },
      "source": [
        "Use it in an if statement:"
      ]
    },
    {
      "cell_type": "markdown",
      "metadata": {
        "id": "ofRQ0LZBXu9p"
      },
      "source": [
        "### <font color=\"lightblue\"> Example\n",
        "print only if \"expensive\" is NOT present:"
      ]
    },
    {
      "cell_type": "code",
      "metadata": {
        "id": "T9cfH695XyTN",
        "colab": {
          "base_uri": "https://localhost:8080/"
        },
        "outputId": "5364fd00-d8c2-4cdd-8a92-d51d11ff2089"
      },
      "source": [
        "txt = \"The best things in life are free!\"\n",
        "if \"expensive\" not in txt:\n",
        "  print(\"No, 'expensive' is NOT present.\")"
      ],
      "execution_count": 10,
      "outputs": [
        {
          "output_type": "stream",
          "name": "stdout",
          "text": [
            "No, 'expensive' is NOT present.\n"
          ]
        }
      ]
    }
  ]
}