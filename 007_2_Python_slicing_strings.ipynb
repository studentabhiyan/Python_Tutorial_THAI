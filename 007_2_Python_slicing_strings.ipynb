{
 "cells": [
  {
   "cell_type": "markdown",
   "source": [
    "# Python - Slicing Strings"
   ],
   "metadata": {}
  },
  {
   "cell_type": "markdown",
   "source": [
    "## Slicing\r\n",
    "You can return a range of characters by using the slice syntax.\r\n",
    "\r\n",
    "Specify the start index and the end index, separated by a colon, to return a part of the string."
   ],
   "metadata": {}
  },
  {
   "cell_type": "markdown",
   "source": [
    "## Example\r\n",
    "Get the characters from the start to position 5 (not included):"
   ],
   "metadata": {}
  },
  {
   "cell_type": "code",
   "execution_count": 1,
   "source": [
    "b = \"Hello, World!\"\r\n",
    "print(b[2:5])"
   ],
   "outputs": [
    {
     "output_type": "stream",
     "name": "stdout",
     "text": [
      "llo\n"
     ]
    }
   ],
   "metadata": {}
  },
  {
   "cell_type": "markdown",
   "source": [
    "## Slice From the Start\r\n",
    "By leaving out the start index, the range will start at the first character:"
   ],
   "metadata": {}
  },
  {
   "cell_type": "markdown",
   "source": [
    "## Example\r\n",
    "Get the characters from the start to position 5 (not included):"
   ],
   "metadata": {}
  },
  {
   "cell_type": "code",
   "execution_count": 2,
   "source": [
    "b = \"Hello, World!\"\r\n",
    "print(b[:5])"
   ],
   "outputs": [
    {
     "output_type": "stream",
     "name": "stdout",
     "text": [
      "Hello\n"
     ]
    }
   ],
   "metadata": {}
  },
  {
   "cell_type": "markdown",
   "source": [
    "# Slice To the End\r\n",
    "By leaving out the end index, the range will go to the end:"
   ],
   "metadata": {}
  },
  {
   "cell_type": "markdown",
   "source": [
    "## Example\r\n",
    "Get the characters from position 2, and all the way to the end:"
   ],
   "metadata": {}
  },
  {
   "cell_type": "code",
   "execution_count": 3,
   "source": [
    "b = \"Hello, World!\"\r\n",
    "print(b[2:])"
   ],
   "outputs": [
    {
     "output_type": "stream",
     "name": "stdout",
     "text": [
      "llo, World!\n"
     ]
    }
   ],
   "metadata": {}
  },
  {
   "cell_type": "markdown",
   "source": [
    "# Negative Indexing\r\n",
    "Use negative indexes to start the slice from the end of the string:"
   ],
   "metadata": {}
  },
  {
   "cell_type": "markdown",
   "source": [
    "## Example\r\n",
    "Get the characters:\r\n",
    "\r\n",
    "From: \"o\" in \"World!\" (position -5)\r\n",
    "\r\n",
    "To, but not included: \"d\" in \"World!\" (position -2):"
   ],
   "metadata": {}
  },
  {
   "cell_type": "code",
   "execution_count": 4,
   "source": [
    "b = \"Hello, World!\"\r\n",
    "print(b[-5:-2])"
   ],
   "outputs": [
    {
     "output_type": "stream",
     "name": "stdout",
     "text": [
      "orl\n"
     ]
    }
   ],
   "metadata": {}
  },
  {
   "cell_type": "markdown",
   "source": [],
   "metadata": {}
  }
 ],
 "metadata": {
  "orig_nbformat": 4,
  "language_info": {
   "name": "python",
   "version": "3.8.5",
   "mimetype": "text/x-python",
   "codemirror_mode": {
    "name": "ipython",
    "version": 3
   },
   "pygments_lexer": "ipython3",
   "nbconvert_exporter": "python",
   "file_extension": ".py"
  },
  "kernelspec": {
   "name": "python3",
   "display_name": "Python 3.8.5 64-bit ('base': conda)"
  },
  "interpreter": {
   "hash": "00034aa5cd6c44013b830fd98c7a620a61a498e75425ca81fcc1166b84a69895"
  }
 },
 "nbformat": 4,
 "nbformat_minor": 2
}