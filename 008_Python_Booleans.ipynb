{
  "nbformat": 4,
  "nbformat_minor": 0,
  "metadata": {
    "colab": {
      "name": "8.Python Booleans.ipynb",
      "provenance": []
    },
    "kernelspec": {
      "name": "python3",
      "display_name": "Python 3"
    },
    "language_info": {
      "name": "python"
    }
  },
  "cells": [
    {
      "cell_type": "markdown",
      "metadata": {
        "id": "2FkExhFIoNY8"
      },
      "source": [
        "### <font color=\"lightblue\">**Python Booleans**"
      ]
    },
    {
      "cell_type": "markdown",
      "metadata": {
        "id": "6XUZFN6tn75v"
      },
      "source": [
        "### <font color=\"lightblue\">**Boolean Values**"
      ]
    },
    {
      "cell_type": "markdown",
      "metadata": {
        "id": "Pi4B7jk_nZkJ"
      },
      "source": [
        "Boolean Values\n",
        "In programming you often need to know if an expression is True or False.\n",
        "\n",
        "You can evaluate any expression in Python, and get one of two answers, True or False.\n",
        "\n",
        "When you compare two values, the expression is evaluated and Python returns the Boolean answer:"
      ]
    },
    {
      "cell_type": "code",
      "metadata": {
        "id": "LJBxqh5kodY2",
        "colab": {
          "base_uri": "https://localhost:8080/"
        },
        "outputId": "7ed9d847-4b58-46b9-bd7a-67b58fe75988"
      },
      "source": [
        "print(10 > 9)\n",
        "print(10 == 9)\n",
        "print(10 < 9)"
      ],
      "execution_count": 1,
      "outputs": [
        {
          "output_type": "stream",
          "name": "stdout",
          "text": [
            "True\n",
            "False\n",
            "False\n"
          ]
        }
      ]
    },
    {
      "cell_type": "markdown",
      "metadata": {
        "id": "39JL0O-Moh2R"
      },
      "source": [
        "When you run a condition in an if statement, Python returns True or False:"
      ]
    },
    {
      "cell_type": "code",
      "metadata": {
        "id": "wvEs1ZlPokNY",
        "colab": {
          "base_uri": "https://localhost:8080/"
        },
        "outputId": "33021751-e83e-48f5-eae3-783092095e80"
      },
      "source": [
        "a = 200\n",
        "b = 33\n",
        "\n",
        "if b > a:\n",
        "  print(\"b is greater than a\")\n",
        "else:\n",
        "  print(\"b is not greater than a\")"
      ],
      "execution_count": 2,
      "outputs": [
        {
          "output_type": "stream",
          "name": "stdout",
          "text": [
            "b is not greater than a\n"
          ]
        }
      ]
    },
    {
      "cell_type": "markdown",
      "metadata": {
        "id": "8yZgeCLRqnTX"
      },
      "source": [
        ""
      ]
    },
    {
      "cell_type": "markdown",
      "metadata": {
        "id": "3WHFf7Pmone1"
      },
      "source": [
        "### <font color=\"lightblue\">**Evaluate Values and Variables**"
      ]
    },
    {
      "cell_type": "markdown",
      "metadata": {
        "id": "N7v6KcXHo6JO"
      },
      "source": [
        "The bool() function allows you to evaluate any value, and give you True or False in return,"
      ]
    },
    {
      "cell_type": "code",
      "metadata": {
        "id": "89awKq1Lo80B",
        "colab": {
          "base_uri": "https://localhost:8080/"
        },
        "outputId": "75f37a98-0f8a-409f-e964-5d63b6aa238c"
      },
      "source": [
        "print(bool(\"Hello\"))\n",
        "print(bool(15))"
      ],
      "execution_count": 3,
      "outputs": [
        {
          "output_type": "stream",
          "name": "stdout",
          "text": [
            "True\n",
            "True\n"
          ]
        }
      ]
    },
    {
      "cell_type": "code",
      "metadata": {
        "id": "JSA9b0sbpFff",
        "colab": {
          "base_uri": "https://localhost:8080/"
        },
        "outputId": "91212aef-d011-4806-f166-30bf761ad8bc"
      },
      "source": [
        "x = \"Hello\"\n",
        "y = 15\n",
        "\n",
        "print(bool(x))\n",
        "print(bool(y))"
      ],
      "execution_count": 4,
      "outputs": [
        {
          "output_type": "stream",
          "name": "stdout",
          "text": [
            "True\n",
            "True\n"
          ]
        }
      ]
    },
    {
      "cell_type": "markdown",
      "metadata": {
        "id": "N1tRjh23pj2-"
      },
      "source": [
        "### <font color=\"lightblue\">**Most Values are True**"
      ]
    },
    {
      "cell_type": "markdown",
      "metadata": {
        "id": "RdjNCOS2puLA"
      },
      "source": [
        "Almost any value is evaluated to True if it has some sort of content.\n",
        "\n",
        "Any string is True, except empty strings.\n",
        "\n",
        "Any number is True, except 0.\n",
        "\n",
        "Any list, tuple, set, and dictionary are True, except empty ones."
      ]
    },
    {
      "cell_type": "code",
      "metadata": {
        "id": "WGbNonDZpxs8",
        "colab": {
          "base_uri": "https://localhost:8080/"
        },
        "outputId": "b977b20d-d661-46ea-9a6d-43598c488220"
      },
      "source": [
        "bool(\"abc\")\n",
        "bool(123)\n",
        "bool([\"apple\", \"cherry\", \"banana\"])"
      ],
      "execution_count": 5,
      "outputs": [
        {
          "output_type": "execute_result",
          "data": {
            "text/plain": [
              "True"
            ]
          },
          "metadata": {},
          "execution_count": 5
        }
      ]
    }
  ]
}