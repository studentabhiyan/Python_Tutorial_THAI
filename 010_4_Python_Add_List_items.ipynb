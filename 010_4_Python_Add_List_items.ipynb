{
 "cells": [
  {
   "cell_type": "markdown",
   "source": [
    "# Python - Add List Items"
   ],
   "metadata": {}
  },
  {
   "cell_type": "markdown",
   "source": [
    "## Append Items\r\n",
    "To add an item to the end of the list, use the append() method:"
   ],
   "metadata": {}
  },
  {
   "cell_type": "markdown",
   "source": [
    "## Example\r\n",
    "Using the append() method to append an item:"
   ],
   "metadata": {}
  },
  {
   "cell_type": "code",
   "execution_count": 1,
   "source": [
    "thislist = [\"apple\", \"banana\", \"cherry\"]\r\n",
    "thislist.append(\"orange\")\r\n",
    "print(thislist)"
   ],
   "outputs": [
    {
     "output_type": "stream",
     "name": "stdout",
     "text": [
      "['apple', 'banana', 'cherry', 'orange']\n"
     ]
    }
   ],
   "metadata": {}
  },
  {
   "cell_type": "markdown",
   "source": [
    "## Insert Items\r\n",
    "To insert a list item at a specified index, use the insert() method.\r\n",
    "\r\n",
    "The insert() method inserts an item at the specified index:"
   ],
   "metadata": {}
  },
  {
   "cell_type": "markdown",
   "source": [
    "## Example\r\n",
    "Insert an item as the second position:\r\n",
    "\r\n",
    "Note: As a result of the examples above, the lists will now contain 4 items."
   ],
   "metadata": {}
  },
  {
   "cell_type": "code",
   "execution_count": 2,
   "source": [
    "thislist = [\"apple\", \"banana\", \"cherry\"]\r\n",
    "thislist.insert(1, \"orange\")\r\n",
    "print(thislist)"
   ],
   "outputs": [
    {
     "output_type": "stream",
     "name": "stdout",
     "text": [
      "['apple', 'orange', 'banana', 'cherry']\n"
     ]
    }
   ],
   "metadata": {}
  },
  {
   "cell_type": "markdown",
   "source": [
    "## Extend List\r\n",
    "To append elements from another list to the current list, use the extend() method."
   ],
   "metadata": {}
  },
  {
   "cell_type": "markdown",
   "source": [
    "## Example\r\n",
    "Add the elements of tropical to thislist:\r\n",
    "\r\n",
    "The elements will be added to the end of the list."
   ],
   "metadata": {}
  },
  {
   "cell_type": "code",
   "execution_count": 3,
   "source": [
    "thislist = [\"apple\", \"banana\", \"cherry\"]\r\n",
    "tropical = [\"mango\", \"pineapple\", \"papaya\"]\r\n",
    "thislist.extend(tropical)\r\n",
    "print(thislist)"
   ],
   "outputs": [
    {
     "output_type": "stream",
     "name": "stdout",
     "text": [
      "['apple', 'banana', 'cherry', 'mango', 'pineapple', 'papaya']\n"
     ]
    }
   ],
   "metadata": {}
  },
  {
   "cell_type": "markdown",
   "source": [
    "## Add Any Iterable\r\n",
    "The extend() method does not have to append lists, you can add any iterable object (tuples, sets, dictionaries etc.)."
   ],
   "metadata": {}
  },
  {
   "cell_type": "markdown",
   "source": [
    "## Example\r\n",
    "Add elements of a tuple to a list:"
   ],
   "metadata": {}
  },
  {
   "cell_type": "code",
   "execution_count": 4,
   "source": [
    "thislist = [\"apple\", \"banana\", \"cherry\"]\r\n",
    "thistuple = (\"kiwi\", \"orange\")\r\n",
    "thislist.extend(thistuple)\r\n",
    "print(thislist)"
   ],
   "outputs": [
    {
     "output_type": "stream",
     "name": "stdout",
     "text": [
      "['apple', 'banana', 'cherry', 'kiwi', 'orange']\n"
     ]
    }
   ],
   "metadata": {}
  },
  {
   "cell_type": "markdown",
   "source": [],
   "metadata": {}
  }
 ],
 "metadata": {
  "orig_nbformat": 4,
  "language_info": {
   "name": "python",
   "version": "3.8.5",
   "mimetype": "text/x-python",
   "codemirror_mode": {
    "name": "ipython",
    "version": 3
   },
   "pygments_lexer": "ipython3",
   "nbconvert_exporter": "python",
   "file_extension": ".py"
  },
  "kernelspec": {
   "name": "python3",
   "display_name": "Python 3.8.5 64-bit ('base': conda)"
  },
  "interpreter": {
   "hash": "00034aa5cd6c44013b830fd98c7a620a61a498e75425ca81fcc1166b84a69895"
  }
 },
 "nbformat": 4,
 "nbformat_minor": 2
}