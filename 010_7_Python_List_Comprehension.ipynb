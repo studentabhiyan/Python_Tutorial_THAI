{
 "cells": [
  {
   "cell_type": "markdown",
   "source": [
    "# Python - List Comprehension"
   ],
   "metadata": {}
  },
  {
   "cell_type": "markdown",
   "source": [
    "## List Comprehension\r\n",
    "List comprehension offers a shorter syntax when you want to create a new list based on the values of an existing list.\r\n",
    "\r\n",
    "Example:\r\n",
    "\r\n",
    "Based on a list of fruits, you want a new list, containing only the fruits with the letter \"a\" in the name.\r\n",
    "\r\n",
    "Without list comprehension you will have to write a for statement with a conditional test inside:"
   ],
   "metadata": {}
  },
  {
   "cell_type": "markdown",
   "source": [
    "## Example"
   ],
   "metadata": {}
  },
  {
   "cell_type": "code",
   "execution_count": 1,
   "source": [
    "fruits = [\"apple\", \"banana\", \"cherry\", \"kiwi\", \"mango\"]\r\n",
    "newlist = []\r\n",
    "\r\n",
    "for x in fruits:\r\n",
    "  if \"a\" in x:\r\n",
    "    newlist.append(x)\r\n",
    "\r\n",
    "print(newlist)"
   ],
   "outputs": [
    {
     "output_type": "stream",
     "name": "stdout",
     "text": [
      "['apple', 'banana', 'mango']\n"
     ]
    }
   ],
   "metadata": {}
  },
  {
   "cell_type": "markdown",
   "source": [
    "With list comprehension you can do all that with only one line of code:"
   ],
   "metadata": {}
  },
  {
   "cell_type": "markdown",
   "source": [
    "## Example"
   ],
   "metadata": {}
  },
  {
   "cell_type": "code",
   "execution_count": 2,
   "source": [
    "fruits = [\"apple\", \"banana\", \"cherry\", \"kiwi\", \"mango\"]\r\n",
    "\r\n",
    "newlist = [x for x in fruits if \"a\" in x]\r\n",
    "\r\n",
    "print(newlist)"
   ],
   "outputs": [
    {
     "output_type": "stream",
     "name": "stdout",
     "text": [
      "['apple', 'banana', 'mango']\n"
     ]
    }
   ],
   "metadata": {}
  },
  {
   "cell_type": "markdown",
   "source": [
    "## The Syntax\r\n",
    "\r\n",
    "`newlist = [expression for item in iterable if condition == True]`\r\n",
    "\r\n",
    "The return value is a new list, leaving the old list unchanged."
   ],
   "metadata": {}
  },
  {
   "cell_type": "markdown",
   "source": [
    "## Condition\r\n",
    "The condition is like a filter that only accepts the items that valuate to True."
   ],
   "metadata": {}
  },
  {
   "cell_type": "markdown",
   "source": [
    "## Example\r\n",
    "Only accept items that are not \"apple\":"
   ],
   "metadata": {}
  },
  {
   "cell_type": "code",
   "execution_count": 3,
   "source": [
    "newlist = [x for x in fruits if x != \"apple\"]"
   ],
   "outputs": [],
   "metadata": {}
  },
  {
   "cell_type": "markdown",
   "source": [
    "The condition if x != \"apple\"  will return True for all elements other than \"apple\", making the new list contain all fruits except \"apple\".\r\n",
    "\r\n",
    "The condition is optional and can be omitted:"
   ],
   "metadata": {}
  },
  {
   "cell_type": "markdown",
   "source": [
    "## Example\r\n",
    "With no if statement:"
   ],
   "metadata": {}
  },
  {
   "cell_type": "code",
   "execution_count": 4,
   "source": [
    "newlist = [x for x in fruits]"
   ],
   "outputs": [],
   "metadata": {}
  },
  {
   "cell_type": "markdown",
   "source": [
    "## Iterable\r\n",
    "The iterable can be any iterable object, like a list, tuple, set etc."
   ],
   "metadata": {}
  },
  {
   "cell_type": "markdown",
   "source": [
    "## Example\r\n",
    "You can use the range() function to create an iterable:"
   ],
   "metadata": {}
  },
  {
   "cell_type": "code",
   "execution_count": 5,
   "source": [
    "newlist = [x for x in range(10)]"
   ],
   "outputs": [],
   "metadata": {}
  },
  {
   "cell_type": "markdown",
   "source": [
    "Same example, but with a condition:"
   ],
   "metadata": {}
  },
  {
   "cell_type": "markdown",
   "source": [
    "## Example\r\n",
    "Accept only numbers lower than 5:"
   ],
   "metadata": {}
  },
  {
   "cell_type": "code",
   "execution_count": 6,
   "source": [
    "newlist = [x for x in range(10) if x < 5]"
   ],
   "outputs": [],
   "metadata": {}
  },
  {
   "cell_type": "markdown",
   "source": [
    "## Expression\r\n",
    "The expression is the current item in the iteration, but it is also the outcome, which you can manipulate before it ends up like a list item in the new list:"
   ],
   "metadata": {}
  },
  {
   "cell_type": "markdown",
   "source": [
    "## Example\r\n",
    "Set the values in the new list to upper case:"
   ],
   "metadata": {}
  },
  {
   "cell_type": "code",
   "execution_count": 7,
   "source": [
    "newlist = [x.upper() for x in fruits]"
   ],
   "outputs": [],
   "metadata": {}
  },
  {
   "cell_type": "markdown",
   "source": [
    "You can set the outcome to whatever you like:"
   ],
   "metadata": {}
  },
  {
   "cell_type": "markdown",
   "source": [
    "## Example\r\n",
    "Set all values in the new list to 'hello':"
   ],
   "metadata": {}
  },
  {
   "cell_type": "code",
   "execution_count": 8,
   "source": [
    "newlist = ['hello' for x in fruits]"
   ],
   "outputs": [],
   "metadata": {}
  },
  {
   "cell_type": "markdown",
   "source": [
    "The expression can also contain conditions, not like a filter, but as a way to manipulate the outcome:"
   ],
   "metadata": {}
  },
  {
   "cell_type": "markdown",
   "source": [
    "## Example\r\n",
    "Return \"orange\" instead of \"banana\":"
   ],
   "metadata": {}
  },
  {
   "cell_type": "code",
   "execution_count": 9,
   "source": [
    "newlist = [x if x != \"banana\" else \"orange\" for x in fruits]"
   ],
   "outputs": [],
   "metadata": {}
  },
  {
   "cell_type": "markdown",
   "source": [],
   "metadata": {}
  }
 ],
 "metadata": {
  "orig_nbformat": 4,
  "language_info": {
   "name": "python",
   "version": "3.8.5",
   "mimetype": "text/x-python",
   "codemirror_mode": {
    "name": "ipython",
    "version": 3
   },
   "pygments_lexer": "ipython3",
   "nbconvert_exporter": "python",
   "file_extension": ".py"
  },
  "kernelspec": {
   "name": "python3",
   "display_name": "Python 3.8.5 64-bit ('base': conda)"
  },
  "interpreter": {
   "hash": "00034aa5cd6c44013b830fd98c7a620a61a498e75425ca81fcc1166b84a69895"
  }
 },
 "nbformat": 4,
 "nbformat_minor": 2
}