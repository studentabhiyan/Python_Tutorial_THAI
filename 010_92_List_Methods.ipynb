{
 "cells": [
  {
   "cell_type": "markdown",
   "source": [
    "# Python - List Methods"
   ],
   "metadata": {}
  },
  {
   "cell_type": "markdown",
   "source": [
    "## List Methods\r\n",
    "Python has a set of built-in methods that you can use on lists."
   ],
   "metadata": {}
  },
  {
   "cell_type": "markdown",
   "source": [
    "Method\tDescription\r\n",
    "\r\n",
    "append()\tAdds an element at the end of the list\r\n",
    "\r\n",
    "clear()\tRemoves all the elements from the list\r\n",
    "\r\n",
    "copy()\tReturns a copy of the list\r\n",
    "\r\n",
    "count()\tReturns the number of elements with the specified value\r\n",
    "\r\n",
    "extend()\tAdd the elements of a list (or any iterable), to the end of the current list\r\n",
    "\r\n",
    "index()\tReturns the index of the first element with the specified value\r\n",
    "\r\n",
    "insert()\tAdds an element at the specified position\r\n",
    "\r\n",
    "pop()\tRemoves the element at the specified position\r\n",
    "\r\n",
    "remove()\tRemoves the item with the specified value\r\n",
    "\r\n",
    "reverse()\tReverses the order of the list\r\n",
    "\r\n",
    "sort()\tSorts the list"
   ],
   "metadata": {}
  }
 ],
 "metadata": {
  "orig_nbformat": 4,
  "language_info": {
   "name": "python",
   "version": "3.8.5"
  },
  "kernelspec": {
   "name": "python3",
   "display_name": "Python 3.8.5 64-bit ('base': conda)"
  },
  "interpreter": {
   "hash": "00034aa5cd6c44013b830fd98c7a620a61a498e75425ca81fcc1166b84a69895"
  }
 },
 "nbformat": 4,
 "nbformat_minor": 2
}