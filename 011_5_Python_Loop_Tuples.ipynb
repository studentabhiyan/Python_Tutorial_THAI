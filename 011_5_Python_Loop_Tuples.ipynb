{
 "cells": [
  {
   "cell_type": "markdown",
   "source": [
    "# Python - Loop Tuples"
   ],
   "metadata": {}
  },
  {
   "cell_type": "markdown",
   "source": [
    "## Loop Through a Tuple\r\n",
    "You can loop through the tuple items by using a for loop."
   ],
   "metadata": {}
  },
  {
   "cell_type": "markdown",
   "source": [
    "## Example\r\n",
    "Iterate through the items and print the values:"
   ],
   "metadata": {}
  },
  {
   "cell_type": "code",
   "execution_count": 1,
   "source": [
    "thistuple = (\"apple\", \"banana\", \"cherry\")\r\n",
    "for x in thistuple:\r\n",
    "  print(x)"
   ],
   "outputs": [
    {
     "output_type": "stream",
     "name": "stdout",
     "text": [
      "apple\n",
      "banana\n",
      "cherry\n"
     ]
    }
   ],
   "metadata": {}
  },
  {
   "cell_type": "markdown",
   "source": [
    "Learn more about for loops in our Python For Loops Chapter."
   ],
   "metadata": {}
  },
  {
   "cell_type": "markdown",
   "source": [
    "## Loop Through the Index Numbers\r\n",
    "You can also loop through the tuple items by referring to their index number.\r\n",
    "\r\n",
    "Use the range() and len() functions to create a suitable iterable."
   ],
   "metadata": {}
  },
  {
   "cell_type": "markdown",
   "source": [
    "## Example\r\n",
    "Print all items by referring to their index number:"
   ],
   "metadata": {}
  },
  {
   "cell_type": "code",
   "execution_count": 2,
   "source": [
    "thistuple = (\"apple\", \"banana\", \"cherry\")\r\n",
    "for i in range(len(thistuple)):\r\n",
    "  print(thistuple[i])"
   ],
   "outputs": [
    {
     "output_type": "stream",
     "name": "stdout",
     "text": [
      "apple\n",
      "banana\n",
      "cherry\n"
     ]
    }
   ],
   "metadata": {}
  },
  {
   "cell_type": "markdown",
   "source": [
    "## Using a While Loop\r\n",
    "You can loop through the list items by using a while loop.\r\n",
    "\r\n",
    "Use the len() function to determine the length of the tuple, then start at 0 and loop your way through the tuple items by refering to their indexes.\r\n",
    "\r\n",
    "Remember to increase the index by 1 after each iteration."
   ],
   "metadata": {}
  },
  {
   "cell_type": "markdown",
   "source": [
    "## Example\r\n",
    "Print all items, using a while loop to go through all the index numbers:"
   ],
   "metadata": {}
  },
  {
   "cell_type": "code",
   "execution_count": 3,
   "source": [
    "thistuple = (\"apple\", \"banana\", \"cherry\")\r\n",
    "i = 0\r\n",
    "while i < len(thistuple):\r\n",
    "  print(thistuple[i])\r\n",
    "  i = i + 1"
   ],
   "outputs": [
    {
     "output_type": "stream",
     "name": "stdout",
     "text": [
      "apple\n",
      "banana\n",
      "cherry\n"
     ]
    }
   ],
   "metadata": {}
  }
 ],
 "metadata": {
  "orig_nbformat": 4,
  "language_info": {
   "name": "python",
   "version": "3.8.5",
   "mimetype": "text/x-python",
   "codemirror_mode": {
    "name": "ipython",
    "version": 3
   },
   "pygments_lexer": "ipython3",
   "nbconvert_exporter": "python",
   "file_extension": ".py"
  },
  "kernelspec": {
   "name": "python3",
   "display_name": "Python 3.8.5 64-bit ('base': conda)"
  },
  "interpreter": {
   "hash": "00034aa5cd6c44013b830fd98c7a620a61a498e75425ca81fcc1166b84a69895"
  }
 },
 "nbformat": 4,
 "nbformat_minor": 2
}