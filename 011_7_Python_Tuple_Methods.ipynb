{
 "cells": [
  {
   "cell_type": "markdown",
   "source": [
    "# Python - Tuple Methods"
   ],
   "metadata": {}
  },
  {
   "cell_type": "markdown",
   "source": [
    "## Tuple Methods\r\n",
    "Python has two built-in methods that you can use on tuples."
   ],
   "metadata": {}
  },
  {
   "cell_type": "markdown",
   "source": [
    "Method\tDescription\r\n",
    "\r\n",
    "count()\tReturns the number of times a specified value occurs in a tuple\r\n",
    "\r\n",
    "index()\tSearches the tuple for a specified value and returns the position of where it was found"
   ],
   "metadata": {}
  }
 ],
 "metadata": {
  "orig_nbformat": 4,
  "language_info": {
   "name": "python",
   "version": "3.8.5"
  },
  "kernelspec": {
   "name": "python3",
   "display_name": "Python 3.8.5 64-bit ('base': conda)"
  },
  "interpreter": {
   "hash": "00034aa5cd6c44013b830fd98c7a620a61a498e75425ca81fcc1166b84a69895"
  }
 },
 "nbformat": 4,
 "nbformat_minor": 2
}