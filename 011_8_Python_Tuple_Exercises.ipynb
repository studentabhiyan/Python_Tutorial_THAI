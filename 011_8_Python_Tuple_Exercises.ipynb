{
 "cells": [
  {
   "cell_type": "markdown",
   "source": [
    "# Python - Tuple Exercises"
   ],
   "metadata": {}
  },
  {
   "cell_type": "markdown",
   "source": [
    "## Test Yourself With Exercises\r\n",
    "Now you have learned a lot about tuples, and how to use them in Python.\r\n",
    "\r\n",
    "Are you ready for a test?\r\n",
    "\r\n",
    "Try to insert the missing part to make the code work as expected:"
   ],
   "metadata": {}
  },
  {
   "cell_type": "markdown",
   "source": [
    "## Exercise:\r\n",
    "Print the first item in the fruits tuple."
   ],
   "metadata": {}
  },
  {
   "cell_type": "code",
   "execution_count": null,
   "source": [
    "fruits = (\"apple\", \"banana\", \"cherry\")\r\n",
    "# your code here, replace __ with your answer\r\n",
    "print(__)"
   ],
   "outputs": [],
   "metadata": {}
  }
 ],
 "metadata": {
  "orig_nbformat": 4,
  "language_info": {
   "name": "python",
   "version": "3.8.5"
  },
  "kernelspec": {
   "name": "python3",
   "display_name": "Python 3.8.5 64-bit ('base': conda)"
  },
  "interpreter": {
   "hash": "00034aa5cd6c44013b830fd98c7a620a61a498e75425ca81fcc1166b84a69895"
  }
 },
 "nbformat": 4,
 "nbformat_minor": 2
}