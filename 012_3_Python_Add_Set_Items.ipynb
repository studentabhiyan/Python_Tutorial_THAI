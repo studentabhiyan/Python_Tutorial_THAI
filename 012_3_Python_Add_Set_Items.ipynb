{
 "cells": [
  {
   "cell_type": "markdown",
   "source": [
    "# Python - Add Set Items"
   ],
   "metadata": {}
  },
  {
   "cell_type": "markdown",
   "source": [
    "## Add Items"
   ],
   "metadata": {}
  },
  {
   "cell_type": "markdown",
   "source": [
    "Once a set is created, you cannot change its items, but you can add new items.\r\n",
    "\r\n",
    "To add one item to a set use the add() method."
   ],
   "metadata": {}
  },
  {
   "cell_type": "markdown",
   "source": [
    "## Example\r\n",
    "Add an item to a set, using the add() method:"
   ],
   "metadata": {}
  },
  {
   "cell_type": "code",
   "execution_count": 1,
   "source": [
    "thisset = {\"apple\", \"banana\", \"cherry\"}\r\n",
    "\r\n",
    "thisset.add(\"orange\")\r\n",
    "\r\n",
    "print(thisset)"
   ],
   "outputs": [
    {
     "output_type": "stream",
     "name": "stdout",
     "text": [
      "{'apple', 'cherry', 'orange', 'banana'}\n"
     ]
    }
   ],
   "metadata": {}
  },
  {
   "cell_type": "markdown",
   "source": [
    "## Add Sets\r\n",
    "To add items from another set into the current set, use the update() method."
   ],
   "metadata": {}
  },
  {
   "cell_type": "markdown",
   "source": [
    "## Example\r\n",
    "Add elements from tropical into thisset:"
   ],
   "metadata": {}
  },
  {
   "cell_type": "code",
   "execution_count": 2,
   "source": [
    "thisset = {\"apple\", \"banana\", \"cherry\"}\r\n",
    "tropical = {\"pineapple\", \"mango\", \"papaya\"}\r\n",
    "\r\n",
    "thisset.update(tropical)\r\n",
    "\r\n",
    "print(thisset)"
   ],
   "outputs": [
    {
     "output_type": "stream",
     "name": "stdout",
     "text": [
      "{'pineapple', 'apple', 'papaya', 'banana', 'mango', 'cherry'}\n"
     ]
    }
   ],
   "metadata": {}
  },
  {
   "cell_type": "markdown",
   "source": [
    "## Add Any Iterable\r\n",
    "The object in the update() method does not have to be a set, it can be any iterable object (tuples, lists, dictionaries etc.)."
   ],
   "metadata": {}
  },
  {
   "cell_type": "markdown",
   "source": [
    "## Example\r\n",
    "Add elements of a list to at set:"
   ],
   "metadata": {}
  },
  {
   "cell_type": "code",
   "execution_count": 3,
   "source": [
    "thisset = {\"apple\", \"banana\", \"cherry\"}\r\n",
    "mylist = [\"kiwi\", \"orange\"]\r\n",
    "\r\n",
    "thisset.update(mylist)\r\n",
    "\r\n",
    "print(thisset)"
   ],
   "outputs": [
    {
     "output_type": "stream",
     "name": "stdout",
     "text": [
      "{'orange', 'kiwi', 'banana', 'cherry', 'apple'}\n"
     ]
    }
   ],
   "metadata": {}
  }
 ],
 "metadata": {
  "orig_nbformat": 4,
  "language_info": {
   "name": "python",
   "version": "3.8.5",
   "mimetype": "text/x-python",
   "codemirror_mode": {
    "name": "ipython",
    "version": 3
   },
   "pygments_lexer": "ipython3",
   "nbconvert_exporter": "python",
   "file_extension": ".py"
  },
  "kernelspec": {
   "name": "python3",
   "display_name": "Python 3.8.5 64-bit ('base': conda)"
  },
  "interpreter": {
   "hash": "00034aa5cd6c44013b830fd98c7a620a61a498e75425ca81fcc1166b84a69895"
  }
 },
 "nbformat": 4,
 "nbformat_minor": 2
}