{
 "cells": [
  {
   "cell_type": "markdown",
   "source": [
    "# Python - Join Sets"
   ],
   "metadata": {}
  },
  {
   "cell_type": "markdown",
   "source": [
    "## Join Two Sets\r\n",
    "There are several ways to join two or more sets in Python.\r\n",
    "\r\n",
    "You can use the union() method that returns a new set containing all items from both sets, or the update() method that inserts all the items from one set into another:"
   ],
   "metadata": {}
  },
  {
   "cell_type": "markdown",
   "source": [
    "## Example\r\n",
    "The union() method returns a new set with all items from both sets:"
   ],
   "metadata": {}
  },
  {
   "cell_type": "code",
   "execution_count": 1,
   "source": [
    "set1 = {\"a\", \"b\" , \"c\"}\r\n",
    "set2 = {1, 2, 3}\r\n",
    "\r\n",
    "set3 = set1.union(set2)\r\n",
    "print(set3)"
   ],
   "outputs": [
    {
     "output_type": "stream",
     "name": "stdout",
     "text": [
      "{1, 2, 3, 'b', 'a', 'c'}\n"
     ]
    }
   ],
   "metadata": {}
  },
  {
   "cell_type": "markdown",
   "source": [
    "## Example\r\n",
    "The update() method inserts the items in set2 into set1:\r\n",
    "\r\n",
    "Note: Both union() and update() will exclude any duplicate items."
   ],
   "metadata": {}
  },
  {
   "cell_type": "code",
   "execution_count": 2,
   "source": [
    "set1 = {\"a\", \"b\" , \"c\"}\r\n",
    "set2 = {1, 2, 3}\r\n",
    "\r\n",
    "set1.update(set2)\r\n",
    "print(set1)"
   ],
   "outputs": [
    {
     "output_type": "stream",
     "name": "stdout",
     "text": [
      "{1, 2, 3, 'b', 'a', 'c'}\n"
     ]
    }
   ],
   "metadata": {}
  },
  {
   "cell_type": "markdown",
   "source": [
    "## Keep ONLY the Duplicates\r\n",
    "The intersection_update() method will keep only the items that are present in both sets."
   ],
   "metadata": {}
  },
  {
   "cell_type": "markdown",
   "source": [
    "## Example\r\n",
    "Keep the items that exist in both set x, and set y:"
   ],
   "metadata": {}
  },
  {
   "cell_type": "code",
   "execution_count": 3,
   "source": [
    "x = {\"apple\", \"banana\", \"cherry\"}\r\n",
    "y = {\"google\", \"microsoft\", \"apple\"}\r\n",
    "\r\n",
    "x.intersection_update(y)\r\n",
    "\r\n",
    "print(x)"
   ],
   "outputs": [
    {
     "output_type": "stream",
     "name": "stdout",
     "text": [
      "{'apple'}\n"
     ]
    }
   ],
   "metadata": {}
  },
  {
   "cell_type": "markdown",
   "source": [
    "The intersection() method will return a new set, that only contains the items that are present in both sets."
   ],
   "metadata": {}
  },
  {
   "cell_type": "markdown",
   "source": [
    "## Example\r\n",
    "Return a set that contains the items that exist in both set x, and set y:"
   ],
   "metadata": {}
  },
  {
   "cell_type": "code",
   "execution_count": 4,
   "source": [
    "x = {\"apple\", \"banana\", \"cherry\"}\r\n",
    "y = {\"google\", \"microsoft\", \"apple\"}\r\n",
    "\r\n",
    "z = x.intersection(y)\r\n",
    "\r\n",
    "print(z)"
   ],
   "outputs": [
    {
     "output_type": "stream",
     "name": "stdout",
     "text": [
      "{'apple'}\n"
     ]
    }
   ],
   "metadata": {}
  },
  {
   "cell_type": "markdown",
   "source": [
    "## Keep All, But NOT the Duplicates\r\n",
    "The symmetric_difference_update() method will keep only the elements that are NOT present in both sets."
   ],
   "metadata": {}
  },
  {
   "cell_type": "markdown",
   "source": [
    "## Example\r\n",
    "Keep the items that are not present in both sets:"
   ],
   "metadata": {}
  },
  {
   "cell_type": "code",
   "execution_count": 5,
   "source": [
    "x = {\"apple\", \"banana\", \"cherry\"}\r\n",
    "y = {\"google\", \"microsoft\", \"apple\"}\r\n",
    "\r\n",
    "x.symmetric_difference_update(y)\r\n",
    "\r\n",
    "print(x)"
   ],
   "outputs": [
    {
     "output_type": "stream",
     "name": "stdout",
     "text": [
      "{'cherry', 'google', 'banana', 'microsoft'}\n"
     ]
    }
   ],
   "metadata": {}
  },
  {
   "cell_type": "markdown",
   "source": [
    "The symmetric_difference() method will return a new set, that contains only the elements that are NOT present in both sets."
   ],
   "metadata": {}
  },
  {
   "cell_type": "markdown",
   "source": [
    "## Example\r\n",
    "Return a set that contains all items from both sets, except items that are present in both:"
   ],
   "metadata": {}
  },
  {
   "cell_type": "code",
   "execution_count": 6,
   "source": [
    "x = {\"apple\", \"banana\", \"cherry\"}\r\n",
    "y = {\"google\", \"microsoft\", \"apple\"}\r\n",
    "\r\n",
    "z = x.symmetric_difference(y)\r\n",
    "\r\n",
    "print(z)"
   ],
   "outputs": [
    {
     "output_type": "stream",
     "name": "stdout",
     "text": [
      "{'google', 'cherry', 'banana', 'microsoft'}\n"
     ]
    }
   ],
   "metadata": {}
  }
 ],
 "metadata": {
  "orig_nbformat": 4,
  "language_info": {
   "name": "python",
   "version": "3.8.5",
   "mimetype": "text/x-python",
   "codemirror_mode": {
    "name": "ipython",
    "version": 3
   },
   "pygments_lexer": "ipython3",
   "nbconvert_exporter": "python",
   "file_extension": ".py"
  },
  "kernelspec": {
   "name": "python3",
   "display_name": "Python 3.8.5 64-bit"
  },
  "interpreter": {
   "hash": "00034aa5cd6c44013b830fd98c7a620a61a498e75425ca81fcc1166b84a69895"
  }
 },
 "nbformat": 4,
 "nbformat_minor": 2
}