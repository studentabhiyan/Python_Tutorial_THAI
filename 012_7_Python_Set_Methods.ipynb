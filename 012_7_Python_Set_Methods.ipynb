{
 "cells": [
  {
   "cell_type": "markdown",
   "source": [
    "# Python - Set Methods"
   ],
   "metadata": {}
  },
  {
   "cell_type": "markdown",
   "source": [
    "## Set Methods\r\n",
    "Python has a set of built-in methods that you can use on sets."
   ],
   "metadata": {}
  },
  {
   "cell_type": "markdown",
   "source": [
    "Method\tDescription\r\n",
    "add()\tAdds an element to the set\r\n",
    "\r\n",
    "clear()\tRemoves all the elements from the set\r\n",
    "\r\n",
    "copy()\tReturns a copy of the set\r\n",
    "\r\n",
    "difference()\tReturns a set containing the difference between two or more sets\r\n",
    "\r\n",
    "difference_update()\tRemoves the items in this set that are also included in another, specified set\r\n",
    "\r\n",
    "discard()\tRemove the specified item\r\n",
    "\r\n",
    "intersection()\tReturns a set, that is the intersection of two other sets\r\n",
    "\r\n",
    "intersection_update()\tRemoves the items in this set that are not present in other, specified set(s)\r\n",
    "\r\n",
    "isdisjoint()\tReturns whether two sets have a intersection or not\r\n",
    "\r\n",
    "issubset()\tReturns whether another set contains this set or not\r\n",
    "\r\n",
    "issuperset()\tReturns whether this set contains another set or not\r\n",
    "\r\n",
    "pop()\tRemoves an element from the set\r\n",
    "\r\n",
    "remove()\tRemoves the specified element\r\n",
    "\r\n",
    "symmetric_difference()\tReturns a set with the symmetric differences of two sets\r\n",
    "\r\n",
    "symmetric_difference_update()\tinserts the symmetric differences from this set and another\r\n",
    "\r\n",
    "union()\tReturn a set containing the union of sets\r\n",
    "\r\n",
    "update()\tUpdate the set with the union of this set and others"
   ],
   "metadata": {}
  },
  {
   "cell_type": "markdown",
   "source": [],
   "metadata": {}
  }
 ],
 "metadata": {
  "orig_nbformat": 4,
  "language_info": {
   "name": "python",
   "version": "3.8.5"
  },
  "kernelspec": {
   "name": "python3",
   "display_name": "Python 3.8.5 64-bit"
  },
  "interpreter": {
   "hash": "00034aa5cd6c44013b830fd98c7a620a61a498e75425ca81fcc1166b84a69895"
  }
 },
 "nbformat": 4,
 "nbformat_minor": 2
}