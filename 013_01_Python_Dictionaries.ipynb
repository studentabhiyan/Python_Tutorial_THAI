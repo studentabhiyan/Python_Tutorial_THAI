{
  "nbformat": 4,
  "nbformat_minor": 2,
  "metadata": {
    "colab": {
      "name": "Python Dictionaries.ipynb",
      "provenance": []
    },
    "kernelspec": {
      "name": "python3",
      "display_name": "Python 3"
    },
    "language_info": {
      "name": "python"
    }
  },
  "cells": [
    {
      "cell_type": "markdown",
      "source": [
        "## <font color=\"lightblue\">Python Dictionaries </font>\n"
      ],
      "metadata": {
        "id": "t16bGmNbRUAH"
      }
    },
    {
      "cell_type": "code",
      "execution_count": 2,
      "source": [
        "thisdict = {\r\n",
        "  \"brand\": \"Ford\",\r\n",
        "  \"model\": \"Mustang\",\r\n",
        "  \"year\": 1964\r\n",
        "}"
      ],
      "outputs": [],
      "metadata": {
        "id": "6an-44ZAR2oP"
      }
    },
    {
      "cell_type": "markdown",
      "source": [
        "## <font color=\"lightblue\"> Dictionary </font>\n",
        "\n",
        "Dictionaries are used to store data values in key:value pairs.\n",
        "\n",
        "A dictionary is a collection which is ordered*, changeable and does not allow duplicates."
      ],
      "metadata": {
        "id": "j63BgUu4SHOg"
      }
    },
    {
      "cell_type": "markdown",
      "source": [
        "Dictionaries are written with curly brackets, and have keys and values:"
      ],
      "metadata": {
        "id": "DwlXrB4LSaB8"
      }
    },
    {
      "cell_type": "markdown",
      "source": [
        "## <font color=\"lightblue\"> Example </font>\n",
        "\n",
        "Create and print a dictionary:"
      ],
      "metadata": {
        "id": "9bGDZcCFTH2A"
      }
    },
    {
      "cell_type": "code",
      "execution_count": 3,
      "source": [
        "thisdict = {\r\n",
        "  \"brand\": \"Ford\",\r\n",
        "  \"model\": \"Mustang\",\r\n",
        "  \"year\": 1964\r\n",
        "}\r\n",
        "print(thisdict)"
      ],
      "outputs": [
        {
          "output_type": "stream",
          "name": "stdout",
          "text": [
            "{'brand': 'Ford', 'model': 'Mustang', 'year': 1964}\n"
          ]
        }
      ],
      "metadata": {
        "colab": {
          "base_uri": "https://localhost:8080/"
        },
        "id": "vJJpuo63TVor",
        "outputId": "50bea438-9740-4a89-9c18-c33bce1143dd"
      }
    },
    {
      "cell_type": "markdown",
      "source": [
        "## <font color=\"lightblue\"> Dictionary Items </font>\n",
        "Dictionary items are ordered, changeable, and does not allow duplicates.\n",
        "\n",
        "Dictionary items are presented in key:value pairs, and can be referred to by using the key name."
      ],
      "metadata": {
        "id": "vpdTCP0CTgsW"
      }
    },
    {
      "cell_type": "markdown",
      "source": [
        "## <font color=\"lightblue\"> Example </font>\n",
        "Print the \"brand\" value of the dictionary:"
      ],
      "metadata": {
        "id": "D1yc6Om0Tsm6"
      }
    },
    {
      "cell_type": "code",
      "execution_count": 4,
      "source": [
        "thisdict = {\n",
        "  \"brand\": \"Ford\",\n",
        "  \"model\": \"Mustang\",\n",
        "  \"year\": 1964\n",
        "}\n",
        "print(thisdict[\"brand\"])"
      ],
      "outputs": [
        {
          "output_type": "stream",
          "name": "stdout",
          "text": [
            "Ford\n"
          ]
        }
      ],
      "metadata": {
        "colab": {
          "base_uri": "https://localhost:8080/"
        },
        "id": "w5fqj_y-Ubz2",
        "outputId": "feddcdf8-f50e-4d77-deed-91d6841f4d3d"
      }
    },
    {
      "cell_type": "markdown",
      "source": [
        "## <font color=\"lightblue\"> Ordered or Unordered? </font>\n",
        "When we say that dictionaries are ordered, it means that the items have a defined order, and that order will not change.\n",
        "\n",
        "Unordered means that the items does not have a defined order, you cannot refer to an item by using an index.\n"
      ],
      "metadata": {
        "id": "GO7C-HitUnOG"
      }
    },
    {
      "cell_type": "markdown",
      "source": [
        "## <font color=\"lightblue\"> Changeable </font>\n",
        "Dictionaries are changeable, meaning that we can change, add or remove items after the dictionary has been created.\n",
        "\n"
      ],
      "metadata": {
        "id": "8-CxT2SpUvAY"
      }
    },
    {
      "cell_type": "markdown",
      "source": [
        "## <font color=\"lightblue\"> Duplicates Not Allowed </font>\n",
        "Dictionaries cannot have two items with the same key:\n",
        "\n"
      ],
      "metadata": {
        "id": "pe0T5oKeU0ph"
      }
    },
    {
      "cell_type": "markdown",
      "source": [
        "## <font color=\"lightblue\"> Example </font>\n",
        "Duplicate values will overwrite existing values:\n",
        "\n"
      ],
      "metadata": {
        "id": "I4rI8hEXU7vN"
      }
    },
    {
      "cell_type": "code",
      "execution_count": 5,
      "source": [
        "thisdict = {\n",
        "  \"brand\": \"Ford\",\n",
        "  \"model\": \"Mustang\",\n",
        "  \"year\": 1964,\n",
        "  \"year\": 2020\n",
        "}\n",
        "print(thisdict)"
      ],
      "outputs": [
        {
          "output_type": "stream",
          "name": "stdout",
          "text": [
            "{'brand': 'Ford', 'model': 'Mustang', 'year': 2020}\n"
          ]
        }
      ],
      "metadata": {
        "colab": {
          "base_uri": "https://localhost:8080/"
        },
        "id": "WKQIiNmxU92o",
        "outputId": "60f8f6a0-a44c-4ce9-8360-4d3749768414"
      }
    },
    {
      "cell_type": "markdown",
      "source": [
        "## <font color=\"lightblue\"> Dictionary Length </font>\n",
        "To determine how many items a dictionary has, use the len() function:"
      ],
      "metadata": {
        "id": "ZFOHU3aFVbTu"
      }
    },
    {
      "cell_type": "markdown",
      "source": [
        "## <font color=\"lightblue\"> Example </font>\n",
        "Print the number of items in the dictionary:\n",
        "\n"
      ],
      "metadata": {
        "id": "_5cvaNKFVg_0"
      }
    },
    {
      "cell_type": "code",
      "execution_count": 6,
      "source": [
        "print(len(thisdict))\n"
      ],
      "outputs": [
        {
          "output_type": "stream",
          "name": "stdout",
          "text": [
            "3\n"
          ]
        }
      ],
      "metadata": {
        "colab": {
          "base_uri": "https://localhost:8080/"
        },
        "id": "1LYmKuc3VkAG",
        "outputId": "cd1b90c9-8433-434d-8b09-e3cc75602b11"
      }
    },
    {
      "cell_type": "markdown",
      "source": [
        "## <font color=\"lightblue\"> Dictionary Items - Data Types </font>\n",
        "The values in dictionary items can be of any data type:\n",
        "\n"
      ],
      "metadata": {
        "id": "aRQdk8FqVp3O"
      }
    },
    {
      "cell_type": "markdown",
      "source": [
        "## <font color=\"lightblue\"> Example </font>\n",
        "String, int, boolean, and list data types:\n",
        "\n"
      ],
      "metadata": {
        "id": "q-7y_D6IV2wP"
      }
    },
    {
      "cell_type": "code",
      "execution_count": 7,
      "source": [
        "thisdict = {\n",
        "  \"brand\": \"Ford\",\n",
        "  \"electric\": False,\n",
        "  \"year\": 1964,\n",
        "  \"colors\": [\"red\", \"white\", \"blue\"]\n",
        "}"
      ],
      "outputs": [],
      "metadata": {
        "id": "N9Th-4PQV43d"
      }
    },
    {
      "cell_type": "markdown",
      "source": [
        "## <font color=\"lightblue\"> type() </font>\n",
        "From Python's perspective, dictionaries are defined as objects with the data type 'dict':\n",
        "\n",
        "<class 'dict'>\n"
      ],
      "metadata": {
        "id": "JjRR8X4KWAhd"
      }
    },
    {
      "cell_type": "markdown",
      "source": [
        "## <font color=\"lightblue\"> Example </font>\n",
        "Print the data type of a dictionary:\n",
        "\n"
      ],
      "metadata": {
        "id": "Hznzvgv_WY3b"
      }
    },
    {
      "cell_type": "code",
      "execution_count": 8,
      "source": [
        "thisdict = {\n",
        "  \"brand\": \"Ford\",\n",
        "  \"model\": \"Mustang\",\n",
        "  \"year\": 1964\n",
        "}\n",
        "print(type(thisdict))"
      ],
      "outputs": [
        {
          "output_type": "stream",
          "name": "stdout",
          "text": [
            "<class 'dict'>\n"
          ]
        }
      ],
      "metadata": {
        "colab": {
          "base_uri": "https://localhost:8080/"
        },
        "id": "oLp52i91WcQt",
        "outputId": "988535ad-9626-4cd1-ecdf-b20a67a17b92"
      }
    },
    {
      "cell_type": "markdown",
      "source": [
        "## <font color=\"lightblue\"> Python Collections (Arrays) </font>\n",
        "\n",
        "There are four collection data types in the Python programming language:\n",
        "\n",
        "List is a collection which is ordered and changeable. Allows duplicate members.\n",
        "Tuple is a collection which is ordered and unchangeable. Allows duplicate members.\n",
        "Set is a collection which is unordered and unindexed. No duplicate members.\n",
        "Dictionary is a collection which is ordered and changeable. No duplicate members.\n",
        "When choosing a collection type, it is useful to understand the properties of that type. Choosing the right type for a particular data set could mean retention of meaning, and, it could mean an increase in efficiency or security."
      ],
      "metadata": {
        "id": "oVDo82cnWduJ"
      }
    },
    {
      "cell_type": "markdown",
      "source": [
        "## <font color=\"lightblue\"> Python - Access Dictionary Items </font>\n"
      ],
      "metadata": {
        "id": "XSHmVyh8W-kL"
      }
    },
    {
      "cell_type": "markdown",
      "source": [
        "## <font color=\"lightblue\"> Accessing Items </font>\n",
        "You can access the items of a dictionary by referring to its key name, inside square brackets:\n",
        "\n"
      ],
      "metadata": {
        "id": "KOrlVM-VXFqH"
      }
    },
    {
      "cell_type": "markdown",
      "source": [
        "## <font color=\"lightblue\"> Example </font>\n",
        "Get the value of the \"model\" key:\n",
        "\n"
      ],
      "metadata": {
        "id": "3f-jQHKNXimB"
      }
    },
    {
      "cell_type": "code",
      "execution_count": 9,
      "source": [
        "thisdict = {\n",
        "  \"brand\": \"Ford\",\n",
        "  \"model\": \"Mustang\",\n",
        "  \"year\": 1964\n",
        "}\n",
        "x = thisdict[\"model\"]"
      ],
      "outputs": [],
      "metadata": {
        "id": "M1jnCPq6XmRJ"
      }
    },
    {
      "cell_type": "markdown",
      "source": [
        "There is also a method called **get(**) that will give you the same result:\n",
        "\n"
      ],
      "metadata": {
        "id": "vTA84egUXudC"
      }
    },
    {
      "cell_type": "markdown",
      "source": [
        "## <font color=\"lightblue\"> Example </font>\n",
        "Get the value of the \"model\" key:\n",
        "\n"
      ],
      "metadata": {
        "id": "QN0R7ce-YBEB"
      }
    },
    {
      "cell_type": "code",
      "execution_count": 10,
      "source": [
        "x = thisdict.get(\"model\")\n"
      ],
      "outputs": [],
      "metadata": {
        "id": "_eu2DHRUYDMh"
      }
    },
    {
      "cell_type": "markdown",
      "source": [
        "## <font color=\"lightblue\"> Get Keys </font>\n",
        "The **keys()** method will return a list of all the keys in the dictionary.\n",
        "\n"
      ],
      "metadata": {
        "id": "OUJkkW7dYFhQ"
      }
    },
    {
      "cell_type": "markdown",
      "source": [
        "## <font color=\"lightblue\"> Example </font>\n",
        "Get a list of the keys:\n",
        "\n"
      ],
      "metadata": {
        "id": "ri3kPymmYbpl"
      }
    },
    {
      "cell_type": "code",
      "execution_count": 11,
      "source": [
        "x = thisdict.keys()\n"
      ],
      "outputs": [],
      "metadata": {
        "id": "srCjKoLVYd4J"
      }
    },
    {
      "cell_type": "markdown",
      "source": [
        "The list of the keys is a view of the dictionary, meaning that any changes done to the dictionary will be reflected in the keys list.\n",
        "\n"
      ],
      "metadata": {
        "id": "eR7weRGmZn_p"
      }
    },
    {
      "cell_type": "markdown",
      "source": [
        "## <font color=\"lightblue\"> Example </font>\n",
        "Add a new item to the original dictionary, and see that the keys list gets updated as well:\n",
        "\n"
      ],
      "metadata": {
        "id": "SuCZPgyqZrGx"
      }
    },
    {
      "cell_type": "code",
      "execution_count": 12,
      "source": [
        "car = {\n",
        "\"brand\": \"Ford\",\n",
        "\"model\": \"Mustang\",\n",
        "\"year\": 1964\n",
        "}\n",
        "\n",
        "x = car.keys()\n",
        "\n",
        "print(x) #before the change\n",
        "\n",
        "car[\"color\"] = \"white\"\n",
        "\n",
        "print(x) #after the change"
      ],
      "outputs": [
        {
          "output_type": "stream",
          "name": "stdout",
          "text": [
            "dict_keys(['brand', 'model', 'year'])\n",
            "dict_keys(['brand', 'model', 'year', 'color'])\n"
          ]
        }
      ],
      "metadata": {
        "colab": {
          "base_uri": "https://localhost:8080/"
        },
        "id": "woehfnvwZs1v",
        "outputId": "f5bf31dd-1f79-418f-eefa-4c9abfa8998e"
      }
    },
    {
      "cell_type": "markdown",
      "source": [
        "## <font color=\"lightblue\"> Get Values </font>\n",
        "The **values()** method will return a list of all the values in the dictionary.\n",
        "\n"
      ],
      "metadata": {
        "id": "-34U-VibZ4ty"
      }
    },
    {
      "cell_type": "markdown",
      "source": [
        "## <font color=\"lightblue\"> Example </font>\n",
        "Get a list of the values:\n",
        "\n"
      ],
      "metadata": {
        "id": "WEvWfjf0aDvz"
      }
    },
    {
      "cell_type": "code",
      "execution_count": 13,
      "source": [
        "x = thisdict.values()\n"
      ],
      "outputs": [],
      "metadata": {
        "id": "quxbmKw6aISj"
      }
    },
    {
      "cell_type": "markdown",
      "source": [
        "The list of the values is a view of the dictionary, meaning that any changes done to the dictionary will be reflected in the values list.\n",
        "\n"
      ],
      "metadata": {
        "id": "5rIz9uB_aLmT"
      }
    },
    {
      "cell_type": "markdown",
      "source": [
        "## <font color=\"lightblue\"> Example </font>\n",
        "Make a change in the original dictionary, and see that the values list gets updated as well:\n",
        "\n"
      ],
      "metadata": {
        "id": "NiYUBPA5aaM3"
      }
    },
    {
      "cell_type": "code",
      "execution_count": 14,
      "source": [
        "car = {\n",
        "\"brand\": \"Ford\",\n",
        "\"model\": \"Mustang\",\n",
        "\"year\": 1964\n",
        "}\n",
        "\n",
        "x = car.values()\n",
        "\n",
        "print(x) #before the change\n",
        "\n",
        "car[\"year\"] = 2020\n",
        "\n",
        "print(x) #after the change\n"
      ],
      "outputs": [
        {
          "output_type": "stream",
          "name": "stdout",
          "text": [
            "dict_values(['Ford', 'Mustang', 1964])\n",
            "dict_values(['Ford', 'Mustang', 2020])\n"
          ]
        }
      ],
      "metadata": {
        "colab": {
          "base_uri": "https://localhost:8080/"
        },
        "id": "wdtW3b-Oadly",
        "outputId": "3a46db20-db74-4068-f94b-3b528edc9bd7"
      }
    },
    {
      "cell_type": "markdown",
      "source": [
        "## <font color=\"lightblue\"> Example </font>\n",
        "Add a new item to the original dictionary, and see that the values list gets updated as well:\n",
        "\n"
      ],
      "metadata": {
        "id": "oj6a2G4WboxG"
      }
    },
    {
      "cell_type": "code",
      "execution_count": 15,
      "source": [
        "car = {\n",
        "\"brand\": \"Ford\",\n",
        "\"model\": \"Mustang\",\n",
        "\"year\": 1964\n",
        "}\n",
        "\n",
        "x = car.values()\n",
        "\n",
        "print(x) #before the change\n",
        "\n",
        "car[\"color\"] = \"red\"\n",
        "\n",
        "print(x) #after the change\n"
      ],
      "outputs": [
        {
          "output_type": "stream",
          "name": "stdout",
          "text": [
            "dict_values(['Ford', 'Mustang', 1964])\n",
            "dict_values(['Ford', 'Mustang', 1964, 'red'])\n"
          ]
        }
      ],
      "metadata": {
        "colab": {
          "base_uri": "https://localhost:8080/"
        },
        "id": "Zmg4B04Wbq4A",
        "outputId": "2072e594-fcef-41eb-ad3b-b133f2643a60"
      }
    },
    {
      "cell_type": "markdown",
      "source": [
        "## <font color=\"lightblue\"> Get Items </font>\n",
        "The **items()** method will return each item in a dictionary, as tuples in a list.\n",
        "\n"
      ],
      "metadata": {
        "id": "UfvtJtu9bv_R"
      }
    },
    {
      "cell_type": "markdown",
      "source": [
        "## <font color=\"lightblue\"> Example </font>\n",
        "Get a list of the key:value pairs\n",
        "\n"
      ],
      "metadata": {
        "id": "ZwQ9vYoDb4Ak"
      }
    },
    {
      "cell_type": "code",
      "execution_count": 16,
      "source": [
        "x = thisdict.items()\n"
      ],
      "outputs": [],
      "metadata": {
        "id": "ubmTrMvGcx1v"
      }
    },
    {
      "cell_type": "markdown",
      "source": [
        "The returned list is a view of the items of the dictionary, meaning that any changes done to the dictionary will be reflected in the items list.\n",
        "\n"
      ],
      "metadata": {
        "id": "0ehH_RjEc2Ft"
      }
    },
    {
      "cell_type": "markdown",
      "source": [
        "## <font color=\"lightblue\"> Example </font>\n",
        "Make a change in the original dictionary, and see that the items list gets updated as well:\n",
        "\n"
      ],
      "metadata": {
        "id": "NKy0Yrh6c6sT"
      }
    },
    {
      "cell_type": "code",
      "execution_count": 17,
      "source": [
        "car = {\n",
        "\"brand\": \"Ford\",\n",
        "\"model\": \"Mustang\",\n",
        "\"year\": 1964\n",
        "}\n",
        "\n",
        "x = car.items()\n",
        "\n",
        "print(x) #before the change\n",
        "\n",
        "car[\"year\"] = 2020\n",
        "\n",
        "print(x) #after the change"
      ],
      "outputs": [
        {
          "output_type": "stream",
          "name": "stdout",
          "text": [
            "dict_items([('brand', 'Ford'), ('model', 'Mustang'), ('year', 1964)])\n",
            "dict_items([('brand', 'Ford'), ('model', 'Mustang'), ('year', 2020)])\n"
          ]
        }
      ],
      "metadata": {
        "colab": {
          "base_uri": "https://localhost:8080/"
        },
        "id": "kEBX66wVdA6O",
        "outputId": "8dc74213-58ff-4f3e-c32e-4edcf53c96a3"
      }
    },
    {
      "cell_type": "markdown",
      "source": [
        "## <font color=\"lightblue\"> Example </font>\n",
        "Add a new item to the original dictionary, and see that the items list gets updated as well:\n",
        "\n"
      ],
      "metadata": {
        "id": "irZFYPaudmA5"
      }
    },
    {
      "cell_type": "code",
      "execution_count": 18,
      "source": [
        "car = {\n",
        "\"brand\": \"Ford\",\n",
        "\"model\": \"Mustang\",\n",
        "\"year\": 1964\n",
        "}\n",
        "\n",
        "x = car.items()\n",
        "\n",
        "print(x) #before the change\n",
        "\n",
        "car[\"color\"] = \"red\"\n",
        "\n",
        "print(x) #after the change"
      ],
      "outputs": [
        {
          "output_type": "stream",
          "name": "stdout",
          "text": [
            "dict_items([('brand', 'Ford'), ('model', 'Mustang'), ('year', 1964)])\n",
            "dict_items([('brand', 'Ford'), ('model', 'Mustang'), ('year', 1964), ('color', 'red')])\n"
          ]
        }
      ],
      "metadata": {
        "colab": {
          "base_uri": "https://localhost:8080/"
        },
        "id": "VUetvZe9dwVN",
        "outputId": "f5034c6e-7691-42dc-8392-a0ce5c028cc2"
      }
    },
    {
      "cell_type": "markdown",
      "source": [
        "## <font color=\"lightblue\"> Check if Key Exists </font>\n",
        "To determine if a specified key is present in a dictionary use the **in** keyword:\n",
        "\n"
      ],
      "metadata": {
        "id": "1PAwbcTad1tx"
      }
    },
    {
      "cell_type": "markdown",
      "source": [
        "## <font color=\"lightblue\"> Example </font>\n",
        "Check if \"model\" is present in the dictionary:\n",
        "\n"
      ],
      "metadata": {
        "id": "6iPh8QeweO-O"
      }
    },
    {
      "cell_type": "code",
      "execution_count": 19,
      "source": [
        "thisdict = {\n",
        "  \"brand\": \"Ford\",\n",
        "  \"model\": \"Mustang\",\n",
        "  \"year\": 1964\n",
        "}\n",
        "if \"model\" in thisdict:\n",
        "  print(\"Yes, 'model' is one of the keys in the thisdict dictionary\")"
      ],
      "outputs": [
        {
          "output_type": "stream",
          "name": "stdout",
          "text": [
            "Yes, 'model' is one of the keys in the thisdict dictionary\n"
          ]
        }
      ],
      "metadata": {
        "id": "g_yFIdi0eRBd",
        "colab": {
          "base_uri": "https://localhost:8080/"
        },
        "outputId": "29315ea6-ee5b-49c8-a343-55b11b8a3959"
      }
    },
    {
      "cell_type": "markdown",
      "source": [
        "## <font color=\"lightblue\"> Python - Change Dictionary Items </font>\n"
      ],
      "metadata": {
        "id": "ViCfDlJDeu90"
      }
    },
    {
      "cell_type": "markdown",
      "source": [
        "## <font color=\"lightblue\"> Change Values </font>\n",
        "You can change the value of a specific item by referring to its key name:\n",
        "\n"
      ],
      "metadata": {
        "id": "hUPMAlsaes8H"
      }
    },
    {
      "cell_type": "markdown",
      "source": [
        "## <font color=\"lightblue\"> Example </font>\n",
        "Change the \"year\" to 2018:\n",
        "\n"
      ],
      "metadata": {
        "id": "TsPNGvingCJZ"
      }
    },
    {
      "cell_type": "code",
      "execution_count": 20,
      "source": [
        "thisdict = {\n",
        "  \"brand\": \"Ford\",\n",
        "  \"model\": \"Mustang\",\n",
        "  \"year\": 1964\n",
        "}\n",
        "thisdict[\"year\"] = 2018"
      ],
      "outputs": [],
      "metadata": {
        "id": "0ym9NU_ggIzH"
      }
    },
    {
      "cell_type": "markdown",
      "source": [
        "## <font color=\"lightblue\"> Update Dictionary </font>\n",
        "The **update()** method will update the dictionary with the items from the given argument.\n",
        "\n",
        "The argument must be a dictionary, or an iterable object with key:value pairs."
      ],
      "metadata": {
        "id": "r5sHl1vjgPUA"
      }
    },
    {
      "cell_type": "markdown",
      "source": [
        "## <font color=\"lightblue\"> Example </font>\n",
        "Update the \"year\" of the car by using the **update()** method:\n",
        "\n"
      ],
      "metadata": {
        "id": "PdYQANVzhAm2"
      }
    },
    {
      "cell_type": "code",
      "execution_count": 21,
      "source": [
        "thisdict = {\n",
        "  \"brand\": \"Ford\",\n",
        "  \"model\": \"Mustang\",\n",
        "  \"year\": 1964\n",
        "}\n",
        "thisdict.update({\"year\": 2020})"
      ],
      "outputs": [],
      "metadata": {
        "id": "pr9T4YYHhJ_M"
      }
    },
    {
      "cell_type": "markdown",
      "source": [
        "## <font color=\"lightblue\"> Python - Add Dictionary Items </font>\n"
      ],
      "metadata": {
        "id": "77866PgkhUgs"
      }
    },
    {
      "cell_type": "markdown",
      "source": [
        "## <font color=\"lightblue\"> Adding Items </font>\n",
        "Adding an item to the dictionary is done by using a new index key and assigning a value to it:\n",
        "\n"
      ],
      "metadata": {
        "id": "WHVVoGOMhX_3"
      }
    },
    {
      "cell_type": "markdown",
      "source": [
        "## <font color=\"lightblue\"> Example </font>\n"
      ],
      "metadata": {
        "id": "OY9DOqR2hl36"
      }
    },
    {
      "cell_type": "code",
      "execution_count": 22,
      "source": [
        "thisdict = {\n",
        "  \"brand\": \"Ford\",\n",
        "  \"model\": \"Mustang\",\n",
        "  \"year\": 1964\n",
        "}\n",
        "thisdict[\"color\"] = \"red\"\n",
        "print(thisdict)"
      ],
      "outputs": [
        {
          "output_type": "stream",
          "name": "stdout",
          "text": [
            "{'brand': 'Ford', 'model': 'Mustang', 'year': 1964, 'color': 'red'}\n"
          ]
        }
      ],
      "metadata": {
        "colab": {
          "base_uri": "https://localhost:8080/"
        },
        "id": "TLmuXirbhoYF",
        "outputId": "c9ec64bd-d9fb-4ee0-fd20-6015325782ff"
      }
    },
    {
      "cell_type": "markdown",
      "source": [
        "## <font color=\"lightblue\"> Update Dictionary </font>\n",
        "The **update()** method will update the dictionary with the items from a given argument. If the item does not exist, the item will be added.\n",
        "\n",
        "The argument must be a dictionary, or an iterable object with key:value pairs.\n",
        "\n"
      ],
      "metadata": {
        "id": "-S6cLuU2hr5N"
      }
    },
    {
      "cell_type": "markdown",
      "source": [
        "## <font color=\"lightblue\"> Example </font>\n",
        "Add a color item to the dictionary by using the **update()** method:\n",
        "\n"
      ],
      "metadata": {
        "id": "XhQ08li9h1fP"
      }
    },
    {
      "cell_type": "code",
      "execution_count": 23,
      "source": [
        "thisdict = {\n",
        "  \"brand\": \"Ford\",\n",
        "  \"model\": \"Mustang\",\n",
        "  \"year\": 1964\n",
        "}\n",
        "thisdict.update({\"color\": \"red\"})"
      ],
      "outputs": [],
      "metadata": {
        "id": "EQi0rcqoh429"
      }
    },
    {
      "cell_type": "markdown",
      "source": [
        "## <font color=\"lightblue\"> Python - Remove Dictionary Items </font>\n"
      ],
      "metadata": {
        "id": "MBwuYWdwiAmr"
      }
    },
    {
      "cell_type": "markdown",
      "source": [
        "## <font color=\"lightblue\"> Removing Items </font>\n",
        "There are several methods to remove items from a dictionary:\n",
        "\n"
      ],
      "metadata": {
        "id": "OvC9oALqiEAW"
      }
    },
    {
      "cell_type": "markdown",
      "source": [
        "## <font color=\"lightblue\"> Example </font>\n",
        "The **pop()** method removes the item with the specified key name:\n",
        "\n"
      ],
      "metadata": {
        "id": "5Dl753PuiIvb"
      }
    },
    {
      "cell_type": "code",
      "execution_count": 24,
      "source": [
        "thisdict = {\n",
        "  \"brand\": \"Ford\",\n",
        "  \"model\": \"Mustang\",\n",
        "  \"year\": 1964\n",
        "}\n",
        "thisdict.pop(\"model\")\n",
        "print(thisdict)\n"
      ],
      "outputs": [
        {
          "output_type": "stream",
          "name": "stdout",
          "text": [
            "{'brand': 'Ford', 'year': 1964}\n"
          ]
        }
      ],
      "metadata": {
        "colab": {
          "base_uri": "https://localhost:8080/"
        },
        "id": "lPcsy6zOiRsa",
        "outputId": "008ed011-6abe-4809-9cbe-406ac3bc6a05"
      }
    },
    {
      "cell_type": "markdown",
      "source": [
        "## <font color=\"lightblue\"> Example </font>\n",
        "The **popitem()** method removes the last inserted item (in versions before 3.7, a random item is removed instead):\n",
        "\n"
      ],
      "metadata": {
        "id": "5ESQouXdiWei"
      }
    },
    {
      "cell_type": "code",
      "execution_count": 25,
      "source": [
        "thisdict = {\n",
        "  \"brand\": \"Ford\",\n",
        "  \"model\": \"Mustang\",\n",
        "  \"year\": 1964\n",
        "}\n",
        "thisdict.popitem()\n",
        "print(thisdict)"
      ],
      "outputs": [
        {
          "output_type": "stream",
          "name": "stdout",
          "text": [
            "{'brand': 'Ford', 'model': 'Mustang'}\n"
          ]
        }
      ],
      "metadata": {
        "colab": {
          "base_uri": "https://localhost:8080/"
        },
        "id": "l7HRogvmiZ7u",
        "outputId": "2a04dca5-dde5-499f-f94f-bf46164784f7"
      }
    },
    {
      "cell_type": "markdown",
      "source": [
        "## <font color=\"lightblue\"> Example </font>\n",
        "The **del** keyword removes the item with the specified key name:\n",
        "\n"
      ],
      "metadata": {
        "id": "uZP1YhHmi4p3"
      }
    },
    {
      "cell_type": "code",
      "execution_count": 26,
      "source": [
        "thisdict = {\n",
        "  \"brand\": \"Ford\",\n",
        "  \"model\": \"Mustang\",\n",
        "  \"year\": 1964\n",
        "}\n",
        "del thisdict[\"model\"]\n",
        "print(thisdict)"
      ],
      "outputs": [
        {
          "output_type": "stream",
          "name": "stdout",
          "text": [
            "{'brand': 'Ford', 'year': 1964}\n"
          ]
        }
      ],
      "metadata": {
        "colab": {
          "base_uri": "https://localhost:8080/"
        },
        "id": "1HXoqTdri7Co",
        "outputId": "0940739a-0f07-446a-808c-0a888408a877"
      }
    },
    {
      "cell_type": "markdown",
      "source": [
        "## <font color=\"lightblue\"> Example </font>\n",
        "The **del** keyword can also delete the dictionary completely:\n",
        "\n"
      ],
      "metadata": {
        "id": "v-8N6CIJjey6"
      }
    },
    {
      "cell_type": "code",
      "execution_count": 27,
      "source": [
        "thisdict = {\n",
        "  \"brand\": \"Ford\",\n",
        "  \"model\": \"Mustang\",\n",
        "  \"year\": 1964\n",
        "}\n",
        "del thisdict\n",
        "print(thisdict) #this will cause an error because \"thisdict\" no longer exists."
      ],
      "outputs": [
        {
          "output_type": "error",
          "ename": "NameError",
          "evalue": "ignored",
          "traceback": [
            "\u001b[0;31m---------------------------------------------------------------------------\u001b[0m",
            "\u001b[0;31mNameError\u001b[0m                                 Traceback (most recent call last)",
            "\u001b[0;32m<ipython-input-27-cf8f189c2310>\u001b[0m in \u001b[0;36m<module>\u001b[0;34m()\u001b[0m\n\u001b[1;32m      5\u001b[0m }\n\u001b[1;32m      6\u001b[0m \u001b[0;32mdel\u001b[0m \u001b[0mthisdict\u001b[0m\u001b[0;34m\u001b[0m\u001b[0;34m\u001b[0m\u001b[0m\n\u001b[0;32m----> 7\u001b[0;31m \u001b[0mprint\u001b[0m\u001b[0;34m(\u001b[0m\u001b[0mthisdict\u001b[0m\u001b[0;34m)\u001b[0m \u001b[0;31m#this will cause an error because \"thisdict\" no longer exists.\u001b[0m\u001b[0;34m\u001b[0m\u001b[0;34m\u001b[0m\u001b[0m\n\u001b[0m",
            "\u001b[0;31mNameError\u001b[0m: name 'thisdict' is not defined"
          ]
        }
      ],
      "metadata": {
        "colab": {
          "base_uri": "https://localhost:8080/",
          "height": 207
        },
        "id": "ZVxfNV6DjhQc",
        "outputId": "8c91df24-40b2-4f11-ed6f-db909c46bff9"
      }
    },
    {
      "cell_type": "markdown",
      "source": [
        "## <font color=\"lightblue\"> Example </font>\n",
        "The **clear()** method empties the dictionary:\n",
        "\n"
      ],
      "metadata": {
        "id": "GzvaWq-9kkzf"
      }
    },
    {
      "cell_type": "code",
      "execution_count": null,
      "source": [
        "thisdict = {\n",
        "  \"brand\": \"Ford\",\n",
        "  \"model\": \"Mustang\",\n",
        "  \"year\": 1964\n",
        "}\n",
        "thisdict.clear()\n",
        "print(thisdict)"
      ],
      "outputs": [],
      "metadata": {
        "id": "dKZO6w0Ykpoi"
      }
    },
    {
      "cell_type": "markdown",
      "source": [
        "## <font color=\"lightblue\"> Python - Loop Dictionaries </font>\n"
      ],
      "metadata": {
        "id": "pvyYGqzXkuSo"
      }
    },
    {
      "cell_type": "markdown",
      "source": [
        "## <font color=\"lightblue\">Loop Through a Dictionary </font>\n",
        "You can loop through a dictionary by using a for loop.\n",
        "\n",
        "When looping through a dictionary, the return value are the keys of the dictionary, but there are methods to return the values as well."
      ],
      "metadata": {
        "id": "0J1asEKWkwJj"
      }
    },
    {
      "cell_type": "markdown",
      "source": [
        "## <font color=\"lightblue\"> Example </font>\n",
        "Print all key names in the dictionary, one by one:\n",
        "\n"
      ],
      "metadata": {
        "id": "hzsmdVuMllAK"
      }
    },
    {
      "cell_type": "code",
      "execution_count": null,
      "source": [
        "for x in thisdict:\n",
        "  print(x)\n"
      ],
      "outputs": [],
      "metadata": {
        "id": "rS69xylJlph_"
      }
    },
    {
      "cell_type": "markdown",
      "source": [
        "## <font color=\"lightblue\"> Example </font>\n",
        "Print all values in the dictionary, one by one:\n",
        "\n"
      ],
      "metadata": {
        "id": "3-9pakRPlsbq"
      }
    },
    {
      "cell_type": "code",
      "execution_count": null,
      "source": [
        "for x in thisdict:\n",
        "  print(thisdict[x])"
      ],
      "outputs": [],
      "metadata": {
        "id": "rPcjahH3luI9"
      }
    },
    {
      "cell_type": "markdown",
      "source": [
        "## <font color=\"lightblue\"> Example </font>\n",
        "You can also use the **values()** method to return values of a dictionary:\n",
        "\n"
      ],
      "metadata": {
        "id": "mNpCTjAClzGy"
      }
    },
    {
      "cell_type": "code",
      "execution_count": null,
      "source": [
        "for x in thisdict.values():\n",
        "  print(x)\n"
      ],
      "outputs": [],
      "metadata": {
        "id": "7QZZe8-il1qA"
      }
    },
    {
      "cell_type": "markdown",
      "source": [
        "## <font color=\"lightblue\"> Example </font>\n",
        "You can use the **keys()** method to return the keys of a dictionary:\n",
        "\n"
      ],
      "metadata": {
        "id": "o9i4Tj2nl8rM"
      }
    },
    {
      "cell_type": "code",
      "execution_count": null,
      "source": [
        "for x in thisdict.keys():\n",
        "  print(x)"
      ],
      "outputs": [],
      "metadata": {
        "id": "EMVZ-YIrmTXa"
      }
    },
    {
      "cell_type": "markdown",
      "source": [
        "## <font color=\"lightblue\"> Example </font>\n",
        "Loop through both keys and values, by using the **items()** method:\n",
        "\n"
      ],
      "metadata": {
        "id": "rJFIUI8XmNnR"
      }
    },
    {
      "cell_type": "code",
      "execution_count": null,
      "source": [
        "for x, y in thisdict.items():\n",
        "  print(x, y)"
      ],
      "outputs": [],
      "metadata": {
        "id": "OGbIe1ssmgEb"
      }
    },
    {
      "cell_type": "markdown",
      "source": [
        "## <font color=\"lightblue\"> Python - Copy Dictionaries </font>\n"
      ],
      "metadata": {
        "id": "11FegzPqmtC3"
      }
    },
    {
      "cell_type": "markdown",
      "source": [
        "## <font color=\"lightblue\"> Copy a Dictionary </font>\n",
        "You cannot copy a dictionary simply by typing **dict2 = dict1**, because: **dict2** will only be a reference to **dict1**, and changes made in **dict1** will automatically also be made in **dict2**.\n",
        "\n",
        "There are ways to make a copy, one way is to use the built-in Dictionary method **copy()**.\n",
        "\n"
      ],
      "metadata": {
        "id": "aJ4o4fjmmwYa"
      }
    },
    {
      "cell_type": "markdown",
      "source": [
        "## <font color=\"lightblue\"> Example </font>\n",
        "Make a copy of a dictionary with the **copy()** method:\n",
        "\n"
      ],
      "metadata": {
        "id": "5o4O1YPfnZFJ"
      }
    },
    {
      "cell_type": "code",
      "execution_count": null,
      "source": [
        "thisdict = {\n",
        "  \"brand\": \"Ford\",\n",
        "  \"model\": \"Mustang\",\n",
        "  \"year\": 1964\n",
        "}\n",
        "mydict = thisdict.copy()\n",
        "print(mydict)"
      ],
      "outputs": [],
      "metadata": {
        "id": "LM4GH0gkngoN"
      }
    },
    {
      "cell_type": "markdown",
      "source": [
        "Another way to make a copy is to use the built-in function **dict()**.\n",
        "\n"
      ],
      "metadata": {
        "id": "GRLsRM7ZnoW9"
      }
    },
    {
      "cell_type": "markdown",
      "source": [
        "## <font color=\"lightblue\"> Example </font>\n",
        "Make a copy of a dictionary with the **dict()** function:\n",
        "\n"
      ],
      "metadata": {
        "id": "s_Zw8lRXnmE2"
      }
    },
    {
      "cell_type": "code",
      "execution_count": null,
      "source": [
        "thisdict = {\n",
        "  \"brand\": \"Ford\",\n",
        "  \"model\": \"Mustang\",\n",
        "  \"year\": 1964\n",
        "}\n",
        "mydict = dict(thisdict)\n",
        "print(mydict)"
      ],
      "outputs": [],
      "metadata": {
        "id": "s8Aq1tFLnvpd"
      }
    },
    {
      "cell_type": "markdown",
      "source": [
        "## <font color=\"lightblue\"> Python - Nested Dictionaries </font>\n",
        "A dictionary can contain dictionaries, this is called nested dictionaries.\n",
        "\n"
      ],
      "metadata": {
        "id": "ITnA67NAn0e3"
      }
    },
    {
      "cell_type": "markdown",
      "source": [
        "## <font color=\"lightblue\"> Example </font>\n",
        "Create a dictionary that contain three dictionaries:\n",
        "\n"
      ],
      "metadata": {
        "id": "RXRFOxTZn2cc"
      }
    },
    {
      "cell_type": "code",
      "execution_count": null,
      "source": [
        "myfamily = {\n",
        "  \"child1\" : {\n",
        "    \"name\" : \"Emil\",\n",
        "    \"year\" : 2004\n",
        "  },\n",
        "  \"child2\" : {\n",
        "    \"name\" : \"Tobias\",\n",
        "    \"year\" : 2007\n",
        "  },\n",
        "  \"child3\" : {\n",
        "    \"name\" : \"Linus\",\n",
        "    \"year\" : 2011\n",
        "  }\n",
        "}"
      ],
      "outputs": [],
      "metadata": {
        "id": "oZ2oDA_6oHlX"
      }
    },
    {
      "cell_type": "markdown",
      "source": [
        "Or, if you want to add three dictionaries into a new dictionary:\n",
        "\n"
      ],
      "metadata": {
        "id": "1KagNQSsoMry"
      }
    },
    {
      "cell_type": "markdown",
      "source": [
        "## <font color=\"lightblue\"> Example </font>\n",
        "Create three dictionaries, then create one dictionary that will contain the other three dictionaries:\n",
        "\n"
      ],
      "metadata": {
        "id": "jOVdW_Dpn5Jn"
      }
    },
    {
      "cell_type": "code",
      "execution_count": null,
      "source": [
        "child1 = {\n",
        "  \"name\" : \"Emil\",\n",
        "  \"year\" : 2004\n",
        "}\n",
        "child2 = {\n",
        "  \"name\" : \"Tobias\",\n",
        "  \"year\" : 2007\n",
        "}\n",
        "child3 = {\n",
        "  \"name\" : \"Linus\",\n",
        "  \"year\" : 2011\n",
        "}\n",
        "\n",
        "myfamily = {\n",
        "  \"child1\" : child1,\n",
        "  \"child2\" : child2,\n",
        "  \"child3\" : child3\n",
        "}"
      ],
      "outputs": [],
      "metadata": {
        "id": "PBWSifDVoPTH"
      }
    }
  ]
}