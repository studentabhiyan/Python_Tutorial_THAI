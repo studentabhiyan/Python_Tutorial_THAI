{
 "cells": [
  {
   "cell_type": "markdown",
   "source": [
    "# Python - Remove Dictionary Items"
   ],
   "metadata": {}
  },
  {
   "cell_type": "markdown",
   "source": [
    "## Removing Items\r\n",
    "There are several methods to remove items from a dictionary:"
   ],
   "metadata": {}
  },
  {
   "cell_type": "markdown",
   "source": [
    "## Example\r\n",
    "The pop() method removes the item with the specified key name:"
   ],
   "metadata": {}
  },
  {
   "cell_type": "code",
   "execution_count": 1,
   "source": [
    "thisdict = {\r\n",
    "  \"brand\": \"Ford\",\r\n",
    "  \"model\": \"Mustang\",\r\n",
    "  \"year\": 1964\r\n",
    "}\r\n",
    "thisdict.pop(\"model\")\r\n",
    "print(thisdict)"
   ],
   "outputs": [
    {
     "output_type": "stream",
     "name": "stdout",
     "text": [
      "{'brand': 'Ford', 'year': 1964}\n"
     ]
    }
   ],
   "metadata": {}
  },
  {
   "cell_type": "markdown",
   "source": [
    "## Example\r\n",
    "The popitem() method removes the last inserted item (in versions before 3.7, a random item is removed instead):"
   ],
   "metadata": {}
  },
  {
   "cell_type": "code",
   "execution_count": 2,
   "source": [
    "thisdict = {\r\n",
    "  \"brand\": \"Ford\",\r\n",
    "  \"model\": \"Mustang\",\r\n",
    "  \"year\": 1964\r\n",
    "}\r\n",
    "thisdict.popitem()\r\n",
    "print(thisdict)"
   ],
   "outputs": [
    {
     "output_type": "stream",
     "name": "stdout",
     "text": [
      "{'brand': 'Ford', 'model': 'Mustang'}\n"
     ]
    }
   ],
   "metadata": {}
  },
  {
   "cell_type": "markdown",
   "source": [
    "## Example\r\n",
    "The del keyword removes the item with the specified key name:"
   ],
   "metadata": {}
  },
  {
   "cell_type": "code",
   "execution_count": 3,
   "source": [
    "thisdict = {\r\n",
    "  \"brand\": \"Ford\",\r\n",
    "  \"model\": \"Mustang\",\r\n",
    "  \"year\": 1964\r\n",
    "}\r\n",
    "del thisdict[\"model\"]\r\n",
    "print(thisdict)"
   ],
   "outputs": [
    {
     "output_type": "stream",
     "name": "stdout",
     "text": [
      "{'brand': 'Ford', 'year': 1964}\n"
     ]
    }
   ],
   "metadata": {}
  },
  {
   "cell_type": "markdown",
   "source": [
    "## Example\r\n",
    "The del keyword can also delete the dictionary completely:"
   ],
   "metadata": {}
  },
  {
   "cell_type": "code",
   "execution_count": 4,
   "source": [
    "thisdict = {\r\n",
    "  \"brand\": \"Ford\",\r\n",
    "  \"model\": \"Mustang\",\r\n",
    "  \"year\": 1964\r\n",
    "}\r\n",
    "del thisdict\r\n",
    "print(thisdict) #this will cause an error because \"thisdict\" no longer exists."
   ],
   "outputs": [
    {
     "output_type": "error",
     "ename": "NameError",
     "evalue": "name 'thisdict' is not defined",
     "traceback": [
      "\u001b[1;31m---------------------------------------------------------------------------\u001b[0m",
      "\u001b[1;31mNameError\u001b[0m                                 Traceback (most recent call last)",
      "\u001b[1;32m<ipython-input-4-8e1491dc0a95>\u001b[0m in \u001b[0;36m<module>\u001b[1;34m\u001b[0m\n\u001b[0;32m      5\u001b[0m }\n\u001b[0;32m      6\u001b[0m \u001b[1;32mdel\u001b[0m \u001b[0mthisdict\u001b[0m\u001b[1;33m\u001b[0m\u001b[1;33m\u001b[0m\u001b[0m\n\u001b[1;32m----> 7\u001b[1;33m \u001b[0mprint\u001b[0m\u001b[1;33m(\u001b[0m\u001b[0mthisdict\u001b[0m\u001b[1;33m)\u001b[0m \u001b[1;31m#this will cause an error because \"thisdict\" no longer exists.\u001b[0m\u001b[1;33m\u001b[0m\u001b[1;33m\u001b[0m\u001b[0m\n\u001b[0m",
      "\u001b[1;31mNameError\u001b[0m: name 'thisdict' is not defined"
     ]
    }
   ],
   "metadata": {}
  },
  {
   "cell_type": "markdown",
   "source": [
    "## Example\r\n",
    "The clear() method empties the dictionary:"
   ],
   "metadata": {}
  },
  {
   "cell_type": "code",
   "execution_count": null,
   "source": [
    "thisdict = {\r\n",
    "  \"brand\": \"Ford\",\r\n",
    "  \"model\": \"Mustang\",\r\n",
    "  \"year\": 1964\r\n",
    "}\r\n",
    "thisdict.clear()\r\n",
    "print(thisdict)"
   ],
   "outputs": [],
   "metadata": {}
  }
 ],
 "metadata": {
  "orig_nbformat": 4,
  "language_info": {
   "name": "python",
   "version": "3.8.5",
   "mimetype": "text/x-python",
   "codemirror_mode": {
    "name": "ipython",
    "version": 3
   },
   "pygments_lexer": "ipython3",
   "nbconvert_exporter": "python",
   "file_extension": ".py"
  },
  "kernelspec": {
   "name": "python3",
   "display_name": "Python 3.8.5 64-bit"
  },
  "interpreter": {
   "hash": "00034aa5cd6c44013b830fd98c7a620a61a498e75425ca81fcc1166b84a69895"
  }
 },
 "nbformat": 4,
 "nbformat_minor": 2
}