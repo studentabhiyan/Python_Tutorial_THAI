{
 "cells": [
  {
   "cell_type": "markdown",
   "source": [
    "# Python - Nested Dictionaries"
   ],
   "metadata": {}
  },
  {
   "cell_type": "markdown",
   "source": [
    "## Nested Dictionaries\r\n",
    "A dictionary can contain dictionaries, this is called nested dictionaries."
   ],
   "metadata": {}
  },
  {
   "cell_type": "markdown",
   "source": [
    "## Example\r\n",
    "Create a dictionary that contain three dictionaries:"
   ],
   "metadata": {}
  },
  {
   "cell_type": "code",
   "execution_count": 1,
   "source": [
    "myfamily = {\r\n",
    "  \"child1\" : {\r\n",
    "    \"name\" : \"Emil\",\r\n",
    "    \"year\" : 2004\r\n",
    "  },\r\n",
    "  \"child2\" : {\r\n",
    "    \"name\" : \"Tobias\",\r\n",
    "    \"year\" : 2007\r\n",
    "  },\r\n",
    "  \"child3\" : {\r\n",
    "    \"name\" : \"Linus\",\r\n",
    "    \"year\" : 2011\r\n",
    "  }\r\n",
    "}"
   ],
   "outputs": [],
   "metadata": {}
  },
  {
   "cell_type": "markdown",
   "source": [
    "Or, if you want to add three dictionaries into a new dictionary:"
   ],
   "metadata": {}
  },
  {
   "cell_type": "markdown",
   "source": [
    "## Example\r\n",
    "Create three dictionaries, then create one dictionary that will contain the other three dictionaries:"
   ],
   "metadata": {}
  },
  {
   "cell_type": "code",
   "execution_count": 2,
   "source": [
    "child1 = {\r\n",
    "  \"name\" : \"Emil\",\r\n",
    "  \"year\" : 2004\r\n",
    "}\r\n",
    "child2 = {\r\n",
    "  \"name\" : \"Tobias\",\r\n",
    "  \"year\" : 2007\r\n",
    "}\r\n",
    "child3 = {\r\n",
    "  \"name\" : \"Linus\",\r\n",
    "  \"year\" : 2011\r\n",
    "}\r\n",
    "\r\n",
    "myfamily = {\r\n",
    "  \"child1\" : child1,\r\n",
    "  \"child2\" : child2,\r\n",
    "  \"child3\" : child3\r\n",
    "}"
   ],
   "outputs": [],
   "metadata": {}
  }
 ],
 "metadata": {
  "orig_nbformat": 4,
  "language_info": {
   "name": "python",
   "version": "3.8.5",
   "mimetype": "text/x-python",
   "codemirror_mode": {
    "name": "ipython",
    "version": 3
   },
   "pygments_lexer": "ipython3",
   "nbconvert_exporter": "python",
   "file_extension": ".py"
  },
  "kernelspec": {
   "name": "python3",
   "display_name": "Python 3.8.5 64-bit"
  },
  "interpreter": {
   "hash": "00034aa5cd6c44013b830fd98c7a620a61a498e75425ca81fcc1166b84a69895"
  }
 },
 "nbformat": 4,
 "nbformat_minor": 2
}