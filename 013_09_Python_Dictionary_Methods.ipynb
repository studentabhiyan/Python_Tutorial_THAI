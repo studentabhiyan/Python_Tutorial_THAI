{
 "cells": [
  {
   "cell_type": "markdown",
   "source": [
    "# Python Dictionary Methods"
   ],
   "metadata": {}
  },
  {
   "cell_type": "markdown",
   "source": [
    "## Dictionary Methods\r\n",
    "Python has a set of built-in methods that you can use on dictionaries."
   ],
   "metadata": {}
  },
  {
   "cell_type": "markdown",
   "source": [
    "Method\tDescription\r\n",
    "clear()\tRemoves all the elements from the dictionary\r\n",
    "\r\n",
    "copy()\tReturns a copy of the dictionary\r\n",
    "\r\n",
    "fromkeys()\tReturns a dictionary with the specified keys and value\r\n",
    "\r\n",
    "get()\tReturns the value of the specified key\r\n",
    "\r\n",
    "items()\tReturns a list containing a tuple for each key value pair\r\n",
    "\r\n",
    "keys()\tReturns a list containing the dictionary's keys\r\n",
    "\r\n",
    "pop()\tRemoves the element with the specified key\r\n",
    "\r\n",
    "popitem()\tRemoves the last inserted key-value pair\r\n",
    "\r\n",
    "setdefault()\tReturns the value of the specified key. If the key does not exist: insert the key, with the specified value\r\n",
    "\r\n",
    "update()\tUpdates the dictionary with the specified key-value pairs\r\n",
    "\r\n",
    "values()\tReturns a list of all the values in the dictionary"
   ],
   "metadata": {}
  }
 ],
 "metadata": {
  "orig_nbformat": 4,
  "language_info": {
   "name": "python",
   "version": "3.8.5"
  },
  "kernelspec": {
   "name": "python3",
   "display_name": "Python 3.8.5 64-bit"
  },
  "interpreter": {
   "hash": "00034aa5cd6c44013b830fd98c7a620a61a498e75425ca81fcc1166b84a69895"
  }
 },
 "nbformat": 4,
 "nbformat_minor": 2
}