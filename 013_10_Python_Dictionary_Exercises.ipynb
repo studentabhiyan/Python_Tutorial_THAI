{
 "cells": [
  {
   "cell_type": "markdown",
   "source": [
    "# Python Dictionary Exercises"
   ],
   "metadata": {}
  },
  {
   "cell_type": "markdown",
   "source": [
    "## Test Yourself With Exercises\r\n",
    "Now you have learned a lot about dictionaries, and how to use them in Python.\r\n",
    "\r\n",
    "Are you ready for a test?\r\n",
    "\r\n",
    "Try to insert the missing part to make the code work as expected:"
   ],
   "metadata": {}
  },
  {
   "cell_type": "markdown",
   "source": [
    "## Exercise:\r\n",
    "Use the get method to print the value of the \"model\" key of the car dictionary."
   ],
   "metadata": {}
  },
  {
   "cell_type": "code",
   "execution_count": 1,
   "source": [
    "car =\t{\r\n",
    "  \"brand\": \"Ford\",\r\n",
    "  \"model\": \"Mustang\",\r\n",
    "  \"year\": 1964\r\n",
    "}\r\n",
    "\r\n",
    "# your code here, replace __ with your answer\r\n",
    "print(__)"
   ],
   "outputs": [
    {
     "output_type": "stream",
     "name": "stdout",
     "text": [
      "\n"
     ]
    }
   ],
   "metadata": {}
  }
 ],
 "metadata": {
  "orig_nbformat": 4,
  "language_info": {
   "name": "python",
   "version": "3.8.5",
   "mimetype": "text/x-python",
   "codemirror_mode": {
    "name": "ipython",
    "version": 3
   },
   "pygments_lexer": "ipython3",
   "nbconvert_exporter": "python",
   "file_extension": ".py"
  },
  "kernelspec": {
   "name": "python3",
   "display_name": "Python 3.8.5 64-bit"
  },
  "interpreter": {
   "hash": "00034aa5cd6c44013b830fd98c7a620a61a498e75425ca81fcc1166b84a69895"
  }
 },
 "nbformat": 4,
 "nbformat_minor": 2
}