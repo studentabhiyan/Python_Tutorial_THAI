{
  "nbformat": 4,
  "nbformat_minor": 0,
  "metadata": {
    "colab": {
      "name": "Python Lambda.ipynb",
      "provenance": []
    },
    "kernelspec": {
      "name": "python3",
      "display_name": "Python 3"
    },
    "language_info": {
      "name": "python"
    }
  },
  "cells": [
    {
      "cell_type": "markdown",
      "metadata": {
        "id": "XS325Ele94Tb"
      },
      "source": [
        "## <font color=\"lightblue\"> Python Lambda </font>\n"
      ]
    },
    {
      "cell_type": "markdown",
      "metadata": {
        "id": "HoMm7T97-XP8"
      },
      "source": [
        "A lambda function is a small anonymous function.\n",
        "\n",
        "A lambda function can take any number of arguments, but can only have one expression."
      ]
    },
    {
      "cell_type": "markdown",
      "metadata": {
        "id": "DACKb5gK9-t7"
      },
      "source": [
        "## <font color=\"lightblue\"> Syntax </font>\n",
        "lambda arguments : expression\n",
        "\n",
        "The expression is executed and the result is returned:"
      ]
    },
    {
      "cell_type": "markdown",
      "metadata": {
        "id": "HmrzbnHC-AXj"
      },
      "source": [
        "## <font color=\"lightblue\"> Example </font>\n",
        "Add 10 to argument **a**, and return the result:"
      ]
    },
    {
      "cell_type": "code",
      "metadata": {
        "colab": {
          "base_uri": "https://localhost:8080/"
        },
        "id": "VFU1Cv1J-ifb",
        "outputId": "5ad2ebb9-d34c-4f4d-b757-9f050128f7a0"
      },
      "source": [
        "x = lambda a : a + 10\n",
        "print(x(5))"
      ],
      "execution_count": null,
      "outputs": [
        {
          "output_type": "stream",
          "name": "stdout",
          "text": [
            "15\n"
          ]
        }
      ]
    },
    {
      "cell_type": "markdown",
      "metadata": {
        "id": "v3uOxSSx-n9h"
      },
      "source": [
        "Lambda functions can take any number of arguments:"
      ]
    },
    {
      "cell_type": "markdown",
      "metadata": {
        "id": "TE0smLH_-Ayw"
      },
      "source": [
        "## <font color=\"lightblue\"> Example </font>\n",
        "Multiply argument **a** with argument **b** and return the result:"
      ]
    },
    {
      "cell_type": "code",
      "metadata": {
        "colab": {
          "base_uri": "https://localhost:8080/"
        },
        "id": "fmIU9cfa9w0b",
        "outputId": "1bd98cd7-4962-43f6-a7ad-44fb76b9bc10"
      },
      "source": [
        "x = lambda a, b : a * b\n",
        "print(x(5, 6))"
      ],
      "execution_count": null,
      "outputs": [
        {
          "output_type": "stream",
          "name": "stdout",
          "text": [
            "30\n"
          ]
        }
      ]
    },
    {
      "cell_type": "markdown",
      "metadata": {
        "id": "8zrfD0XB-C0j"
      },
      "source": [
        ""
      ]
    },
    {
      "cell_type": "markdown",
      "metadata": {
        "id": "SbICFX7Q-Dpv"
      },
      "source": [
        "## <font color=\"lightblue\"> Example </font>\n",
        "Summarize argument **a**, **b**, and **c** and return the result:"
      ]
    },
    {
      "cell_type": "code",
      "metadata": {
        "colab": {
          "base_uri": "https://localhost:8080/"
        },
        "id": "0f-2YasV-FWL",
        "outputId": "a677cc15-2005-43da-a7d0-7ee86ee8799f"
      },
      "source": [
        "x = lambda a, b, c : a + b + c\n",
        "print(x(5, 6, 2))"
      ],
      "execution_count": null,
      "outputs": [
        {
          "output_type": "stream",
          "name": "stdout",
          "text": [
            "13\n"
          ]
        }
      ]
    },
    {
      "cell_type": "markdown",
      "metadata": {
        "id": "cafFZnbM-F0o"
      },
      "source": [
        "## <font color=\"lightblue\"> Why Use Lambda Functions? </font>\n",
        "The power of lambda is better shown when you use them as an anonymous function inside another function.\n",
        "\n",
        "Say you have a function definition that takes one argument, and that argument will be multiplied with an unknown number:\n",
        "\n"
      ]
    },
    {
      "cell_type": "code",
      "metadata": {
        "id": "K43-6c7F_A-R"
      },
      "source": [
        "def myfunc(n):\n",
        "  return lambda a : a * n"
      ],
      "execution_count": null,
      "outputs": []
    },
    {
      "cell_type": "markdown",
      "metadata": {
        "id": "nO9lF76U_GT4"
      },
      "source": [
        "Use that function definition to make a function that always doubles the number you send in:\n",
        "\n"
      ]
    },
    {
      "cell_type": "code",
      "metadata": {
        "colab": {
          "base_uri": "https://localhost:8080/"
        },
        "id": "xT6fqnnS_I8L",
        "outputId": "40b081a3-865b-4dc2-f9f4-6a725ca05699"
      },
      "source": [
        "def myfunc(n):\n",
        "  return lambda a : a * n\n",
        "\n",
        "mydoubler = myfunc(2)\n",
        "\n",
        "print(mydoubler(11))"
      ],
      "execution_count": null,
      "outputs": [
        {
          "output_type": "stream",
          "name": "stdout",
          "text": [
            "22\n"
          ]
        }
      ]
    },
    {
      "cell_type": "markdown",
      "metadata": {
        "id": "Myt1k4HU_Lnq"
      },
      "source": [
        "Or, use the same function definition to make a function that always triples the number you send in:\n",
        "\n"
      ]
    },
    {
      "cell_type": "code",
      "metadata": {
        "colab": {
          "base_uri": "https://localhost:8080/"
        },
        "id": "qVj2SeN7_OmB",
        "outputId": "f9fd10ff-b67c-4ff6-cbec-4198bafcfd0b"
      },
      "source": [
        "def myfunc(n):\n",
        "  return lambda a : a * n\n",
        "\n",
        "mytripler = myfunc(3)\n",
        "\n",
        "print(mytripler(11))"
      ],
      "execution_count": null,
      "outputs": [
        {
          "output_type": "stream",
          "name": "stdout",
          "text": [
            "33\n"
          ]
        }
      ]
    },
    {
      "cell_type": "markdown",
      "metadata": {
        "id": "-tyVqluG_SFK"
      },
      "source": [
        "Or, use the same function definition to make both functions, in the same program:\n",
        "\n"
      ]
    },
    {
      "cell_type": "code",
      "metadata": {
        "id": "W84TDnNT_U_t",
        "colab": {
          "base_uri": "https://localhost:8080/"
        },
        "outputId": "90c1f950-b42f-4cb7-b5b0-5b040c723d19"
      },
      "source": [
        "def myfunc(n):\n",
        "  return lambda a : a * n\n",
        "\n",
        "mydoubler = myfunc(2)\n",
        "mytripler = myfunc(3)\n",
        "\n",
        "print(mydoubler(11))\n",
        "print(mytripler(11))"
      ],
      "execution_count": null,
      "outputs": [
        {
          "output_type": "stream",
          "name": "stdout",
          "text": [
            "22\n",
            "33\n"
          ]
        }
      ]
    }
  ]
}