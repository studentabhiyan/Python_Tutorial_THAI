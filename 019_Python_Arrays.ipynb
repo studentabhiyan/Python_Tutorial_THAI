{
  "nbformat": 4,
  "nbformat_minor": 0,
  "metadata": {
    "colab": {
      "name": "Python Arrays.ipynb",
      "provenance": [],
      "collapsed_sections": []
    },
    "kernelspec": {
      "name": "python3",
      "display_name": "Python 3"
    },
    "language_info": {
      "name": "python"
    }
  },
  "cells": [
    {
      "cell_type": "markdown",
      "metadata": {
        "id": "rtIIlsl__qqD"
      },
      "source": [
        "## <font color=\"lightblue\"> Python Arrays </font>\n"
      ]
    },
    {
      "cell_type": "markdown",
      "metadata": {
        "id": "QcF1FhcS_s8D"
      },
      "source": [
        "## <font color=\"lightblue\"> Arrays </font>\n",
        "\n"
      ]
    },
    {
      "cell_type": "markdown",
      "metadata": {
        "id": "-pXKoH8U_sIF"
      },
      "source": [
        "Arrays are used to store multiple values in one single variable:\n",
        "\n"
      ]
    },
    {
      "cell_type": "markdown",
      "metadata": {
        "id": "nSKIMjNu_tq6"
      },
      "source": [
        "## <font color=\"lightblue\"> Example </font>\n",
        "Create an array containing car names:\n"
      ]
    },
    {
      "cell_type": "code",
      "metadata": {
        "id": "6A0NtqZ4_pWh"
      },
      "source": [
        "cars = [\"Ford\", \"Volvo\", \"BMW\"]"
      ],
      "execution_count": null,
      "outputs": []
    },
    {
      "cell_type": "markdown",
      "metadata": {
        "id": "wLCugyqo_2-o"
      },
      "source": [
        "## <font color=\"lightblue\"> What is an Array? </font>\n",
        "An array is a special variable, which can hold more than one value at a time.\n",
        "\n",
        "If you have a list of items (a list of car names, for example), storing the cars in single variables could look like this:\n",
        "\n",
        "car1 = \"**Ford**\"\n",
        "\n",
        "car2 = \"**Volvo**\"\n",
        "\n",
        "car3 = \"**BMW**\"\n",
        "\n",
        "However, what if you want to loop through the cars and find a specific one? And what if you had not 3 cars, but 300?\n",
        "\n",
        "The solution is an array!\n",
        "\n",
        "An array can hold many values under a single name, and you can access the values by referring to an index number.\n",
        "\n"
      ]
    },
    {
      "cell_type": "markdown",
      "metadata": {
        "id": "EgsSaHhr_4f1"
      },
      "source": [
        "## <font color=\"lightblue\"> Access the Elements of an Array </font>\n",
        "You refer to an array element by referring to the index number.\n",
        "\n"
      ]
    },
    {
      "cell_type": "markdown",
      "metadata": {
        "id": "79v8RcPq_5Ij"
      },
      "source": [
        "## <font color=\"lightblue\"> Example </font>\n",
        "Get the value of the first array item:\n",
        "\n"
      ]
    },
    {
      "cell_type": "code",
      "metadata": {
        "id": "MW9jmYub_58T"
      },
      "source": [
        "x = cars[0]"
      ],
      "execution_count": null,
      "outputs": []
    },
    {
      "cell_type": "markdown",
      "metadata": {
        "id": "SXXv4pu9_7a1"
      },
      "source": [
        "## <font color=\"lightblue\"> Example </font>\n",
        "Modify the value of the first array item:\n",
        "\n"
      ]
    },
    {
      "cell_type": "code",
      "metadata": {
        "id": "yTwKQjUUBQT9"
      },
      "source": [
        "cars[0] = \"Toyota\""
      ],
      "execution_count": null,
      "outputs": []
    },
    {
      "cell_type": "markdown",
      "metadata": {
        "id": "siwQb8MU__AF"
      },
      "source": [
        "## <font color=\"lightblue\"> The Length of an Array </font>\n",
        "Use the **len()** method to return the length of an array (the number of elements in an array).\n",
        "\n"
      ]
    },
    {
      "cell_type": "markdown",
      "metadata": {
        "id": "QgiawWXmACvh"
      },
      "source": [
        "## <font color=\"lightblue\"> Example </font>\n",
        "Return the number of elements in the **cars** array:\n",
        "\n"
      ]
    },
    {
      "cell_type": "code",
      "metadata": {
        "id": "RU4l-E94AAWu"
      },
      "source": [
        "x = len(cars)"
      ],
      "execution_count": null,
      "outputs": []
    }
  ]
}