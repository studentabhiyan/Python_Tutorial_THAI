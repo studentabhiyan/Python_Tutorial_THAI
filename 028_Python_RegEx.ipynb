{
 "cells": [
  {
   "cell_type": "markdown",
   "source": [
    "# Python RegEx"
   ],
   "metadata": {}
  },
  {
   "cell_type": "markdown",
   "source": [
    "A RegEx, or Regular Expression, is a sequence of characters that forms a search pattern.\r\n",
    "\r\n",
    "RegEx can be used to check if a string contains the specified search pattern."
   ],
   "metadata": {}
  },
  {
   "cell_type": "markdown",
   "source": [
    "## RegEx Module\r\n",
    "Python has a built-in package called re, which can be used to work with Regular Expressions.\r\n",
    "\r\n",
    "Import the re module:"
   ],
   "metadata": {}
  },
  {
   "cell_type": "code",
   "execution_count": 39,
   "source": [
    "import re"
   ],
   "outputs": [],
   "metadata": {}
  },
  {
   "cell_type": "markdown",
   "source": [
    "## RegEx in Python\r\n",
    "When you have imported the re module, you can start using regular expressions:"
   ],
   "metadata": {}
  },
  {
   "cell_type": "markdown",
   "source": [
    "## Example\r\n",
    "Search the string to see if it starts with \"The\" and ends with \"Spain\":"
   ],
   "metadata": {}
  },
  {
   "cell_type": "code",
   "execution_count": 40,
   "source": [
    "import re\r\n",
    "\r\n",
    "txt = \"The rain in Spain\"\r\n",
    "x = re.search(\"^The.*Spain$\", txt)"
   ],
   "outputs": [],
   "metadata": {}
  },
  {
   "cell_type": "markdown",
   "source": [
    "## RegEx Functions\r\n",
    "The re module offers a set of functions that allows us to search a string for a match:"
   ],
   "metadata": {}
  },
  {
   "cell_type": "markdown",
   "source": [
    "findall\tReturns a list containing all matches\r\n",
    "\r\n",
    "search\tReturns a Match object if there is a match anywhere in the string\r\n",
    "\r\n",
    "split\tReturns a list where the string has been split at each match\r\n",
    "\r\n",
    "sub\tReplaces one or many matches with a string"
   ],
   "metadata": {}
  },
  {
   "cell_type": "markdown",
   "source": [
    "## Metacharacters\r\n",
    "Metacharacters are characters with a special meaning:"
   ],
   "metadata": {}
  },
  {
   "cell_type": "markdown",
   "source": [
    "[]\tA set of characters\t\"[a-m]\"\t\r\n",
    "\r\n",
    "\\\tSignals a special sequence (can also be used to escape special characters)\t\"\\d\"\t\r\n",
    "\r\n",
    ".\tAny character (except newline character)\t\"he..o\"\t\r\n",
    "\r\n",
    "^\tStarts with\t\"^hello\"\t\r\n",
    "\r\n",
    "\\$\tEnds with\t\"world$\"\t\r\n",
    "\r\n",
    "\\*\tZero or more occurrences\t\"aix*\"\t\r\n",
    "\r\n",
    "\\+\tOne or more occurrences\t\"aix+\"\t\r\n",
    "\r\n",
    "{}\tExactly the specified number of occurrences\t\"al{2}\"\t\r\n",
    "\r\n",
    "|\tEither or\t\"falls|stays\"\r\n",
    "\r\n",
    "()\tCapture and group"
   ],
   "metadata": {}
  },
  {
   "cell_type": "markdown",
   "source": [
    "## Special Sequences\r\n",
    "A special sequence is a \\ followed by one of the characters in the list below, and has a special meaning:"
   ],
   "metadata": {}
  },
  {
   "cell_type": "markdown",
   "source": [
    "\\A\tReturns a match if the specified characters are at the beginning of the string\t\"\\AThe\"\t\r\n",
    "\r\n",
    "\\b\tReturns a match where the specified characters are at the beginning or at the end of a word\r\n",
    "\r\n",
    "(the \"r\" in the beginning is making sure that the string is being treated as a \"raw string\")\tr\"\\bain\"\r\n",
    "r\"ain\\b\"\t\r\n",
    "\r\n",
    "\\B\tReturns a match where the specified characters are present, but NOT at the beginning (or at the end) of a word\r\n",
    "(the \"r\" in the beginning is making sure that the string is being treated as a \"raw string\")\tr\"\\Bain\"\r\n",
    "r\"ain\\B\"\t\r\n",
    "\r\n",
    "\\d\tReturns a match where the string contains digits (numbers from 0-9)\t\"\\d\"\t\r\n",
    "\r\n",
    "\\D\tReturns a match where the string DOES NOT contain digits\t\"\\D\"\r\n",
    "\r\n",
    "\\s\tReturns a match where the string contains a white space character\t\"\\s\"\t\r\n",
    "\r\n",
    "\\S\tReturns a match where the string DOES NOT contain a white space character\t\"\\S\"\t\r\n",
    "\r\n",
    "\\w\tReturns a match where the string contains any word characters (characters from a to Z, digits from 0-9, and the underscore _ character)\t\"\\w\"\t\r\n",
    "\r\n",
    "\\W\tReturns a match where the string DOES NOT contain any word characters\t\"\\W\"\t\r\n",
    "\r\n",
    "\\Z\tReturns a match if the specified characters are at the end of the string\t\"Spain\\Z\""
   ],
   "metadata": {}
  },
  {
   "cell_type": "markdown",
   "source": [
    "## Sets\r\n",
    "A set is a set of characters inside a pair of square brackets [] with a special meaning:"
   ],
   "metadata": {}
  },
  {
   "cell_type": "markdown",
   "source": [
    "Set\tDescription\tTry it\r\n",
    "\r\n",
    "[arn]\tReturns a match where one of the specified characters (a, r, or n) are present\r\n",
    "\r\n",
    "[a-n]\tReturns a match for any lower case character, alphabetically between a and n\t\r\n",
    "\r\n",
    "[^arn]\tReturns a match for any character EXCEPT a, r, and n\t\r\n",
    "\r\n",
    "[0123]\tReturns a match where any of the specified digits (0, 1, 2, or 3) are present\t\r\n",
    "\r\n",
    "[0-9]\tReturns a match for any digit between 0 and 9\t\r\n",
    "\r\n",
    "[0-5][0-9]\tReturns a match for any two-digit numbers from 00 and 59\t\r\n",
    "\r\n",
    "[a-zA-Z]\tReturns a match for any character alphabetically between a and z, lower case OR upper case\t\r\n",
    "\r\n",
    "[+]\tIn sets, +, *, ., |, (), $,{} has no special meaning, so [+] means: return a match for any + character in the string"
   ],
   "metadata": {}
  },
  {
   "cell_type": "markdown",
   "source": [
    "## The findall() Function\r\n",
    "The findall() function returns a list containing all matches."
   ],
   "metadata": {}
  },
  {
   "cell_type": "markdown",
   "source": [
    "## Example\r\n",
    "Print a list of all matches:"
   ],
   "metadata": {}
  },
  {
   "cell_type": "code",
   "execution_count": 41,
   "source": [
    "import re\r\n",
    "\r\n",
    "txt = \"The rain in Spain\"\r\n",
    "x = re.findall(\"ai\", txt)\r\n",
    "print(x)"
   ],
   "outputs": [
    {
     "output_type": "stream",
     "name": "stdout",
     "text": [
      "['ai', 'ai']\n"
     ]
    }
   ],
   "metadata": {}
  },
  {
   "cell_type": "markdown",
   "source": [
    "The list contains the matches in the order they are found.\r\n",
    "\r\n",
    "If no matches are found, an empty list is returned:"
   ],
   "metadata": {}
  },
  {
   "cell_type": "markdown",
   "source": [
    "## Example\r\n",
    "Return an empty list if no match was found:"
   ],
   "metadata": {}
  },
  {
   "cell_type": "code",
   "execution_count": 42,
   "source": [
    "import re\r\n",
    "\r\n",
    "txt = \"The rain in Spain\"\r\n",
    "x = re.findall(\"Portugal\", txt)\r\n",
    "print(x)"
   ],
   "outputs": [
    {
     "output_type": "stream",
     "name": "stdout",
     "text": [
      "[]\n"
     ]
    }
   ],
   "metadata": {}
  },
  {
   "cell_type": "markdown",
   "source": [
    "## The search() Function\r\n",
    "The search() function searches the string for a match, and returns a Match object if there is a match.\r\n",
    "\r\n",
    "If there is more than one match, only the first occurrence of the match will be returned:"
   ],
   "metadata": {}
  },
  {
   "cell_type": "markdown",
   "source": [
    "## Example\r\n",
    "Search for the first white-space character in the string:"
   ],
   "metadata": {}
  },
  {
   "cell_type": "code",
   "execution_count": 43,
   "source": [
    "import re\r\n",
    "\r\n",
    "txt = \"The rain in Spain\"\r\n",
    "x = re.search(\"\\s\", txt)\r\n",
    "\r\n",
    "print(\"The first white-space character is located in position:\", x.start())"
   ],
   "outputs": [
    {
     "output_type": "stream",
     "name": "stdout",
     "text": [
      "The first white-space character is located in position: 3\n"
     ]
    }
   ],
   "metadata": {}
  },
  {
   "cell_type": "markdown",
   "source": [
    "If no matches are found, the value None is returned:"
   ],
   "metadata": {}
  },
  {
   "cell_type": "markdown",
   "source": [
    "## Example\r\n",
    "Make a search that returns no match:"
   ],
   "metadata": {}
  },
  {
   "cell_type": "code",
   "execution_count": 44,
   "source": [
    "import re\r\n",
    "\r\n",
    "txt = \"The rain in Spain\"\r\n",
    "x = re.search(\"Portugal\", txt)\r\n",
    "print(x)"
   ],
   "outputs": [
    {
     "output_type": "stream",
     "name": "stdout",
     "text": [
      "None\n"
     ]
    }
   ],
   "metadata": {}
  },
  {
   "cell_type": "markdown",
   "source": [
    "## The split() Function\r\n",
    "The split() function returns a list where the string has been split at each match:"
   ],
   "metadata": {}
  },
  {
   "cell_type": "markdown",
   "source": [
    "## Example\r\n",
    "Split at each white-space character:"
   ],
   "metadata": {}
  },
  {
   "cell_type": "code",
   "execution_count": 45,
   "source": [
    "import re\r\n",
    "\r\n",
    "txt = \"The rain in Spain\"\r\n",
    "x = re.split(\"\\s\", txt)\r\n",
    "print(x)"
   ],
   "outputs": [
    {
     "output_type": "stream",
     "name": "stdout",
     "text": [
      "['The', 'rain', 'in', 'Spain']\n"
     ]
    }
   ],
   "metadata": {}
  },
  {
   "cell_type": "markdown",
   "source": [
    "You can control the number of occurrences by specifying the maxsplit parameter:"
   ],
   "metadata": {}
  },
  {
   "cell_type": "markdown",
   "source": [
    "## Example\r\n",
    "Split the string only at the first occurrence:"
   ],
   "metadata": {}
  },
  {
   "cell_type": "code",
   "execution_count": 46,
   "source": [
    "import re\r\n",
    "\r\n",
    "txt = \"The rain in Spain\"\r\n",
    "x = re.split(\"\\s\", txt, 1)\r\n",
    "print(x)"
   ],
   "outputs": [
    {
     "output_type": "stream",
     "name": "stdout",
     "text": [
      "['The', 'rain in Spain']\n"
     ]
    }
   ],
   "metadata": {}
  },
  {
   "cell_type": "markdown",
   "source": [
    "## The sub() Function\r\n",
    "The sub() function replaces the matches with the text of your choice:"
   ],
   "metadata": {}
  },
  {
   "cell_type": "markdown",
   "source": [
    "## Example\r\n",
    "Replace every white-space character with the number 9:"
   ],
   "metadata": {}
  },
  {
   "cell_type": "code",
   "execution_count": 47,
   "source": [
    "import re\r\n",
    "\r\n",
    "txt = \"The rain in Spain\"\r\n",
    "x = re.sub(\"\\s\", \"9\", txt)\r\n",
    "print(x)"
   ],
   "outputs": [
    {
     "output_type": "stream",
     "name": "stdout",
     "text": [
      "The9rain9in9Spain\n"
     ]
    }
   ],
   "metadata": {}
  },
  {
   "cell_type": "markdown",
   "source": [
    "You can control the number of replacements by specifying the count parameter:"
   ],
   "metadata": {}
  },
  {
   "cell_type": "markdown",
   "source": [
    "## Example\r\n",
    "Replace the first 2 occurrences:"
   ],
   "metadata": {}
  },
  {
   "cell_type": "code",
   "execution_count": 48,
   "source": [
    "import re\r\n",
    "\r\n",
    "txt = \"The rain in Spain\"\r\n",
    "x = re.sub(\"\\s\", \"9\", txt, 2)\r\n",
    "print(x)"
   ],
   "outputs": [
    {
     "output_type": "stream",
     "name": "stdout",
     "text": [
      "The9rain9in Spain\n"
     ]
    }
   ],
   "metadata": {}
  },
  {
   "cell_type": "markdown",
   "source": [
    "## Match Object\r\n",
    "A Match Object is an object containing information about the search and the result.\r\n",
    "\r\n",
    "Note: If there is no match, the value None will be returned, instead of the Match Object."
   ],
   "metadata": {}
  },
  {
   "cell_type": "markdown",
   "source": [
    "## Example\r\n",
    "Do a search that will return a Match Object:"
   ],
   "metadata": {}
  },
  {
   "cell_type": "code",
   "execution_count": 49,
   "source": [
    "import re\r\n",
    "\r\n",
    "txt = \"The rain in Spain\"\r\n",
    "x = re.search(\"ai\", txt)\r\n",
    "print(x) #this will print an object"
   ],
   "outputs": [
    {
     "output_type": "stream",
     "name": "stdout",
     "text": [
      "<re.Match object; span=(5, 7), match='ai'>\n"
     ]
    }
   ],
   "metadata": {}
  },
  {
   "cell_type": "markdown",
   "source": [
    "The Match object has properties and methods used to retrieve information about the search, and the result:\r\n",
    "\r\n",
    ".span() returns a tuple containing the start-, and end positions of the match.\r\n",
    "\r\n",
    ".string returns the string passed into the function\r\n",
    "\r\n",
    ".group() returns the part of the string where there was a match"
   ],
   "metadata": {}
  },
  {
   "cell_type": "markdown",
   "source": [
    "## Example\r\n",
    "Print the position (start- and end-position) of the first match occurrence.\r\n",
    "\r\n",
    "The regular expression looks for any words that starts with an upper case \"S\":"
   ],
   "metadata": {}
  },
  {
   "cell_type": "code",
   "execution_count": 50,
   "source": [
    "import re\r\n",
    "\r\n",
    "txt = \"The rain in Spain\"\r\n",
    "x = re.search(r\"\\bS\\w+\", txt)\r\n",
    "print(x.span())"
   ],
   "outputs": [
    {
     "output_type": "stream",
     "name": "stdout",
     "text": [
      "(12, 17)\n"
     ]
    }
   ],
   "metadata": {}
  },
  {
   "cell_type": "markdown",
   "source": [
    "## Example\r\n",
    "Print the string passed into the function:"
   ],
   "metadata": {}
  },
  {
   "cell_type": "code",
   "execution_count": 51,
   "source": [
    "import re\r\n",
    "\r\n",
    "txt = \"The rain in Spain\"\r\n",
    "x = re.search(r\"\\bS\\w+\", txt)\r\n",
    "print(x.string)"
   ],
   "outputs": [
    {
     "output_type": "stream",
     "name": "stdout",
     "text": [
      "The rain in Spain\n"
     ]
    }
   ],
   "metadata": {}
  },
  {
   "cell_type": "markdown",
   "source": [
    "## Example\r\n",
    "Print the part of the string where there was a match.\r\n",
    "\r\n",
    "The regular expression looks for any words that starts with an upper case \"S\":"
   ],
   "metadata": {}
  },
  {
   "cell_type": "code",
   "execution_count": 52,
   "source": [
    "import re\r\n",
    "\r\n",
    "txt = \"The rain in Spain\"\r\n",
    "x = re.search(r\"\\bS\\w+\", txt)\r\n",
    "print(x.group())"
   ],
   "outputs": [
    {
     "output_type": "stream",
     "name": "stdout",
     "text": [
      "Spain\n"
     ]
    }
   ],
   "metadata": {}
  },
  {
   "cell_type": "markdown",
   "source": [
    "Note: If there is no match, the value None will be returned, instead of the Match Object."
   ],
   "metadata": {}
  }
 ],
 "metadata": {
  "orig_nbformat": 4,
  "language_info": {
   "name": "python",
   "version": "3.8.5",
   "mimetype": "text/x-python",
   "codemirror_mode": {
    "name": "ipython",
    "version": 3
   },
   "pygments_lexer": "ipython3",
   "nbconvert_exporter": "python",
   "file_extension": ".py"
  },
  "kernelspec": {
   "name": "python3",
   "display_name": "Python 3.8.5 64-bit ('base': conda)"
  },
  "interpreter": {
   "hash": "00034aa5cd6c44013b830fd98c7a620a61a498e75425ca81fcc1166b84a69895"
  }
 },
 "nbformat": 4,
 "nbformat_minor": 2
}