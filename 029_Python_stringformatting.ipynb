{
  "nbformat": 4,
  "nbformat_minor": 0,
  "metadata": {
    "colab": {
      "name": "29.Python_stringformatting.ipynb",
      "provenance": []
    },
    "kernelspec": {
      "name": "python3",
      "display_name": "Python 3"
    },
    "language_info": {
      "name": "python"
    }
  },
  "cells": [
    {
      "cell_type": "markdown",
      "metadata": {
        "id": "i7fuVFYh0SUE"
      },
      "source": [
        "### <font color=#026D8F>**Python String Formatting**"
      ]
    },
    {
      "cell_type": "markdown",
      "metadata": {
        "id": "R1_aO9fH0au0"
      },
      "source": [
        "To make sure a string will display as expected, we can format the result with the format() method."
      ]
    },
    {
      "cell_type": "markdown",
      "metadata": {
        "id": "L_qfqTmo0eUz"
      },
      "source": [
        "#### <font color=#026D8F>String format()</font>"
      ]
    },
    {
      "cell_type": "markdown",
      "metadata": {
        "id": "oI8aY9YK1xj8"
      },
      "source": [
        "The format() method allows you to format selected parts of a string.\n",
        "\n",
        "Sometimes there are parts of a text that you do not control, maybe they come from a database, or user input?\n",
        "\n",
        "To control such values, add placeholders (curly brackets {}) in the text, and run the values through the format() method:"
      ]
    },
    {
      "cell_type": "markdown",
      "metadata": {
        "id": "7VhYqTVN1BNb"
      },
      "source": [
        "##### <font color=#026D8F>Example</font>\n",
        "Add a placeholder where you want to display the price:"
      ]
    },
    {
      "cell_type": "code",
      "metadata": {
        "colab": {
          "base_uri": "https://localhost:8080/"
        },
        "id": "xXYiUX3BwAxV",
        "outputId": "3220500b-bf05-4838-871d-7fffef2b72e6"
      },
      "source": [
        "price = 49\n",
        "txt = \"The price is {} dollars\"\n",
        "print(txt.format(price))"
      ],
      "execution_count": 1,
      "outputs": [
        {
          "output_type": "stream",
          "text": [
            "The price is 49 dollars\n"
          ],
          "name": "stdout"
        }
      ]
    },
    {
      "cell_type": "markdown",
      "metadata": {
        "id": "rurBNfA92SJs"
      },
      "source": [
        "You can add parameters inside the curly brackets to specify how to convert the value:"
      ]
    },
    {
      "cell_type": "markdown",
      "metadata": {
        "id": "5HtoeMda2UMn"
      },
      "source": [
        "##### <font color=#026D8F>Example</font>\n",
        "Format the price to be displayed as a number with two decimals:"
      ]
    },
    {
      "cell_type": "code",
      "metadata": {
        "id": "IsBed1o82b63"
      },
      "source": [
        "txt = \"The price is {:.2f} dollars\""
      ],
      "execution_count": 2,
      "outputs": []
    },
    {
      "cell_type": "markdown",
      "metadata": {
        "id": "eSvp9fho2j8O"
      },
      "source": [
        "#### <font color=#026D8F>Multiple Values</font>"
      ]
    },
    {
      "cell_type": "markdown",
      "metadata": {
        "id": "g4hmPHIF2tts"
      },
      "source": [
        "If you want to use more values, just add more values to the format() method:"
      ]
    },
    {
      "cell_type": "code",
      "metadata": {
        "id": "UJ1TVK014yc8"
      },
      "source": [
        "print(txt.format(price, itemno, count))"
      ],
      "execution_count": null,
      "outputs": []
    },
    {
      "cell_type": "markdown",
      "metadata": {
        "id": "QekN7D_m2yat"
      },
      "source": [
        "##### <font color=#026D8F>Example</font>\n",
        "And add more placeholders:"
      ]
    },
    {
      "cell_type": "code",
      "metadata": {
        "colab": {
          "base_uri": "https://localhost:8080/"
        },
        "id": "m2uWLXum28cc",
        "outputId": "a7874f41-a3b6-4299-f6ff-2939ab19c5ae"
      },
      "source": [
        "quantity = 3\n",
        "itemno = 567\n",
        "price = 49\n",
        "myorder = \"I want {} pieces of item number {} for {:.2f} dollars.\"\n",
        "print(myorder.format(quantity, itemno, price))"
      ],
      "execution_count": 5,
      "outputs": [
        {
          "output_type": "stream",
          "text": [
            "I want 3 pieces of item number 567 for 49.00 dollars.\n"
          ],
          "name": "stdout"
        }
      ]
    },
    {
      "cell_type": "markdown",
      "metadata": {
        "id": "Ujz0LRnN3Nes"
      },
      "source": [
        "#### <font color=#026D8F>Index Numbers</font>"
      ]
    },
    {
      "cell_type": "markdown",
      "metadata": {
        "id": "Vjwl2iCm3DYF"
      },
      "source": [
        "You can use index numbers (a number inside the curly brackets {0}) to be sure the values are placed in the correct placeholders:"
      ]
    },
    {
      "cell_type": "code",
      "metadata": {
        "colab": {
          "base_uri": "https://localhost:8080/"
        },
        "id": "W41I-R863Si8",
        "outputId": "a8a09e0a-44eb-46ec-a71b-cceab042399f"
      },
      "source": [
        "quantity = 3\n",
        "itemno = 567\n",
        "price = 49\n",
        "myorder = \"I want {0} pieces of item number {1} for {2:.2f} dollars.\"\n",
        "print(myorder.format(quantity, itemno, price))"
      ],
      "execution_count": 6,
      "outputs": [
        {
          "output_type": "stream",
          "text": [
            "I want 3 pieces of item number 567 for 49.00 dollars.\n"
          ],
          "name": "stdout"
        }
      ]
    },
    {
      "cell_type": "markdown",
      "metadata": {
        "id": "fZbHSs_r3XiU"
      },
      "source": [
        "Also, if you want to refer to the same value more than once, use the index number:"
      ]
    },
    {
      "cell_type": "code",
      "metadata": {
        "colab": {
          "base_uri": "https://localhost:8080/"
        },
        "id": "yhXyscde3cD0",
        "outputId": "a2b154db-1196-4799-bba1-67dc2b30e284"
      },
      "source": [
        "age = 36\n",
        "name = \"John\"\n",
        "txt = \"His name is {1}. {1} is {0} years old.\"\n",
        "print(txt.format(age, name))"
      ],
      "execution_count": 7,
      "outputs": [
        {
          "output_type": "stream",
          "text": [
            "His name is John. John is 36 years old.\n"
          ],
          "name": "stdout"
        }
      ]
    },
    {
      "cell_type": "markdown",
      "metadata": {
        "id": "wM9EU-vS3iKt"
      },
      "source": [
        "#### <font color=#026D8F>Named Indexes</font>"
      ]
    },
    {
      "cell_type": "markdown",
      "metadata": {
        "id": "tz_N8YnV3uEt"
      },
      "source": [
        "You can also use named indexes by entering a name inside the curly brackets {carname}, but then you must use names when you pass the parameter values txt.format(carname = \"Ford\"):"
      ]
    },
    {
      "cell_type": "code",
      "metadata": {
        "colab": {
          "base_uri": "https://localhost:8080/"
        },
        "id": "6c6R0FyV3vIs",
        "outputId": "53951b55-6239-4248-b544-997eca84c0d6"
      },
      "source": [
        "myorder = \"I have a {carname}, it is a {model}.\"\n",
        "print(myorder.format(carname = \"Ford\", model = \"Mustang\"))"
      ],
      "execution_count": 8,
      "outputs": [
        {
          "output_type": "stream",
          "text": [
            "I have a Ford, it is a Mustang.\n"
          ],
          "name": "stdout"
        }
      ]
    }
  ]
}