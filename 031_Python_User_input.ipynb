{
  "nbformat": 4,
  "nbformat_minor": 0,
  "metadata": {
    "colab": {
      "name": "28.Python User input.ipynb",
      "provenance": []
    },
    "kernelspec": {
      "name": "python3",
      "display_name": "Python 3"
    },
    "language_info": {
      "name": "python"
    }
  },
  "cells": [
    {
      "cell_type": "markdown",
      "metadata": {
        "id": "GmncBaf2uPYb"
      },
      "source": [
        "### <font color=#026D8F>**Python User Input**"
      ]
    },
    {
      "cell_type": "markdown",
      "metadata": {
        "id": "yAe5FK3kubwj"
      },
      "source": [
        "#### <font color=#026D8F>User Input</font>"
      ]
    },
    {
      "cell_type": "markdown",
      "metadata": {
        "id": "hZaOqVAGumDK"
      },
      "source": [
        "Python allows for user input.\n",
        "\n",
        "That means we are able to ask the user for input.\n",
        "\n",
        "The method is a bit different in Python 3.6 than Python 2.7.\n",
        "\n",
        "Python 3.6 uses the input() method.\n",
        "\n",
        "Python 2.7 uses the raw_input() method.\n",
        "\n",
        "The following example asks for the username, and when you entered the username, it gets printed on the screen:"
      ]
    },
    {
      "cell_type": "markdown",
      "metadata": {
        "id": "AXAR8nUqu62V"
      },
      "source": [
        "#### <font color=#026D8F>Python 3.6</font>"
      ]
    },
    {
      "cell_type": "code",
      "metadata": {
        "colab": {
          "base_uri": "https://localhost:8080/"
        },
        "id": "qZzyy1Sit8B1",
        "outputId": "5aa76dee-31c3-4185-d3b9-b01d6909c44b"
      },
      "source": [
        "username = input(\"Enter username:\")\n",
        "print(\"Username is: \" + username)"
      ],
      "execution_count": 1,
      "outputs": [
        {
          "output_type": "stream",
          "text": [
            "Enter username:newname\n",
            "Username is: newname\n"
          ],
          "name": "stdout"
        }
      ]
    },
    {
      "cell_type": "markdown",
      "metadata": {
        "id": "GBtSqyW0vH7W"
      },
      "source": [
        "#### <font color=#026D8F>Python 2.7</font>"
      ]
    },
    {
      "cell_type": "code",
      "metadata": {
        "id": "31tSnO2XvPPC"
      },
      "source": [
        "username = raw_input(\"Enter username:\")\n",
        "print(\"Username is: \" + username)"
      ],
      "execution_count": null,
      "outputs": []
    },
    {
      "cell_type": "markdown",
      "metadata": {
        "id": "T2bZL-sFvUF2"
      },
      "source": [
        "Python stops executing when it comes to the input() function, and continues when the user has given some input."
      ]
    }
  ]
}