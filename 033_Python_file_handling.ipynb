{
  "nbformat": 4,
  "nbformat_minor": 0,
  "metadata": {
    "colab": {
      "name": "30.Python file handling.ipynb",
      "provenance": []
    },
    "kernelspec": {
      "name": "python3",
      "display_name": "Python 3"
    },
    "language_info": {
      "name": "python"
    }
  },
  "cells": [
    {
      "cell_type": "markdown",
      "metadata": {
        "id": "hizDZ5525nju"
      },
      "source": [
        "### <font color=#026D8F>**Python File Handling**"
      ]
    },
    {
      "cell_type": "markdown",
      "metadata": {
        "id": "Cs2U0kUc50x9"
      },
      "source": [
        "File handling is an important part of any web application.\n",
        "\n",
        "Python has several functions for creating, reading, updating, and deleting files."
      ]
    },
    {
      "cell_type": "markdown",
      "metadata": {
        "id": "NbAOZj6853q1"
      },
      "source": [
        "The key function for working with files in Python is the open() function.\n",
        "\n",
        "The open() function takes two parameters; filename, and mode.\n",
        "\n",
        "There are four different methods (modes) for opening a file:\n",
        "\n",
        "\"r\" - Read - Default value. Opens a file for reading, error if the file does not exist\n",
        "\n",
        "\"a\" - Append - Opens a file for appending, creates the file if it does not exist\n",
        "\n",
        "\"w\" - Write - Opens a file for writing, creates the file if it does not exist\n",
        "\n",
        "\"x\" - Create - Creates the specified file, returns an error if the file exists\n",
        "\n",
        "In addition you can specify if the file should be handled as binary or text mode\n",
        "\n",
        "\"t\" - Text - Default value. Text mode\n",
        "\n",
        "\"b\" - Binary - Binary mode (e.g. images)"
      ]
    },
    {
      "cell_type": "markdown",
      "metadata": {
        "id": "nP5mRD9t6Dhk"
      },
      "source": [
        "##### <font color=#026D8F>Example</font>\n",
        "To open a file for reading it is enough to specify the name of the file:"
      ]
    },
    {
      "cell_type": "code",
      "metadata": {
        "id": "gcofnQ4B5JWF"
      },
      "source": [
        "f = open(\"test.txt\")"
      ],
      "execution_count": null,
      "outputs": []
    },
    {
      "cell_type": "markdown",
      "metadata": {
        "id": "38bH30136NdE"
      },
      "source": [
        "The code above is the same as:"
      ]
    },
    {
      "cell_type": "code",
      "metadata": {
        "id": "hsyxP9ru6Qzt"
      },
      "source": [
        "f = open(\"test.txt\", \"rt\")"
      ],
      "execution_count": null,
      "outputs": []
    },
    {
      "cell_type": "markdown",
      "metadata": {
        "id": "FZCsVlFR6HAN"
      },
      "source": [
        "Because \"r\" for read, and \"t\" for text are the default values, you do not need to specify them."
      ]
    },
    {
      "cell_type": "markdown",
      "metadata": {
        "id": "XKgVweyf6foc"
      },
      "source": [
        "#### <font color=#026D8F>Close Files</font>"
      ]
    },
    {
      "cell_type": "markdown",
      "metadata": {
        "id": "vPZfns4E6zfN"
      },
      "source": [
        "It is a good practice to always close the file when you are done with it."
      ]
    },
    {
      "cell_type": "markdown",
      "metadata": {
        "id": "b5rzMaP164M4"
      },
      "source": [
        "##### <font color=#026D8F>Example</font>\n",
        "Close the file when you are finish with it:"
      ]
    },
    {
      "cell_type": "code",
      "metadata": {
        "id": "k_mDv-jM6_8j"
      },
      "source": [
        "f = open(\"test.txt\", \"r\")\n",
        "print(f.readline())\n",
        "f.close()"
      ],
      "execution_count": null,
      "outputs": []
    },
    {
      "cell_type": "markdown",
      "metadata": {
        "id": "Tenvqfzf7ZEc"
      },
      "source": [
        "#### <font color=#026D8F>Delete a file</font>"
      ]
    },
    {
      "cell_type": "markdown",
      "metadata": {
        "id": "-4SUX0jA7RGQ"
      },
      "source": [
        "To delete a file, you must import the OS module, and run its os.remove() function:"
      ]
    },
    {
      "cell_type": "markdown",
      "metadata": {
        "id": "IlrMOwsQ7g2I"
      },
      "source": [
        "##### <font color=#026D8F>Example</font>\n"
      ]
    },
    {
      "cell_type": "code",
      "metadata": {
        "id": "DiGAD0KG7rtc"
      },
      "source": [
        "import os\n",
        "os.remove(\"test.txt\")"
      ],
      "execution_count": null,
      "outputs": []
    },
    {
      "cell_type": "markdown",
      "metadata": {
        "id": "CKJNSWaI70tt"
      },
      "source": [
        "#### <font color=#026D8F>Check if file exist</font>"
      ]
    },
    {
      "cell_type": "markdown",
      "metadata": {
        "id": "UteZTkFK7ugs"
      },
      "source": [
        "To avoid getting an error, you might want to check if the file exists before you try to delete it:"
      ]
    },
    {
      "cell_type": "markdown",
      "metadata": {
        "id": "i2VL8kil8Brp"
      },
      "source": [
        "##### <font color=#026D8F>Example</font>\n",
        "Check if file exists, then delete it:\n"
      ]
    },
    {
      "cell_type": "code",
      "metadata": {
        "id": "C28ZRA0l8Jao"
      },
      "source": [
        "import os\n",
        "if os.path.exists(\"test.txt\"):\n",
        "  os.remove(\"test.txt\")\n",
        "else:\n",
        "  print(\"The file does not exist\")"
      ],
      "execution_count": null,
      "outputs": []
    },
    {
      "cell_type": "markdown",
      "metadata": {
        "id": "s9M1gzNv8Mp-"
      },
      "source": [
        "#### <font color=#026D8F>Delete a folder</font>"
      ]
    },
    {
      "cell_type": "markdown",
      "metadata": {
        "id": "ZJe5sqb68Rw9"
      },
      "source": [
        "To delete an entire folder, use the os.rmdir() method:"
      ]
    },
    {
      "cell_type": "markdown",
      "metadata": {
        "id": "FLGCno4x8YNJ"
      },
      "source": [
        "##### <font color=#026D8F>Example</font>\n",
        "Remove the folder \"myfolder\":\n"
      ]
    },
    {
      "cell_type": "code",
      "metadata": {
        "id": "0yBsf_EM8Wid"
      },
      "source": [
        "import os\n",
        "os.rmdir(\"myfolder\")"
      ],
      "execution_count": null,
      "outputs": []
    }
  ]
}