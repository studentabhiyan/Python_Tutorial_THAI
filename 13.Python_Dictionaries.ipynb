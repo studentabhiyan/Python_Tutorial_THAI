{
  "nbformat": 4,
  "nbformat_minor": 0,
  "metadata": {
    "colab": {
      "name": "Python Dictionaries.ipynb",
      "provenance": []
    },
    "kernelspec": {
      "name": "python3",
      "display_name": "Python 3"
    },
    "language_info": {
      "name": "python"
    }
  },
  "cells": [
    {
      "cell_type": "markdown",
      "metadata": {
        "id": "t16bGmNbRUAH"
      },
      "source": [
        "## <font color=\"lightblue\">Python Dictionaries </font>\n"
      ]
    },
    {
      "cell_type": "code",
      "metadata": {
        "id": "6an-44ZAR2oP"
      },
      "source": [
        "thisdict = {\n",
        "  \"brand\": \"Ford\",\n",
        "  \"model\": \"Mustang\",\n",
        "  \"year\": 1964\n",
        "}"
      ],
      "execution_count": 2,
      "outputs": []
    },
    {
      "cell_type": "markdown",
      "metadata": {
        "id": "j63BgUu4SHOg"
      },
      "source": [
        "## <font color=\"lightblue\"> Dictionary </font>\n",
        "\n",
        "Dictionaries are used to store data values in key:value pairs.\n",
        "\n",
        "A dictionary is a collection which is ordered*, changeable and does not allow duplicates."
      ]
    },
    {
      "cell_type": "markdown",
      "metadata": {
        "id": "DwlXrB4LSaB8"
      },
      "source": [
        "Dictionaries are written with curly brackets, and have keys and values:"
      ]
    },
    {
      "cell_type": "markdown",
      "metadata": {
        "id": "9bGDZcCFTH2A"
      },
      "source": [
        "## <font color=\"lightblue\"> Example </font>\n",
        "\n",
        "Create and print a dictionary:"
      ]
    },
    {
      "cell_type": "code",
      "metadata": {
        "colab": {
          "base_uri": "https://localhost:8080/"
        },
        "id": "vJJpuo63TVor",
        "outputId": "50bea438-9740-4a89-9c18-c33bce1143dd"
      },
      "source": [
        "thisdict = {\n",
        "  \"brand\": \"Ford\",\n",
        "  \"model\": \"Mustang\",\n",
        "  \"year\": 1964\n",
        "}\n",
        "print(thisdict)"
      ],
      "execution_count": 3,
      "outputs": [
        {
          "output_type": "stream",
          "name": "stdout",
          "text": [
            "{'brand': 'Ford', 'model': 'Mustang', 'year': 1964}\n"
          ]
        }
      ]
    },
    {
      "cell_type": "markdown",
      "metadata": {
        "id": "vpdTCP0CTgsW"
      },
      "source": [
        "## <font color=\"lightblue\"> Dictionary Items </font>\n",
        "Dictionary items are ordered, changeable, and does not allow duplicates.\n",
        "\n",
        "Dictionary items are presented in key:value pairs, and can be referred to by using the key name."
      ]
    },
    {
      "cell_type": "markdown",
      "metadata": {
        "id": "D1yc6Om0Tsm6"
      },
      "source": [
        "## <font color=\"lightblue\"> Example </font>\n",
        "Print the \"brand\" value of the dictionary:"
      ]
    },
    {
      "cell_type": "code",
      "metadata": {
        "colab": {
          "base_uri": "https://localhost:8080/"
        },
        "id": "w5fqj_y-Ubz2",
        "outputId": "feddcdf8-f50e-4d77-deed-91d6841f4d3d"
      },
      "source": [
        "thisdict = {\n",
        "  \"brand\": \"Ford\",\n",
        "  \"model\": \"Mustang\",\n",
        "  \"year\": 1964\n",
        "}\n",
        "print(thisdict[\"brand\"])"
      ],
      "execution_count": 4,
      "outputs": [
        {
          "output_type": "stream",
          "name": "stdout",
          "text": [
            "Ford\n"
          ]
        }
      ]
    },
    {
      "cell_type": "markdown",
      "metadata": {
        "id": "GO7C-HitUnOG"
      },
      "source": [
        "## <font color=\"lightblue\"> Ordered or Unordered? </font>\n",
        "When we say that dictionaries are ordered, it means that the items have a defined order, and that order will not change.\n",
        "\n",
        "Unordered means that the items does not have a defined order, you cannot refer to an item by using an index.\n"
      ]
    },
    {
      "cell_type": "markdown",
      "metadata": {
        "id": "8-CxT2SpUvAY"
      },
      "source": [
        "## <font color=\"lightblue\"> Changeable </font>\n",
        "Dictionaries are changeable, meaning that we can change, add or remove items after the dictionary has been created.\n",
        "\n"
      ]
    },
    {
      "cell_type": "markdown",
      "metadata": {
        "id": "pe0T5oKeU0ph"
      },
      "source": [
        "## <font color=\"lightblue\"> Duplicates Not Allowed </font>\n",
        "Dictionaries cannot have two items with the same key:\n",
        "\n"
      ]
    },
    {
      "cell_type": "markdown",
      "metadata": {
        "id": "I4rI8hEXU7vN"
      },
      "source": [
        "## <font color=\"lightblue\"> Example </font>\n",
        "Duplicate values will overwrite existing values:\n",
        "\n"
      ]
    },
    {
      "cell_type": "code",
      "metadata": {
        "colab": {
          "base_uri": "https://localhost:8080/"
        },
        "id": "WKQIiNmxU92o",
        "outputId": "60f8f6a0-a44c-4ce9-8360-4d3749768414"
      },
      "source": [
        "thisdict = {\n",
        "  \"brand\": \"Ford\",\n",
        "  \"model\": \"Mustang\",\n",
        "  \"year\": 1964,\n",
        "  \"year\": 2020\n",
        "}\n",
        "print(thisdict)"
      ],
      "execution_count": 5,
      "outputs": [
        {
          "output_type": "stream",
          "name": "stdout",
          "text": [
            "{'brand': 'Ford', 'model': 'Mustang', 'year': 2020}\n"
          ]
        }
      ]
    },
    {
      "cell_type": "markdown",
      "metadata": {
        "id": "ZFOHU3aFVbTu"
      },
      "source": [
        "## <font color=\"lightblue\"> Dictionary Length </font>\n",
        "To determine how many items a dictionary has, use the len() function:"
      ]
    },
    {
      "cell_type": "markdown",
      "metadata": {
        "id": "_5cvaNKFVg_0"
      },
      "source": [
        "## <font color=\"lightblue\"> Example </font>\n",
        "Print the number of items in the dictionary:\n",
        "\n"
      ]
    },
    {
      "cell_type": "code",
      "metadata": {
        "colab": {
          "base_uri": "https://localhost:8080/"
        },
        "id": "1LYmKuc3VkAG",
        "outputId": "cd1b90c9-8433-434d-8b09-e3cc75602b11"
      },
      "source": [
        "print(len(thisdict))\n"
      ],
      "execution_count": 6,
      "outputs": [
        {
          "output_type": "stream",
          "name": "stdout",
          "text": [
            "3\n"
          ]
        }
      ]
    },
    {
      "cell_type": "markdown",
      "metadata": {
        "id": "aRQdk8FqVp3O"
      },
      "source": [
        "## <font color=\"lightblue\"> Dictionary Items - Data Types </font>\n",
        "The values in dictionary items can be of any data type:\n",
        "\n"
      ]
    },
    {
      "cell_type": "markdown",
      "metadata": {
        "id": "q-7y_D6IV2wP"
      },
      "source": [
        "## <font color=\"lightblue\"> Example </font>\n",
        "String, int, boolean, and list data types:\n",
        "\n"
      ]
    },
    {
      "cell_type": "code",
      "metadata": {
        "id": "N9Th-4PQV43d"
      },
      "source": [
        "thisdict = {\n",
        "  \"brand\": \"Ford\",\n",
        "  \"electric\": False,\n",
        "  \"year\": 1964,\n",
        "  \"colors\": [\"red\", \"white\", \"blue\"]\n",
        "}"
      ],
      "execution_count": 7,
      "outputs": []
    },
    {
      "cell_type": "markdown",
      "metadata": {
        "id": "JjRR8X4KWAhd"
      },
      "source": [
        "## <font color=\"lightblue\"> type() </font>\n",
        "From Python's perspective, dictionaries are defined as objects with the data type 'dict':\n",
        "\n",
        "<class 'dict'>\n"
      ]
    },
    {
      "cell_type": "markdown",
      "metadata": {
        "id": "Hznzvgv_WY3b"
      },
      "source": [
        "## <font color=\"lightblue\"> Example </font>\n",
        "Print the data type of a dictionary:\n",
        "\n"
      ]
    },
    {
      "cell_type": "code",
      "metadata": {
        "colab": {
          "base_uri": "https://localhost:8080/"
        },
        "id": "oLp52i91WcQt",
        "outputId": "988535ad-9626-4cd1-ecdf-b20a67a17b92"
      },
      "source": [
        "thisdict = {\n",
        "  \"brand\": \"Ford\",\n",
        "  \"model\": \"Mustang\",\n",
        "  \"year\": 1964\n",
        "}\n",
        "print(type(thisdict))"
      ],
      "execution_count": 8,
      "outputs": [
        {
          "output_type": "stream",
          "name": "stdout",
          "text": [
            "<class 'dict'>\n"
          ]
        }
      ]
    },
    {
      "cell_type": "markdown",
      "metadata": {
        "id": "oVDo82cnWduJ"
      },
      "source": [
        "## <font color=\"lightblue\"> Python Collections (Arrays) </font>\n",
        "\n",
        "There are four collection data types in the Python programming language:\n",
        "\n",
        "List is a collection which is ordered and changeable. Allows duplicate members.\n",
        "Tuple is a collection which is ordered and unchangeable. Allows duplicate members.\n",
        "Set is a collection which is unordered and unindexed. No duplicate members.\n",
        "Dictionary is a collection which is ordered and changeable. No duplicate members.\n",
        "When choosing a collection type, it is useful to understand the properties of that type. Choosing the right type for a particular data set could mean retention of meaning, and, it could mean an increase in efficiency or security."
      ]
    },
    {
      "cell_type": "markdown",
      "metadata": {
        "id": "XSHmVyh8W-kL"
      },
      "source": [
        "## <font color=\"lightblue\"> Python - Access Dictionary Items </font>\n"
      ]
    },
    {
      "cell_type": "markdown",
      "metadata": {
        "id": "KOrlVM-VXFqH"
      },
      "source": [
        "## <font color=\"lightblue\"> Accessing Items </font>\n",
        "You can access the items of a dictionary by referring to its key name, inside square brackets:\n",
        "\n"
      ]
    },
    {
      "cell_type": "markdown",
      "metadata": {
        "id": "3f-jQHKNXimB"
      },
      "source": [
        "## <font color=\"lightblue\"> Example </font>\n",
        "Get the value of the \"model\" key:\n",
        "\n"
      ]
    },
    {
      "cell_type": "code",
      "metadata": {
        "id": "M1jnCPq6XmRJ"
      },
      "source": [
        "thisdict = {\n",
        "  \"brand\": \"Ford\",\n",
        "  \"model\": \"Mustang\",\n",
        "  \"year\": 1964\n",
        "}\n",
        "x = thisdict[\"model\"]"
      ],
      "execution_count": 9,
      "outputs": []
    },
    {
      "cell_type": "markdown",
      "metadata": {
        "id": "vTA84egUXudC"
      },
      "source": [
        "There is also a method called **get(**) that will give you the same result:\n",
        "\n"
      ]
    },
    {
      "cell_type": "markdown",
      "metadata": {
        "id": "QN0R7ce-YBEB"
      },
      "source": [
        "## <font color=\"lightblue\"> Example </font>\n",
        "Get the value of the \"model\" key:\n",
        "\n"
      ]
    },
    {
      "cell_type": "code",
      "metadata": {
        "id": "_eu2DHRUYDMh"
      },
      "source": [
        "x = thisdict.get(\"model\")\n"
      ],
      "execution_count": 10,
      "outputs": []
    },
    {
      "cell_type": "markdown",
      "metadata": {
        "id": "OUJkkW7dYFhQ"
      },
      "source": [
        "## <font color=\"lightblue\"> Get Keys </font>\n",
        "The **keys()** method will return a list of all the keys in the dictionary.\n",
        "\n"
      ]
    },
    {
      "cell_type": "markdown",
      "metadata": {
        "id": "ri3kPymmYbpl"
      },
      "source": [
        "## <font color=\"lightblue\"> Example </font>\n",
        "Get a list of the keys:\n",
        "\n"
      ]
    },
    {
      "cell_type": "code",
      "metadata": {
        "id": "srCjKoLVYd4J"
      },
      "source": [
        "x = thisdict.keys()\n"
      ],
      "execution_count": 11,
      "outputs": []
    },
    {
      "cell_type": "markdown",
      "metadata": {
        "id": "eR7weRGmZn_p"
      },
      "source": [
        "The list of the keys is a view of the dictionary, meaning that any changes done to the dictionary will be reflected in the keys list.\n",
        "\n"
      ]
    },
    {
      "cell_type": "markdown",
      "metadata": {
        "id": "SuCZPgyqZrGx"
      },
      "source": [
        "## <font color=\"lightblue\"> Example </font>\n",
        "Add a new item to the original dictionary, and see that the keys list gets updated as well:\n",
        "\n"
      ]
    },
    {
      "cell_type": "code",
      "metadata": {
        "colab": {
          "base_uri": "https://localhost:8080/"
        },
        "id": "woehfnvwZs1v",
        "outputId": "f5bf31dd-1f79-418f-eefa-4c9abfa8998e"
      },
      "source": [
        "car = {\n",
        "\"brand\": \"Ford\",\n",
        "\"model\": \"Mustang\",\n",
        "\"year\": 1964\n",
        "}\n",
        "\n",
        "x = car.keys()\n",
        "\n",
        "print(x) #before the change\n",
        "\n",
        "car[\"color\"] = \"white\"\n",
        "\n",
        "print(x) #after the change"
      ],
      "execution_count": 12,
      "outputs": [
        {
          "output_type": "stream",
          "name": "stdout",
          "text": [
            "dict_keys(['brand', 'model', 'year'])\n",
            "dict_keys(['brand', 'model', 'year', 'color'])\n"
          ]
        }
      ]
    },
    {
      "cell_type": "markdown",
      "metadata": {
        "id": "-34U-VibZ4ty"
      },
      "source": [
        "## <font color=\"lightblue\"> Get Values </font>\n",
        "The **values()** method will return a list of all the values in the dictionary.\n",
        "\n"
      ]
    },
    {
      "cell_type": "markdown",
      "metadata": {
        "id": "WEvWfjf0aDvz"
      },
      "source": [
        "## <font color=\"lightblue\"> Example </font>\n",
        "Get a list of the values:\n",
        "\n"
      ]
    },
    {
      "cell_type": "code",
      "metadata": {
        "id": "quxbmKw6aISj"
      },
      "source": [
        "x = thisdict.values()\n"
      ],
      "execution_count": 13,
      "outputs": []
    },
    {
      "cell_type": "markdown",
      "metadata": {
        "id": "5rIz9uB_aLmT"
      },
      "source": [
        "The list of the values is a view of the dictionary, meaning that any changes done to the dictionary will be reflected in the values list.\n",
        "\n"
      ]
    },
    {
      "cell_type": "markdown",
      "metadata": {
        "id": "NiYUBPA5aaM3"
      },
      "source": [
        "## <font color=\"lightblue\"> Example </font>\n",
        "Make a change in the original dictionary, and see that the values list gets updated as well:\n",
        "\n"
      ]
    },
    {
      "cell_type": "code",
      "metadata": {
        "colab": {
          "base_uri": "https://localhost:8080/"
        },
        "id": "wdtW3b-Oadly",
        "outputId": "3a46db20-db74-4068-f94b-3b528edc9bd7"
      },
      "source": [
        "car = {\n",
        "\"brand\": \"Ford\",\n",
        "\"model\": \"Mustang\",\n",
        "\"year\": 1964\n",
        "}\n",
        "\n",
        "x = car.values()\n",
        "\n",
        "print(x) #before the change\n",
        "\n",
        "car[\"year\"] = 2020\n",
        "\n",
        "print(x) #after the change\n"
      ],
      "execution_count": 14,
      "outputs": [
        {
          "output_type": "stream",
          "name": "stdout",
          "text": [
            "dict_values(['Ford', 'Mustang', 1964])\n",
            "dict_values(['Ford', 'Mustang', 2020])\n"
          ]
        }
      ]
    },
    {
      "cell_type": "markdown",
      "metadata": {
        "id": "oj6a2G4WboxG"
      },
      "source": [
        "## <font color=\"lightblue\"> Example </font>\n",
        "Add a new item to the original dictionary, and see that the values list gets updated as well:\n",
        "\n"
      ]
    },
    {
      "cell_type": "code",
      "metadata": {
        "colab": {
          "base_uri": "https://localhost:8080/"
        },
        "id": "Zmg4B04Wbq4A",
        "outputId": "2072e594-fcef-41eb-ad3b-b133f2643a60"
      },
      "source": [
        "car = {\n",
        "\"brand\": \"Ford\",\n",
        "\"model\": \"Mustang\",\n",
        "\"year\": 1964\n",
        "}\n",
        "\n",
        "x = car.values()\n",
        "\n",
        "print(x) #before the change\n",
        "\n",
        "car[\"color\"] = \"red\"\n",
        "\n",
        "print(x) #after the change\n"
      ],
      "execution_count": 15,
      "outputs": [
        {
          "output_type": "stream",
          "name": "stdout",
          "text": [
            "dict_values(['Ford', 'Mustang', 1964])\n",
            "dict_values(['Ford', 'Mustang', 1964, 'red'])\n"
          ]
        }
      ]
    },
    {
      "cell_type": "markdown",
      "metadata": {
        "id": "UfvtJtu9bv_R"
      },
      "source": [
        "## <font color=\"lightblue\"> Get Items </font>\n",
        "The **items()** method will return each item in a dictionary, as tuples in a list.\n",
        "\n"
      ]
    },
    {
      "cell_type": "markdown",
      "metadata": {
        "id": "ZwQ9vYoDb4Ak"
      },
      "source": [
        "## <font color=\"lightblue\"> Example </font>\n",
        "Get a list of the key:value pairs\n",
        "\n"
      ]
    },
    {
      "cell_type": "code",
      "metadata": {
        "id": "ubmTrMvGcx1v"
      },
      "source": [
        "x = thisdict.items()\n"
      ],
      "execution_count": 16,
      "outputs": []
    },
    {
      "cell_type": "markdown",
      "metadata": {
        "id": "0ehH_RjEc2Ft"
      },
      "source": [
        "The returned list is a view of the items of the dictionary, meaning that any changes done to the dictionary will be reflected in the items list.\n",
        "\n"
      ]
    },
    {
      "cell_type": "markdown",
      "metadata": {
        "id": "NKy0Yrh6c6sT"
      },
      "source": [
        "## <font color=\"lightblue\"> Example </font>\n",
        "Make a change in the original dictionary, and see that the items list gets updated as well:\n",
        "\n"
      ]
    },
    {
      "cell_type": "code",
      "metadata": {
        "colab": {
          "base_uri": "https://localhost:8080/"
        },
        "id": "kEBX66wVdA6O",
        "outputId": "8dc74213-58ff-4f3e-c32e-4edcf53c96a3"
      },
      "source": [
        "car = {\n",
        "\"brand\": \"Ford\",\n",
        "\"model\": \"Mustang\",\n",
        "\"year\": 1964\n",
        "}\n",
        "\n",
        "x = car.items()\n",
        "\n",
        "print(x) #before the change\n",
        "\n",
        "car[\"year\"] = 2020\n",
        "\n",
        "print(x) #after the change"
      ],
      "execution_count": 17,
      "outputs": [
        {
          "output_type": "stream",
          "name": "stdout",
          "text": [
            "dict_items([('brand', 'Ford'), ('model', 'Mustang'), ('year', 1964)])\n",
            "dict_items([('brand', 'Ford'), ('model', 'Mustang'), ('year', 2020)])\n"
          ]
        }
      ]
    },
    {
      "cell_type": "markdown",
      "metadata": {
        "id": "irZFYPaudmA5"
      },
      "source": [
        "## <font color=\"lightblue\"> Example </font>\n",
        "Add a new item to the original dictionary, and see that the items list gets updated as well:\n",
        "\n"
      ]
    },
    {
      "cell_type": "code",
      "metadata": {
        "colab": {
          "base_uri": "https://localhost:8080/"
        },
        "id": "VUetvZe9dwVN",
        "outputId": "f5034c6e-7691-42dc-8392-a0ce5c028cc2"
      },
      "source": [
        "car = {\n",
        "\"brand\": \"Ford\",\n",
        "\"model\": \"Mustang\",\n",
        "\"year\": 1964\n",
        "}\n",
        "\n",
        "x = car.items()\n",
        "\n",
        "print(x) #before the change\n",
        "\n",
        "car[\"color\"] = \"red\"\n",
        "\n",
        "print(x) #after the change"
      ],
      "execution_count": 18,
      "outputs": [
        {
          "output_type": "stream",
          "name": "stdout",
          "text": [
            "dict_items([('brand', 'Ford'), ('model', 'Mustang'), ('year', 1964)])\n",
            "dict_items([('brand', 'Ford'), ('model', 'Mustang'), ('year', 1964), ('color', 'red')])\n"
          ]
        }
      ]
    },
    {
      "cell_type": "markdown",
      "metadata": {
        "id": "1PAwbcTad1tx"
      },
      "source": [
        "## <font color=\"lightblue\"> Check if Key Exists </font>\n",
        "To determine if a specified key is present in a dictionary use the **in** keyword:\n",
        "\n"
      ]
    },
    {
      "cell_type": "markdown",
      "metadata": {
        "id": "6iPh8QeweO-O"
      },
      "source": [
        "## <font color=\"lightblue\"> Example </font>\n",
        "Check if \"model\" is present in the dictionary:\n",
        "\n"
      ]
    },
    {
      "cell_type": "code",
      "metadata": {
        "id": "g_yFIdi0eRBd",
        "colab": {
          "base_uri": "https://localhost:8080/"
        },
        "outputId": "29315ea6-ee5b-49c8-a343-55b11b8a3959"
      },
      "source": [
        "thisdict = {\n",
        "  \"brand\": \"Ford\",\n",
        "  \"model\": \"Mustang\",\n",
        "  \"year\": 1964\n",
        "}\n",
        "if \"model\" in thisdict:\n",
        "  print(\"Yes, 'model' is one of the keys in the thisdict dictionary\")"
      ],
      "execution_count": 19,
      "outputs": [
        {
          "output_type": "stream",
          "name": "stdout",
          "text": [
            "Yes, 'model' is one of the keys in the thisdict dictionary\n"
          ]
        }
      ]
    },
    {
      "cell_type": "markdown",
      "metadata": {
        "id": "ViCfDlJDeu90"
      },
      "source": [
        "## <font color=\"lightblue\"> Python - Change Dictionary Items </font>\n"
      ]
    },
    {
      "cell_type": "markdown",
      "metadata": {
        "id": "hUPMAlsaes8H"
      },
      "source": [
        "## <font color=\"lightblue\"> Change Values </font>\n",
        "You can change the value of a specific item by referring to its key name:\n",
        "\n"
      ]
    },
    {
      "cell_type": "markdown",
      "metadata": {
        "id": "TsPNGvingCJZ"
      },
      "source": [
        "## <font color=\"lightblue\"> Example </font>\n",
        "Change the \"year\" to 2018:\n",
        "\n"
      ]
    },
    {
      "cell_type": "code",
      "metadata": {
        "id": "0ym9NU_ggIzH"
      },
      "source": [
        "thisdict = {\n",
        "  \"brand\": \"Ford\",\n",
        "  \"model\": \"Mustang\",\n",
        "  \"year\": 1964\n",
        "}\n",
        "thisdict[\"year\"] = 2018"
      ],
      "execution_count": 20,
      "outputs": []
    },
    {
      "cell_type": "markdown",
      "metadata": {
        "id": "r5sHl1vjgPUA"
      },
      "source": [
        "## <font color=\"lightblue\"> Update Dictionary </font>\n",
        "The **update()** method will update the dictionary with the items from the given argument.\n",
        "\n",
        "The argument must be a dictionary, or an iterable object with key:value pairs."
      ]
    },
    {
      "cell_type": "markdown",
      "metadata": {
        "id": "PdYQANVzhAm2"
      },
      "source": [
        "## <font color=\"lightblue\"> Example </font>\n",
        "Update the \"year\" of the car by using the **update()** method:\n",
        "\n"
      ]
    },
    {
      "cell_type": "code",
      "metadata": {
        "id": "pr9T4YYHhJ_M"
      },
      "source": [
        "thisdict = {\n",
        "  \"brand\": \"Ford\",\n",
        "  \"model\": \"Mustang\",\n",
        "  \"year\": 1964\n",
        "}\n",
        "thisdict.update({\"year\": 2020})"
      ],
      "execution_count": 21,
      "outputs": []
    },
    {
      "cell_type": "markdown",
      "metadata": {
        "id": "77866PgkhUgs"
      },
      "source": [
        "## <font color=\"lightblue\"> Python - Add Dictionary Items </font>\n"
      ]
    },
    {
      "cell_type": "markdown",
      "metadata": {
        "id": "WHVVoGOMhX_3"
      },
      "source": [
        "## <font color=\"lightblue\"> Adding Items </font>\n",
        "Adding an item to the dictionary is done by using a new index key and assigning a value to it:\n",
        "\n"
      ]
    },
    {
      "cell_type": "markdown",
      "metadata": {
        "id": "OY9DOqR2hl36"
      },
      "source": [
        "## <font color=\"lightblue\"> Example </font>\n"
      ]
    },
    {
      "cell_type": "code",
      "metadata": {
        "colab": {
          "base_uri": "https://localhost:8080/"
        },
        "id": "TLmuXirbhoYF",
        "outputId": "c9ec64bd-d9fb-4ee0-fd20-6015325782ff"
      },
      "source": [
        "thisdict = {\n",
        "  \"brand\": \"Ford\",\n",
        "  \"model\": \"Mustang\",\n",
        "  \"year\": 1964\n",
        "}\n",
        "thisdict[\"color\"] = \"red\"\n",
        "print(thisdict)"
      ],
      "execution_count": 22,
      "outputs": [
        {
          "output_type": "stream",
          "name": "stdout",
          "text": [
            "{'brand': 'Ford', 'model': 'Mustang', 'year': 1964, 'color': 'red'}\n"
          ]
        }
      ]
    },
    {
      "cell_type": "markdown",
      "metadata": {
        "id": "-S6cLuU2hr5N"
      },
      "source": [
        "## <font color=\"lightblue\"> Update Dictionary </font>\n",
        "The **update()** method will update the dictionary with the items from a given argument. If the item does not exist, the item will be added.\n",
        "\n",
        "The argument must be a dictionary, or an iterable object with key:value pairs.\n",
        "\n"
      ]
    },
    {
      "cell_type": "markdown",
      "metadata": {
        "id": "XhQ08li9h1fP"
      },
      "source": [
        "## <font color=\"lightblue\"> Example </font>\n",
        "Add a color item to the dictionary by using the **update()** method:\n",
        "\n"
      ]
    },
    {
      "cell_type": "code",
      "metadata": {
        "id": "EQi0rcqoh429"
      },
      "source": [
        "thisdict = {\n",
        "  \"brand\": \"Ford\",\n",
        "  \"model\": \"Mustang\",\n",
        "  \"year\": 1964\n",
        "}\n",
        "thisdict.update({\"color\": \"red\"})"
      ],
      "execution_count": 23,
      "outputs": []
    },
    {
      "cell_type": "markdown",
      "metadata": {
        "id": "MBwuYWdwiAmr"
      },
      "source": [
        "## <font color=\"lightblue\"> Python - Remove Dictionary Items </font>\n"
      ]
    },
    {
      "cell_type": "markdown",
      "metadata": {
        "id": "OvC9oALqiEAW"
      },
      "source": [
        "## <font color=\"lightblue\"> Removing Items </font>\n",
        "There are several methods to remove items from a dictionary:\n",
        "\n"
      ]
    },
    {
      "cell_type": "markdown",
      "metadata": {
        "id": "5Dl753PuiIvb"
      },
      "source": [
        "## <font color=\"lightblue\"> Example </font>\n",
        "The **pop()** method removes the item with the specified key name:\n",
        "\n"
      ]
    },
    {
      "cell_type": "code",
      "metadata": {
        "colab": {
          "base_uri": "https://localhost:8080/"
        },
        "id": "lPcsy6zOiRsa",
        "outputId": "008ed011-6abe-4809-9cbe-406ac3bc6a05"
      },
      "source": [
        "thisdict = {\n",
        "  \"brand\": \"Ford\",\n",
        "  \"model\": \"Mustang\",\n",
        "  \"year\": 1964\n",
        "}\n",
        "thisdict.pop(\"model\")\n",
        "print(thisdict)\n"
      ],
      "execution_count": 24,
      "outputs": [
        {
          "output_type": "stream",
          "name": "stdout",
          "text": [
            "{'brand': 'Ford', 'year': 1964}\n"
          ]
        }
      ]
    },
    {
      "cell_type": "markdown",
      "metadata": {
        "id": "5ESQouXdiWei"
      },
      "source": [
        "## <font color=\"lightblue\"> Example </font>\n",
        "The **popitem()** method removes the last inserted item (in versions before 3.7, a random item is removed instead):\n",
        "\n"
      ]
    },
    {
      "cell_type": "code",
      "metadata": {
        "colab": {
          "base_uri": "https://localhost:8080/"
        },
        "id": "l7HRogvmiZ7u",
        "outputId": "2a04dca5-dde5-499f-f94f-bf46164784f7"
      },
      "source": [
        "thisdict = {\n",
        "  \"brand\": \"Ford\",\n",
        "  \"model\": \"Mustang\",\n",
        "  \"year\": 1964\n",
        "}\n",
        "thisdict.popitem()\n",
        "print(thisdict)"
      ],
      "execution_count": 25,
      "outputs": [
        {
          "output_type": "stream",
          "name": "stdout",
          "text": [
            "{'brand': 'Ford', 'model': 'Mustang'}\n"
          ]
        }
      ]
    },
    {
      "cell_type": "markdown",
      "metadata": {
        "id": "uZP1YhHmi4p3"
      },
      "source": [
        "## <font color=\"lightblue\"> Example </font>\n",
        "The **del** keyword removes the item with the specified key name:\n",
        "\n"
      ]
    },
    {
      "cell_type": "code",
      "metadata": {
        "colab": {
          "base_uri": "https://localhost:8080/"
        },
        "id": "1HXoqTdri7Co",
        "outputId": "0940739a-0f07-446a-808c-0a888408a877"
      },
      "source": [
        "thisdict = {\n",
        "  \"brand\": \"Ford\",\n",
        "  \"model\": \"Mustang\",\n",
        "  \"year\": 1964\n",
        "}\n",
        "del thisdict[\"model\"]\n",
        "print(thisdict)"
      ],
      "execution_count": 26,
      "outputs": [
        {
          "output_type": "stream",
          "name": "stdout",
          "text": [
            "{'brand': 'Ford', 'year': 1964}\n"
          ]
        }
      ]
    },
    {
      "cell_type": "markdown",
      "metadata": {
        "id": "v-8N6CIJjey6"
      },
      "source": [
        "## <font color=\"lightblue\"> Example </font>\n",
        "The **del** keyword can also delete the dictionary completely:\n",
        "\n"
      ]
    },
    {
      "cell_type": "code",
      "metadata": {
        "colab": {
          "base_uri": "https://localhost:8080/",
          "height": 207
        },
        "id": "ZVxfNV6DjhQc",
        "outputId": "8c91df24-40b2-4f11-ed6f-db909c46bff9"
      },
      "source": [
        "thisdict = {\n",
        "  \"brand\": \"Ford\",\n",
        "  \"model\": \"Mustang\",\n",
        "  \"year\": 1964\n",
        "}\n",
        "del thisdict\n",
        "print(thisdict) #this will cause an error because \"thisdict\" no longer exists."
      ],
      "execution_count": 27,
      "outputs": [
        {
          "output_type": "error",
          "ename": "NameError",
          "evalue": "ignored",
          "traceback": [
            "\u001b[0;31m---------------------------------------------------------------------------\u001b[0m",
            "\u001b[0;31mNameError\u001b[0m                                 Traceback (most recent call last)",
            "\u001b[0;32m<ipython-input-27-cf8f189c2310>\u001b[0m in \u001b[0;36m<module>\u001b[0;34m()\u001b[0m\n\u001b[1;32m      5\u001b[0m }\n\u001b[1;32m      6\u001b[0m \u001b[0;32mdel\u001b[0m \u001b[0mthisdict\u001b[0m\u001b[0;34m\u001b[0m\u001b[0;34m\u001b[0m\u001b[0m\n\u001b[0;32m----> 7\u001b[0;31m \u001b[0mprint\u001b[0m\u001b[0;34m(\u001b[0m\u001b[0mthisdict\u001b[0m\u001b[0;34m)\u001b[0m \u001b[0;31m#this will cause an error because \"thisdict\" no longer exists.\u001b[0m\u001b[0;34m\u001b[0m\u001b[0;34m\u001b[0m\u001b[0m\n\u001b[0m",
            "\u001b[0;31mNameError\u001b[0m: name 'thisdict' is not defined"
          ]
        }
      ]
    },
    {
      "cell_type": "markdown",
      "metadata": {
        "id": "GzvaWq-9kkzf"
      },
      "source": [
        "## <font color=\"lightblue\"> Example </font>\n",
        "The **clear()** method empties the dictionary:\n",
        "\n"
      ]
    },
    {
      "cell_type": "code",
      "metadata": {
        "id": "dKZO6w0Ykpoi"
      },
      "source": [
        "thisdict = {\n",
        "  \"brand\": \"Ford\",\n",
        "  \"model\": \"Mustang\",\n",
        "  \"year\": 1964\n",
        "}\n",
        "thisdict.clear()\n",
        "print(thisdict)"
      ],
      "execution_count": null,
      "outputs": []
    },
    {
      "cell_type": "markdown",
      "metadata": {
        "id": "pvyYGqzXkuSo"
      },
      "source": [
        "## <font color=\"lightblue\"> Python - Loop Dictionaries </font>\n"
      ]
    },
    {
      "cell_type": "markdown",
      "metadata": {
        "id": "0J1asEKWkwJj"
      },
      "source": [
        "## <font color=\"lightblue\">Loop Through a Dictionary </font>\n",
        "You can loop through a dictionary by using a for loop.\n",
        "\n",
        "When looping through a dictionary, the return value are the keys of the dictionary, but there are methods to return the values as well."
      ]
    },
    {
      "cell_type": "markdown",
      "metadata": {
        "id": "hzsmdVuMllAK"
      },
      "source": [
        "## <font color=\"lightblue\"> Example </font>\n",
        "Print all key names in the dictionary, one by one:\n",
        "\n"
      ]
    },
    {
      "cell_type": "code",
      "metadata": {
        "id": "rS69xylJlph_"
      },
      "source": [
        "for x in thisdict:\n",
        "  print(x)\n"
      ],
      "execution_count": null,
      "outputs": []
    },
    {
      "cell_type": "markdown",
      "metadata": {
        "id": "3-9pakRPlsbq"
      },
      "source": [
        "## <font color=\"lightblue\"> Example </font>\n",
        "Print all values in the dictionary, one by one:\n",
        "\n"
      ]
    },
    {
      "cell_type": "code",
      "metadata": {
        "id": "rPcjahH3luI9"
      },
      "source": [
        "for x in thisdict:\n",
        "  print(thisdict[x])"
      ],
      "execution_count": null,
      "outputs": []
    },
    {
      "cell_type": "markdown",
      "metadata": {
        "id": "mNpCTjAClzGy"
      },
      "source": [
        "## <font color=\"lightblue\"> Example </font>\n",
        "You can also use the **values()** method to return values of a dictionary:\n",
        "\n"
      ]
    },
    {
      "cell_type": "code",
      "metadata": {
        "id": "7QZZe8-il1qA"
      },
      "source": [
        "for x in thisdict.values():\n",
        "  print(x)\n"
      ],
      "execution_count": null,
      "outputs": []
    },
    {
      "cell_type": "markdown",
      "metadata": {
        "id": "o9i4Tj2nl8rM"
      },
      "source": [
        "## <font color=\"lightblue\"> Example </font>\n",
        "You can use the **keys()** method to return the keys of a dictionary:\n",
        "\n"
      ]
    },
    {
      "cell_type": "code",
      "metadata": {
        "id": "EMVZ-YIrmTXa"
      },
      "source": [
        "for x in thisdict.keys():\n",
        "  print(x)"
      ],
      "execution_count": null,
      "outputs": []
    },
    {
      "cell_type": "markdown",
      "metadata": {
        "id": "rJFIUI8XmNnR"
      },
      "source": [
        "## <font color=\"lightblue\"> Example </font>\n",
        "Loop through both keys and values, by using the **items()** method:\n",
        "\n"
      ]
    },
    {
      "cell_type": "code",
      "metadata": {
        "id": "OGbIe1ssmgEb"
      },
      "source": [
        "for x, y in thisdict.items():\n",
        "  print(x, y)"
      ],
      "execution_count": null,
      "outputs": []
    },
    {
      "cell_type": "markdown",
      "metadata": {
        "id": "11FegzPqmtC3"
      },
      "source": [
        "## <font color=\"lightblue\"> Python - Copy Dictionaries </font>\n"
      ]
    },
    {
      "cell_type": "markdown",
      "metadata": {
        "id": "aJ4o4fjmmwYa"
      },
      "source": [
        "## <font color=\"lightblue\"> Copy a Dictionary </font>\n",
        "You cannot copy a dictionary simply by typing **dict2 = dict1**, because: **dict2** will only be a reference to **dict1**, and changes made in **dict1** will automatically also be made in **dict2**.\n",
        "\n",
        "There are ways to make a copy, one way is to use the built-in Dictionary method **copy()**.\n",
        "\n"
      ]
    },
    {
      "cell_type": "markdown",
      "metadata": {
        "id": "5o4O1YPfnZFJ"
      },
      "source": [
        "## <font color=\"lightblue\"> Example </font>\n",
        "Make a copy of a dictionary with the **copy()** method:\n",
        "\n"
      ]
    },
    {
      "cell_type": "code",
      "metadata": {
        "id": "LM4GH0gkngoN"
      },
      "source": [
        "thisdict = {\n",
        "  \"brand\": \"Ford\",\n",
        "  \"model\": \"Mustang\",\n",
        "  \"year\": 1964\n",
        "}\n",
        "mydict = thisdict.copy()\n",
        "print(mydict)"
      ],
      "execution_count": null,
      "outputs": []
    },
    {
      "cell_type": "markdown",
      "metadata": {
        "id": "GRLsRM7ZnoW9"
      },
      "source": [
        "Another way to make a copy is to use the built-in function **dict()**.\n",
        "\n"
      ]
    },
    {
      "cell_type": "markdown",
      "metadata": {
        "id": "s_Zw8lRXnmE2"
      },
      "source": [
        "## <font color=\"lightblue\"> Example </font>\n",
        "Make a copy of a dictionary with the **dict()** function:\n",
        "\n"
      ]
    },
    {
      "cell_type": "code",
      "metadata": {
        "id": "s8Aq1tFLnvpd"
      },
      "source": [
        "thisdict = {\n",
        "  \"brand\": \"Ford\",\n",
        "  \"model\": \"Mustang\",\n",
        "  \"year\": 1964\n",
        "}\n",
        "mydict = dict(thisdict)\n",
        "print(mydict)"
      ],
      "execution_count": null,
      "outputs": []
    },
    {
      "cell_type": "markdown",
      "metadata": {
        "id": "ITnA67NAn0e3"
      },
      "source": [
        "## <font color=\"lightblue\"> Python - Nested Dictionaries </font>\n",
        "A dictionary can contain dictionaries, this is called nested dictionaries.\n",
        "\n"
      ]
    },
    {
      "cell_type": "markdown",
      "metadata": {
        "id": "RXRFOxTZn2cc"
      },
      "source": [
        "## <font color=\"lightblue\"> Example </font>\n",
        "Create a dictionary that contain three dictionaries:\n",
        "\n"
      ]
    },
    {
      "cell_type": "code",
      "metadata": {
        "id": "oZ2oDA_6oHlX"
      },
      "source": [
        "myfamily = {\n",
        "  \"child1\" : {\n",
        "    \"name\" : \"Emil\",\n",
        "    \"year\" : 2004\n",
        "  },\n",
        "  \"child2\" : {\n",
        "    \"name\" : \"Tobias\",\n",
        "    \"year\" : 2007\n",
        "  },\n",
        "  \"child3\" : {\n",
        "    \"name\" : \"Linus\",\n",
        "    \"year\" : 2011\n",
        "  }\n",
        "}"
      ],
      "execution_count": null,
      "outputs": []
    },
    {
      "cell_type": "markdown",
      "metadata": {
        "id": "1KagNQSsoMry"
      },
      "source": [
        "Or, if you want to add three dictionaries into a new dictionary:\n",
        "\n"
      ]
    },
    {
      "cell_type": "markdown",
      "metadata": {
        "id": "jOVdW_Dpn5Jn"
      },
      "source": [
        "## <font color=\"lightblue\"> Example </font>\n",
        "Create three dictionaries, then create one dictionary that will contain the other three dictionaries:\n",
        "\n"
      ]
    },
    {
      "cell_type": "code",
      "metadata": {
        "id": "PBWSifDVoPTH"
      },
      "source": [
        "child1 = {\n",
        "  \"name\" : \"Emil\",\n",
        "  \"year\" : 2004\n",
        "}\n",
        "child2 = {\n",
        "  \"name\" : \"Tobias\",\n",
        "  \"year\" : 2007\n",
        "}\n",
        "child3 = {\n",
        "  \"name\" : \"Linus\",\n",
        "  \"year\" : 2011\n",
        "}\n",
        "\n",
        "myfamily = {\n",
        "  \"child1\" : child1,\n",
        "  \"child2\" : child2,\n",
        "  \"child3\" : child3\n",
        "}"
      ],
      "execution_count": null,
      "outputs": []
    }
  ]
}