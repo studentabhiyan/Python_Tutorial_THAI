{
  "nbformat": 4,
  "nbformat_minor": 0,
  "metadata": {
    "colab": {
      "name": "Python If  Else.ipynb",
      "provenance": []
    },
    "kernelspec": {
      "name": "python3",
      "display_name": "Python 3"
    },
    "language_info": {
      "name": "python"
    }
  },
  "cells": [
    {
      "cell_type": "markdown",
      "metadata": {
        "id": "HIQzKSNxom9t"
      },
      "source": [
        "## <font color=\"lightblue\">Python If ... Else </font>\n"
      ]
    },
    {
      "cell_type": "markdown",
      "metadata": {
        "id": "H0paEVjyor3u"
      },
      "source": [
        "## <font color=\"lightblue\">Python Conditions and If statements </font>\n",
        "Python supports the usual logical conditions from mathematics:\n",
        "\n",
        "\n",
        "*   Equals: **a == b**\n",
        "*   Less than: **a < b**\n",
        "*   Not Equals: **a != b**\n",
        "*   Less than or equal to: **a <= b**\n",
        "*   Greater than: **a > b**\n",
        "*   Greater than or equal to: **a >= b**\n",
        "These conditions can be used in several ways, most commonly in \"if statements\" and loops.\n",
        "\n",
        "An \"if statement\" is written by using the **if** keyword."
      ]
    },
    {
      "cell_type": "markdown",
      "metadata": {
        "id": "WaXT8i6brBW2"
      },
      "source": [
        "## <font color=\"lightblue\">Example </font>\n",
        "If statement:"
      ]
    },
    {
      "cell_type": "code",
      "metadata": {
        "colab": {
          "base_uri": "https://localhost:8080/"
        },
        "id": "F-epscAeomBg",
        "outputId": "7f90a92d-97e0-4001-b36b-a663f7b888f4"
      },
      "source": [
        "a = 33\n",
        "b = 200\n",
        "if b > a:\n",
        "  print(\"b is greater than a\")"
      ],
      "execution_count": 1,
      "outputs": [
        {
          "output_type": "stream",
          "name": "stdout",
          "text": [
            "b is greater than a\n"
          ]
        }
      ]
    },
    {
      "cell_type": "markdown",
      "metadata": {
        "id": "dg_o-srsrN3X"
      },
      "source": [
        "In this example we use two variables, **a** and **b**, which are used as part of the if statement to test whether **b** is greater than **a**. As a is **33**, and **b** is **200**, we know that **200** is greater than **33**, and so we print to screen that \"b is greater than a\"."
      ]
    },
    {
      "cell_type": "markdown",
      "metadata": {
        "id": "HGkN4n9lrfN2"
      },
      "source": [
        "## <font color=\"lightblue\">Elif </font>\n",
        "The **elif** keyword is pythons way of saying \"if the previous conditions were not true, then try this condition\".\n",
        "\n"
      ]
    },
    {
      "cell_type": "markdown",
      "metadata": {
        "id": "EMMRpI_7rp_Y"
      },
      "source": [
        "## <font color=\"lightblue\">Example </font>\n"
      ]
    },
    {
      "cell_type": "code",
      "metadata": {
        "colab": {
          "base_uri": "https://localhost:8080/"
        },
        "id": "QiGXAj__rtlU",
        "outputId": "d994d53e-e66b-4df2-d6cf-cbada40fbd90"
      },
      "source": [
        "a = 33\n",
        "b = 33\n",
        "if b > a:\n",
        "  print(\"b is greater than a\")\n",
        "elif a == b:\n",
        "  print(\"a and b are equal\")"
      ],
      "execution_count": 2,
      "outputs": [
        {
          "output_type": "stream",
          "name": "stdout",
          "text": [
            "a and b are equal\n"
          ]
        }
      ]
    },
    {
      "cell_type": "markdown",
      "metadata": {
        "id": "lCNPVmEgr57p"
      },
      "source": [
        "In this example **a** is equal to **b**, so the first condition is not true, but the **elif** condition is true, so we print to screen that \"a and b are equal\"."
      ]
    },
    {
      "cell_type": "markdown",
      "metadata": {
        "id": "ioyXEwxZsBz6"
      },
      "source": [
        "## <font color=\"lightblue\">Else </font>\n",
        "The **else** keyword catches anything which isn't caught by the preceding conditions.\n",
        "\n"
      ]
    },
    {
      "cell_type": "markdown",
      "metadata": {
        "id": "HdvdYWOcsIBL"
      },
      "source": [
        "## <font color=\"lightblue\">Example </font>\n"
      ]
    },
    {
      "cell_type": "code",
      "metadata": {
        "colab": {
          "base_uri": "https://localhost:8080/"
        },
        "id": "rhVUwgiwsKHu",
        "outputId": "5c07bba3-b68d-4031-f67e-eb2103d60ea9"
      },
      "source": [
        "a = 200\n",
        "b = 33\n",
        "if b > a:\n",
        "  print(\"b is greater than a\")\n",
        "elif a == b:\n",
        "  print(\"a and b are equal\")\n",
        "else:\n",
        "  print(\"a is greater than b\")"
      ],
      "execution_count": 3,
      "outputs": [
        {
          "output_type": "stream",
          "name": "stdout",
          "text": [
            "a is greater than b\n"
          ]
        }
      ]
    },
    {
      "cell_type": "markdown",
      "metadata": {
        "id": "VM3w9b89sMeW"
      },
      "source": [
        "In this example **a** is greater than **b**, so the first condition is not true, also the **elif** condition is not true, so we go to the **else** condition and print to screen that \"a is greater than b\".\n",
        "\n",
        "You can also have an **else** without the **elif**:"
      ]
    },
    {
      "cell_type": "markdown",
      "metadata": {
        "id": "v27Q9L52s4Gf"
      },
      "source": [
        "## <font color=\"lightblue\">Example </font>\n"
      ]
    },
    {
      "cell_type": "code",
      "metadata": {
        "colab": {
          "base_uri": "https://localhost:8080/"
        },
        "id": "nrXCRzE2s9MT",
        "outputId": "848b13da-591e-428b-8962-3115cfe1cc54"
      },
      "source": [
        "a = 200\n",
        "b = 33\n",
        "if b > a:\n",
        "  print(\"b is greater than a\")\n",
        "else:\n",
        "  print(\"b is not greater than a\")"
      ],
      "execution_count": 4,
      "outputs": [
        {
          "output_type": "stream",
          "name": "stdout",
          "text": [
            "b is not greater than a\n"
          ]
        }
      ]
    },
    {
      "cell_type": "markdown",
      "metadata": {
        "id": "33uxmL3vtCyS"
      },
      "source": [
        "## <font color=\"lightblue\">Short Hand If </font>\n",
        "One line if statement:\n",
        "\n"
      ]
    },
    {
      "cell_type": "code",
      "metadata": {
        "colab": {
          "base_uri": "https://localhost:8080/"
        },
        "id": "koRCNttbteon",
        "outputId": "c2b4b59a-a4aa-4d3c-944e-02f71807a7df"
      },
      "source": [
        "if a > b: print(\"a is greater than b\")\n"
      ],
      "execution_count": 5,
      "outputs": [
        {
          "output_type": "stream",
          "name": "stdout",
          "text": [
            "a is greater than b\n"
          ]
        }
      ]
    },
    {
      "cell_type": "markdown",
      "metadata": {
        "id": "bo54GTdWtDoH"
      },
      "source": [
        "## <font color=\"lightblue\">Short Hand If ... Else </font>\n",
        "If you have only one statement to execute, one for if, and one for else, you can put it all on the same line:\n",
        "\n"
      ]
    },
    {
      "cell_type": "markdown",
      "metadata": {
        "id": "CnuEGH0MtEbY"
      },
      "source": [
        "## <font color=\"lightblue\">Example </font>\n",
        "One line if else statement:\n",
        "\n"
      ]
    },
    {
      "cell_type": "code",
      "metadata": {
        "colab": {
          "base_uri": "https://localhost:8080/"
        },
        "id": "dCJrfeuMtpgq",
        "outputId": "c9b185b2-d3de-452d-b367-04c84a010e6d"
      },
      "source": [
        "a = 2\n",
        "b = 330\n",
        "print(\"A\") if a > b else print(\"B\")"
      ],
      "execution_count": 6,
      "outputs": [
        {
          "output_type": "stream",
          "name": "stdout",
          "text": [
            "B\n"
          ]
        }
      ]
    },
    {
      "cell_type": "markdown",
      "metadata": {
        "id": "QscAkQwjuJ_O"
      },
      "source": [
        "You can also have multiple else statements on the same line:\n",
        "\n"
      ]
    },
    {
      "cell_type": "markdown",
      "metadata": {
        "id": "jevwBPzBtR0-"
      },
      "source": [
        "## <font color=\"lightblue\">Example </font>\n",
        "One line if else statement, with 3 conditions:\n",
        "\n"
      ]
    },
    {
      "cell_type": "code",
      "metadata": {
        "colab": {
          "base_uri": "https://localhost:8080/"
        },
        "id": "-1xgqJ1nuQno",
        "outputId": "b2b17166-a6ce-47a6-fec3-aa38004da09c"
      },
      "source": [
        "a = 330\n",
        "b = 330\n",
        "print(\"A\") if a > b else print(\"=\") if a == b else print(\"B\")"
      ],
      "execution_count": 7,
      "outputs": [
        {
          "output_type": "stream",
          "name": "stdout",
          "text": [
            "=\n"
          ]
        }
      ]
    },
    {
      "cell_type": "markdown",
      "metadata": {
        "id": "arQXN-oNtSwz"
      },
      "source": [
        "## <font color=\"lightblue\">And </font>\n",
        "The **and** keyword is a logical operator, and is used to combine conditional statements:\n",
        "\n"
      ]
    },
    {
      "cell_type": "markdown",
      "metadata": {
        "id": "x_OwQLmhtT5Q"
      },
      "source": [
        "## <font color=\"lightblue\">Example </font>\n",
        "Test if **a** is greater than **b**, AND if **c** is greater than **a**:\n",
        "\n"
      ]
    },
    {
      "cell_type": "code",
      "metadata": {
        "colab": {
          "base_uri": "https://localhost:8080/"
        },
        "id": "F-WO7BQouwYW",
        "outputId": "2ee669b6-5e46-4d71-943a-434f53392826"
      },
      "source": [
        "a = 200\n",
        "b = 33\n",
        "c = 500\n",
        "if a > b and c > a:\n",
        "  print(\"Both conditions are True\")\n"
      ],
      "execution_count": 8,
      "outputs": [
        {
          "output_type": "stream",
          "name": "stdout",
          "text": [
            "Both conditions are True\n"
          ]
        }
      ]
    },
    {
      "cell_type": "markdown",
      "metadata": {
        "id": "_0mHmNLytVKm"
      },
      "source": [
        "## <font color=\"lightblue\">Or </font>\n",
        "The **or** keyword is a logical operator, and is used to combine conditional statements:\n",
        "\n"
      ]
    },
    {
      "cell_type": "markdown",
      "metadata": {
        "id": "LBP3dLpbtWDL"
      },
      "source": [
        "## <font color=\"lightblue\">Example </font>\n",
        "Test if **a** is greater than **b**, OR if **a** is greater than **c**:\n",
        "\n"
      ]
    },
    {
      "cell_type": "code",
      "metadata": {
        "colab": {
          "base_uri": "https://localhost:8080/"
        },
        "id": "KXH0MG6lvCG9",
        "outputId": "66d0084d-3d4c-4fe1-f51e-e3ea256fa26f"
      },
      "source": [
        "a = 200\n",
        "b = 33\n",
        "c = 500\n",
        "if a > b or a > c:\n",
        "  print(\"At least one of the conditions is True\")"
      ],
      "execution_count": 9,
      "outputs": [
        {
          "output_type": "stream",
          "name": "stdout",
          "text": [
            "At least one of the conditions is True\n"
          ]
        }
      ]
    },
    {
      "cell_type": "markdown",
      "metadata": {
        "id": "zf6Z0rgou0XW"
      },
      "source": [
        "## <font color=\"lightblue\">Nested If </font>\n",
        "You can have **if** statements inside **if** statements, this is called nested **if** statements.\n",
        "\n"
      ]
    },
    {
      "cell_type": "markdown",
      "metadata": {
        "id": "9B1Y1Y7AvFOA"
      },
      "source": [
        "## <font color=\"lightblue\">Example </font>\n"
      ]
    },
    {
      "cell_type": "code",
      "metadata": {
        "colab": {
          "base_uri": "https://localhost:8080/"
        },
        "id": "bjq-2u_0vVDx",
        "outputId": "0fe2e162-9b74-453e-bbd5-49cf6199c95f"
      },
      "source": [
        "x = 41\n",
        "\n",
        "if x > 10:\n",
        "  print(\"Above ten,\")\n",
        "  if x > 20:\n",
        "    print(\"and also above 20!\")\n",
        "  else:\n",
        "    print(\"but not above 20.\")"
      ],
      "execution_count": 10,
      "outputs": [
        {
          "output_type": "stream",
          "name": "stdout",
          "text": [
            "Above ten,\n",
            "and also above 20!\n"
          ]
        }
      ]
    },
    {
      "cell_type": "markdown",
      "metadata": {
        "id": "v_h_mPchvF6x"
      },
      "source": [
        "## <font color=\"lightblue\">The pass Statement </font>\n",
        "if statements cannot be empty, but **if** you for some reason have an **if** statement with no content, put in the **pass** statement to avoid getting an error.\n",
        "\n"
      ]
    },
    {
      "cell_type": "markdown",
      "metadata": {
        "id": "a_rNeUqbvGjW"
      },
      "source": [
        "## <font color=\"lightblue\">Example </font>\n"
      ]
    },
    {
      "cell_type": "code",
      "metadata": {
        "id": "Lh84gwC7vfCO"
      },
      "source": [
        "a = 33\n",
        "b = 200\n",
        "\n",
        "if b > a:\n",
        "  pass"
      ],
      "execution_count": 11,
      "outputs": []
    }
  ]
}