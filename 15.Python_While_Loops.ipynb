{
  "nbformat": 4,
  "nbformat_minor": 0,
  "metadata": {
    "colab": {
      "name": "Python While Loops.ipynb",
      "provenance": []
    },
    "kernelspec": {
      "name": "python3",
      "display_name": "Python 3"
    },
    "language_info": {
      "name": "python"
    }
  },
  "cells": [
    {
      "cell_type": "markdown",
      "metadata": {
        "id": "fiUclbDVv4oP"
      },
      "source": [
        "## <font color=\"lightblue\">Python While Loops </font>\n"
      ]
    },
    {
      "cell_type": "markdown",
      "metadata": {
        "id": "RxzJhZywv9az"
      },
      "source": [
        "## <font color=\"lightblue\">Python Loops </font>\n",
        "Python has two primitive loop commands:\n",
        "\n",
        "*   **while** loops\n",
        "*   **for** loops\n",
        "\n"
      ]
    },
    {
      "cell_type": "markdown",
      "metadata": {
        "id": "JzAzLrSNv_g5"
      },
      "source": [
        "## <font color=\"lightblue\">The while Loop </font>\n",
        "With the **while** loop we can execute a set of statements as long as a condition is true.\n",
        "\n"
      ]
    },
    {
      "cell_type": "markdown",
      "metadata": {
        "id": "w2_ba_LWwA60"
      },
      "source": [
        "## <font color=\"lightblue\"> Example </font>\n",
        "Print i as long as i is less than 6:\n",
        "\n"
      ]
    },
    {
      "cell_type": "code",
      "metadata": {
        "colab": {
          "base_uri": "https://localhost:8080/"
        },
        "id": "4Q_vCdA9v4CQ",
        "outputId": "6b5f0edb-817b-4ee6-f58c-191e2efb233a"
      },
      "source": [
        "i = 1\n",
        "while i < 6:\n",
        "  print(i)\n",
        "  i += 1"
      ],
      "execution_count": null,
      "outputs": [
        {
          "output_type": "stream",
          "text": [
            "1\n",
            "2\n",
            "3\n",
            "4\n",
            "5\n"
          ],
          "name": "stdout"
        }
      ]
    },
    {
      "cell_type": "markdown",
      "metadata": {
        "id": "DqQxFa8Hwzh3"
      },
      "source": [
        "The **while** loop requires relevant variables to be ready, in this example we need to define an indexing variable, **i**, which we set to 1.\n",
        "\n"
      ]
    },
    {
      "cell_type": "markdown",
      "metadata": {
        "id": "I2AXOEWlwIyj"
      },
      "source": [
        "## <font color=\"lightblue\"> The break Statement </font>\n",
        "With the **break** statement we can stop the loop even if the while condition is true:\n",
        "\n"
      ]
    },
    {
      "cell_type": "markdown",
      "metadata": {
        "id": "lHwHX4qJwKHQ"
      },
      "source": [
        "## <font color=\"lightblue\"> Example </font>\n",
        "Exit the loop when i is 3:\n",
        "\n"
      ]
    },
    {
      "cell_type": "code",
      "metadata": {
        "colab": {
          "base_uri": "https://localhost:8080/"
        },
        "id": "T2_EVfscx4a_",
        "outputId": "d6323eff-f475-45e0-c8e3-9e7c36e6c4e6"
      },
      "source": [
        "i = 1\n",
        "while i < 6:\n",
        "  print(i)\n",
        "  if i == 3:\n",
        "    break\n",
        "  i += 1"
      ],
      "execution_count": null,
      "outputs": [
        {
          "output_type": "stream",
          "text": [
            "1\n",
            "2\n",
            "3\n"
          ],
          "name": "stdout"
        }
      ]
    },
    {
      "cell_type": "markdown",
      "metadata": {
        "id": "2VoJNitLwKwl"
      },
      "source": [
        "## <font color=\"lightblue\"> The continue Statement </font>\n",
        "With the **continue** statement we can stop the current iteration, and continue with the next:\n",
        "\n"
      ]
    },
    {
      "cell_type": "markdown",
      "metadata": {
        "id": "MyIrm8TkwLr7"
      },
      "source": [
        "## <font color=\"lightblue\"> Example </font>\n",
        "Continue to the next iteration if i is 3:\n",
        "\n"
      ]
    },
    {
      "cell_type": "code",
      "metadata": {
        "colab": {
          "base_uri": "https://localhost:8080/"
        },
        "id": "9pNvzg2fy9jK",
        "outputId": "58da38de-6746-49a7-c670-5455b0ba0e24"
      },
      "source": [
        "i = 0\n",
        "while i < 6:\n",
        "  i += 1\n",
        "  if i == 3:\n",
        "    continue\n",
        "  print(i)"
      ],
      "execution_count": null,
      "outputs": [
        {
          "output_type": "stream",
          "text": [
            "1\n",
            "2\n",
            "4\n",
            "5\n",
            "6\n"
          ],
          "name": "stdout"
        }
      ]
    },
    {
      "cell_type": "markdown",
      "metadata": {
        "id": "KH7gvt8PwMY3"
      },
      "source": [
        "## <font color=\"lightblue\"> The else Statement </font>\n",
        "With the **else** statement we can run a block of code once when the condition no longer is true:\n",
        "\n"
      ]
    },
    {
      "cell_type": "markdown",
      "metadata": {
        "id": "iqoAdK3gwNC8"
      },
      "source": [
        "## <font color=\"lightblue\"> Example </font>\n",
        "Print a message once the condition is false:\n",
        "\n"
      ]
    },
    {
      "cell_type": "code",
      "metadata": {
        "colab": {
          "base_uri": "https://localhost:8080/"
        },
        "id": "ScfQHEj3zLBT",
        "outputId": "c1f7f168-7c19-4645-908f-574c307e6511"
      },
      "source": [
        "i = 1\n",
        "while i < 6:\n",
        "  print(i)\n",
        "  i += 1\n",
        "else:\n",
        "  print(\"i is no longer less than 6\")"
      ],
      "execution_count": null,
      "outputs": [
        {
          "output_type": "stream",
          "text": [
            "1\n",
            "2\n",
            "3\n",
            "4\n",
            "5\n",
            "i is no longer less than 6\n"
          ],
          "name": "stdout"
        }
      ]
    }
  ]
}