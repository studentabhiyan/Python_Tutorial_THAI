{
  "nbformat": 4,
  "nbformat_minor": 0,
  "metadata": {
    "colab": {
      "name": "Python For Loops.ipynb",
      "provenance": []
    },
    "kernelspec": {
      "name": "python3",
      "display_name": "Python 3"
    },
    "language_info": {
      "name": "python"
    }
  },
  "cells": [
    {
      "cell_type": "markdown",
      "metadata": {
        "id": "ssTnqBfJ0eXw"
      },
      "source": [
        "## <font color=\"lightblue\"> Python For Loops </font>\n"
      ]
    },
    {
      "cell_type": "markdown",
      "metadata": {
        "id": "zDJe1hHF0gRJ"
      },
      "source": [
        "## <font color=\"lightblue\"> Python For Loops </font>\n",
        "A **for** loop is used for iterating over a sequence (that is either a list, a tuple, a dictionary, a set, or a string).\n",
        "\n",
        "This is less like the **for** keyword in other programming languages, and works more like an iterator method as found in other object-orientated programming languages.\n",
        "\n",
        "With the **for** loop we can execute a set of statements, once for each item in a list, tuple, set etc."
      ]
    },
    {
      "cell_type": "markdown",
      "metadata": {
        "id": "Cto87U7S0h-z"
      },
      "source": [
        "## <font color=\"lightblue\"> Example </font>\n",
        "Print each fruit in a fruit list:\n",
        "\n"
      ]
    },
    {
      "cell_type": "code",
      "metadata": {
        "colab": {
          "base_uri": "https://localhost:8080/"
        },
        "id": "hsscrkTH0S1O",
        "outputId": "ce966ddc-2fee-4bc3-8a2c-6d255bb22097"
      },
      "source": [
        "fruits = [\"apple\", \"banana\", \"cherry\"]\n",
        "for x in fruits:\n",
        "  print(x)"
      ],
      "execution_count": null,
      "outputs": [
        {
          "output_type": "stream",
          "text": [
            "apple\n",
            "banana\n",
            "cherry\n"
          ],
          "name": "stdout"
        }
      ]
    },
    {
      "cell_type": "markdown",
      "metadata": {
        "id": "lPoxoXzn1XHv"
      },
      "source": [
        "The **for** loop does not require an indexing variable to set beforehand.\n",
        "\n"
      ]
    },
    {
      "cell_type": "markdown",
      "metadata": {
        "id": "DwRDFJ8H0jdU"
      },
      "source": [
        "## <font color=\"lightblue\"> Looping Through a String </font>\n",
        "Even strings are iterable objects, they contain a sequence of characters:\n",
        "\n"
      ]
    },
    {
      "cell_type": "markdown",
      "metadata": {
        "id": "0zbQfvGx0lE2"
      },
      "source": [
        "## <font color=\"lightblue\"> Example </font>\n",
        "Loop through the letters in the word \"banana\":\n",
        "\n"
      ]
    },
    {
      "cell_type": "code",
      "metadata": {
        "colab": {
          "base_uri": "https://localhost:8080/"
        },
        "id": "FgLnmDJs1hA1",
        "outputId": "3e5a6f0d-d0eb-4d32-8f16-a01bbca8fb91"
      },
      "source": [
        "for x in \"banana\":\n",
        "  print(x)\n"
      ],
      "execution_count": null,
      "outputs": [
        {
          "output_type": "stream",
          "text": [
            "b\n",
            "a\n",
            "n\n",
            "a\n",
            "n\n",
            "a\n"
          ],
          "name": "stdout"
        }
      ]
    },
    {
      "cell_type": "markdown",
      "metadata": {
        "id": "4PYlnmHt0mcn"
      },
      "source": [
        "## <font color=\"lightblue\"> The break Statement </font>\n",
        "With the **break** statement we can stop the loop before it has looped through all the items:\n",
        "\n"
      ]
    },
    {
      "cell_type": "markdown",
      "metadata": {
        "id": "pvMoeXAI0oXM"
      },
      "source": [
        "## <font color=\"lightblue\"> Example </font>\n",
        "Exit the loop when **x** is \"banana\":\n",
        "\n"
      ]
    },
    {
      "cell_type": "code",
      "metadata": {
        "colab": {
          "base_uri": "https://localhost:8080/"
        },
        "id": "QLanR_m80nNk",
        "outputId": "072ff9e9-0a2b-4f5c-c927-b63ddf3e0b4f"
      },
      "source": [
        "fruits = [\"apple\", \"banana\", \"cherry\"]\n",
        "for x in fruits:\n",
        "  print(x)\n",
        "  if x == \"banana\":\n",
        "    break"
      ],
      "execution_count": null,
      "outputs": [
        {
          "output_type": "stream",
          "text": [
            "apple\n",
            "banana\n"
          ],
          "name": "stdout"
        }
      ]
    },
    {
      "cell_type": "markdown",
      "metadata": {
        "id": "5nQ3q48G0p7Q"
      },
      "source": [
        "## <font color=\"lightblue\"> Example </font>\n",
        "Exit the loop when **x** is \"banana\", but this time the break comes before the print:\n",
        "\n"
      ]
    },
    {
      "cell_type": "code",
      "metadata": {
        "colab": {
          "base_uri": "https://localhost:8080/"
        },
        "id": "qDkIOCTn0qqC",
        "outputId": "205d0022-e1c9-4f35-8d6b-320524d4ae41"
      },
      "source": [
        "fruits = [\"apple\", \"banana\", \"cherry\"]\n",
        "for x in fruits:\n",
        "  if x == \"banana\":\n",
        "    break\n",
        "  print(x)"
      ],
      "execution_count": null,
      "outputs": [
        {
          "output_type": "stream",
          "text": [
            "apple\n"
          ],
          "name": "stdout"
        }
      ]
    },
    {
      "cell_type": "markdown",
      "metadata": {
        "id": "ZESDqMou2Fmu"
      },
      "source": [
        "## <font color=\"lightblue\"> The continue Statement </font>\n",
        "With the **continue** statement we can stop the current iteration of the loop, and continue with the next:\n",
        "\n"
      ]
    },
    {
      "cell_type": "markdown",
      "metadata": {
        "id": "VTCRoRA00r4u"
      },
      "source": [
        "## <font color=\"lightblue\"> Example </font>\n",
        "Do not print banana:\n",
        "\n"
      ]
    },
    {
      "cell_type": "code",
      "metadata": {
        "colab": {
          "base_uri": "https://localhost:8080/"
        },
        "id": "U6k5nCxf0smb",
        "outputId": "8fc1b20a-bc25-43ea-e0a5-4a0286816be9"
      },
      "source": [
        "fruits = [\"apple\", \"banana\", \"cherry\"]\n",
        "for x in fruits:\n",
        "  if x == \"banana\":\n",
        "    continue\n",
        "  print(x)"
      ],
      "execution_count": null,
      "outputs": [
        {
          "output_type": "stream",
          "text": [
            "apple\n",
            "cherry\n"
          ],
          "name": "stdout"
        }
      ]
    },
    {
      "cell_type": "markdown",
      "metadata": {
        "id": "nwk3jMh20wo2"
      },
      "source": [
        "## <font color=\"lightblue\"> The range() Function </font>\n",
        "To loop through a set of code a specified number of times, we can use the **range()** function,\n",
        "The **range()** function returns a sequence of numbers, starting from 0 by default, and increments by 1 (by default), and ends at a specified number.\n",
        "\n"
      ]
    },
    {
      "cell_type": "markdown",
      "metadata": {
        "id": "qcafn8oC0xVa"
      },
      "source": [
        "## <font color=\"lightblue\"> Example </font>\n",
        "Using the range() function:\n",
        "\n"
      ]
    },
    {
      "cell_type": "code",
      "metadata": {
        "colab": {
          "base_uri": "https://localhost:8080/"
        },
        "id": "b1q1bTJw0x6s",
        "outputId": "c2f853f7-aed2-489b-c171-48812dbe70c3"
      },
      "source": [
        "for x in range(6):\n",
        "  print(x)"
      ],
      "execution_count": null,
      "outputs": [
        {
          "output_type": "stream",
          "text": [
            "0\n",
            "1\n",
            "2\n",
            "3\n",
            "4\n",
            "5\n"
          ],
          "name": "stdout"
        }
      ]
    },
    {
      "cell_type": "markdown",
      "metadata": {
        "id": "EuD0-RoC2fA5"
      },
      "source": [
        "The **range()** function defaults to 0 as a starting value, however it is possible to specify the starting value by adding a parameter: **range(2, 6)**, which means values from 2 to 6 (but not including 6):"
      ]
    },
    {
      "cell_type": "markdown",
      "metadata": {
        "id": "U0PPbJ5o0zFp"
      },
      "source": [
        "## <font color=\"lightblue\"> Example </font>\n",
        "Using the start parameter:\n",
        "\n"
      ]
    },
    {
      "cell_type": "code",
      "metadata": {
        "colab": {
          "base_uri": "https://localhost:8080/"
        },
        "id": "qPNADRLX2pAt",
        "outputId": "158e2c89-e5e1-40ea-8636-dfdb7b041e86"
      },
      "source": [
        "for x in range(2, 6):\n",
        "  print(x)"
      ],
      "execution_count": null,
      "outputs": [
        {
          "output_type": "stream",
          "text": [
            "2\n",
            "3\n",
            "4\n",
            "5\n"
          ],
          "name": "stdout"
        }
      ]
    },
    {
      "cell_type": "markdown",
      "metadata": {
        "id": "tkArq2Ph2rDw"
      },
      "source": [
        "The **range()**  function defaults to increment the sequence by 1, however it is possible to specify the increment value by adding a third parameter: **range(2, 30, 3)**:"
      ]
    },
    {
      "cell_type": "markdown",
      "metadata": {
        "id": "Wz-qKigJ0ze1"
      },
      "source": [
        "## <font color=\"lightblue\"> Example </font>\n",
        "Increment the sequence with 3 (default is 1):"
      ]
    },
    {
      "cell_type": "code",
      "metadata": {
        "colab": {
          "base_uri": "https://localhost:8080/"
        },
        "id": "KfLpypw400Cs",
        "outputId": "4c3e9a97-9580-45a6-e3c8-c36962275cb2"
      },
      "source": [
        "for x in range(2, 30, 3):\n",
        "  print(x)"
      ],
      "execution_count": null,
      "outputs": [
        {
          "output_type": "stream",
          "text": [
            "2\n",
            "5\n",
            "8\n",
            "11\n",
            "14\n",
            "17\n",
            "20\n",
            "23\n",
            "26\n",
            "29\n"
          ],
          "name": "stdout"
        }
      ]
    },
    {
      "cell_type": "markdown",
      "metadata": {
        "id": "mzyABqyb01Wv"
      },
      "source": [
        "## <font color=\"lightblue\"> Else in For Loop </font>\n",
        "The **else** keyword in a **for** loop specifies a block of code to be executed when the loop is finished:\n",
        "\n"
      ]
    },
    {
      "cell_type": "markdown",
      "metadata": {
        "id": "NIO_WZSt02qZ"
      },
      "source": [
        "## <font color=\"lightblue\"> Example </font>\n",
        "Print all numbers from 0 to 5, and print a message when the loop has ended:"
      ]
    },
    {
      "cell_type": "code",
      "metadata": {
        "colab": {
          "base_uri": "https://localhost:8080/"
        },
        "id": "qGYMBU5H03iK",
        "outputId": "1950cd31-603d-4561-bc7f-15a6e4fa7db1"
      },
      "source": [
        "for x in range(6):\n",
        "  print(x)\n",
        "else:\n",
        "  print(\"Finally finished!\")"
      ],
      "execution_count": null,
      "outputs": [
        {
          "output_type": "stream",
          "text": [
            "0\n",
            "1\n",
            "2\n",
            "3\n",
            "4\n",
            "5\n",
            "Finally finished!\n"
          ],
          "name": "stdout"
        }
      ]
    },
    {
      "cell_type": "markdown",
      "metadata": {
        "id": "gYLShmJW05vj"
      },
      "source": [
        "## <font color=\"lightblue\"> Example </font>\n",
        "Break the loop when **x** is 3, and see what happens with the **else** block:"
      ]
    },
    {
      "cell_type": "code",
      "metadata": {
        "colab": {
          "base_uri": "https://localhost:8080/"
        },
        "id": "xMvTjV0A3Nhy",
        "outputId": "04e21a60-61cd-41ec-c2c9-37812ad7422f"
      },
      "source": [
        "for x in range(6):\n",
        "  if x == 3: break\n",
        "  print(x)\n",
        "else:\n",
        "  print(\"Finally finished!\")"
      ],
      "execution_count": null,
      "outputs": [
        {
          "output_type": "stream",
          "text": [
            "0\n",
            "1\n",
            "2\n"
          ],
          "name": "stdout"
        }
      ]
    },
    {
      "cell_type": "markdown",
      "metadata": {
        "id": "mBi-zdrh06cZ"
      },
      "source": [
        "## <font color=\"lightblue\"> Nested Loops </font>\n",
        "A nested loop is a loop inside a loop.\n",
        "\n",
        "The \"inner loop\" will be executed one time for each iteration of the \"outer loop\":"
      ]
    },
    {
      "cell_type": "markdown",
      "metadata": {
        "id": "l1E39D8j3h9F"
      },
      "source": [
        "## <font color=\"lightblue\"> Example </font>\n",
        "Print each adjective for every fruit:\n",
        "\n"
      ]
    },
    {
      "cell_type": "code",
      "metadata": {
        "colab": {
          "base_uri": "https://localhost:8080/"
        },
        "id": "dsH4o-AT07aC",
        "outputId": "f966deef-8a16-4af9-e2d8-6f0d87ffde24"
      },
      "source": [
        "adj = [\"red\", \"big\", \"tasty\"]\n",
        "fruits = [\"apple\", \"banana\", \"cherry\"]\n",
        "\n",
        "for x in adj:\n",
        "  for y in fruits:\n",
        "    print(x, y)"
      ],
      "execution_count": null,
      "outputs": [
        {
          "output_type": "stream",
          "text": [
            "red apple\n",
            "red banana\n",
            "red cherry\n",
            "big apple\n",
            "big banana\n",
            "big cherry\n",
            "tasty apple\n",
            "tasty banana\n",
            "tasty cherry\n"
          ],
          "name": "stdout"
        }
      ]
    },
    {
      "cell_type": "markdown",
      "metadata": {
        "id": "0uwzW3sO3pHJ"
      },
      "source": [
        "## <font color=\"lightblue\"> The pass Statement </font>\n",
        "**for** loops cannot be empty, but if you **for** some reason have a for loop with no content, put in the **pass** statement to avoid getting an error.\n",
        "\n"
      ]
    },
    {
      "cell_type": "markdown",
      "metadata": {
        "id": "6Px2UFNv3rEU"
      },
      "source": [
        "## <font color=\"lightblue\"> Example </font>\n"
      ]
    },
    {
      "cell_type": "code",
      "metadata": {
        "id": "t74GeVwi32-Q"
      },
      "source": [
        "for x in [0, 1, 2]:\n",
        "  pass"
      ],
      "execution_count": null,
      "outputs": []
    }
  ]
}