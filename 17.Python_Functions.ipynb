{
  "nbformat": 4,
  "nbformat_minor": 0,
  "metadata": {
    "colab": {
      "name": "Python Functions.ipynb",
      "provenance": []
    },
    "kernelspec": {
      "name": "python3",
      "display_name": "Python 3"
    },
    "language_info": {
      "name": "python"
    }
  },
  "cells": [
    {
      "cell_type": "markdown",
      "metadata": {
        "id": "bJCFi_GI5D1r"
      },
      "source": [
        "## <font color=\"lightblue\"> Python Functions </font>\n"
      ]
    },
    {
      "cell_type": "markdown",
      "metadata": {
        "id": "ZPSPP0a_6Lqz"
      },
      "source": [
        "A function is a block of code which only runs when it is called.\n",
        "\n",
        "You can pass data, known as parameters, into a function.\n",
        "\n",
        "A function can return data as a result."
      ]
    },
    {
      "cell_type": "markdown",
      "metadata": {
        "id": "aDAs3Fvn5WTZ"
      },
      "source": [
        "## <font color=\"lightblue\">Creating a Function </font>\n",
        "In Python a function is defined using the **def** keyword:\n"
      ]
    },
    {
      "cell_type": "markdown",
      "metadata": {
        "id": "nolmaLmM5XRp"
      },
      "source": [
        "## <font color=\"lightblue\"> Example </font>\n"
      ]
    },
    {
      "cell_type": "code",
      "metadata": {
        "id": "estnWhh35CfU"
      },
      "source": [
        "def my_function():\n",
        "  print(\"Hello from a function\")"
      ],
      "execution_count": null,
      "outputs": []
    },
    {
      "cell_type": "markdown",
      "metadata": {
        "id": "2beDYw0_5ZTs"
      },
      "source": [
        "## <font color=\"lightblue\">Calling a Function </font>\n",
        "To call a function, use the function name followed by parenthesis:\n",
        "\n"
      ]
    },
    {
      "cell_type": "markdown",
      "metadata": {
        "id": "-1tGE_zj5Z-I"
      },
      "source": [
        "## <font color=\"lightblue\"> Example </font>\n"
      ]
    },
    {
      "cell_type": "code",
      "metadata": {
        "colab": {
          "base_uri": "https://localhost:8080/"
        },
        "id": "TjkmpZLh5atZ",
        "outputId": "c6a016ab-ce3c-415a-d7c7-a4a498bff0a0"
      },
      "source": [
        "def my_function():\n",
        "  print(\"Hello from a function\")\n",
        "\n",
        "my_function()"
      ],
      "execution_count": null,
      "outputs": [
        {
          "output_type": "stream",
          "text": [
            "Hello from a function\n"
          ],
          "name": "stdout"
        }
      ]
    },
    {
      "cell_type": "markdown",
      "metadata": {
        "id": "k8AH8LVt5cWb"
      },
      "source": [
        "## <font color=\"lightblue\"> Arguments </font>\n",
        "Information can be passed into functions as arguments.\n",
        "\n",
        "Arguments are specified after the function name, inside the parentheses. You can add as many arguments as you want, just separate them with a comma.\n",
        "\n",
        "The following example has a function with one argument (fname). When the function is called, we pass along a first name, which is used inside the function to print the full name:"
      ]
    },
    {
      "cell_type": "markdown",
      "metadata": {
        "id": "rJfPu4zT5c6D"
      },
      "source": [
        "## <font color=\"lightblue\"> Example </font>\n"
      ]
    },
    {
      "cell_type": "code",
      "metadata": {
        "colab": {
          "base_uri": "https://localhost:8080/"
        },
        "id": "XrNdBld25dtx",
        "outputId": "d89e39a6-752b-4b23-9500-8b4ccda0f751"
      },
      "source": [
        "def my_function(fname):\n",
        "  print(fname + \" Refsnes\")\n",
        "\n",
        "my_function(\"Emil\")\n",
        "my_function(\"Tobias\")\n",
        "my_function(\"Linus\")"
      ],
      "execution_count": null,
      "outputs": [
        {
          "output_type": "stream",
          "text": [
            "Emil Refsnes\n",
            "Tobias Refsnes\n",
            "Linus Refsnes\n"
          ],
          "name": "stdout"
        }
      ]
    },
    {
      "cell_type": "markdown",
      "metadata": {
        "id": "HwdXZmr35ij-"
      },
      "source": [
        "## <font color=\"lightblue\"> Parameters or Arguments? </font>\n",
        "The terms parameter and argument can be used for the same thing: information that are passed into a function."
      ]
    },
    {
      "cell_type": "markdown",
      "metadata": {
        "id": "ysWE_VJX6waO"
      },
      "source": [
        "From a function's perspective:\n",
        "\n",
        "A parameter is the variable listed inside the parentheses in the function definition.\n",
        "\n",
        "An argument is the value that is sent to the function when it is called."
      ]
    },
    {
      "cell_type": "markdown",
      "metadata": {
        "id": "L3En13bP5jTn"
      },
      "source": [
        "## <font color=\"lightblue\"> Number of Arguments </font>\n",
        "By default, a function must be called with the correct number of arguments. Meaning that if your function expects 2 arguments, you have to call the function with 2 arguments, not more, and not less."
      ]
    },
    {
      "cell_type": "markdown",
      "metadata": {
        "id": "mdxAl2df5nJu"
      },
      "source": [
        "## <font color=\"lightblue\"> Example </font>\n",
        "This function expects 2 arguments, and gets 2 arguments:\n",
        "\n"
      ]
    },
    {
      "cell_type": "code",
      "metadata": {
        "colab": {
          "base_uri": "https://localhost:8080/"
        },
        "id": "SlkX3Q7s5ouM",
        "outputId": "8bc95ddf-100e-463d-e6a8-386ef24f0b00"
      },
      "source": [
        "def my_function(fname, lname):\n",
        "  print(fname + \" \" + lname)\n",
        "\n",
        "my_function(\"Emil\", \"Refsnes\")"
      ],
      "execution_count": null,
      "outputs": [
        {
          "output_type": "stream",
          "text": [
            "Emil Refsnes\n"
          ],
          "name": "stdout"
        }
      ]
    },
    {
      "cell_type": "markdown",
      "metadata": {
        "id": "ysA5aXLO5pGV"
      },
      "source": [
        "If you try to call the function with 1 or 3 arguments, you will get an error:"
      ]
    },
    {
      "cell_type": "markdown",
      "metadata": {
        "id": "xaYienJE5rwL"
      },
      "source": [
        "## <font color=\"lightblue\"> Arbitrary Arguments, *args </font>\n",
        "If you do not know how many arguments that will be passed into your function, add a * before the parameter name in the function definition.\n",
        "\n",
        "This way the function will receive a tuple of arguments, and can access the items accordingly:"
      ]
    },
    {
      "cell_type": "markdown",
      "metadata": {
        "id": "MXQM-LP35skw"
      },
      "source": [
        "## <font color=\"lightblue\"> Example </font>\n",
        "If the number of arguments is unknown, add a * before the parameter name:"
      ]
    },
    {
      "cell_type": "code",
      "metadata": {
        "colab": {
          "base_uri": "https://localhost:8080/"
        },
        "id": "9sAhgu_35tbd",
        "outputId": "4c77ce14-29e9-42e2-8b2a-90acb78b743f"
      },
      "source": [
        "def my_function(*kids):\n",
        "  print(\"The youngest child is \" + kids[2])\n",
        "\n",
        "my_function(\"Emil\", \"Tobias\", \"Linus\")"
      ],
      "execution_count": null,
      "outputs": [
        {
          "output_type": "stream",
          "text": [
            "The youngest child is Linus\n"
          ],
          "name": "stdout"
        }
      ]
    },
    {
      "cell_type": "markdown",
      "metadata": {
        "id": "ZiPumARG5vBU"
      },
      "source": [
        "## <font color=\"lightblue\"> Keyword Arguments </font>\n",
        "You can also send arguments with the key = value syntax.\n",
        "\n",
        "This way the order of the arguments does not matter."
      ]
    },
    {
      "cell_type": "markdown",
      "metadata": {
        "id": "3gWW2Do95wCo"
      },
      "source": [
        "## <font color=\"lightblue\"> Example </font>\n"
      ]
    },
    {
      "cell_type": "code",
      "metadata": {
        "colab": {
          "base_uri": "https://localhost:8080/"
        },
        "id": "HJFHP48p5wyM",
        "outputId": "8ebeaa63-b5df-4e11-c1e4-b44756b83bd1"
      },
      "source": [
        "def my_function(child3, child2, child1):\n",
        "  print(\"The youngest child is \" + child3)\n",
        "\n",
        "my_function(child1 = \"Emil\", child2 = \"Tobias\", child3 = \"Linus\")"
      ],
      "execution_count": null,
      "outputs": [
        {
          "output_type": "stream",
          "text": [
            "The youngest child is Linus\n"
          ],
          "name": "stdout"
        }
      ]
    },
    {
      "cell_type": "markdown",
      "metadata": {
        "id": "lQR_pCpy7bZ5"
      },
      "source": [
        "## <font color=\"lightblue\"> Arbitrary Keyword Arguments, **kwargs </font>\n",
        "If you do not know how many keyword arguments that will be passed into your function, add two asterisk: ** before the parameter name in the function definition.\n",
        "\n",
        "This way the function will receive a dictionary of arguments, and can access the items accordingly:"
      ]
    },
    {
      "cell_type": "markdown",
      "metadata": {
        "id": "ZAzSRSd07c2s"
      },
      "source": [
        "## <font color=\"lightblue\"> Example </font>\n",
        "If the number of keyword arguments is unknown, add a double ** before the parameter name:\n",
        "\n"
      ]
    },
    {
      "cell_type": "code",
      "metadata": {
        "colab": {
          "base_uri": "https://localhost:8080/"
        },
        "id": "0x5UZqSb8TyA",
        "outputId": "932d8cca-5585-4f40-c705-1a5414d512a7"
      },
      "source": [
        "def my_function(**kid):\n",
        "  print(\"His last name is \" + kid[\"lname\"])\n",
        "\n",
        "my_function(fname = \"Tobias\", lname = \"Refsnes\")"
      ],
      "execution_count": null,
      "outputs": [
        {
          "output_type": "stream",
          "text": [
            "His last name is Refsnes\n"
          ],
          "name": "stdout"
        }
      ]
    },
    {
      "cell_type": "markdown",
      "metadata": {
        "id": "4z8hoe7B8Rh1"
      },
      "source": [
        "## <font color=\"lightblue\"> Default Parameter Value </font>\n",
        "The following example shows how to use a default parameter value.\n",
        "\n",
        "If we call the function without argument, it uses the default value:"
      ]
    },
    {
      "cell_type": "markdown",
      "metadata": {
        "id": "zQKygr0g8Zyb"
      },
      "source": [
        "## <font color=\"lightblue\"> Example </font>\n"
      ]
    },
    {
      "cell_type": "code",
      "metadata": {
        "colab": {
          "base_uri": "https://localhost:8080/"
        },
        "id": "-fCmb1sW8m97",
        "outputId": "0765769d-08dd-41de-a4ce-f257215255ae"
      },
      "source": [
        "def my_function(country = \"Norway\"):\n",
        "  print(\"I am from \" + country)\n",
        "\n",
        "my_function(\"Sweden\")\n",
        "my_function(\"India\")\n",
        "my_function()\n",
        "my_function(\"Brazil\")"
      ],
      "execution_count": null,
      "outputs": [
        {
          "output_type": "stream",
          "text": [
            "I am from Sweden\n",
            "I am from India\n",
            "I am from Norway\n",
            "I am from Brazil\n"
          ],
          "name": "stdout"
        }
      ]
    },
    {
      "cell_type": "markdown",
      "metadata": {
        "id": "_qet4Tea8Wvw"
      },
      "source": [
        "## <font color=\"lightblue\"> Passing a List as an Argument </font>\n",
        "You can send any data types of argument to a function (string, number, list, dictionary etc.), and it will be treated as the same data type inside the function.\n",
        "\n",
        "E.g. if you send a List as an argument, it will still be a List when it reaches the function:"
      ]
    },
    {
      "cell_type": "markdown",
      "metadata": {
        "id": "GHAo1Jn08cNE"
      },
      "source": [
        "## <font color=\"lightblue\"> Example </font>\n"
      ]
    },
    {
      "cell_type": "code",
      "metadata": {
        "colab": {
          "base_uri": "https://localhost:8080/"
        },
        "id": "cno1hX_p8wlx",
        "outputId": "0d6614ee-dc5d-4fcd-956c-aa8f7454bfd8"
      },
      "source": [
        "def my_function(food):\n",
        "  for x in food:\n",
        "    print(x)\n",
        "\n",
        "fruits = [\"apple\", \"banana\", \"cherry\"]\n",
        "\n",
        "my_function(fruits)"
      ],
      "execution_count": null,
      "outputs": [
        {
          "output_type": "stream",
          "text": [
            "apple\n",
            "banana\n",
            "cherry\n"
          ],
          "name": "stdout"
        }
      ]
    },
    {
      "cell_type": "markdown",
      "metadata": {
        "id": "gOtWlOMX8c5a"
      },
      "source": [
        "## <font color=\"lightblue\"> Return Values </font>\n",
        "To let a function return a value, use the **return** statement:"
      ]
    },
    {
      "cell_type": "markdown",
      "metadata": {
        "id": "WlMP_EMf8ejj"
      },
      "source": [
        "## <font color=\"lightblue\"> Example </font>\n"
      ]
    },
    {
      "cell_type": "code",
      "metadata": {
        "colab": {
          "base_uri": "https://localhost:8080/"
        },
        "id": "K4eThJ79832c",
        "outputId": "1772ea53-f08f-4683-ccb9-64f0e984b1f5"
      },
      "source": [
        "def my_function(x):\n",
        "  return 5 * x\n",
        "\n",
        "print(my_function(3))\n",
        "print(my_function(5))\n",
        "print(my_function(9))"
      ],
      "execution_count": null,
      "outputs": [
        {
          "output_type": "stream",
          "text": [
            "15\n",
            "25\n",
            "45\n"
          ],
          "name": "stdout"
        }
      ]
    },
    {
      "cell_type": "markdown",
      "metadata": {
        "id": "3GWkpZR48fLS"
      },
      "source": [
        "## <font color=\"lightblue\"> The pass Statement </font>\n",
        "**function** definitions cannot be empty, but if you for some reason have a **function** definition with no content, put in the **pass** statement to avoid getting an error."
      ]
    },
    {
      "cell_type": "markdown",
      "metadata": {
        "id": "PnyDRFDR8f2k"
      },
      "source": [
        "## <font color=\"lightblue\"> Example </font>\n"
      ]
    },
    {
      "cell_type": "code",
      "metadata": {
        "id": "MZyHH7DI9HHu"
      },
      "source": [
        "def myfunction():\n",
        "  pass"
      ],
      "execution_count": null,
      "outputs": []
    },
    {
      "cell_type": "markdown",
      "metadata": {
        "id": "i72nTvKO8gas"
      },
      "source": [
        "## <font color=\"lightblue\"> Recursion </font>\n",
        "Python also accepts function recursion, which means a defined function can call itself.\n",
        "\n",
        "Recursion is a common mathematical and programming concept. It means that a function calls itself. This has the benefit of meaning that you can loop through data to reach a result.\n",
        "\n",
        "The developer should be very careful with recursion as it can be quite easy to slip into writing a function which never terminates, or one that uses excess amounts of memory or processor power. However, when written correctly recursion can be a very efficient and mathematically-elegant approach to programming.\n",
        "\n",
        "In this example, **tri_recursion()** is a function that we have defined to call itself (\"recurse\"). We use the **k** variable as the data, which decrements **(-1)** every time we recurse. The recursion ends when the condition is not greater than 0 (i.e. when it is 0).\n",
        "\n",
        "To a new developer it can take some time to work out how exactly this works, best way to find out is by testing and modifying it."
      ]
    },
    {
      "cell_type": "markdown",
      "metadata": {
        "id": "Os0dJ4Ry9KwH"
      },
      "source": [
        "## <font color=\"lightblue\"> Example </font>\n",
        "Recursion Example\n",
        "\n"
      ]
    },
    {
      "cell_type": "code",
      "metadata": {
        "id": "FQjn4pIp9cpv",
        "colab": {
          "base_uri": "https://localhost:8080/"
        },
        "outputId": "41d18e37-2090-4e35-c376-fd3cc0797617"
      },
      "source": [
        "def tri_recursion(k):\n",
        "  if(k > 0):\n",
        "    result = k + tri_recursion(k - 1)\n",
        "    print(result)\n",
        "  else:\n",
        "    result = 0\n",
        "  return result\n",
        "\n",
        "print(\"\\n\\nRecursion Example Results\")\n",
        "tri_recursion(6)"
      ],
      "execution_count": null,
      "outputs": [
        {
          "output_type": "stream",
          "text": [
            "\n",
            "\n",
            "Recursion Example Results\n",
            "1\n",
            "3\n",
            "6\n",
            "10\n",
            "15\n",
            "21\n"
          ],
          "name": "stdout"
        },
        {
          "output_type": "execute_result",
          "data": {
            "text/plain": [
              "21"
            ]
          },
          "metadata": {},
          "execution_count": 12
        }
      ]
    }
  ]
}