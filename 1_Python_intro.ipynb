{
  "nbformat": 4,
  "nbformat_minor": 2,
  "metadata": {
    "colab": {
      "name": "1.Python_intro.ipynb",
      "provenance": [],
      "collapsed_sections": []
    },
    "kernelspec": {
      "name": "python3",
      "display_name": "Python 3"
    },
    "language_info": {
      "name": "python"
    }
  },
  "cells": [
    {
      "cell_type": "markdown",
      "source": [
        "## <font color=#026D8F>**Python Tutorial-TH**\n",
        "\n",
        "\n"
      ],
      "metadata": {
        "id": "ZGumNdBZWxUW"
      }
    },
    {
      "cell_type": "markdown",
      "source": [
        "### <font color=#026D8F>Python Intro</font>"
      ],
      "metadata": {
        "id": "Rk_tzDnUWxVu"
      }
    },
    {
      "cell_type": "markdown",
      "source": [
        "#### <font color=#026D8F>ไพทอนคืออะไร? \r\n",
        "\r\n",
        "Python คือภาษาโปรแกรมยอดนิยม ถูกสร้างโดย Guido van Rossum และเปิดตัวในปี ค.ศ. 1991.\r\n",
        "\r\n",
        "Python ถูกใช้งานอย่างแพร่หลายในงานหลากหลายสาขา เช่น:\r\n",
        "\r\n",
        "*   Data science\r\n",
        "*   Web development (Django)\r\n",
        "*   Machine learning\r\n",
        "*   Data analytics\r\n",
        "*   Data visualization\r\n",
        "\r\n",
        "#### <font color=#026D8F>ทำไมไพทอนจึงเป็นภาษาที่ได้รับความนิยมอย่างมาก? \r\n",
        "\r\n",
        "* Python สามารถทำงานบนแพลตฟอร์มต่าง ๆ ได้ ( เช่น Windows, Mac, Linux, Raspberry Pi เป็นต้น)\r\n",
        "* Python มีโครงสร้างไวยากรณ์หรือ Syntax ที่คล้ายกับภาษาอังกฤษ ทำให้เรียนรู้การใช้งานได้ง่าย\r\n",
        "* Python มีไวยากรณ์ที่ช่วยให้นักพัฒนาสามารถเขียนโปรแกรม ที่มีจำนวนบรรทัดน้อยกว่าภาษาโปรแกรมอื่นๆ\r\n",
        "* Python นั้นรันอยู่บนระบบของ interpreter ซึ่งหมายความว่า แค่พิมโค้ดคำสั่งลงไป ระบบก็สามารถทำงานได้เลย ทำให้สามารถสร้างโปรแกรมต้นแบบ (prototype) ได้อย่างรวดเร็ว\r\n",
        "* Python เป็นภาษาแบบ object-oriented ช่วยให้นักพัฒนาสามารถนำองค์ประกอบต่าง ๆ มาใช้งานได้รวดเร็ว เพียงแค่ทำความเข้าใจว่าองค์ประกอบนั้นมีหน้าที่อะไร ไม่จำเป็นต้องเข้าใจโค้ดทั้งหมด\r\n",
        "\r\n",
        "\r\n",
        "#### <font color=#026D8F>Python Syntax เทียบกับภาษาโปรแกรมอื่นๆ\r\n",
        "\r\n",
        "* Python ถูกออกแบบมาให้อ่านง่าย และมีความคล้ายคลึงบางอย่างกับภาษาอังกฤษและมีการคำนึงถึงภาษาทางคณิตศาสตร์\r\n",
        "* Python ใช้การขึ้นบรรทัดใหม่ในการจบคำสั่ง 1 คำสั่ง ในขณะที่ภาษาโปรแกรมอื่นๆ ที่มักใช้เครื่องหมายอัฒภาค (;) หรือวงเล็บ\r\n",
        "* Python ใช้การเว้นวรรค (indentation) เพื่อกำหนดขอบเขตของโค้ด เช่น ขอบเขตของลูป ฟังก์ชัน และคลาส ในขณะที่ภาษาโปรแกรมอื่น ๆ มักใช้วงเล็บปีกกา"
      ],
      "metadata": {
        "id": "l7SaV_ppXtPc"
      }
    },
    {
      "cell_type": "code",
      "execution_count": null,
      "source": [
        "#Let's write our first code for python\r\n",
        "#มาลองเขียนโค้ดไพทอนบรรทัดแรกกันเถอะ!\r\n",
        "\r\n",
        "print(\"Learning python\")\r\n"
      ],
      "outputs": [
        {
          "output_type": "stream",
          "name": "stdout",
          "text": [
            "Learning python\n"
          ]
        }
      ],
      "metadata": {
        "id": "A5z8OuCsZhBl",
        "colab": {
          "base_uri": "https://localhost:8080/"
        },
        "outputId": "d4b24df1-9e03-4aeb-d310-ce2f9251667a"
      }
    }
  ]
}