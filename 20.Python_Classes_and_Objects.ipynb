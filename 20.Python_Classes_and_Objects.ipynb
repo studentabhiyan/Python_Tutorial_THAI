{
  "nbformat": 4,
  "nbformat_minor": 0,
  "metadata": {
    "colab": {
      "name": "Python Classes and Objects.ipynb",
      "provenance": []
    },
    "kernelspec": {
      "name": "python3",
      "display_name": "Python 3"
    },
    "language_info": {
      "name": "python"
    }
  },
  "cells": [
    {
      "cell_type": "markdown",
      "metadata": {
        "id": "o8kR6jT_CO62"
      },
      "source": [
        "## <font color=\"lightblue\"> Python Classes and Objects\n",
        " </font>\n"
      ]
    },
    {
      "cell_type": "markdown",
      "metadata": {
        "id": "yHLocn8hCOlj"
      },
      "source": [
        "## <font color=\"lightblue\"> Python Classes/Objects </font>\n",
        "Python is an object oriented programming language.\n",
        "\n",
        "Almost everything in Python is an object, with its properties and methods.\n",
        "\n",
        "A Class is like an object constructor, or a \"blueprint\" for creating objects."
      ]
    },
    {
      "cell_type": "markdown",
      "metadata": {
        "id": "JWO-qhlvCU_G"
      },
      "source": [
        "## <font color=\"lightblue\"> Create a Class </font>\n",
        "To create a class, use the keyword **class**:\n",
        "\n"
      ]
    },
    {
      "cell_type": "markdown",
      "metadata": {
        "id": "ES_fyIoUCWo7"
      },
      "source": [
        "## <font color=\"lightblue\"> Example </font>\n",
        "Create a class named MyClass, with a property named x:\n",
        "\n"
      ]
    },
    {
      "cell_type": "code",
      "metadata": {
        "id": "5A8NLJzZCNgw"
      },
      "source": [
        "class MyClass:\n",
        "  x = 5"
      ],
      "execution_count": null,
      "outputs": []
    },
    {
      "cell_type": "markdown",
      "metadata": {
        "id": "2RbpmtDoCaG4"
      },
      "source": [
        "## <font color=\"lightblue\"> Create Object </font>\n",
        "Now we can use the class named MyClass to create objects:\n",
        "\n"
      ]
    },
    {
      "cell_type": "markdown",
      "metadata": {
        "id": "lYt58YsfCa3n"
      },
      "source": [
        "## <font color=\"lightblue\"> Example </font>\n",
        "Create an object named p1, and print the value of x:\n",
        "\n"
      ]
    },
    {
      "cell_type": "code",
      "metadata": {
        "colab": {
          "base_uri": "https://localhost:8080/"
        },
        "id": "wSoI2OReCbgd",
        "outputId": "42e812e5-2fd3-4a59-9525-46f27c247b91"
      },
      "source": [
        "p1 = MyClass()\n",
        "print(p1.x)"
      ],
      "execution_count": null,
      "outputs": [
        {
          "output_type": "stream",
          "name": "stdout",
          "text": [
            "5\n"
          ]
        }
      ]
    },
    {
      "cell_type": "markdown",
      "metadata": {
        "id": "7ZbZbIH-CdDn"
      },
      "source": [
        "## <font color=\"lightblue\"> The __init__() Function </font>\n",
        "The examples above are classes and objects in their simplest form, and are not really useful in real life applications.\n",
        "\n",
        "To understand the meaning of classes we have to understand the built-in __init__() function.\n",
        "\n",
        "All classes have a function called __init__(), which is always executed when the class is being initiated.\n",
        "\n",
        "Use the __init__() function to assign values to object properties, or other operations that are necessary to do when the object is being created:"
      ]
    },
    {
      "cell_type": "markdown",
      "metadata": {
        "id": "DevP_p-KCdmh"
      },
      "source": [
        "## <font color=\"lightblue\"> Example </font>\n",
        "Create a class named Person, use the __init__() function to assign values for name and age:\n",
        "\n"
      ]
    },
    {
      "cell_type": "code",
      "metadata": {
        "colab": {
          "base_uri": "https://localhost:8080/"
        },
        "id": "zIIl7W2gCeC_",
        "outputId": "7aa51081-ac94-430c-9c7a-05cce838d7ad"
      },
      "source": [
        "class Person:\n",
        "  def __init__(self, name, age):\n",
        "    self.name = name\n",
        "    self.age = age\n",
        "\n",
        "p1 = Person(\"John\", 36)\n",
        "\n",
        "print(p1.name)\n",
        "print(p1.age)"
      ],
      "execution_count": null,
      "outputs": [
        {
          "output_type": "stream",
          "name": "stdout",
          "text": [
            "John\n",
            "36\n"
          ]
        }
      ]
    },
    {
      "cell_type": "markdown",
      "metadata": {
        "id": "r31xpGWaCiT6"
      },
      "source": [
        "## <font color=\"lightblue\"> Object Methods </font>\n",
        "Objects can also contain methods. Methods in objects are functions that belong to the object.\n",
        "\n",
        "Let us create a method in the Person class:"
      ]
    },
    {
      "cell_type": "markdown",
      "metadata": {
        "id": "rg9bo5UXCi35"
      },
      "source": [
        "## <font color=\"lightblue\"> Example </font>\n",
        "Insert a function that prints a greeting, and execute it on the p1 object:\n",
        "\n"
      ]
    },
    {
      "cell_type": "code",
      "metadata": {
        "colab": {
          "base_uri": "https://localhost:8080/"
        },
        "id": "9FXS6JiqDpae",
        "outputId": "ef8c3761-c687-4871-e8e7-181344a26946"
      },
      "source": [
        "class Person:\n",
        "  def __init__(self, name, age):\n",
        "    self.name = name\n",
        "    self.age = age\n",
        "\n",
        "  def myfunc(self):\n",
        "    print(\"Hello my name is \" + self.name)\n",
        "\n",
        "p1 = Person(\"John\", 36)\n",
        "p1.myfunc()"
      ],
      "execution_count": null,
      "outputs": [
        {
          "output_type": "stream",
          "name": "stdout",
          "text": [
            "Hello my name is John\n"
          ]
        }
      ]
    },
    {
      "cell_type": "markdown",
      "metadata": {
        "id": "q9X2WmNcCjfG"
      },
      "source": [
        "## <font color=\"lightblue\"> The self Parameter </font>\n",
        "The **self** parameter is a reference to the current instance of the class, and is used to access variables that belongs to the class.\n",
        "\n",
        "It does not have to be named **self** , you can call it whatever you like, but it has to be the first parameter of any function in the class:"
      ]
    },
    {
      "cell_type": "markdown",
      "metadata": {
        "id": "-CBlxnDSCj4-"
      },
      "source": [
        "## <font color=\"lightblue\"> Example </font>\n",
        "Use the words mysillyobject and abc instead of self:"
      ]
    },
    {
      "cell_type": "code",
      "metadata": {
        "colab": {
          "base_uri": "https://localhost:8080/"
        },
        "id": "n7U-Dn49Dzoq",
        "outputId": "34068e9e-3af3-4c81-898c-caee8ee27da1"
      },
      "source": [
        "class Person:\n",
        "  def __init__(mysillyobject, name, age):\n",
        "    mysillyobject.name = name\n",
        "    mysillyobject.age = age\n",
        "\n",
        "  def myfunc(abc):\n",
        "    print(\"Hello my name is \" + abc.name)\n",
        "\n",
        "p1 = Person(\"John\", 36)\n",
        "p1.myfunc()"
      ],
      "execution_count": null,
      "outputs": [
        {
          "output_type": "stream",
          "name": "stdout",
          "text": [
            "Hello my name is John\n"
          ]
        }
      ]
    },
    {
      "cell_type": "markdown",
      "metadata": {
        "id": "AYMAOK8nCk40"
      },
      "source": [
        "## <font color=\"lightblue\"> Modify Object Properties </font>\n",
        "You can modify properties on objects like this:"
      ]
    },
    {
      "cell_type": "markdown",
      "metadata": {
        "id": "UGYQTi2QClld"
      },
      "source": [
        "## <font color=\"lightblue\"> Example </font>\n",
        "Set the age of p1 to 40:\n",
        "\n"
      ]
    },
    {
      "cell_type": "code",
      "metadata": {
        "id": "heLG-_6OD8Qo"
      },
      "source": [
        "p1.age = 40"
      ],
      "execution_count": null,
      "outputs": []
    },
    {
      "cell_type": "markdown",
      "metadata": {
        "id": "Y1dg7U_NCmKd"
      },
      "source": [
        "## <font color=\"lightblue\"> Delete Object Properties </font>\n",
        "You can delete properties on objects by using the **del** keyword:\n",
        "\n"
      ]
    },
    {
      "cell_type": "markdown",
      "metadata": {
        "id": "CksZR9xuCmwx"
      },
      "source": [
        "## <font color=\"lightblue\"> Example </font>\n",
        "Delete the age property from the p1 object:\n",
        "\n"
      ]
    },
    {
      "cell_type": "code",
      "metadata": {
        "id": "ilcUQxwYEFhB"
      },
      "source": [
        "del p1.age\n"
      ],
      "execution_count": null,
      "outputs": []
    },
    {
      "cell_type": "markdown",
      "metadata": {
        "id": "z0ZocLMHCnW6"
      },
      "source": [
        "## <font color=\"lightblue\"> Delete Objects </font>\n",
        "You can delete objects by using the **del** keyword:\n",
        "\n"
      ]
    },
    {
      "cell_type": "markdown",
      "metadata": {
        "id": "i4pakotvCn9D"
      },
      "source": [
        "## <font color=\"lightblue\"> Example </font>\n",
        "Delete the p1 object:\n",
        "\n"
      ]
    },
    {
      "cell_type": "code",
      "metadata": {
        "id": "G88FfTKLEMYA"
      },
      "source": [
        "del p1\n"
      ],
      "execution_count": null,
      "outputs": []
    },
    {
      "cell_type": "markdown",
      "metadata": {
        "id": "IQJlnTqTCoiX"
      },
      "source": [
        "## <font color=\"lightblue\"> The pass Statement </font>\n",
        "**class** definitions cannot be empty, but if you for some reason have a **class** definition with no content, put in the **pass** statement to avoid getting an error.\n",
        "\n"
      ]
    },
    {
      "cell_type": "markdown",
      "metadata": {
        "id": "n5s-S0PAEU4J"
      },
      "source": [
        "## <font color=\"lightblue\"> Example </font>\n"
      ]
    },
    {
      "cell_type": "code",
      "metadata": {
        "id": "LYjVoFPkEuR1"
      },
      "source": [
        "class Person:\n",
        "  pass"
      ],
      "execution_count": null,
      "outputs": []
    }
  ]
}