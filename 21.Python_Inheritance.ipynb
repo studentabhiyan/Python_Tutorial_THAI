{
  "nbformat": 4,
  "nbformat_minor": 0,
  "metadata": {
    "colab": {
      "name": "Python Inheritance.ipynb",
      "provenance": []
    },
    "kernelspec": {
      "name": "python3",
      "display_name": "Python 3"
    },
    "language_info": {
      "name": "python"
    }
  },
  "cells": [
    {
      "cell_type": "markdown",
      "metadata": {
        "id": "hJrXHyVfE8r3"
      },
      "source": [
        "### <font color=\"lightblue\">**Python Inheritance**</font>"
      ]
    },
    {
      "cell_type": "markdown",
      "metadata": {
        "id": "ctHIEPNKGsqa"
      },
      "source": [
        "### <font color=\"lightblue\">**Python Inheritance**</font>\n",
        "Inheritance allows us to define a class that inherits all the methods and properties from another class.\n",
        "\n",
        "**Parent class** is the class being inherited from, also called base class.\n",
        "\n",
        "**Child class** is the class that inherits from another class, also called derived class."
      ]
    },
    {
      "cell_type": "markdown",
      "metadata": {
        "id": "8CBqF9_EGtwA"
      },
      "source": [
        "### <font color=\"lightblue\">**Create a Parent Class**</font>\n",
        "Any class can be a parent class, so the syntax is the same as creating any other class:"
      ]
    },
    {
      "cell_type": "markdown",
      "metadata": {
        "id": "yWvyfwTtHBDw"
      },
      "source": [
        "### <font color=\"lightblue\">**Example**</font>\n",
        "Create a class named **Person**, with **firstname** and **lastname** properties, and a **printname** method:\n",
        "\n"
      ]
    },
    {
      "cell_type": "code",
      "metadata": {
        "colab": {
          "base_uri": "https://localhost:8080/"
        },
        "id": "AJwYIvKvE6mk",
        "outputId": "6f10055c-5f5e-4d20-c856-5dfa86ca3799"
      },
      "source": [
        "class Person:\n",
        "  def __init__(self, fname, lname):\n",
        "    self.firstname = fname\n",
        "    self.lastname = lname\n",
        "\n",
        "  def printname(self):\n",
        "    print(self.firstname, self.lastname)\n",
        "\n",
        "#Use the Person class to create an object, and then execute the printname method:\n",
        "\n",
        "x = Person(\"John\", \"Doe\")\n",
        "x.printname()"
      ],
      "execution_count": null,
      "outputs": [
        {
          "output_type": "stream",
          "name": "stdout",
          "text": [
            "John Doe\n"
          ]
        }
      ]
    },
    {
      "cell_type": "markdown",
      "metadata": {
        "id": "kf-M-QekHEFX"
      },
      "source": [
        "### <font color=\"lightblue\">**Create a Child Class**</font>\n",
        "To create a class that inherits the functionality from another class, send the parent class as a parameter when creating the child class:\n",
        "\n"
      ]
    },
    {
      "cell_type": "markdown",
      "metadata": {
        "id": "vN4hX7l8HFmO"
      },
      "source": [
        "### <font color=\"lightblue\">**Example**</font>\n",
        "Create a class named **Student**, which will inherit the properties and methods from the **Person** class:\n",
        "\n"
      ]
    },
    {
      "cell_type": "code",
      "metadata": {
        "id": "HFlJW54iHmrZ"
      },
      "source": [
        "class Student(Person):\n",
        "  pass"
      ],
      "execution_count": null,
      "outputs": []
    },
    {
      "cell_type": "markdown",
      "metadata": {
        "id": "kTOtY_urHqIC"
      },
      "source": [
        "Now the Student class has the same properties and methods as the Person class.\n",
        "\n"
      ]
    },
    {
      "cell_type": "markdown",
      "metadata": {
        "id": "77BrTdB6HGfi"
      },
      "source": [
        "### <font color=\"lightblue\">**Example**</font>\n",
        "Use the **Student** class to create an object, and then execute the **printname** method:\n",
        "\n"
      ]
    },
    {
      "cell_type": "code",
      "metadata": {
        "colab": {
          "base_uri": "https://localhost:8080/"
        },
        "id": "EbX2gwQxHx7L",
        "outputId": "4c86cddc-c443-4acf-9fdc-e69d7aae973a"
      },
      "source": [
        "x = Student(\"Mike\", \"Olsen\")\n",
        "x.printname()"
      ],
      "execution_count": null,
      "outputs": [
        {
          "output_type": "stream",
          "name": "stdout",
          "text": [
            "Mike Olsen\n"
          ]
        }
      ]
    },
    {
      "cell_type": "markdown",
      "metadata": {
        "id": "dkfRO4XfHHUC"
      },
      "source": [
        "### <font color=\"lightblue\">**Add the __init__() Function**</font>\n",
        "So far we have created a child class that inherits the properties and methods from its parent.\n",
        "\n",
        "We want to add the __init__() function to the child class (instead of the **pass** keyword)."
      ]
    },
    {
      "cell_type": "markdown",
      "metadata": {
        "id": "KqcJ9e6KHIKf"
      },
      "source": [
        "### <font color=\"lightblue\">**Example**</font>\n",
        "Add the __init__() function to the Student class:"
      ]
    },
    {
      "cell_type": "code",
      "metadata": {
        "colab": {
          "base_uri": "https://localhost:8080/",
          "height": 130
        },
        "id": "P7AF6oWnH9BI",
        "outputId": "f1b5e29a-68d0-4697-cc7e-acad24078478"
      },
      "source": [
        "class Student(Person):\n",
        "  def __init__(self, fname, lname):\n",
        "    #add properties etc."
      ],
      "execution_count": null,
      "outputs": [
        {
          "output_type": "error",
          "ename": "SyntaxError",
          "evalue": "ignored",
          "traceback": [
            "\u001b[0;36m  File \u001b[0;32m\"<ipython-input-4-adbb9bcfd423>\"\u001b[0;36m, line \u001b[0;32m3\u001b[0m\n\u001b[0;31m    #add properties etc.\u001b[0m\n\u001b[0m                        ^\u001b[0m\n\u001b[0;31mSyntaxError\u001b[0m\u001b[0;31m:\u001b[0m unexpected EOF while parsing\n"
          ]
        }
      ]
    },
    {
      "cell_type": "markdown",
      "metadata": {
        "id": "DygqgSsCICZw"
      },
      "source": [
        "When you add the __init__() function, the child class will no longer inherit the parent's __init__() function.\n",
        "\n"
      ]
    },
    {
      "cell_type": "markdown",
      "metadata": {
        "id": "IyRwi6uOIEk3"
      },
      "source": [
        "To keep the inheritance of the parent's __init__() function, add a call to the parent's __init__() function:\n",
        "\n"
      ]
    },
    {
      "cell_type": "markdown",
      "metadata": {
        "id": "_TEoGxbPHI_w"
      },
      "source": [
        "### <font color=\"lightblue\">**Example**</font>\n"
      ]
    },
    {
      "cell_type": "code",
      "metadata": {
        "id": "rQ5RKqq0IHbq"
      },
      "source": [
        "class Student(Person):\n",
        "  def __init__(self, fname, lname):\n",
        "    Person.__init__(self, fname, lname)"
      ],
      "execution_count": null,
      "outputs": []
    },
    {
      "cell_type": "markdown",
      "metadata": {
        "id": "uXzRmAy9IJCu"
      },
      "source": [
        "Now we have successfully added the __init__() function, and kept the inheritance of the parent class, and we are ready to add functionality in the __init__() function.\n",
        "\n"
      ]
    },
    {
      "cell_type": "markdown",
      "metadata": {
        "id": "PzHOG6voHJqx"
      },
      "source": [
        "### <font color=\"lightblue\">**Use the super() Function**</font>\n",
        "Python also has a **super()** function that will make the child class inherit all the methods and properties from its parent:\n",
        "\n"
      ]
    },
    {
      "cell_type": "code",
      "metadata": {
        "id": "WN6J6jvTIQnP"
      },
      "source": [
        "class Student(Person):\n",
        "  def __init__(self, fname, lname):\n",
        "    super().__init__(fname, lname)"
      ],
      "execution_count": null,
      "outputs": []
    },
    {
      "cell_type": "markdown",
      "metadata": {
        "id": "IlEejXZyIbgW"
      },
      "source": [
        "By using the **super()** function, you do not have to use the name of the parent element, it will automatically inherit the methods and properties from its parent.\n",
        "\n"
      ]
    },
    {
      "cell_type": "markdown",
      "metadata": {
        "id": "KtlzSOQTHKQZ"
      },
      "source": [
        "### <font color=\"lightblue\">**Add Properties**</font>\n",
        "Add a property called **graduationyear** to the **Student** class:\n",
        "\n"
      ]
    },
    {
      "cell_type": "code",
      "metadata": {
        "id": "M_BS1fizIrui"
      },
      "source": [
        "class Student(Person):\n",
        "  def __init__(self, fname, lname):\n",
        "    super().__init__(fname, lname)\n",
        "    self.graduationyear = 2019"
      ],
      "execution_count": null,
      "outputs": []
    },
    {
      "cell_type": "markdown",
      "metadata": {
        "id": "YMy7qGD8ItZ1"
      },
      "source": [
        "In the example below, the year **2019** should be a variable, and passed into the **Student** class when creating student objects. To do so, add another parameter in the __init__() function:"
      ]
    },
    {
      "cell_type": "markdown",
      "metadata": {
        "id": "tvtkddMqIUiH"
      },
      "source": [
        "### <font color=\"lightblue\">**Example**</font>\n",
        "Add a **year** parameter, and pass the correct year when creating objects:"
      ]
    },
    {
      "cell_type": "code",
      "metadata": {
        "id": "0SobmUAEI2OL"
      },
      "source": [
        "class Student(Person):\n",
        "  def __init__(self, fname, lname, year):\n",
        "    super().__init__(fname, lname)\n",
        "    self.graduationyear = year\n",
        "\n",
        "x = Student(\"Mike\", \"Olsen\", 2019)"
      ],
      "execution_count": null,
      "outputs": []
    },
    {
      "cell_type": "markdown",
      "metadata": {
        "id": "3kJKie0iIVz0"
      },
      "source": [
        "### <font color=\"lightblue\">**Add Methods**</font>\n"
      ]
    },
    {
      "cell_type": "markdown",
      "metadata": {
        "id": "UEIrJoMlIWfh"
      },
      "source": [
        "### <font color=\"lightblue\">**Example**</font>\n",
        "Add a method called **welcome** to the **Student** class:"
      ]
    },
    {
      "cell_type": "code",
      "metadata": {
        "id": "xknK-DQwI-Jj"
      },
      "source": [
        "class Student(Person):\n",
        "  def __init__(self, fname, lname, year):\n",
        "    super().__init__(fname, lname)\n",
        "    self.graduationyear = year\n",
        "\n",
        "  def welcome(self):\n",
        "    print(\"Welcome\", self.firstname, self.lastname, \"to the class of\", self.graduationyear)"
      ],
      "execution_count": null,
      "outputs": []
    }
  ]
}