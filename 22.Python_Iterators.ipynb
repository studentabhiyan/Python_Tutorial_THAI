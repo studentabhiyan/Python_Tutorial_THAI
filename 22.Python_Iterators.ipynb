{
  "nbformat": 4,
  "nbformat_minor": 0,
  "metadata": {
    "colab": {
      "name": "Python Iterators.ipynb",
      "provenance": []
    },
    "kernelspec": {
      "name": "python3",
      "display_name": "Python 3"
    },
    "language_info": {
      "name": "python"
    }
  },
  "cells": [
    {
      "cell_type": "markdown",
      "metadata": {
        "id": "hgZTtZH-M9Wq"
      },
      "source": [
        "### <font color=\"lightblue\">**Python Iterators**</font>\n"
      ]
    },
    {
      "cell_type": "markdown",
      "metadata": {
        "id": "PYrAiNdNM9A6"
      },
      "source": [
        "### <font color=\"lightblue\">**Python Iterators**</font>\n",
        "An iterator is an object that contains a countable number of values.\n",
        "\n",
        "An iterator is an object that can be iterated upon, meaning that you can traverse through all the values.\n",
        "\n",
        "Technically, in Python, an iterator is an object which implements the iterator protocol, which consist of the methods __iter__() and __next__().\n",
        "\n"
      ]
    },
    {
      "cell_type": "markdown",
      "metadata": {
        "id": "8B-3mREpNArP"
      },
      "source": [
        "### <font color=\"lightblue\">**Iterator vs Iterable**</font>\n",
        "Lists, tuples, dictionaries, and sets are all iterable objects. They are iterable containers which you can get an iterator from.\n",
        "\n",
        "All these objects have a **iter()** method which is used to get an iterator:"
      ]
    },
    {
      "cell_type": "markdown",
      "metadata": {
        "id": "E2GdI5HpNBdT"
      },
      "source": [
        "### <font color=\"lightblue\">**Example**</font>\n",
        "Return an iterator from a tuple, and print each value:\n",
        "\n"
      ]
    },
    {
      "cell_type": "code",
      "metadata": {
        "colab": {
          "base_uri": "https://localhost:8080/"
        },
        "id": "pkQmhb_mM7Yz",
        "outputId": "1578dc10-88f5-40f3-87ba-60b6b8e1d4e4"
      },
      "source": [
        "mytuple = (\"apple\", \"banana\", \"cherry\")\n",
        "myit = iter(mytuple)\n",
        "\n",
        "print(next(myit))\n",
        "print(next(myit))\n",
        "print(next(myit))"
      ],
      "execution_count": null,
      "outputs": [
        {
          "output_type": "stream",
          "name": "stdout",
          "text": [
            "apple\n",
            "banana\n",
            "cherry\n"
          ]
        }
      ]
    },
    {
      "cell_type": "markdown",
      "metadata": {
        "id": "WDa50SJbOF4Z"
      },
      "source": [
        "Even strings are iterable objects, and can return an iterator:\n",
        "\n"
      ]
    },
    {
      "cell_type": "markdown",
      "metadata": {
        "id": "L4Fn9MutNKgu"
      },
      "source": [
        "### <font color=\"lightblue\">**Example**</font>\n",
        "Strings are also iterable objects, containing a sequence of characters:\n",
        "\n"
      ]
    },
    {
      "cell_type": "code",
      "metadata": {
        "colab": {
          "base_uri": "https://localhost:8080/"
        },
        "id": "-BJE5BTfOKIY",
        "outputId": "69d84e8f-f162-443c-8c55-d88be2371649"
      },
      "source": [
        "mystr = \"banana\"\n",
        "myit = iter(mystr)\n",
        "\n",
        "print(next(myit))\n",
        "print(next(myit))\n",
        "print(next(myit))\n",
        "print(next(myit))\n",
        "print(next(myit))\n",
        "print(next(myit))"
      ],
      "execution_count": null,
      "outputs": [
        {
          "output_type": "stream",
          "name": "stdout",
          "text": [
            "b\n",
            "a\n",
            "n\n",
            "a\n",
            "n\n",
            "a\n"
          ]
        }
      ]
    },
    {
      "cell_type": "markdown",
      "metadata": {
        "id": "nCoNr_4hNLJQ"
      },
      "source": [
        "### <font color=\"lightblue\">**Looping Through an Iterator**</font>\n",
        "We can also use a for loop to iterate through an iterable object:"
      ]
    },
    {
      "cell_type": "markdown",
      "metadata": {
        "id": "Zj0mmOFHNLu1"
      },
      "source": [
        "### <font color=\"lightblue\">**Example**</font>\n",
        "Iterate the values of a tuple:"
      ]
    },
    {
      "cell_type": "code",
      "metadata": {
        "colab": {
          "base_uri": "https://localhost:8080/"
        },
        "id": "Fqkg4PxzOR0h",
        "outputId": "12a91eb0-dd8f-4033-927c-d95c9f7df835"
      },
      "source": [
        "mytuple = (\"apple\", \"banana\", \"cherry\")\n",
        "\n",
        "for x in mytuple:\n",
        "  print(x)"
      ],
      "execution_count": null,
      "outputs": [
        {
          "output_type": "stream",
          "name": "stdout",
          "text": [
            "apple\n",
            "banana\n",
            "cherry\n"
          ]
        }
      ]
    },
    {
      "cell_type": "markdown",
      "metadata": {
        "id": "EXv5HPixNMPN"
      },
      "source": [
        "### <font color=\"lightblue\">**Example**</font>\n",
        "Iterate the characters of a string:"
      ]
    },
    {
      "cell_type": "code",
      "metadata": {
        "colab": {
          "base_uri": "https://localhost:8080/"
        },
        "id": "StrwwPkSOdgS",
        "outputId": "8bc63f58-4d53-43fa-b333-67f5e7babb02"
      },
      "source": [
        "mystr = \"banana\"\n",
        "\n",
        "for x in mystr:\n",
        "  print(x)"
      ],
      "execution_count": null,
      "outputs": [
        {
          "output_type": "stream",
          "name": "stdout",
          "text": [
            "b\n",
            "a\n",
            "n\n",
            "a\n",
            "n\n",
            "a\n"
          ]
        }
      ]
    },
    {
      "cell_type": "markdown",
      "metadata": {
        "id": "hFo_WPO9NNBZ"
      },
      "source": [
        "### <font color=\"lightblue\">**Create an Iterator**</font>\n",
        "To create an object/class as an iterator you have to implement the methods __iter__() and __next__() to your object.\n",
        "\n",
        "As you have learned in the Python Classes/Objects chapter, all classes have a function called __init__(), which allows you to do some initializing when the object is being created.\n",
        "\n",
        "The __iter__() method acts similar, you can do operations (initializing etc.), but must always return the iterator object itself.\n",
        "\n",
        "The __next__() method also allows you to do operations, and must return the next item in the sequence."
      ]
    },
    {
      "cell_type": "markdown",
      "metadata": {
        "id": "w7ULsIJlNNgy"
      },
      "source": [
        "### <font color=\"lightblue\">**Example**</font>\n",
        "Create an iterator that returns numbers, starting with 1, and each sequence will increase by one (returning 1,2,3,4,5 etc.):\n",
        "\n"
      ]
    },
    {
      "cell_type": "code",
      "metadata": {
        "colab": {
          "base_uri": "https://localhost:8080/"
        },
        "id": "N2pF0arUOngk",
        "outputId": "6f9e9885-1253-4a5c-e7d9-2bec9e9cb6d0"
      },
      "source": [
        "class MyNumbers:\n",
        "  def __iter__(self):\n",
        "    self.a = 1\n",
        "    return self\n",
        "\n",
        "  def __next__(self):\n",
        "    x = self.a\n",
        "    self.a += 1\n",
        "    return x\n",
        "\n",
        "myclass = MyNumbers()\n",
        "myiter = iter(myclass)\n",
        "\n",
        "print(next(myiter))\n",
        "print(next(myiter))\n",
        "print(next(myiter))\n",
        "print(next(myiter))\n",
        "print(next(myiter))"
      ],
      "execution_count": null,
      "outputs": [
        {
          "output_type": "stream",
          "name": "stdout",
          "text": [
            "1\n",
            "2\n",
            "3\n",
            "4\n",
            "5\n"
          ]
        }
      ]
    },
    {
      "cell_type": "markdown",
      "metadata": {
        "id": "gY7Tt12FNOGG"
      },
      "source": [
        "### <font color=\"lightblue\">**StopIteration**</font>\n",
        "The example above would continue forever if you had enough next() statements, or if it was used in a **for** loop.\n",
        "\n",
        "To prevent the iteration to go on forever, we can use the **StopIteration** statement.\n",
        "\n",
        "In the __next__() method, we can add a terminating condition to raise an error if the iteration is done a specified number of times:"
      ]
    },
    {
      "cell_type": "markdown",
      "metadata": {
        "id": "c1G_w3n8NOoL"
      },
      "source": [
        "### <font color=\"lightblue\">**Example**</font>\n",
        "Stop after 20 iterations:\n",
        "\n"
      ]
    },
    {
      "cell_type": "code",
      "metadata": {
        "colab": {
          "base_uri": "https://localhost:8080/"
        },
        "id": "Hq61Q5AkO1aV",
        "outputId": "41e783e1-d844-4a79-b0af-a5177abd92bd"
      },
      "source": [
        "class MyNumbers:\n",
        "  def __iter__(self):\n",
        "    self.a = 1\n",
        "    return self\n",
        "\n",
        "  def __next__(self):\n",
        "    if self.a <= 20:\n",
        "      x = self.a\n",
        "      self.a += 1\n",
        "      return x\n",
        "    else:\n",
        "      raise StopIteration\n",
        "\n",
        "myclass = MyNumbers()\n",
        "myiter = iter(myclass)\n",
        "\n",
        "for x in myiter:\n",
        "  print(x)"
      ],
      "execution_count": null,
      "outputs": [
        {
          "output_type": "stream",
          "name": "stdout",
          "text": [
            "1\n",
            "2\n",
            "3\n",
            "4\n",
            "5\n",
            "6\n",
            "7\n",
            "8\n",
            "9\n",
            "10\n",
            "11\n",
            "12\n",
            "13\n",
            "14\n",
            "15\n",
            "16\n",
            "17\n",
            "18\n",
            "19\n",
            "20\n"
          ]
        }
      ]
    }
  ]
}