{
  "nbformat": 4,
  "nbformat_minor": 0,
  "metadata": {
    "colab": {
      "name": "27.Python_TryExcept.ipynb",
      "provenance": []
    },
    "kernelspec": {
      "name": "python3",
      "display_name": "Python 3"
    },
    "language_info": {
      "name": "python"
    }
  },
  "cells": [
    {
      "cell_type": "markdown",
      "metadata": {
        "id": "c7DPlxK9nEYE"
      },
      "source": [
        "### <font color=#026D8F>**Python Try Except**"
      ]
    },
    {
      "cell_type": "markdown",
      "metadata": {
        "id": "0B5l7YbOnhvD"
      },
      "source": [
        "The \"try\" block lets you test a block of code for errors.\n",
        "\n",
        "The \"except\" block lets you handle the error.\n",
        "\n",
        "The finally block lets you execute code, regardless of the result of the try- and except blocks."
      ]
    },
    {
      "cell_type": "markdown",
      "metadata": {
        "id": "1QxlD3Qcnszy"
      },
      "source": [
        "#### <font color=#026D8F>Exception Handling</font>\n",
        "The format() method allows you to format selected parts of a string.\n",
        "\n",
        "Sometimes there are parts of a text that you do not control, maybe they come from a database, or user input?\n",
        "\n",
        "To control such values, add placeholders (curly brackets {}) in the text, and run the values through the format() method:"
      ]
    },
    {
      "cell_type": "markdown",
      "metadata": {
        "id": "A0Gzqe2In7z6"
      },
      "source": [
        "When an error occurs, or exception as we call it, Python will normally stop and generate an error message.\n",
        "\n",
        "These exceptions can be handled using the try statement:"
      ]
    },
    {
      "cell_type": "markdown",
      "metadata": {
        "id": "LxUk6rgxn-GT"
      },
      "source": [
        "##### <font color=#026D8F>Example</font>\n",
        "\n",
        "The try block will generate an exception, because x is not defined:"
      ]
    },
    {
      "cell_type": "code",
      "metadata": {
        "colab": {
          "base_uri": "https://localhost:8080/"
        },
        "id": "omSiGB-7n8pa",
        "outputId": "561ac85f-ac78-4f6e-c112-c95be556c21c"
      },
      "source": [
        "try:\n",
        "  print(x)\n",
        "except:\n",
        "  print(\"An exception occurred\")"
      ],
      "execution_count": 4,
      "outputs": [
        {
          "output_type": "stream",
          "text": [
            "An exception occurred\n"
          ],
          "name": "stdout"
        }
      ]
    },
    {
      "cell_type": "markdown",
      "metadata": {
        "id": "iqPXTUQfoNKi"
      },
      "source": [
        "Since the try block raises an error, the except block will be executed.\n",
        "\n",
        "Without the try block, the program will crash and raise an error:"
      ]
    },
    {
      "cell_type": "code",
      "metadata": {
        "colab": {
          "base_uri": "https://localhost:8080/",
          "height": 163
        },
        "id": "uIa-7aYXoZ3b",
        "outputId": "afbc836b-614a-42c5-c62a-034f4c9dfc81"
      },
      "source": [
        "print(x)"
      ],
      "execution_count": null,
      "outputs": [
        {
          "output_type": "error",
          "ename": "NameError",
          "evalue": "ignored",
          "traceback": [
            "\u001b[0;31m---------------------------------------------------------------------------\u001b[0m",
            "\u001b[0;31mNameError\u001b[0m                                 Traceback (most recent call last)",
            "\u001b[0;32m<ipython-input-2-fc17d851ef81>\u001b[0m in \u001b[0;36m<module>\u001b[0;34m()\u001b[0m\n\u001b[0;32m----> 1\u001b[0;31m \u001b[0mprint\u001b[0m\u001b[0;34m(\u001b[0m\u001b[0mx\u001b[0m\u001b[0;34m)\u001b[0m\u001b[0;34m\u001b[0m\u001b[0;34m\u001b[0m\u001b[0m\n\u001b[0m",
            "\u001b[0;31mNameError\u001b[0m: name 'x' is not defined"
          ]
        }
      ]
    },
    {
      "cell_type": "markdown",
      "metadata": {
        "id": "pHEaMjTYocR7"
      },
      "source": [
        "#### <font color=#026D8F>Many Exceptions</font>"
      ]
    },
    {
      "cell_type": "markdown",
      "metadata": {
        "id": "I8moF-eiolkT"
      },
      "source": [
        "You can define as many exception blocks as you want, e.g. if you want to execute a special block of code for a special kind of error:"
      ]
    },
    {
      "cell_type": "markdown",
      "metadata": {
        "id": "tWFUqwv5ooij"
      },
      "source": [
        "##### <font color=#026D8F>Example</font>\n",
        "Print one message if the try block raises a NameError and another for other errors:"
      ]
    },
    {
      "cell_type": "code",
      "metadata": {
        "colab": {
          "base_uri": "https://localhost:8080/"
        },
        "id": "LhKTw-azozaq",
        "outputId": "d4758c0c-494d-4800-c323-158d60ddb9d1"
      },
      "source": [
        "try:\n",
        "  print(x)\n",
        "except NameError:\n",
        "  print(\"Variable x is not defined\")\n",
        "except:\n",
        "  print(\"Something else went wrong\")"
      ],
      "execution_count": null,
      "outputs": [
        {
          "output_type": "stream",
          "name": "stdout",
          "text": [
            "Variable x is not defined\n"
          ]
        }
      ]
    },
    {
      "cell_type": "markdown",
      "metadata": {
        "id": "YWIysqQEpEoC"
      },
      "source": [
        "#### <font color=#026D8F>Else</font>"
      ]
    },
    {
      "cell_type": "markdown",
      "metadata": {
        "id": "LyL_8rdVpJ1K"
      },
      "source": [
        "You can use the else keyword to define a block of code to be executed if no errors were raised:"
      ]
    },
    {
      "cell_type": "markdown",
      "metadata": {
        "id": "mmufipMMpMa6"
      },
      "source": [
        "##### <font color=#026D8F>Example</font>\n"
      ]
    },
    {
      "cell_type": "markdown",
      "metadata": {
        "id": "jPdjuL0OpS_T"
      },
      "source": [
        "In this example, the try block does not generate any error:"
      ]
    },
    {
      "cell_type": "code",
      "metadata": {
        "id": "lXcxhA36pVyT",
        "colab": {
          "base_uri": "https://localhost:8080/"
        },
        "outputId": "ad98e843-704e-4864-a76b-ea170d9fcf5e"
      },
      "source": [
        "try:\n",
        "  print(\"Hello\")\n",
        "except:\n",
        "  print(\"Something went wrong\")\n",
        "else:\n",
        "  print(\"Nothing went wrong\")"
      ],
      "execution_count": 5,
      "outputs": [
        {
          "output_type": "stream",
          "text": [
            "Hello\n",
            "Nothing went wrong\n"
          ],
          "name": "stdout"
        }
      ]
    },
    {
      "cell_type": "markdown",
      "metadata": {
        "id": "Fb8mbgnLpkx0"
      },
      "source": [
        "#### <font color=#026D8F>Finally</font>"
      ]
    },
    {
      "cell_type": "markdown",
      "metadata": {
        "id": "5EBIrWFuptt7"
      },
      "source": [
        "The finally block, if specified, will be executed regardless if the try block raises an error or not."
      ]
    },
    {
      "cell_type": "markdown",
      "metadata": {
        "id": "c1vIyCIkpwlb"
      },
      "source": [
        "##### <font color=#026D8F>Example</font>\n"
      ]
    },
    {
      "cell_type": "code",
      "metadata": {
        "id": "79pdpvMxpoPr",
        "colab": {
          "base_uri": "https://localhost:8080/"
        },
        "outputId": "5a86e6b6-7572-47b4-95e1-fcfce34c2eed"
      },
      "source": [
        "try:\n",
        "  print(x)\n",
        "except:\n",
        "  print(\"Something went wrong\")\n",
        "finally:\n",
        "  print(\"The 'try except' is finished\")"
      ],
      "execution_count": 6,
      "outputs": [
        {
          "output_type": "stream",
          "text": [
            "Something went wrong\n",
            "The 'try except' is finished\n"
          ],
          "name": "stdout"
        }
      ]
    },
    {
      "cell_type": "markdown",
      "metadata": {
        "id": "1R64CpEDphGt"
      },
      "source": [
        "This can be useful to close objects and clean up resources:"
      ]
    },
    {
      "cell_type": "markdown",
      "metadata": {
        "id": "6nkrIFZar5AG"
      },
      "source": [
        "##### <font color=#026D8F>Example</font>\n",
        "Try to open and write to a file that is not writable:\n"
      ]
    },
    {
      "cell_type": "code",
      "metadata": {
        "colab": {
          "base_uri": "https://localhost:8080/"
        },
        "id": "x2vG1GBJr7YS",
        "outputId": "fa896c9f-c795-4cd4-9d28-b28fbf3a59de"
      },
      "source": [
        "try:\n",
        "  f = open(\"demofile.txt\")\n",
        "  try:\n",
        "    f.write(\"Lorum Ipsum\")\n",
        "  except:\n",
        "    print(\"Something went wrong when writing to the file\")\n",
        "  finally:\n",
        "    f.close()\n",
        "except:\n",
        "  print(\"Something went wrong when opening the file\")"
      ],
      "execution_count": 7,
      "outputs": [
        {
          "output_type": "stream",
          "text": [
            "Something went wrong when opening the file\n"
          ],
          "name": "stdout"
        }
      ]
    },
    {
      "cell_type": "markdown",
      "metadata": {
        "id": "sTzDDFFGsHTB"
      },
      "source": [
        "The program can continue, without leaving the file object open."
      ]
    },
    {
      "cell_type": "markdown",
      "metadata": {
        "id": "WvQObTWtsNya"
      },
      "source": [
        "#### <font color=#026D8F>Raise an expection</font>"
      ]
    },
    {
      "cell_type": "markdown",
      "metadata": {
        "id": "sAvNFtEhsalp"
      },
      "source": [
        "As a Python developer you can choose to throw an exception if a condition occurs.\n",
        "\n",
        "To throw (or raise) an exception, use the raise keyword."
      ]
    },
    {
      "cell_type": "markdown",
      "metadata": {
        "id": "krcZzoK9tNvy"
      },
      "source": [
        "##### <font color=#026D8F>Example</font>\n"
      ]
    },
    {
      "cell_type": "markdown",
      "metadata": {
        "id": "F__nnmQPtWBz"
      },
      "source": [
        "Raise an error and stop the program if x is lower than 0:"
      ]
    },
    {
      "cell_type": "code",
      "metadata": {
        "colab": {
          "base_uri": "https://localhost:8080/",
          "height": 197
        },
        "id": "xvLMEnV8td5O",
        "outputId": "d5e593ac-7454-4f95-8c34-6c9709a5de7b"
      },
      "source": [
        "x = -1\n",
        "\n",
        "if x < 0:\n",
        "  raise Exception(\"Sorry, no numbers below zero\")"
      ],
      "execution_count": 8,
      "outputs": [
        {
          "output_type": "error",
          "ename": "Exception",
          "evalue": "ignored",
          "traceback": [
            "\u001b[0;31m---------------------------------------------------------------------------\u001b[0m",
            "\u001b[0;31mException\u001b[0m                                 Traceback (most recent call last)",
            "\u001b[0;32m<ipython-input-8-2edc57024fbc>\u001b[0m in \u001b[0;36m<module>\u001b[0;34m()\u001b[0m\n\u001b[1;32m      2\u001b[0m \u001b[0;34m\u001b[0m\u001b[0m\n\u001b[1;32m      3\u001b[0m \u001b[0;32mif\u001b[0m \u001b[0mx\u001b[0m \u001b[0;34m<\u001b[0m \u001b[0;36m0\u001b[0m\u001b[0;34m:\u001b[0m\u001b[0;34m\u001b[0m\u001b[0;34m\u001b[0m\u001b[0m\n\u001b[0;32m----> 4\u001b[0;31m   \u001b[0;32mraise\u001b[0m \u001b[0mException\u001b[0m\u001b[0;34m(\u001b[0m\u001b[0;34m\"Sorry, no numbers below zero\"\u001b[0m\u001b[0;34m)\u001b[0m\u001b[0;34m\u001b[0m\u001b[0;34m\u001b[0m\u001b[0m\n\u001b[0m",
            "\u001b[0;31mException\u001b[0m: Sorry, no numbers below zero"
          ]
        }
      ]
    },
    {
      "cell_type": "markdown",
      "metadata": {
        "id": "FrgmaBwIthPK"
      },
      "source": [
        "The raise keyword is used to raise an exception.\n",
        "\n",
        "You can define what kind of error to raise, and the text to print to the user."
      ]
    },
    {
      "cell_type": "markdown",
      "metadata": {
        "id": "uaE-ykextlKy"
      },
      "source": [
        "##### <font color=#026D8F>Example</font>\n",
        "Raise a TypeError if x is not an integer:"
      ]
    },
    {
      "cell_type": "code",
      "metadata": {
        "colab": {
          "base_uri": "https://localhost:8080/",
          "height": 197
        },
        "id": "-35XLw6FtvYa",
        "outputId": "ae7e2a28-d9af-41bd-e2aa-76156f197f28"
      },
      "source": [
        "x = \"hello\"\n",
        "\n",
        "if not type(x) is int:\n",
        "  raise TypeError(\"Only integers are allowed\")"
      ],
      "execution_count": 9,
      "outputs": [
        {
          "output_type": "error",
          "ename": "TypeError",
          "evalue": "ignored",
          "traceback": [
            "\u001b[0;31m---------------------------------------------------------------------------\u001b[0m",
            "\u001b[0;31mTypeError\u001b[0m                                 Traceback (most recent call last)",
            "\u001b[0;32m<ipython-input-9-bc91768a6271>\u001b[0m in \u001b[0;36m<module>\u001b[0;34m()\u001b[0m\n\u001b[1;32m      2\u001b[0m \u001b[0;34m\u001b[0m\u001b[0m\n\u001b[1;32m      3\u001b[0m \u001b[0;32mif\u001b[0m \u001b[0;32mnot\u001b[0m \u001b[0mtype\u001b[0m\u001b[0;34m(\u001b[0m\u001b[0mx\u001b[0m\u001b[0;34m)\u001b[0m \u001b[0;32mis\u001b[0m \u001b[0mint\u001b[0m\u001b[0;34m:\u001b[0m\u001b[0;34m\u001b[0m\u001b[0;34m\u001b[0m\u001b[0m\n\u001b[0;32m----> 4\u001b[0;31m   \u001b[0;32mraise\u001b[0m \u001b[0mTypeError\u001b[0m\u001b[0;34m(\u001b[0m\u001b[0;34m\"Only integers are allowed\"\u001b[0m\u001b[0;34m)\u001b[0m\u001b[0;34m\u001b[0m\u001b[0;34m\u001b[0m\u001b[0m\n\u001b[0m",
            "\u001b[0;31mTypeError\u001b[0m: Only integers are allowed"
          ]
        }
      ]
    }
  ]
}