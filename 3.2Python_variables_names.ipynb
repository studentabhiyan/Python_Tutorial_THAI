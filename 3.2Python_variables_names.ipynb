{
  "nbformat": 4,
  "nbformat_minor": 0,
  "metadata": {
    "colab": {
      "name": "Python variables names.ipynb",
      "provenance": []
    },
    "kernelspec": {
      "name": "python3",
      "display_name": "Python 3"
    },
    "language_info": {
      "name": "python"
    }
  },
  "cells": [
    {
      "cell_type": "markdown",
      "metadata": {
        "id": "qkYGxktCuYPU"
      },
      "source": [
        "### <font color=\"lightblue\">**Python - Variable Names**"
      ]
    },
    {
      "cell_type": "markdown",
      "metadata": {
        "id": "PX8M40eCuZjJ"
      },
      "source": [
        "### <font color=\"lightblue\">Variable Names\n",
        "A variable can have a short name (like x and y) or a more descriptive name (age, carname, total_volume). Rules for Python variables:\n",
        "\n",
        "\n",
        "\n",
        "*   A variable name must start with a letter or the underscore character\n",
        "*   A variable name cannot start with a number\n",
        "*   A variable name can only contain alpha-numeric characters and underscores (A-z, 0-9, and _ )\n",
        "*   Variable names are case-sensitive (age, Age and AGE are three different variables)"
      ]
    },
    {
      "cell_type": "markdown",
      "metadata": {
        "id": "RAZ-fxu3vDmR"
      },
      "source": [
        "### <font color=\"lightblue\">Example\n",
        "Legal variable names:"
      ]
    },
    {
      "cell_type": "code",
      "metadata": {
        "id": "NtE4YKwsvHSi"
      },
      "source": [
        "myvar = \"John\"\n",
        "my_var = \"John\"\n",
        "_my_var = \"John\"\n",
        "myVar = \"John\"\n",
        "MYVAR = \"John\"\n",
        "myvar2 = \"John\""
      ],
      "execution_count": 1,
      "outputs": []
    },
    {
      "cell_type": "markdown",
      "metadata": {
        "id": "J9UH1xnZv1v1"
      },
      "source": [
        "### <font color=\"lightblue\">Example\n",
        "Illegal variable names:"
      ]
    },
    {
      "cell_type": "code",
      "metadata": {
        "id": "J0Pe2cVxv3QY",
        "colab": {
          "base_uri": "https://localhost:8080/",
          "height": 135
        },
        "outputId": "80195abd-b479-486a-cbdf-ec5ba7f703c0"
      },
      "source": [
        "2myvar = \"John\"\n",
        "my-var = \"John\"\n",
        "my var = \"John\""
      ],
      "execution_count": 2,
      "outputs": [
        {
          "output_type": "error",
          "ename": "SyntaxError",
          "evalue": "ignored",
          "traceback": [
            "\u001b[0;36m  File \u001b[0;32m\"<ipython-input-2-0e82719f22b4>\"\u001b[0;36m, line \u001b[0;32m1\u001b[0m\n\u001b[0;31m    2myvar = \"John\"\u001b[0m\n\u001b[0m         ^\u001b[0m\n\u001b[0;31mSyntaxError\u001b[0m\u001b[0;31m:\u001b[0m invalid syntax\n"
          ]
        }
      ]
    },
    {
      "cell_type": "markdown",
      "metadata": {
        "id": "fvQsF4LQ6iCD"
      },
      "source": [
        "### <font color=\"lightblue\">Multi Words Variable Names \n",
        "Variable names with more than one word can be difficult to read.\n",
        "\n",
        "There are several techniques you can use to make them more readable:"
      ]
    },
    {
      "cell_type": "markdown",
      "metadata": {
        "id": "hVcuK2Mj6sNg"
      },
      "source": [
        "### <font color=\"lightblue\">Camel Case\n",
        "Each word, except the first, starts with a capital letter:"
      ]
    },
    {
      "cell_type": "code",
      "metadata": {
        "id": "-s_QI7M666Mx"
      },
      "source": [
        "myVariableName = \"John\""
      ],
      "execution_count": 3,
      "outputs": []
    },
    {
      "cell_type": "markdown",
      "metadata": {
        "id": "wgZS6lpa7Nvy"
      },
      "source": [
        "### <font color=\"lightblue\">Pascal Case\n",
        "Each word starts with a capital letter:"
      ]
    },
    {
      "cell_type": "code",
      "metadata": {
        "id": "JNyf3L7e7SlW"
      },
      "source": [
        "MyVariableName = \"John\""
      ],
      "execution_count": 4,
      "outputs": []
    },
    {
      "cell_type": "markdown",
      "metadata": {
        "id": "0NNDiWrw7aew"
      },
      "source": [
        "### <font color=\"lightblue\"> Snake Case\n",
        "Each word is separated by an underscore character:"
      ]
    },
    {
      "cell_type": "code",
      "metadata": {
        "id": "MwHk-iZE7dAx"
      },
      "source": [
        "my_variable_name = \"John\""
      ],
      "execution_count": 5,
      "outputs": []
    }
  ]
}