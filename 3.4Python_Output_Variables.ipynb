{
  "nbformat": 4,
  "nbformat_minor": 0,
  "metadata": {
    "colab": {
      "name": "Python - Output Variables.ipynb",
      "provenance": []
    },
    "kernelspec": {
      "name": "python3",
      "display_name": "Python 3"
    },
    "language_info": {
      "name": "python"
    }
  },
  "cells": [
    {
      "cell_type": "markdown",
      "metadata": {
        "id": "FEjeK1d-CKek"
      },
      "source": [
        "### <font color=\"lightblue\"> **Python - Output Variables**"
      ]
    },
    {
      "cell_type": "markdown",
      "metadata": {
        "id": "04e70i_yCL1M"
      },
      "source": [
        "### <font color=\"lightblue\"> Output Variables\n",
        "The Python print statement is often used to output variables.\n",
        "\n",
        "To combine both text and a variable, Python uses the + character:"
      ]
    },
    {
      "cell_type": "markdown",
      "metadata": {
        "id": "gw-YeVoqCPlI"
      },
      "source": [
        "#### <font color=\"lightblue\"> Example"
      ]
    },
    {
      "cell_type": "code",
      "metadata": {
        "id": "nv1mGXiQCReT",
        "outputId": "4ff0c408-8e2f-49a8-da6f-642c686610d3",
        "colab": {
          "base_uri": "https://localhost:8080/"
        }
      },
      "source": [
        "x = \"awesome\"\n",
        "print(\"Python is \" + x)"
      ],
      "execution_count": 1,
      "outputs": [
        {
          "output_type": "stream",
          "name": "stdout",
          "text": [
            "Python is awesome\n"
          ]
        }
      ]
    },
    {
      "cell_type": "markdown",
      "metadata": {
        "id": "xo5yrEAXCTSr"
      },
      "source": [
        "You can also use the + character to add a variable to another variable:"
      ]
    },
    {
      "cell_type": "markdown",
      "metadata": {
        "id": "tQw1DvGACwG5"
      },
      "source": [
        "#### <font color=\"lightblue\"> Example"
      ]
    },
    {
      "cell_type": "code",
      "metadata": {
        "id": "ChgKcGjfCyzo",
        "outputId": "0f6bc62a-2998-4bc0-a4b2-f1626c0c0688",
        "colab": {
          "base_uri": "https://localhost:8080/"
        }
      },
      "source": [
        "x = \"Python is \"\n",
        "y = \"awesome\"\n",
        "z =  x + y\n",
        "print(z)"
      ],
      "execution_count": 2,
      "outputs": [
        {
          "output_type": "stream",
          "name": "stdout",
          "text": [
            "Python is awesome\n"
          ]
        }
      ]
    },
    {
      "cell_type": "markdown",
      "metadata": {
        "id": "vi28woPTC0oh"
      },
      "source": [
        "For numbers, the + character works as a mathematical operator:"
      ]
    },
    {
      "cell_type": "markdown",
      "metadata": {
        "id": "TwjcpGRwC634"
      },
      "source": [
        "#### <font color=\"lightblue\"> Example"
      ]
    },
    {
      "cell_type": "code",
      "metadata": {
        "id": "hpubJY5tC93k",
        "outputId": "33798682-c503-487d-85da-19d0001da532",
        "colab": {
          "base_uri": "https://localhost:8080/"
        }
      },
      "source": [
        "x = 5\n",
        "y = 10\n",
        "print(x + y)"
      ],
      "execution_count": 3,
      "outputs": [
        {
          "output_type": "stream",
          "name": "stdout",
          "text": [
            "15\n"
          ]
        }
      ]
    },
    {
      "cell_type": "markdown",
      "metadata": {
        "id": "ZRk7On-BDABP"
      },
      "source": [
        "If you try to combine a string and a number, Python will give you an error:"
      ]
    },
    {
      "cell_type": "markdown",
      "metadata": {
        "id": "CXsuSVEnDClB"
      },
      "source": [
        "#### <font color=\"lightblue\"> Example"
      ]
    },
    {
      "cell_type": "code",
      "metadata": {
        "id": "hBj6Jy4EDEgo",
        "outputId": "a8039678-61ae-48f2-9bdf-0cb4a9bb62e9",
        "colab": {
          "base_uri": "https://localhost:8080/",
          "height": 207
        }
      },
      "source": [
        "x = 5\n",
        "y = \"John\"\n",
        "print(x + y)"
      ],
      "execution_count": 4,
      "outputs": [
        {
          "output_type": "error",
          "ename": "TypeError",
          "evalue": "ignored",
          "traceback": [
            "\u001b[0;31m---------------------------------------------------------------------------\u001b[0m",
            "\u001b[0;31mTypeError\u001b[0m                                 Traceback (most recent call last)",
            "\u001b[0;32m<ipython-input-4-00c66e4310ff>\u001b[0m in \u001b[0;36m<module>\u001b[0;34m()\u001b[0m\n\u001b[1;32m      1\u001b[0m \u001b[0mx\u001b[0m \u001b[0;34m=\u001b[0m \u001b[0;36m5\u001b[0m\u001b[0;34m\u001b[0m\u001b[0;34m\u001b[0m\u001b[0m\n\u001b[1;32m      2\u001b[0m \u001b[0my\u001b[0m \u001b[0;34m=\u001b[0m \u001b[0;34m\"John\"\u001b[0m\u001b[0;34m\u001b[0m\u001b[0;34m\u001b[0m\u001b[0m\n\u001b[0;32m----> 3\u001b[0;31m \u001b[0mprint\u001b[0m\u001b[0;34m(\u001b[0m\u001b[0mx\u001b[0m \u001b[0;34m+\u001b[0m \u001b[0my\u001b[0m\u001b[0;34m)\u001b[0m\u001b[0;34m\u001b[0m\u001b[0;34m\u001b[0m\u001b[0m\n\u001b[0m",
            "\u001b[0;31mTypeError\u001b[0m: unsupported operand type(s) for +: 'int' and 'str'"
          ]
        }
      ]
    }
  ]
}