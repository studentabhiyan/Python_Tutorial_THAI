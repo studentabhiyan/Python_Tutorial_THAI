{
  "nbformat": 4,
  "nbformat_minor": 0,
  "metadata": {
    "colab": {
      "name": "Python global variables.ipynb",
      "provenance": []
    },
    "kernelspec": {
      "name": "python3",
      "display_name": "Python 3"
    },
    "language_info": {
      "name": "python"
    }
  },
  "cells": [
    {
      "cell_type": "markdown",
      "metadata": {
        "id": "RsPbzQiFFLNI"
      },
      "source": [
        "### <font color=\"lightblue\"> **Python - Global Variables**"
      ]
    },
    {
      "cell_type": "markdown",
      "metadata": {
        "id": "T0oDzO-CFOGw"
      },
      "source": [
        "### <font color=\"lightblue\"> Global Variables\n",
        "Variables that are created outside of a function (as in all of the examples above) are known as global variables.\n",
        "\n",
        "Global variables can be used by everyone, both inside of functions and outside."
      ]
    },
    {
      "cell_type": "markdown",
      "metadata": {
        "id": "lHFZkkKhFUhI"
      },
      "source": [
        "### <font color=\"lightblue\"> Example\n",
        "Create a variable outside of a function, and use it inside the function"
      ]
    },
    {
      "cell_type": "code",
      "metadata": {
        "id": "mIwk3fSaFaM9",
        "colab": {
          "base_uri": "https://localhost:8080/"
        },
        "outputId": "6937076f-9e6d-4665-c922-7d8632ea1ce4"
      },
      "source": [
        "x = \"awesome\"\n",
        "\n",
        "def myfunc():\n",
        "  print(\"Python is \" + x)\n",
        "\n",
        "myfunc()"
      ],
      "execution_count": 5,
      "outputs": [
        {
          "output_type": "stream",
          "name": "stdout",
          "text": [
            "Python is awesome\n"
          ]
        }
      ]
    },
    {
      "cell_type": "markdown",
      "metadata": {
        "id": "uOe8Q32wFni5"
      },
      "source": [
        "If you create a variable with the same name inside a function, this variable will be local, and can only be used inside the function. The global variable with the same name will remain as it was, global and with the original value."
      ]
    },
    {
      "cell_type": "markdown",
      "metadata": {
        "id": "CcyYF-uOFpnn"
      },
      "source": [
        "### <font color=\"lightblue\"> Example\n",
        "Create a variable inside a function, with the same name as the global variable"
      ]
    },
    {
      "cell_type": "code",
      "metadata": {
        "id": "XkjZk0YWFuyY",
        "colab": {
          "base_uri": "https://localhost:8080/"
        },
        "outputId": "092877cd-019f-4887-f73b-a8bf2837a992"
      },
      "source": [
        "x = \"awesome\"\n",
        "\n",
        "def myfunc():\n",
        "  x = \"fantastic\"\n",
        "  print(\"Python is \" + x)\n",
        "\n",
        "myfunc()\n",
        "\n",
        "print(\"Python is \" + x)"
      ],
      "execution_count": 6,
      "outputs": [
        {
          "output_type": "stream",
          "name": "stdout",
          "text": [
            "Python is fantastic\n",
            "Python is awesome\n"
          ]
        }
      ]
    },
    {
      "cell_type": "markdown",
      "metadata": {
        "id": "ajrNXWQmF3QH"
      },
      "source": [
        "### <font color=\"lightblue\"> The global Keyword\n",
        "Normally, when you create a variable inside a function, that variable is local, and can only be used inside that function.\n",
        "\n",
        "To create a global variable inside a function, you can use the global keyword."
      ]
    },
    {
      "cell_type": "markdown",
      "metadata": {
        "id": "JNCbzIPkF8P_"
      },
      "source": [
        "#### <font color=\"lightblue\"> Example\n",
        "If you use the global keyword, the variable belongs to the global scope:"
      ]
    },
    {
      "cell_type": "code",
      "metadata": {
        "id": "vyJz0F3lF-dK",
        "colab": {
          "base_uri": "https://localhost:8080/"
        },
        "outputId": "217e2049-27a5-42de-abee-c7bb83a721be"
      },
      "source": [
        "def myfunc():\n",
        "  global x\n",
        "  x = \"fantastic\"\n",
        "\n",
        "myfunc()\n",
        "\n",
        "print(\"Python is \" + x)"
      ],
      "execution_count": 7,
      "outputs": [
        {
          "output_type": "stream",
          "name": "stdout",
          "text": [
            "Python is fantastic\n"
          ]
        }
      ]
    },
    {
      "cell_type": "markdown",
      "metadata": {
        "id": "JvOatCWpG71z"
      },
      "source": [
        "Also, use the global keyword if you want to change a global variable inside a function."
      ]
    },
    {
      "cell_type": "markdown",
      "metadata": {
        "id": "iRMfyeFTG9KX"
      },
      "source": [
        "#### <font color=\"lightblue\"> Example\n",
        "To change the value of a global variable inside a function, refer to the variable by using the global keyword:"
      ]
    },
    {
      "cell_type": "code",
      "metadata": {
        "id": "XBOgIYjEHByy",
        "colab": {
          "base_uri": "https://localhost:8080/"
        },
        "outputId": "c4339d5b-3b0b-4ba9-ec5e-c34d6f173f56"
      },
      "source": [
        "x = \"awesome\"\n",
        "\n",
        "def myfunc():\n",
        "  global x\n",
        "  x = \"fantastic\"\n",
        "\n",
        "myfunc()\n",
        "\n",
        "print(\"Python is \" + x)"
      ],
      "execution_count": 8,
      "outputs": [
        {
          "output_type": "stream",
          "name": "stdout",
          "text": [
            "Python is fantastic\n"
          ]
        }
      ]
    }
  ]
}