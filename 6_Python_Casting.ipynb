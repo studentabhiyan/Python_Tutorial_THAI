{
  "nbformat": 4,
  "nbformat_minor": 0,
  "metadata": {
    "colab": {
      "name": "6.Python Casting.ipynb",
      "provenance": []
    },
    "kernelspec": {
      "name": "python3",
      "display_name": "Python 3"
    },
    "language_info": {
      "name": "python"
    }
  },
  "cells": [
    {
      "cell_type": "markdown",
      "metadata": {
        "id": "KSmMzBtcS3Fa"
      },
      "source": [
        "### <font color=\"lightblue\"> **Python Casting**"
      ]
    },
    {
      "cell_type": "markdown",
      "metadata": {
        "id": "kEqHuoswTEgB"
      },
      "source": [
        "### <font color=\"lightblue\"> Specify a Variable Type\n",
        "There may be times when you want to specify a type on to a variable. This can be done with casting. Python is an object-orientated language, and as such it uses classes to define data types, including its primitive types.\n",
        "\n",
        "Casting in python is therefore done using constructor functions:\n",
        "*   int() - constructs an integer number from an integer literal, a float literal (by removing all decimals), or a string literal (providing the string represents a whole number)\n",
        "*   float() - constructs a float number from an integer literal, a float literal or a string literal (providing the string represents a float or an integer)\n",
        "*   str() - constructs a string from a wide variety of data types, including strings, integer literals and float literals\n",
        "\n",
        "\n"
      ]
    },
    {
      "cell_type": "markdown",
      "metadata": {
        "id": "Y8cwQm0LTRcB"
      },
      "source": [
        "### <font color=\"lightblue\"> Example\n",
        "Integers:"
      ]
    },
    {
      "cell_type": "code",
      "metadata": {
        "id": "ct1nKJRuTTjq",
        "colab": {
          "base_uri": "https://localhost:8080/"
        },
        "outputId": "35765b93-986f-4442-9ffb-5df0744ca683"
      },
      "source": [
        "x = int(1)   # x will be 1\n",
        "y = int(2.8) # y will be 2\n",
        "z = int(\"3\") # z will be 3\n",
        "print(x,y,z)"
      ],
      "execution_count": 5,
      "outputs": [
        {
          "output_type": "stream",
          "name": "stdout",
          "text": [
            "1 2 3\n"
          ]
        }
      ]
    },
    {
      "cell_type": "markdown",
      "metadata": {
        "id": "vsQkJX8_TWJm"
      },
      "source": [
        "### <font color=\"lightblue\"> Example\n",
        "Floats:"
      ]
    },
    {
      "cell_type": "code",
      "metadata": {
        "id": "a9-6Is_LTXUN",
        "colab": {
          "base_uri": "https://localhost:8080/"
        },
        "outputId": "bfb6edb2-2989-41b4-8695-e4620e617392"
      },
      "source": [
        "x = float(1)     # x will be 1.0\n",
        "y = float(2.8)   # y will be 2.8\n",
        "z = float(\"3\")   # z will be 3.0\n",
        "w = float(\"4.2\") # w will be 4.2\n",
        "print(x,y,z,w)"
      ],
      "execution_count": 6,
      "outputs": [
        {
          "output_type": "stream",
          "name": "stdout",
          "text": [
            "1.0 2.8 3.0 4.2\n"
          ]
        }
      ]
    },
    {
      "cell_type": "markdown",
      "metadata": {
        "id": "uZpxWzOcTZN1"
      },
      "source": [
        "### <font color=\"lightblue\"> Example\n",
        "Strings:"
      ]
    },
    {
      "cell_type": "code",
      "metadata": {
        "id": "HV7q4nT8TbHa",
        "colab": {
          "base_uri": "https://localhost:8080/"
        },
        "outputId": "5070a76a-5e2e-4e26-9d20-02c9fd5c8f71"
      },
      "source": [
        "x = str(\"s1\") # x will be 's1'\n",
        "y = str(2)    # y will be '2'\n",
        "z = str(3.0)  # z will be '3.0'\n",
        "print(x,y,z)"
      ],
      "execution_count": 7,
      "outputs": [
        {
          "output_type": "stream",
          "name": "stdout",
          "text": [
            "s1 2 3.0\n"
          ]
        }
      ]
    }
  ]
}