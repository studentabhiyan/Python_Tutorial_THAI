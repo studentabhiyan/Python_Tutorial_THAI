{
  "nbformat": 4,
  "nbformat_minor": 0,
  "metadata": {
    "colab": {
      "name": "7.2Python - String Concatenation.ipynb",
      "provenance": []
    },
    "kernelspec": {
      "name": "python3",
      "display_name": "Python 3"
    },
    "language_info": {
      "name": "python"
    }
  },
  "cells": [
    {
      "cell_type": "markdown",
      "metadata": {
        "id": "LBhvieXuhM--"
      },
      "source": [
        "### **<font color=\"lightblue\">Python - String Concatenation</font>**\n"
      ]
    },
    {
      "cell_type": "markdown",
      "metadata": {
        "id": "ilYq-LUBhOGh"
      },
      "source": [
        "### <font color=\"lightblue\"> String Concatenation\n",
        "\n",
        "To concatenate, or combine, two strings you can use the + operator."
      ]
    },
    {
      "cell_type": "markdown",
      "metadata": {
        "id": "WQ5CMtSlhQjP"
      },
      "source": [
        "#### <font color=\"lightblue\"> Example\n",
        "Merge variable a with variable b into variable c:"
      ]
    },
    {
      "cell_type": "code",
      "metadata": {
        "id": "PSoaCXJ1hTln",
        "colab": {
          "base_uri": "https://localhost:8080/"
        },
        "outputId": "4188c140-5ad0-43f7-8b5d-50adceff88a7"
      },
      "source": [
        "a = \"Hello\"\n",
        "b = \"World\"\n",
        "c = a + b\n",
        "print(c)"
      ],
      "execution_count": 1,
      "outputs": [
        {
          "output_type": "stream",
          "name": "stdout",
          "text": [
            "HelloWorld\n"
          ]
        }
      ]
    },
    {
      "cell_type": "markdown",
      "metadata": {
        "id": "megfsjsKhVEU"
      },
      "source": [
        "### <font color=\"lightblue\"> Example\n",
        "To add a space between them, add a \" \":"
      ]
    },
    {
      "cell_type": "code",
      "metadata": {
        "id": "E6fB8eyShXTh",
        "colab": {
          "base_uri": "https://localhost:8080/"
        },
        "outputId": "72475ddc-7c1d-4a74-a49d-593603f0cd5d"
      },
      "source": [
        "a = \"Hello\"\n",
        "b = \"World\"\n",
        "c = a + \" \" + b\n",
        "print(c)"
      ],
      "execution_count": 2,
      "outputs": [
        {
          "output_type": "stream",
          "name": "stdout",
          "text": [
            "Hello World\n"
          ]
        }
      ]
    }
  ]
}