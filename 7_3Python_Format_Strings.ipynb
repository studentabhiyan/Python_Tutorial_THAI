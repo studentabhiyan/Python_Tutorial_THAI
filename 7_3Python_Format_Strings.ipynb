{
  "nbformat": 4,
  "nbformat_minor": 0,
  "metadata": {
    "colab": {
      "name": "7.3Python - Format Strings.ipynb",
      "provenance": []
    },
    "kernelspec": {
      "name": "python3",
      "display_name": "Python 3"
    },
    "language_info": {
      "name": "python"
    }
  },
  "cells": [
    {
      "cell_type": "markdown",
      "metadata": {
        "id": "S3yWTTxZh0e2"
      },
      "source": [
        "### <font color=\"lightblue\"> **Python - Format Strings**"
      ]
    },
    {
      "cell_type": "markdown",
      "metadata": {
        "id": "nETCJXt7iVhm"
      },
      "source": [
        "### <font color=\"lightblue\"> String Format\n",
        "As we learned in the Python Variables chapter, we cannot combine strings and numbers like this:"
      ]
    },
    {
      "cell_type": "markdown",
      "metadata": {
        "id": "ApI9OPSYilYK"
      },
      "source": [
        "### <font color=\"lightblue\"> Example"
      ]
    },
    {
      "cell_type": "code",
      "metadata": {
        "id": "IOhcrge1im1g",
        "colab": {
          "base_uri": "https://localhost:8080/",
          "height": 207
        },
        "outputId": "a4df780f-53ed-4659-8570-596095646c7a"
      },
      "source": [
        "age = 36\n",
        "txt = \"My name is John, I am \" + age\n",
        "print(txt)"
      ],
      "execution_count": 1,
      "outputs": [
        {
          "output_type": "error",
          "ename": "TypeError",
          "evalue": "ignored",
          "traceback": [
            "\u001b[0;31m---------------------------------------------------------------------------\u001b[0m",
            "\u001b[0;31mTypeError\u001b[0m                                 Traceback (most recent call last)",
            "\u001b[0;32m<ipython-input-1-4d1b227cff41>\u001b[0m in \u001b[0;36m<module>\u001b[0;34m()\u001b[0m\n\u001b[1;32m      1\u001b[0m \u001b[0mage\u001b[0m \u001b[0;34m=\u001b[0m \u001b[0;36m36\u001b[0m\u001b[0;34m\u001b[0m\u001b[0;34m\u001b[0m\u001b[0m\n\u001b[0;32m----> 2\u001b[0;31m \u001b[0mtxt\u001b[0m \u001b[0;34m=\u001b[0m \u001b[0;34m\"My name is John, I am \"\u001b[0m \u001b[0;34m+\u001b[0m \u001b[0mage\u001b[0m\u001b[0;34m\u001b[0m\u001b[0;34m\u001b[0m\u001b[0m\n\u001b[0m\u001b[1;32m      3\u001b[0m \u001b[0mprint\u001b[0m\u001b[0;34m(\u001b[0m\u001b[0mtxt\u001b[0m\u001b[0;34m)\u001b[0m\u001b[0;34m\u001b[0m\u001b[0;34m\u001b[0m\u001b[0m\n",
            "\u001b[0;31mTypeError\u001b[0m: can only concatenate str (not \"int\") to str"
          ]
        }
      ]
    },
    {
      "cell_type": "markdown",
      "metadata": {
        "id": "HG9_Asy-io5k"
      },
      "source": [
        "But we can combine strings and numbers by using the format() method!\n",
        "\n",
        "The format() method takes the passed arguments, formats them, and places them in the string where the placeholders {} are:"
      ]
    },
    {
      "cell_type": "markdown",
      "metadata": {
        "id": "xktSODRUisJ-"
      },
      "source": [
        "### <font color=\"lightblue\"> Example\n",
        "Use the format() method to insert numbers into strings:"
      ]
    },
    {
      "cell_type": "code",
      "metadata": {
        "id": "oJtjfDzHi55T",
        "colab": {
          "base_uri": "https://localhost:8080/"
        },
        "outputId": "c60d057f-9d2b-41fc-f87d-a72b2a645a24"
      },
      "source": [
        "age = 36\n",
        "txt = \"My name is John, and I am {}\"\n",
        "print(txt.format(age))"
      ],
      "execution_count": 2,
      "outputs": [
        {
          "output_type": "stream",
          "name": "stdout",
          "text": [
            "My name is John, and I am 36\n"
          ]
        }
      ]
    },
    {
      "cell_type": "markdown",
      "metadata": {
        "id": "-Snr4gBCi7x6"
      },
      "source": [
        "The format() method takes unlimited number of arguments, and are placed into the respective placeholders:"
      ]
    },
    {
      "cell_type": "markdown",
      "metadata": {
        "id": "Ky2mv8_-i94u"
      },
      "source": [
        "### <font color=\"lightblue\"> Example"
      ]
    },
    {
      "cell_type": "code",
      "metadata": {
        "id": "0MqrLAIzi_GB",
        "colab": {
          "base_uri": "https://localhost:8080/"
        },
        "outputId": "f650b178-5d32-4440-e181-c64fce189ed7"
      },
      "source": [
        "quantity = 3\n",
        "itemno = 567\n",
        "price = 49.95\n",
        "myorder = \"I want {} pieces of item {} for {} dollars.\"\n",
        "print(myorder.format(quantity, itemno, price))"
      ],
      "execution_count": 3,
      "outputs": [
        {
          "output_type": "stream",
          "name": "stdout",
          "text": [
            "I want 3 pieces of item 567 for 49.95 dollars.\n"
          ]
        }
      ]
    },
    {
      "cell_type": "markdown",
      "metadata": {
        "id": "31sT7qPBjG67"
      },
      "source": [
        "You can use index numbers {0} to be sure the arguments are placed in the correct placeholders:"
      ]
    },
    {
      "cell_type": "markdown",
      "metadata": {
        "id": "9A09_MoljJaN"
      },
      "source": [
        "### <font color=\"lightblue\"> Example"
      ]
    },
    {
      "cell_type": "code",
      "metadata": {
        "id": "CMUEh1ePjKub",
        "colab": {
          "base_uri": "https://localhost:8080/"
        },
        "outputId": "ce95d324-4e19-460d-ab7a-ef0ff99aecb1"
      },
      "source": [
        "quantity = 3\n",
        "itemno = 567\n",
        "price = 49.95\n",
        "myorder = \"I want to pay {2} dollars for {0} pieces of item {1}.\"\n",
        "print(myorder.format(quantity, itemno, price))"
      ],
      "execution_count": 4,
      "outputs": [
        {
          "output_type": "stream",
          "name": "stdout",
          "text": [
            "I want to pay 49.95 dollars for 3 pieces of item 567.\n"
          ]
        }
      ]
    }
  ]
}