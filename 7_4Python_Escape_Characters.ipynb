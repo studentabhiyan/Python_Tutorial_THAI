{
  "nbformat": 4,
  "nbformat_minor": 0,
  "metadata": {
    "colab": {
      "name": "7.4Python - Escape Characters.ipynb",
      "provenance": []
    },
    "kernelspec": {
      "name": "python3",
      "display_name": "Python 3"
    },
    "language_info": {
      "name": "python"
    }
  },
  "cells": [
    {
      "cell_type": "markdown",
      "metadata": {
        "id": "LEWMr8Rqj5ZN"
      },
      "source": [
        "### <font color=\"lightblue\"> **Python - Escape Characters**"
      ]
    },
    {
      "cell_type": "markdown",
      "metadata": {
        "id": "C0gpZF8Wj6b-"
      },
      "source": [
        "### <font color=\"lightblue\"> Escape Character\n",
        "To insert characters that are illegal in a string, use an escape character.\n",
        "\n",
        "An escape character is a backslash \\ followed by the character you want to insert.\n",
        "\n",
        "An example of an illegal character is a double quote inside a string that is surrounded by double quotes:"
      ]
    },
    {
      "cell_type": "markdown",
      "metadata": {
        "id": "VSG1ViFWj8r0"
      },
      "source": [
        "### <font color=\"lightblue\"> Example\n",
        "You will get an error if you use double quotes inside a string that is surrounded by double quotes:"
      ]
    },
    {
      "cell_type": "code",
      "metadata": {
        "id": "bOK4y_e4kABL",
        "colab": {
          "base_uri": "https://localhost:8080/",
          "height": 135
        },
        "outputId": "b8f46be7-d98f-4b97-812a-7408c528c23f"
      },
      "source": [
        "txt = \"We are the so-called \"Vikings\" from the north.\""
      ],
      "execution_count": 3,
      "outputs": [
        {
          "output_type": "error",
          "ename": "SyntaxError",
          "evalue": "ignored",
          "traceback": [
            "\u001b[0;36m  File \u001b[0;32m\"<ipython-input-3-56cdf4283a8e>\"\u001b[0;36m, line \u001b[0;32m1\u001b[0m\n\u001b[0;31m    txt = \"We are the so-called \"Vikings\" from the north.\"\u001b[0m\n\u001b[0m                                       ^\u001b[0m\n\u001b[0;31mSyntaxError\u001b[0m\u001b[0;31m:\u001b[0m invalid syntax\n"
          ]
        }
      ]
    },
    {
      "cell_type": "markdown",
      "metadata": {
        "id": "EnUSGK7nkB7B"
      },
      "source": [
        "To fix this problem, use the escape character \\\":"
      ]
    },
    {
      "cell_type": "markdown",
      "metadata": {
        "id": "_soC4EHdkD00"
      },
      "source": [
        "### <font color=\"lightblue\"> Example\n",
        "The escape character allows you to use double quotes when you normally would not be allowed:"
      ]
    },
    {
      "cell_type": "code",
      "metadata": {
        "id": "lSKczVcakGNG"
      },
      "source": [
        "txt = \"We are the so-called \\\"Vikings\\\" from the north.\""
      ],
      "execution_count": 2,
      "outputs": []
    },
    {
      "cell_type": "markdown",
      "metadata": {
        "id": "qyzDdhJgkH_g"
      },
      "source": [
        "### <font color=\"lightblue\"> Escape Characters\n",
        "Other escape characters used in Python:"
      ]
    }
  ]
}